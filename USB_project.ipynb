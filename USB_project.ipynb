{
 "cells": [
  {
   "cell_type": "markdown",
   "metadata": {
    "application/vnd.databricks.v1+cell": {
     "cellMetadata": {
      "byteLimit": 2048000,
      "rowLimit": 10000
     },
     "inputWidgets": {},
     "nuid": "96816ed7-b08a-4ca3-abb9-f99880c3535d",
     "showTitle": false,
     "title": ""
    }
   },
   "source": [
    "\n",
    "## USwB - Data Analysis & Prediction with Apache Spark, Databricks, MLLib\n",
    "#### Author: Martyna Pitera\n",
    "\n",
    "The project was carried out using Apache Spark on Databricks, utilizing Python and SQL.\n",
    "\n",
    "The goal of this project is to analyze the Body Fat Dataset and generate predictive insights.\n",
    "(dataset - https://www.kaggle.com/datasets/fedesoriano/body-fat-prediction-dataset)\n",
    "\n",
    "This dataset contains of:\n",
    "1. Density determined from underwater weighing\n",
    "2. Percent body fat from Siri's (1956) equation\n",
    "3. Age (years)\n",
    "4. Weight (lbs)\n",
    "5. Height (inches)\n",
    "6. Neck circumference (cm)\n",
    "7. Chest circumference (cm)\n",
    "8. Abdomen circumference (cm)\n",
    "9. Hip circumference (cm)\n",
    "10. Thigh circumference (cm)\n",
    "11. Knee circumference (cm)\n",
    "12. Ankle circumference (cm)\n",
    "13. Biceps (extended) circumference (cm)\n",
    "14. Forearm circumference (cm)\n",
    "15. Wrist circumference (cm)"
   ]
  },
  {
   "cell_type": "markdown",
   "metadata": {
    "application/vnd.databricks.v1+cell": {
     "cellMetadata": {},
     "inputWidgets": {},
     "nuid": "aea64363-dc80-4f94-86df-5322828dbd8c",
     "showTitle": false,
     "title": ""
    }
   },
   "source": [
    "#### Loading the data into dataframe"
   ]
  },
  {
   "cell_type": "code",
   "execution_count": 0,
   "metadata": {
    "application/vnd.databricks.v1+cell": {
     "cellMetadata": {
      "byteLimit": 2048000,
      "rowLimit": 10000
     },
     "inputWidgets": {},
     "nuid": "579becf5-1a43-4e35-84aa-62cd7f9a675f",
     "showTitle": false,
     "title": ""
    }
   },
   "outputs": [
    {
     "output_type": "stream",
     "name": "stdout",
     "output_type": "stream",
     "text": [
      "+-------+-------+---+------+------+----+-----+-------+-----+-----+----+-----+------+-------+-----+\n|Density|BodyFat|Age|Weight|Height|Neck|Chest|Abdomen|  Hip|Thigh|Knee|Ankle|Biceps|Forearm|Wrist|\n+-------+-------+---+------+------+----+-----+-------+-----+-----+----+-----+------+-------+-----+\n| 1.0708|   12.3| 23|154.25| 67.75|36.2| 93.1|   85.2| 94.5| 59.0|37.3| 21.9|  32.0|   27.4| 17.1|\n| 1.0853|    6.1| 22|173.25| 72.25|38.5| 93.6|   83.0| 98.7| 58.7|37.3| 23.4|  30.5|   28.9| 18.2|\n| 1.0414|   25.3| 22| 154.0| 66.25|34.0| 95.8|   87.9| 99.2| 59.6|38.9| 24.0|  28.8|   25.2| 16.6|\n| 1.0751|   10.4| 26|184.75| 72.25|37.4|101.8|   86.4|101.2| 60.1|37.3| 22.8|  32.4|   29.4| 18.2|\n|  1.034|   28.7| 24|184.25| 71.25|34.4| 97.3|  100.0|101.9| 63.2|42.2| 24.0|  32.2|   27.7| 17.7|\n| 1.0502|   20.9| 24|210.25| 74.75|39.0|104.5|   94.4|107.8| 66.0|42.0| 25.6|  35.7|   30.6| 18.8|\n| 1.0549|   19.2| 26| 181.0| 69.75|36.4|105.1|   90.7|100.3| 58.4|38.3| 22.9|  31.9|   27.8| 17.7|\n| 1.0704|   12.4| 25| 176.0|  72.5|37.8| 99.6|   88.5| 97.1| 60.0|39.4| 23.2|  30.5|   29.0| 18.8|\n|   1.09|    4.1| 25| 191.0|  74.0|38.1|100.9|   82.5| 99.9| 62.9|38.3| 23.8|  35.9|   31.1| 18.2|\n| 1.0722|   11.7| 23|198.25|  73.5|42.1| 99.6|   88.6|104.1| 63.1|41.7| 25.0|  35.6|   30.0| 19.2|\n|  1.083|    7.1| 26|186.25|  74.5|38.5|101.5|   83.6| 98.2| 59.7|39.7| 25.2|  32.8|   29.4| 18.5|\n| 1.0812|    7.8| 27| 216.0|  76.0|39.4|103.6|   90.9|107.7| 66.2|39.2| 25.9|  37.2|   30.2| 19.0|\n| 1.0513|   20.8| 32| 180.5|  69.5|38.4|102.0|   91.6|103.9| 63.4|38.3| 21.5|  32.5|   28.6| 17.7|\n| 1.0505|   21.2| 30|205.25| 71.25|39.4|104.1|  101.8|108.6| 66.0|41.5| 23.7|  36.9|   31.6| 18.8|\n| 1.0484|   22.1| 35|187.75|  69.5|40.5|101.3|   96.4|100.1| 69.0|39.0| 23.1|  36.1|   30.5| 18.2|\n| 1.0512|   20.9| 35|162.75|  66.0|36.4| 99.1|   92.8| 99.2| 63.1|38.7| 21.7|  31.1|   26.4| 16.9|\n| 1.0333|   29.0| 34|195.75|  71.0|38.9|101.9|   96.4|105.2| 64.8|40.8| 23.1|  36.2|   30.8| 17.3|\n| 1.0468|   22.9| 32|209.25|  71.0|42.1|107.6|   97.5|107.0| 66.9|40.0| 24.4|  38.2|   31.6| 19.3|\n| 1.0622|   16.0| 28|183.75| 67.75|38.0|106.8|   89.6|102.4| 64.2|38.7| 22.9|  37.2|   30.5| 18.5|\n|  1.061|   16.5| 33|211.75|  73.5|40.0|106.2|  100.5|109.0| 65.8|40.6| 24.0|  37.1|   30.1| 18.2|\n+-------+-------+---+------+------+----+-----+-------+-----+-----+----+-----+------+-------+-----+\nonly showing top 20 rows\n\n"
     ]
    }
   ],
   "source": [
    "from pyspark.sql import SparkSession\n",
    "from pyspark.sql.types import StructType, StructField, StringType, IntegerType, DoubleType\n",
    "\n",
    "spark = SparkSession.builder.appName(\"BodyFat\").getOrCreate()\n",
    "\n",
    "bodyfatSchema = StructType([\n",
    "    StructField(\"Density\", DoubleType(), True),\n",
    "    StructField(\"BodyFat\", DoubleType(), True),\n",
    "    StructField(\"Age\", IntegerType(), True),\n",
    "    StructField(\"Weight\", DoubleType(), True),\n",
    "    StructField(\"Height\", DoubleType(), True),\n",
    "    StructField(\"Neck\", DoubleType(), True),\n",
    "    StructField(\"Chest\", DoubleType(), True),\n",
    "    StructField(\"Abdomen\", DoubleType(), True),\n",
    "    StructField(\"Hip\", DoubleType(), True),\n",
    "    StructField(\"Thigh\", DoubleType(), True),\n",
    "    StructField(\"Knee\", DoubleType(), True),\n",
    "    StructField(\"Ankle\", DoubleType(), True),\n",
    "    StructField(\"Biceps\", DoubleType(), True),\n",
    "    StructField(\"Forearm\", DoubleType(), True),\n",
    "    StructField(\"Wrist\", DoubleType(), True),\n",
    "])\n",
    "\n",
    "df = spark.read.schema(bodyfatSchema).option(\"header\", \"true\").csv(\"/FileStore/tables/bodyfat-3.csv\")\n",
    "\n",
    "df.show()"
   ]
  },
  {
   "cell_type": "code",
   "execution_count": 0,
   "metadata": {
    "application/vnd.databricks.v1+cell": {
     "cellMetadata": {
      "byteLimit": 2048000,
      "rowLimit": 10000
     },
     "inputWidgets": {},
     "nuid": "bd82bb99-1479-4d5c-be10-8c36df0f1d44",
     "showTitle": false,
     "title": ""
    }
   },
   "outputs": [
    {
     "output_type": "stream",
     "name": "stdout",
     "output_type": "stream",
     "text": [
      "Out[2]: 252"
     ]
    }
   ],
   "source": [
    "# Number of rows in dataframe\n",
    "df.count()"
   ]
  },
  {
   "cell_type": "markdown",
   "metadata": {
    "application/vnd.databricks.v1+cell": {
     "cellMetadata": {},
     "inputWidgets": {},
     "nuid": "fb3b1cb6-a1df-4b10-9d58-e1190c64865f",
     "showTitle": false,
     "title": ""
    }
   },
   "source": [
    "#### Converting inches to meters ang lbs to kgs"
   ]
  },
  {
   "cell_type": "code",
   "execution_count": 0,
   "metadata": {
    "application/vnd.databricks.v1+cell": {
     "cellMetadata": {
      "byteLimit": 2048000,
      "rowLimit": 10000
     },
     "inputWidgets": {},
     "nuid": "baa12ef0-8b91-48b4-8dcd-7f2ff405684b",
     "showTitle": false,
     "title": ""
    }
   },
   "outputs": [],
   "source": [
    "from pyspark.sql import functions as F\n",
    "\n",
    "# Convert height from inches to meters\n",
    "df = df.withColumn(\"Height\", F.col(\"Height\") * 0.0254)  # 1 inch = 0.0254 meters\n",
    "\n",
    "# Convert weight from lbs to kg\n",
    "df = df.withColumn(\"Weight\", F.col(\"Weight\") * 0.453592)  # 1 lb = 0.453592 kg\n"
   ]
  },
  {
   "cell_type": "markdown",
   "metadata": {
    "application/vnd.databricks.v1+cell": {
     "cellMetadata": {},
     "inputWidgets": {},
     "nuid": "ad6a25ed-8d5a-44d4-9a0e-2f8cc02cc6d3",
     "showTitle": false,
     "title": ""
    }
   },
   "source": [
    "### Statistics of data"
   ]
  },
  {
   "cell_type": "code",
   "execution_count": 0,
   "metadata": {
    "application/vnd.databricks.v1+cell": {
     "cellMetadata": {
      "byteLimit": 2048000,
      "rowLimit": 10000
     },
     "inputWidgets": {},
     "nuid": "805fb0f0-a311-4b2d-a79c-2f5d61d4d6b7",
     "showTitle": false,
     "title": ""
    }
   },
   "outputs": [
    {
     "output_type": "display_data",
     "data": {
      "text/html": [
       "<style scoped>\n",
       "  .table-result-container {\n",
       "    max-height: 300px;\n",
       "    overflow: auto;\n",
       "  }\n",
       "  table, th, td {\n",
       "    border: 1px solid black;\n",
       "    border-collapse: collapse;\n",
       "  }\n",
       "  th, td {\n",
       "    padding: 5px;\n",
       "  }\n",
       "  th {\n",
       "    text-align: left;\n",
       "  }\n",
       "</style><div class='table-result-container'><table class='table-result'><thead style='background-color: white'><tr><th>summary</th><th>Density</th><th>BodyFat</th><th>Age</th><th>Weight</th><th>Height</th><th>Neck</th><th>Chest</th><th>Abdomen</th><th>Hip</th><th>Thigh</th><th>Knee</th><th>Ankle</th><th>Biceps</th><th>Forearm</th><th>Wrist</th></tr></thead><tbody><tr><td>count</td><td>252</td><td>252</td><td>252</td><td>252</td><td>252</td><td>252</td><td>252</td><td>252</td><td>252</td><td>252</td><td>252</td><td>252</td><td>252</td><td>252</td><td>252</td></tr><tr><td>mean</td><td>1.055573809523809</td><td>19.15079365079365</td><td>44.88492063492063</td><td>81.15867860476192</td><td>1.7817797619047617</td><td>37.99206349206346</td><td>100.82420634920639</td><td>92.55595238095235</td><td>99.90476190476186</td><td>59.405952380952364</td><td>38.59047619047622</td><td>23.10238095238097</td><td>32.273412698412706</td><td>28.663888888888888</td><td>18.229761904761904</td></tr><tr><td>stddev</td><td>0.01903143417152082</td><td>8.368740413029712</td><td>12.602039722717862</td><td>13.330687810724323</td><td>0.09303653700708002</td><td>2.4309132340195085</td><td>8.43047553192002</td><td>10.783076801381702</td><td>7.164057666842286</td><td>5.249952028401046</td><td>2.4118045870187563</td><td>1.6948933981786372</td><td>3.021273751250864</td><td>2.020691165026929</td><td>0.9335849289587025</td></tr><tr><td>min</td><td>0.995</td><td>0.0</td><td>22</td><td>53.750652</td><td>0.7493</td><td>31.1</td><td>79.3</td><td>69.4</td><td>85.0</td><td>47.2</td><td>33.0</td><td>19.1</td><td>24.8</td><td>21.0</td><td>15.8</td></tr><tr><td>max</td><td>1.1089</td><td>47.5</td><td>81</td><td>164.72193479999999</td><td>1.97485</td><td>51.2</td><td>136.2</td><td>148.1</td><td>147.7</td><td>87.3</td><td>49.1</td><td>33.9</td><td>45.0</td><td>34.9</td><td>21.4</td></tr></tbody></table></div>"
      ]
     },
     "metadata": {
      "application/vnd.databricks.v1+output": {
       "addedWidgets": {},
       "aggData": [],
       "aggError": "",
       "aggOverflow": false,
       "aggSchema": [],
       "aggSeriesLimitReached": false,
       "aggType": "",
       "arguments": {},
       "columnCustomDisplayInfos": {},
       "data": [
        [
         "count",
         "252",
         "252",
         "252",
         "252",
         "252",
         "252",
         "252",
         "252",
         "252",
         "252",
         "252",
         "252",
         "252",
         "252",
         "252"
        ],
        [
         "mean",
         "1.055573809523809",
         "19.15079365079365",
         "44.88492063492063",
         "81.15867860476192",
         "1.7817797619047617",
         "37.99206349206346",
         "100.82420634920639",
         "92.55595238095235",
         "99.90476190476186",
         "59.405952380952364",
         "38.59047619047622",
         "23.10238095238097",
         "32.273412698412706",
         "28.663888888888888",
         "18.229761904761904"
        ],
        [
         "stddev",
         "0.01903143417152082",
         "8.368740413029712",
         "12.602039722717862",
         "13.330687810724323",
         "0.09303653700708002",
         "2.4309132340195085",
         "8.43047553192002",
         "10.783076801381702",
         "7.164057666842286",
         "5.249952028401046",
         "2.4118045870187563",
         "1.6948933981786372",
         "3.021273751250864",
         "2.020691165026929",
         "0.9335849289587025"
        ],
        [
         "min",
         "0.995",
         "0.0",
         "22",
         "53.750652",
         "0.7493",
         "31.1",
         "79.3",
         "69.4",
         "85.0",
         "47.2",
         "33.0",
         "19.1",
         "24.8",
         "21.0",
         "15.8"
        ],
        [
         "max",
         "1.1089",
         "47.5",
         "81",
         "164.72193479999999",
         "1.97485",
         "51.2",
         "136.2",
         "148.1",
         "147.7",
         "87.3",
         "49.1",
         "33.9",
         "45.0",
         "34.9",
         "21.4"
        ]
       ],
       "datasetInfos": [],
       "dbfsResultPath": null,
       "isJsonSchema": true,
       "metadata": {},
       "overflow": false,
       "plotOptions": {
        "customPlotOptions": {},
        "displayType": "table",
        "pivotAggregation": null,
        "pivotColumns": null,
        "xColumns": null,
        "yColumns": null
       },
       "removedWidgets": [],
       "schema": [
        {
         "metadata": "{}",
         "name": "summary",
         "type": "\"string\""
        },
        {
         "metadata": "{}",
         "name": "Density",
         "type": "\"string\""
        },
        {
         "metadata": "{}",
         "name": "BodyFat",
         "type": "\"string\""
        },
        {
         "metadata": "{}",
         "name": "Age",
         "type": "\"string\""
        },
        {
         "metadata": "{}",
         "name": "Weight",
         "type": "\"string\""
        },
        {
         "metadata": "{}",
         "name": "Height",
         "type": "\"string\""
        },
        {
         "metadata": "{}",
         "name": "Neck",
         "type": "\"string\""
        },
        {
         "metadata": "{}",
         "name": "Chest",
         "type": "\"string\""
        },
        {
         "metadata": "{}",
         "name": "Abdomen",
         "type": "\"string\""
        },
        {
         "metadata": "{}",
         "name": "Hip",
         "type": "\"string\""
        },
        {
         "metadata": "{}",
         "name": "Thigh",
         "type": "\"string\""
        },
        {
         "metadata": "{}",
         "name": "Knee",
         "type": "\"string\""
        },
        {
         "metadata": "{}",
         "name": "Ankle",
         "type": "\"string\""
        },
        {
         "metadata": "{}",
         "name": "Biceps",
         "type": "\"string\""
        },
        {
         "metadata": "{}",
         "name": "Forearm",
         "type": "\"string\""
        },
        {
         "metadata": "{}",
         "name": "Wrist",
         "type": "\"string\""
        }
       ],
       "type": "table"
      }
     },
     "output_type": "display_data"
    }
   ],
   "source": [
    "display(df.describe())"
   ]
  },
  {
   "cell_type": "code",
   "execution_count": 0,
   "metadata": {
    "application/vnd.databricks.v1+cell": {
     "cellMetadata": {
      "byteLimit": 2048000,
      "rowLimit": 10000
     },
     "inputWidgets": {},
     "nuid": "8d95532e-045d-4bb8-8886-cf6877836b06",
     "showTitle": false,
     "title": ""
    }
   },
   "outputs": [
    {
     "output_type": "stream",
     "name": "stdout",
     "output_type": "stream",
     "text": [
      "root\n |-- Density: double (nullable = true)\n |-- BodyFat: double (nullable = true)\n |-- Age: integer (nullable = true)\n |-- Weight: double (nullable = true)\n |-- Height: double (nullable = true)\n |-- Neck: double (nullable = true)\n |-- Chest: double (nullable = true)\n |-- Abdomen: double (nullable = true)\n |-- Hip: double (nullable = true)\n |-- Thigh: double (nullable = true)\n |-- Knee: double (nullable = true)\n |-- Ankle: double (nullable = true)\n |-- Biceps: double (nullable = true)\n |-- Forearm: double (nullable = true)\n |-- Wrist: double (nullable = true)\n\n"
     ]
    }
   ],
   "source": [
    "df.printSchema()"
   ]
  },
  {
   "cell_type": "markdown",
   "metadata": {
    "application/vnd.databricks.v1+cell": {
     "cellMetadata": {
      "byteLimit": 2048000,
      "rowLimit": 10000
     },
     "inputWidgets": {},
     "nuid": "b9a78935-7f7d-477a-adb0-6f6b43defd4f",
     "showTitle": false,
     "title": ""
    }
   },
   "source": [
    "## Exploratory Data Analysis"
   ]
  },
  {
   "cell_type": "code",
   "execution_count": 0,
   "metadata": {
    "application/vnd.databricks.v1+cell": {
     "cellMetadata": {
      "byteLimit": 2048000,
      "rowLimit": 10000
     },
     "inputWidgets": {},
     "nuid": "b5f66379-6f7f-42ec-8e82-d0e0926a1721",
     "showTitle": false,
     "title": ""
    }
   },
   "outputs": [],
   "source": [
    "# Creating temporary view\n",
    "df.createOrReplaceTempView('BodyFat')"
   ]
  },
  {
   "cell_type": "markdown",
   "metadata": {
    "application/vnd.databricks.v1+cell": {
     "cellMetadata": {
      "byteLimit": 2048000,
      "rowLimit": 10000
     },
     "inputWidgets": {},
     "nuid": "cedc654a-6823-4842-92f6-e3f974e32d10",
     "showTitle": false,
     "title": ""
    }
   },
   "source": [
    "#### Histogram of Body Fat"
   ]
  },
  {
   "cell_type": "code",
   "execution_count": 0,
   "metadata": {
    "application/vnd.databricks.v1+cell": {
     "cellMetadata": {
      "byteLimit": 2048000,
      "implicitDf": true,
      "rowLimit": 10000
     },
     "inputWidgets": {},
     "nuid": "72c0f523-68ff-4448-b917-f4ef11837f36",
     "showTitle": false,
     "title": ""
    }
   },
   "outputs": [
    {
     "output_type": "display_data",
     "data": {
      "text/html": [
       "<style scoped>\n",
       "  .table-result-container {\n",
       "    max-height: 300px;\n",
       "    overflow: auto;\n",
       "  }\n",
       "  table, th, td {\n",
       "    border: 1px solid black;\n",
       "    border-collapse: collapse;\n",
       "  }\n",
       "  th, td {\n",
       "    padding: 5px;\n",
       "  }\n",
       "  th {\n",
       "    text-align: left;\n",
       "  }\n",
       "</style><div class='table-result-container'><table class='table-result'><thead style='background-color: white'><tr><th>BodyFat</th></tr></thead><tbody><tr><td>12.3</td></tr><tr><td>6.1</td></tr><tr><td>25.3</td></tr><tr><td>10.4</td></tr><tr><td>28.7</td></tr><tr><td>20.9</td></tr><tr><td>19.2</td></tr><tr><td>12.4</td></tr><tr><td>4.1</td></tr><tr><td>11.7</td></tr><tr><td>7.1</td></tr><tr><td>7.8</td></tr><tr><td>20.8</td></tr><tr><td>21.2</td></tr><tr><td>22.1</td></tr><tr><td>20.9</td></tr><tr><td>29.0</td></tr><tr><td>22.9</td></tr><tr><td>16.0</td></tr><tr><td>16.5</td></tr><tr><td>19.1</td></tr><tr><td>15.2</td></tr><tr><td>15.6</td></tr><tr><td>17.7</td></tr><tr><td>14.0</td></tr><tr><td>3.7</td></tr><tr><td>7.9</td></tr><tr><td>22.9</td></tr><tr><td>3.7</td></tr><tr><td>8.8</td></tr><tr><td>11.9</td></tr><tr><td>5.7</td></tr><tr><td>11.8</td></tr><tr><td>21.3</td></tr><tr><td>32.3</td></tr><tr><td>40.1</td></tr><tr><td>24.2</td></tr><tr><td>28.4</td></tr><tr><td>35.2</td></tr><tr><td>32.6</td></tr><tr><td>34.5</td></tr><tr><td>32.9</td></tr><tr><td>31.6</td></tr><tr><td>32.0</td></tr><tr><td>7.7</td></tr><tr><td>13.9</td></tr><tr><td>10.8</td></tr><tr><td>5.6</td></tr><tr><td>13.6</td></tr><tr><td>4.0</td></tr><tr><td>10.2</td></tr><tr><td>6.6</td></tr><tr><td>8.0</td></tr><tr><td>6.3</td></tr><tr><td>3.9</td></tr><tr><td>22.6</td></tr><tr><td>20.4</td></tr><tr><td>28.0</td></tr><tr><td>31.5</td></tr><tr><td>24.6</td></tr><tr><td>26.1</td></tr><tr><td>29.8</td></tr><tr><td>30.7</td></tr><tr><td>25.8</td></tr><tr><td>32.3</td></tr><tr><td>30.0</td></tr><tr><td>21.5</td></tr><tr><td>13.8</td></tr><tr><td>6.3</td></tr><tr><td>12.9</td></tr><tr><td>24.3</td></tr><tr><td>8.8</td></tr><tr><td>8.5</td></tr><tr><td>13.5</td></tr><tr><td>11.8</td></tr><tr><td>18.5</td></tr><tr><td>8.8</td></tr><tr><td>22.2</td></tr><tr><td>21.5</td></tr><tr><td>18.8</td></tr><tr><td>31.4</td></tr><tr><td>26.8</td></tr><tr><td>18.4</td></tr><tr><td>27.0</td></tr><tr><td>27.0</td></tr><tr><td>26.6</td></tr><tr><td>14.9</td></tr><tr><td>23.1</td></tr><tr><td>8.3</td></tr><tr><td>14.1</td></tr><tr><td>20.5</td></tr><tr><td>18.2</td></tr><tr><td>8.5</td></tr><tr><td>24.9</td></tr><tr><td>9.0</td></tr><tr><td>17.4</td></tr><tr><td>9.6</td></tr><tr><td>11.3</td></tr><tr><td>17.8</td></tr><tr><td>22.2</td></tr><tr><td>21.2</td></tr><tr><td>20.4</td></tr><tr><td>20.1</td></tr><tr><td>22.3</td></tr><tr><td>25.4</td></tr><tr><td>18.0</td></tr><tr><td>19.3</td></tr><tr><td>18.3</td></tr><tr><td>17.3</td></tr><tr><td>21.4</td></tr><tr><td>19.7</td></tr><tr><td>28.0</td></tr><tr><td>22.1</td></tr><tr><td>21.3</td></tr><tr><td>26.7</td></tr><tr><td>16.7</td></tr><tr><td>20.1</td></tr><tr><td>13.9</td></tr><tr><td>25.8</td></tr><tr><td>18.1</td></tr><tr><td>27.9</td></tr><tr><td>25.3</td></tr><tr><td>14.7</td></tr><tr><td>16.0</td></tr><tr><td>13.8</td></tr><tr><td>17.5</td></tr><tr><td>27.2</td></tr><tr><td>17.4</td></tr><tr><td>20.8</td></tr><tr><td>14.9</td></tr><tr><td>18.1</td></tr><tr><td>22.7</td></tr><tr><td>23.6</td></tr><tr><td>26.1</td></tr><tr><td>24.4</td></tr><tr><td>27.1</td></tr><tr><td>21.8</td></tr><tr><td>29.4</td></tr><tr><td>22.4</td></tr><tr><td>20.4</td></tr><tr><td>24.9</td></tr><tr><td>18.3</td></tr><tr><td>23.3</td></tr><tr><td>9.4</td></tr><tr><td>10.3</td></tr><tr><td>14.2</td></tr><tr><td>19.2</td></tr><tr><td>29.6</td></tr><tr><td>5.3</td></tr><tr><td>25.2</td></tr><tr><td>9.4</td></tr><tr><td>19.6</td></tr><tr><td>10.1</td></tr><tr><td>16.5</td></tr><tr><td>21.0</td></tr><tr><td>17.3</td></tr><tr><td>31.2</td></tr><tr><td>10.0</td></tr><tr><td>12.5</td></tr><tr><td>22.5</td></tr><tr><td>9.4</td></tr><tr><td>14.6</td></tr><tr><td>13.0</td></tr><tr><td>15.1</td></tr><tr><td>27.3</td></tr><tr><td>19.2</td></tr><tr><td>21.8</td></tr><tr><td>20.3</td></tr><tr><td>34.3</td></tr><tr><td>16.5</td></tr><tr><td>3.0</td></tr><tr><td>0.7</td></tr><tr><td>20.5</td></tr><tr><td>16.9</td></tr><tr><td>25.3</td></tr><tr><td>9.9</td></tr><tr><td>13.1</td></tr><tr><td>29.9</td></tr><tr><td>22.5</td></tr><tr><td>16.9</td></tr><tr><td>26.6</td></tr><tr><td>0.0</td></tr><tr><td>11.5</td></tr><tr><td>12.1</td></tr><tr><td>17.5</td></tr><tr><td>8.6</td></tr><tr><td>23.6</td></tr><tr><td>20.4</td></tr><tr><td>20.5</td></tr><tr><td>24.4</td></tr><tr><td>11.4</td></tr><tr><td>38.1</td></tr><tr><td>15.9</td></tr><tr><td>24.7</td></tr><tr><td>22.8</td></tr><tr><td>25.5</td></tr><tr><td>22.0</td></tr><tr><td>17.7</td></tr><tr><td>6.6</td></tr><tr><td>23.6</td></tr><tr><td>12.2</td></tr><tr><td>22.1</td></tr><tr><td>28.7</td></tr><tr><td>6.0</td></tr><tr><td>34.8</td></tr><tr><td>16.6</td></tr><tr><td>32.9</td></tr><tr><td>32.8</td></tr><tr><td>9.6</td></tr><tr><td>10.8</td></tr><tr><td>7.1</td></tr><tr><td>27.2</td></tr><tr><td>19.5</td></tr><tr><td>18.7</td></tr><tr><td>19.5</td></tr><tr><td>47.5</td></tr><tr><td>13.6</td></tr><tr><td>7.5</td></tr><tr><td>24.5</td></tr><tr><td>15.0</td></tr><tr><td>12.4</td></tr><tr><td>26.0</td></tr><tr><td>11.5</td></tr><tr><td>5.2</td></tr><tr><td>10.9</td></tr><tr><td>12.5</td></tr><tr><td>14.8</td></tr><tr><td>25.2</td></tr><tr><td>14.9</td></tr><tr><td>17.0</td></tr><tr><td>10.6</td></tr><tr><td>16.1</td></tr><tr><td>15.4</td></tr><tr><td>26.7</td></tr><tr><td>25.8</td></tr><tr><td>18.6</td></tr><tr><td>24.8</td></tr><tr><td>27.3</td></tr><tr><td>12.4</td></tr><tr><td>29.9</td></tr><tr><td>17.0</td></tr><tr><td>35.0</td></tr><tr><td>30.4</td></tr><tr><td>32.6</td></tr><tr><td>29.0</td></tr><tr><td>15.2</td></tr><tr><td>30.2</td></tr><tr><td>11.0</td></tr><tr><td>33.6</td></tr><tr><td>29.3</td></tr><tr><td>26.0</td></tr><tr><td>31.9</td></tr></tbody></table></div>"
      ]
     },
     "metadata": {
      "application/vnd.databricks.v1+output": {
       "addedWidgets": {},
       "aggData": [],
       "aggError": "",
       "aggOverflow": false,
       "aggSchema": [],
       "aggSeriesLimitReached": false,
       "aggType": "",
       "arguments": {},
       "columnCustomDisplayInfos": {},
       "data": [
        [
         12.3
        ],
        [
         6.1
        ],
        [
         25.3
        ],
        [
         10.4
        ],
        [
         28.7
        ],
        [
         20.9
        ],
        [
         19.2
        ],
        [
         12.4
        ],
        [
         4.1
        ],
        [
         11.7
        ],
        [
         7.1
        ],
        [
         7.8
        ],
        [
         20.8
        ],
        [
         21.2
        ],
        [
         22.1
        ],
        [
         20.9
        ],
        [
         29.0
        ],
        [
         22.9
        ],
        [
         16.0
        ],
        [
         16.5
        ],
        [
         19.1
        ],
        [
         15.2
        ],
        [
         15.6
        ],
        [
         17.7
        ],
        [
         14.0
        ],
        [
         3.7
        ],
        [
         7.9
        ],
        [
         22.9
        ],
        [
         3.7
        ],
        [
         8.8
        ],
        [
         11.9
        ],
        [
         5.7
        ],
        [
         11.8
        ],
        [
         21.3
        ],
        [
         32.3
        ],
        [
         40.1
        ],
        [
         24.2
        ],
        [
         28.4
        ],
        [
         35.2
        ],
        [
         32.6
        ],
        [
         34.5
        ],
        [
         32.9
        ],
        [
         31.6
        ],
        [
         32.0
        ],
        [
         7.7
        ],
        [
         13.9
        ],
        [
         10.8
        ],
        [
         5.6
        ],
        [
         13.6
        ],
        [
         4.0
        ],
        [
         10.2
        ],
        [
         6.6
        ],
        [
         8.0
        ],
        [
         6.3
        ],
        [
         3.9
        ],
        [
         22.6
        ],
        [
         20.4
        ],
        [
         28.0
        ],
        [
         31.5
        ],
        [
         24.6
        ],
        [
         26.1
        ],
        [
         29.8
        ],
        [
         30.7
        ],
        [
         25.8
        ],
        [
         32.3
        ],
        [
         30.0
        ],
        [
         21.5
        ],
        [
         13.8
        ],
        [
         6.3
        ],
        [
         12.9
        ],
        [
         24.3
        ],
        [
         8.8
        ],
        [
         8.5
        ],
        [
         13.5
        ],
        [
         11.8
        ],
        [
         18.5
        ],
        [
         8.8
        ],
        [
         22.2
        ],
        [
         21.5
        ],
        [
         18.8
        ],
        [
         31.4
        ],
        [
         26.8
        ],
        [
         18.4
        ],
        [
         27.0
        ],
        [
         27.0
        ],
        [
         26.6
        ],
        [
         14.9
        ],
        [
         23.1
        ],
        [
         8.3
        ],
        [
         14.1
        ],
        [
         20.5
        ],
        [
         18.2
        ],
        [
         8.5
        ],
        [
         24.9
        ],
        [
         9.0
        ],
        [
         17.4
        ],
        [
         9.6
        ],
        [
         11.3
        ],
        [
         17.8
        ],
        [
         22.2
        ],
        [
         21.2
        ],
        [
         20.4
        ],
        [
         20.1
        ],
        [
         22.3
        ],
        [
         25.4
        ],
        [
         18.0
        ],
        [
         19.3
        ],
        [
         18.3
        ],
        [
         17.3
        ],
        [
         21.4
        ],
        [
         19.7
        ],
        [
         28.0
        ],
        [
         22.1
        ],
        [
         21.3
        ],
        [
         26.7
        ],
        [
         16.7
        ],
        [
         20.1
        ],
        [
         13.9
        ],
        [
         25.8
        ],
        [
         18.1
        ],
        [
         27.9
        ],
        [
         25.3
        ],
        [
         14.7
        ],
        [
         16.0
        ],
        [
         13.8
        ],
        [
         17.5
        ],
        [
         27.2
        ],
        [
         17.4
        ],
        [
         20.8
        ],
        [
         14.9
        ],
        [
         18.1
        ],
        [
         22.7
        ],
        [
         23.6
        ],
        [
         26.1
        ],
        [
         24.4
        ],
        [
         27.1
        ],
        [
         21.8
        ],
        [
         29.4
        ],
        [
         22.4
        ],
        [
         20.4
        ],
        [
         24.9
        ],
        [
         18.3
        ],
        [
         23.3
        ],
        [
         9.4
        ],
        [
         10.3
        ],
        [
         14.2
        ],
        [
         19.2
        ],
        [
         29.6
        ],
        [
         5.3
        ],
        [
         25.2
        ],
        [
         9.4
        ],
        [
         19.6
        ],
        [
         10.1
        ],
        [
         16.5
        ],
        [
         21.0
        ],
        [
         17.3
        ],
        [
         31.2
        ],
        [
         10.0
        ],
        [
         12.5
        ],
        [
         22.5
        ],
        [
         9.4
        ],
        [
         14.6
        ],
        [
         13.0
        ],
        [
         15.1
        ],
        [
         27.3
        ],
        [
         19.2
        ],
        [
         21.8
        ],
        [
         20.3
        ],
        [
         34.3
        ],
        [
         16.5
        ],
        [
         3.0
        ],
        [
         0.7
        ],
        [
         20.5
        ],
        [
         16.9
        ],
        [
         25.3
        ],
        [
         9.9
        ],
        [
         13.1
        ],
        [
         29.9
        ],
        [
         22.5
        ],
        [
         16.9
        ],
        [
         26.6
        ],
        [
         0.0
        ],
        [
         11.5
        ],
        [
         12.1
        ],
        [
         17.5
        ],
        [
         8.6
        ],
        [
         23.6
        ],
        [
         20.4
        ],
        [
         20.5
        ],
        [
         24.4
        ],
        [
         11.4
        ],
        [
         38.1
        ],
        [
         15.9
        ],
        [
         24.7
        ],
        [
         22.8
        ],
        [
         25.5
        ],
        [
         22.0
        ],
        [
         17.7
        ],
        [
         6.6
        ],
        [
         23.6
        ],
        [
         12.2
        ],
        [
         22.1
        ],
        [
         28.7
        ],
        [
         6.0
        ],
        [
         34.8
        ],
        [
         16.6
        ],
        [
         32.9
        ],
        [
         32.8
        ],
        [
         9.6
        ],
        [
         10.8
        ],
        [
         7.1
        ],
        [
         27.2
        ],
        [
         19.5
        ],
        [
         18.7
        ],
        [
         19.5
        ],
        [
         47.5
        ],
        [
         13.6
        ],
        [
         7.5
        ],
        [
         24.5
        ],
        [
         15.0
        ],
        [
         12.4
        ],
        [
         26.0
        ],
        [
         11.5
        ],
        [
         5.2
        ],
        [
         10.9
        ],
        [
         12.5
        ],
        [
         14.8
        ],
        [
         25.2
        ],
        [
         14.9
        ],
        [
         17.0
        ],
        [
         10.6
        ],
        [
         16.1
        ],
        [
         15.4
        ],
        [
         26.7
        ],
        [
         25.8
        ],
        [
         18.6
        ],
        [
         24.8
        ],
        [
         27.3
        ],
        [
         12.4
        ],
        [
         29.9
        ],
        [
         17.0
        ],
        [
         35.0
        ],
        [
         30.4
        ],
        [
         32.6
        ],
        [
         29.0
        ],
        [
         15.2
        ],
        [
         30.2
        ],
        [
         11.0
        ],
        [
         33.6
        ],
        [
         29.3
        ],
        [
         26.0
        ],
        [
         31.9
        ]
       ],
       "datasetInfos": [],
       "dbfsResultPath": null,
       "isJsonSchema": true,
       "metadata": {},
       "overflow": false,
       "plotOptions": {
        "customPlotOptions": {},
        "displayType": "table",
        "pivotAggregation": null,
        "pivotColumns": null,
        "xColumns": null,
        "yColumns": null
       },
       "removedWidgets": [],
       "schema": [
        {
         "metadata": "{}",
         "name": "BodyFat",
         "type": "\"double\""
        }
       ],
       "type": "table"
      }
     },
     "output_type": "display_data"
    },
    {
     "output_type": "display_data",
     "data": {
      "text/plain": [
       "Databricks visualization. Run in Databricks to view."
      ]
     },
     "metadata": {
      "application/vnd.databricks.v1.subcommand+json": {
       "baseErrorDetails": null,
       "bindings": {},
       "collapsed": false,
       "command": "%sql WITH q AS (SELECT BodyFat FROM BodyFat) ,min_max AS (SELECT `BodyFat`,(SELECT MAX(`BodyFat`) FROM q) `target_column_max`,(SELECT MIN(`BodyFat`) FROM q) `target_column_min` FROM q) ,histogram_meta AS (SELECT `BodyFat`,`target_column_min` `min_value`,IF(`target_column_max` = `target_column_min`,`target_column_max` + 1,`target_column_max`) `max_value`,(`target_column_max` - `target_column_min`) / 15 `step` FROM min_max) SELECT IF(ISNULL(`BodyFat`),NULL,LEAST(WIDTH_BUCKET(`BodyFat`,`min_value`,`max_value`,15),15)) `BodyFat_BIN`,FIRST(`min_value` + ((IF(ISNULL(`BodyFat`),NULL,LEAST(WIDTH_BUCKET(`BodyFat`,`min_value`,`max_value`,15),15)) - 1) * `step`)) `BodyFat_BIN_LOWER_BOUND`,FIRST(`step`) `BodyFat_BIN_STEP`,COUNT(`BodyFat`) `COUNT` FROM histogram_meta GROUP BY `BodyFat_BIN`",
       "commandTitle": "Visualization 1",
       "commandType": "auto",
       "commandVersion": 0,
       "commentThread": [],
       "commentsVisible": false,
       "contentSha256Hex": null,
       "customPlotOptions": {
        "redashChart": [
         {
          "key": "type",
          "value": "CHART"
         },
         {
          "key": "options",
          "value": {
           "alignYAxesAtZero": true,
           "coefficient": 1,
           "columnConfigurationMap": {
            "x": {
             "column": "BodyFat",
             "id": "column_a0f52a982"
            }
           },
           "dateTimeFormat": "DD/MM/YYYY HH:mm",
           "direction": {
            "type": "counterclockwise"
           },
           "error_y": {
            "type": "data",
            "visible": true
           },
           "globalSeriesType": "histogram",
           "isAggregationOn": true,
           "legend": {
            "traceorder": "normal"
           },
           "missingValuesAsZero": true,
           "numBins": 15,
           "numberFormat": "0,0.[00000]",
           "percentFormat": "0[.]00%",
           "series": {
            "error_y": {
             "type": "data",
             "visible": true
            },
            "percentValues": false,
            "stacking": ""
           },
           "seriesOptions": {
            "column_98c88f122": {
             "name": "Age",
             "type": "histogram",
             "yAxis": 0
            },
            "column_98c88f126": {
             "type": "histogram",
             "yAxis": 0
            }
           },
           "showDataLabels": false,
           "sizemode": "diameter",
           "sortX": true,
           "sortY": true,
           "swappedAxes": false,
           "textFormat": "",
           "useAggregationsUi": true,
           "valuesOptions": {},
           "version": 2,
           "xAxis": {
            "labels": {
             "enabled": true
            },
            "type": "-"
           },
           "yAxis": [
            {
             "type": "-"
            },
            {
             "opposite": true,
             "type": "-"
            }
           ]
          }
         }
        ]
       },
       "datasetPreviewNameToCmdIdMap": {},
       "diffDeletes": [],
       "diffInserts": [],
       "displayType": "redashChart",
       "error": null,
       "errorDetails": null,
       "errorSummary": null,
       "errorTraceType": null,
       "finishTime": 0,
       "globalVars": {},
       "guid": "",
       "height": "auto",
       "hideCommandCode": false,
       "hideCommandResult": false,
       "iPythonMetadata": null,
       "inputWidgets": {},
       "isLockedInExamMode": false,
       "latestUser": "a user",
       "latestUserId": null,
       "listResultMetadata": null,
       "metadata": {
        "byteLimit": 2048000,
        "implicitDf": true,
        "rowLimit": 10000
       },
       "nuid": "7c2f8172-9cc7-4e19-bb86-d8fce5058bb2",
       "origId": 0,
       "parentHierarchy": [],
       "pivotAggregation": null,
       "pivotColumns": null,
       "position": 8.75,
       "resultDbfsErrorMessage": null,
       "resultDbfsStatus": "INLINED_IN_TREE",
       "results": null,
       "showCommandTitle": false,
       "startTime": 0,
       "state": "finished",
       "streamStates": {},
       "subcommandOptions": {
        "queryPlan": {
         "groups": [
          {
           "column": "BodyFat_BIN",
           "type": "column"
          }
         ],
         "selects": [
          {
           "alias": "BodyFat_BIN",
           "args": [
            {
             "column": "BodyFat",
             "type": "column"
            },
            {
             "number": 15,
             "type": "number"
            }
           ],
           "function": "BIN",
           "type": "function"
          },
          {
           "alias": "BodyFat_BIN_LOWER_BOUND",
           "args": [
            {
             "column": "BodyFat",
             "type": "column"
            },
            {
             "number": 15,
             "type": "number"
            }
           ],
           "function": "BIN_LOWER_BOUND",
           "type": "function"
          },
          {
           "alias": "BodyFat_BIN_STEP",
           "args": [
            {
             "column": "BodyFat",
             "type": "column"
            },
            {
             "number": 15,
             "type": "number"
            }
           ],
           "function": "BIN_STEP",
           "type": "function"
          },
          {
           "alias": "COUNT",
           "args": [
            {
             "column": "BodyFat",
             "type": "column"
            }
           ],
           "function": "COUNT",
           "type": "function"
          }
         ]
        }
       },
       "submitTime": 0,
       "subtype": "tableResultSubCmd.visualization",
       "tableResultIndex": 0,
       "useConsistentColors": false,
       "version": "CommandV1",
       "width": "auto",
       "workflows": [],
       "xColumns": null,
       "yColumns": null
      }
     },
     "output_type": "display_data"
    }
   ],
   "source": [
    "%sql\n",
    "\n",
    "SELECT BodyFat FROM BodyFat;"
   ]
  },
  {
   "cell_type": "markdown",
   "metadata": {
    "application/vnd.databricks.v1+cell": {
     "cellMetadata": {},
     "inputWidgets": {},
     "nuid": "e4418290-19bc-4c71-a958-045c035fd400",
     "showTitle": false,
     "title": ""
    }
   },
   "source": [
    "According to the American Journal of Clinical Nutrition, there are healthy body fat percentages based on your age. For people aged 20 to 39, women should aim for 21% to 32% of body fat. Men should have 8% to 19%. For people 40 to 59, women should fall between 23% to 33% and men should fall around 11% to 21%. If you’re aged 60 to 79, women should have 24% to 35% body fat and men should have 13% to 24%. \n",
    "\n",
    "Women naturally have a higher body fat percentage than men. Their body fat will also naturally increase as they age. \n",
    "\n",
    "(source- https://www.webmd.com/fitness-exercise/what-is-body-composition)"
   ]
  },
  {
   "cell_type": "markdown",
   "metadata": {
    "application/vnd.databricks.v1+cell": {
     "cellMetadata": {
      "byteLimit": 2048000,
      "rowLimit": 10000
     },
     "inputWidgets": {},
     "nuid": "536f0965-3662-4996-a695-9b431040a878",
     "showTitle": false,
     "title": ""
    }
   },
   "source": [
    "#### Histogram of Age"
   ]
  },
  {
   "cell_type": "code",
   "execution_count": 0,
   "metadata": {
    "application/vnd.databricks.v1+cell": {
     "cellMetadata": {
      "byteLimit": 2048000,
      "implicitDf": true,
      "rowLimit": 10000
     },
     "inputWidgets": {},
     "nuid": "6bb3324f-5bae-4bdb-96e3-2d5e28adc736",
     "showTitle": false,
     "title": ""
    }
   },
   "outputs": [
    {
     "output_type": "display_data",
     "data": {
      "text/html": [
       "<style scoped>\n",
       "  .table-result-container {\n",
       "    max-height: 300px;\n",
       "    overflow: auto;\n",
       "  }\n",
       "  table, th, td {\n",
       "    border: 1px solid black;\n",
       "    border-collapse: collapse;\n",
       "  }\n",
       "  th, td {\n",
       "    padding: 5px;\n",
       "  }\n",
       "  th {\n",
       "    text-align: left;\n",
       "  }\n",
       "</style><div class='table-result-container'><table class='table-result'><thead style='background-color: white'><tr><th>Age</th></tr></thead><tbody><tr><td>23</td></tr><tr><td>22</td></tr><tr><td>22</td></tr><tr><td>26</td></tr><tr><td>24</td></tr><tr><td>24</td></tr><tr><td>26</td></tr><tr><td>25</td></tr><tr><td>25</td></tr><tr><td>23</td></tr><tr><td>26</td></tr><tr><td>27</td></tr><tr><td>32</td></tr><tr><td>30</td></tr><tr><td>35</td></tr><tr><td>35</td></tr><tr><td>34</td></tr><tr><td>32</td></tr><tr><td>28</td></tr><tr><td>33</td></tr><tr><td>28</td></tr><tr><td>28</td></tr><tr><td>31</td></tr><tr><td>32</td></tr><tr><td>28</td></tr><tr><td>27</td></tr><tr><td>34</td></tr><tr><td>31</td></tr><tr><td>27</td></tr><tr><td>29</td></tr><tr><td>32</td></tr><tr><td>29</td></tr><tr><td>27</td></tr><tr><td>41</td></tr><tr><td>41</td></tr><tr><td>49</td></tr><tr><td>40</td></tr><tr><td>50</td></tr><tr><td>46</td></tr><tr><td>50</td></tr><tr><td>45</td></tr><tr><td>44</td></tr><tr><td>48</td></tr><tr><td>41</td></tr><tr><td>39</td></tr><tr><td>43</td></tr><tr><td>40</td></tr><tr><td>39</td></tr><tr><td>45</td></tr><tr><td>47</td></tr><tr><td>47</td></tr><tr><td>40</td></tr><tr><td>51</td></tr><tr><td>49</td></tr><tr><td>42</td></tr><tr><td>54</td></tr><tr><td>58</td></tr><tr><td>62</td></tr><tr><td>54</td></tr><tr><td>61</td></tr><tr><td>62</td></tr><tr><td>56</td></tr><tr><td>54</td></tr><tr><td>61</td></tr><tr><td>57</td></tr><tr><td>55</td></tr><tr><td>54</td></tr><tr><td>55</td></tr><tr><td>54</td></tr><tr><td>55</td></tr><tr><td>62</td></tr><tr><td>55</td></tr><tr><td>56</td></tr><tr><td>55</td></tr><tr><td>61</td></tr><tr><td>61</td></tr><tr><td>57</td></tr><tr><td>69</td></tr><tr><td>81</td></tr><tr><td>66</td></tr><tr><td>67</td></tr><tr><td>64</td></tr><tr><td>64</td></tr><tr><td>70</td></tr><tr><td>72</td></tr><tr><td>67</td></tr><tr><td>72</td></tr><tr><td>64</td></tr><tr><td>46</td></tr><tr><td>48</td></tr><tr><td>46</td></tr><tr><td>44</td></tr><tr><td>47</td></tr><tr><td>46</td></tr><tr><td>47</td></tr><tr><td>53</td></tr><tr><td>38</td></tr><tr><td>50</td></tr><tr><td>46</td></tr><tr><td>47</td></tr><tr><td>49</td></tr><tr><td>48</td></tr><tr><td>41</td></tr><tr><td>49</td></tr><tr><td>43</td></tr><tr><td>43</td></tr><tr><td>43</td></tr><tr><td>52</td></tr><tr><td>43</td></tr><tr><td>40</td></tr><tr><td>43</td></tr><tr><td>43</td></tr><tr><td>47</td></tr><tr><td>42</td></tr><tr><td>48</td></tr><tr><td>40</td></tr><tr><td>48</td></tr><tr><td>51</td></tr><tr><td>40</td></tr><tr><td>44</td></tr><tr><td>52</td></tr><tr><td>44</td></tr><tr><td>40</td></tr><tr><td>47</td></tr><tr><td>50</td></tr><tr><td>46</td></tr><tr><td>42</td></tr><tr><td>43</td></tr><tr><td>40</td></tr><tr><td>42</td></tr><tr><td>49</td></tr><tr><td>40</td></tr><tr><td>47</td></tr><tr><td>50</td></tr><tr><td>41</td></tr><tr><td>44</td></tr><tr><td>39</td></tr><tr><td>43</td></tr><tr><td>40</td></tr><tr><td>49</td></tr><tr><td>40</td></tr><tr><td>40</td></tr><tr><td>52</td></tr><tr><td>23</td></tr><tr><td>23</td></tr><tr><td>24</td></tr><tr><td>24</td></tr><tr><td>25</td></tr><tr><td>25</td></tr><tr><td>26</td></tr><tr><td>26</td></tr><tr><td>26</td></tr><tr><td>27</td></tr><tr><td>27</td></tr><tr><td>27</td></tr><tr><td>28</td></tr><tr><td>28</td></tr><tr><td>28</td></tr><tr><td>30</td></tr><tr><td>31</td></tr><tr><td>31</td></tr><tr><td>33</td></tr><tr><td>33</td></tr><tr><td>34</td></tr><tr><td>34</td></tr><tr><td>35</td></tr><tr><td>35</td></tr><tr><td>35</td></tr><tr><td>35</td></tr><tr><td>35</td></tr><tr><td>35</td></tr><tr><td>35</td></tr><tr><td>35</td></tr><tr><td>36</td></tr><tr><td>36</td></tr><tr><td>37</td></tr><tr><td>37</td></tr><tr><td>37</td></tr><tr><td>38</td></tr><tr><td>39</td></tr><tr><td>39</td></tr><tr><td>40</td></tr><tr><td>40</td></tr><tr><td>40</td></tr><tr><td>40</td></tr><tr><td>40</td></tr><tr><td>41</td></tr><tr><td>41</td></tr><tr><td>41</td></tr><tr><td>41</td></tr><tr><td>41</td></tr><tr><td>42</td></tr><tr><td>42</td></tr><tr><td>42</td></tr><tr><td>42</td></tr><tr><td>42</td></tr><tr><td>42</td></tr><tr><td>42</td></tr><tr><td>42</td></tr><tr><td>43</td></tr><tr><td>43</td></tr><tr><td>43</td></tr><tr><td>43</td></tr><tr><td>44</td></tr><tr><td>44</td></tr><tr><td>44</td></tr><tr><td>44</td></tr><tr><td>47</td></tr><tr><td>47</td></tr><tr><td>47</td></tr><tr><td>49</td></tr><tr><td>49</td></tr><tr><td>49</td></tr><tr><td>50</td></tr><tr><td>50</td></tr><tr><td>51</td></tr><tr><td>51</td></tr><tr><td>51</td></tr><tr><td>52</td></tr><tr><td>53</td></tr><tr><td>54</td></tr><tr><td>54</td></tr><tr><td>54</td></tr><tr><td>55</td></tr><tr><td>55</td></tr><tr><td>55</td></tr><tr><td>55</td></tr><tr><td>55</td></tr><tr><td>56</td></tr><tr><td>56</td></tr><tr><td>57</td></tr><tr><td>57</td></tr><tr><td>58</td></tr><tr><td>58</td></tr><tr><td>60</td></tr><tr><td>62</td></tr><tr><td>62</td></tr><tr><td>63</td></tr><tr><td>64</td></tr><tr><td>65</td></tr><tr><td>65</td></tr><tr><td>65</td></tr><tr><td>66</td></tr><tr><td>67</td></tr><tr><td>67</td></tr><tr><td>68</td></tr><tr><td>69</td></tr><tr><td>70</td></tr><tr><td>72</td></tr><tr><td>72</td></tr><tr><td>72</td></tr><tr><td>74</td></tr></tbody></table></div>"
      ]
     },
     "metadata": {
      "application/vnd.databricks.v1+output": {
       "addedWidgets": {},
       "aggData": [],
       "aggError": "",
       "aggOverflow": false,
       "aggSchema": [],
       "aggSeriesLimitReached": false,
       "aggType": "",
       "arguments": {},
       "columnCustomDisplayInfos": {},
       "data": [
        [
         23
        ],
        [
         22
        ],
        [
         22
        ],
        [
         26
        ],
        [
         24
        ],
        [
         24
        ],
        [
         26
        ],
        [
         25
        ],
        [
         25
        ],
        [
         23
        ],
        [
         26
        ],
        [
         27
        ],
        [
         32
        ],
        [
         30
        ],
        [
         35
        ],
        [
         35
        ],
        [
         34
        ],
        [
         32
        ],
        [
         28
        ],
        [
         33
        ],
        [
         28
        ],
        [
         28
        ],
        [
         31
        ],
        [
         32
        ],
        [
         28
        ],
        [
         27
        ],
        [
         34
        ],
        [
         31
        ],
        [
         27
        ],
        [
         29
        ],
        [
         32
        ],
        [
         29
        ],
        [
         27
        ],
        [
         41
        ],
        [
         41
        ],
        [
         49
        ],
        [
         40
        ],
        [
         50
        ],
        [
         46
        ],
        [
         50
        ],
        [
         45
        ],
        [
         44
        ],
        [
         48
        ],
        [
         41
        ],
        [
         39
        ],
        [
         43
        ],
        [
         40
        ],
        [
         39
        ],
        [
         45
        ],
        [
         47
        ],
        [
         47
        ],
        [
         40
        ],
        [
         51
        ],
        [
         49
        ],
        [
         42
        ],
        [
         54
        ],
        [
         58
        ],
        [
         62
        ],
        [
         54
        ],
        [
         61
        ],
        [
         62
        ],
        [
         56
        ],
        [
         54
        ],
        [
         61
        ],
        [
         57
        ],
        [
         55
        ],
        [
         54
        ],
        [
         55
        ],
        [
         54
        ],
        [
         55
        ],
        [
         62
        ],
        [
         55
        ],
        [
         56
        ],
        [
         55
        ],
        [
         61
        ],
        [
         61
        ],
        [
         57
        ],
        [
         69
        ],
        [
         81
        ],
        [
         66
        ],
        [
         67
        ],
        [
         64
        ],
        [
         64
        ],
        [
         70
        ],
        [
         72
        ],
        [
         67
        ],
        [
         72
        ],
        [
         64
        ],
        [
         46
        ],
        [
         48
        ],
        [
         46
        ],
        [
         44
        ],
        [
         47
        ],
        [
         46
        ],
        [
         47
        ],
        [
         53
        ],
        [
         38
        ],
        [
         50
        ],
        [
         46
        ],
        [
         47
        ],
        [
         49
        ],
        [
         48
        ],
        [
         41
        ],
        [
         49
        ],
        [
         43
        ],
        [
         43
        ],
        [
         43
        ],
        [
         52
        ],
        [
         43
        ],
        [
         40
        ],
        [
         43
        ],
        [
         43
        ],
        [
         47
        ],
        [
         42
        ],
        [
         48
        ],
        [
         40
        ],
        [
         48
        ],
        [
         51
        ],
        [
         40
        ],
        [
         44
        ],
        [
         52
        ],
        [
         44
        ],
        [
         40
        ],
        [
         47
        ],
        [
         50
        ],
        [
         46
        ],
        [
         42
        ],
        [
         43
        ],
        [
         40
        ],
        [
         42
        ],
        [
         49
        ],
        [
         40
        ],
        [
         47
        ],
        [
         50
        ],
        [
         41
        ],
        [
         44
        ],
        [
         39
        ],
        [
         43
        ],
        [
         40
        ],
        [
         49
        ],
        [
         40
        ],
        [
         40
        ],
        [
         52
        ],
        [
         23
        ],
        [
         23
        ],
        [
         24
        ],
        [
         24
        ],
        [
         25
        ],
        [
         25
        ],
        [
         26
        ],
        [
         26
        ],
        [
         26
        ],
        [
         27
        ],
        [
         27
        ],
        [
         27
        ],
        [
         28
        ],
        [
         28
        ],
        [
         28
        ],
        [
         30
        ],
        [
         31
        ],
        [
         31
        ],
        [
         33
        ],
        [
         33
        ],
        [
         34
        ],
        [
         34
        ],
        [
         35
        ],
        [
         35
        ],
        [
         35
        ],
        [
         35
        ],
        [
         35
        ],
        [
         35
        ],
        [
         35
        ],
        [
         35
        ],
        [
         36
        ],
        [
         36
        ],
        [
         37
        ],
        [
         37
        ],
        [
         37
        ],
        [
         38
        ],
        [
         39
        ],
        [
         39
        ],
        [
         40
        ],
        [
         40
        ],
        [
         40
        ],
        [
         40
        ],
        [
         40
        ],
        [
         41
        ],
        [
         41
        ],
        [
         41
        ],
        [
         41
        ],
        [
         41
        ],
        [
         42
        ],
        [
         42
        ],
        [
         42
        ],
        [
         42
        ],
        [
         42
        ],
        [
         42
        ],
        [
         42
        ],
        [
         42
        ],
        [
         43
        ],
        [
         43
        ],
        [
         43
        ],
        [
         43
        ],
        [
         44
        ],
        [
         44
        ],
        [
         44
        ],
        [
         44
        ],
        [
         47
        ],
        [
         47
        ],
        [
         47
        ],
        [
         49
        ],
        [
         49
        ],
        [
         49
        ],
        [
         50
        ],
        [
         50
        ],
        [
         51
        ],
        [
         51
        ],
        [
         51
        ],
        [
         52
        ],
        [
         53
        ],
        [
         54
        ],
        [
         54
        ],
        [
         54
        ],
        [
         55
        ],
        [
         55
        ],
        [
         55
        ],
        [
         55
        ],
        [
         55
        ],
        [
         56
        ],
        [
         56
        ],
        [
         57
        ],
        [
         57
        ],
        [
         58
        ],
        [
         58
        ],
        [
         60
        ],
        [
         62
        ],
        [
         62
        ],
        [
         63
        ],
        [
         64
        ],
        [
         65
        ],
        [
         65
        ],
        [
         65
        ],
        [
         66
        ],
        [
         67
        ],
        [
         67
        ],
        [
         68
        ],
        [
         69
        ],
        [
         70
        ],
        [
         72
        ],
        [
         72
        ],
        [
         72
        ],
        [
         74
        ]
       ],
       "datasetInfos": [],
       "dbfsResultPath": null,
       "isJsonSchema": true,
       "metadata": {},
       "overflow": false,
       "plotOptions": {
        "customPlotOptions": {},
        "displayType": "table",
        "pivotAggregation": null,
        "pivotColumns": null,
        "xColumns": null,
        "yColumns": null
       },
       "removedWidgets": [],
       "schema": [
        {
         "metadata": "{}",
         "name": "Age",
         "type": "\"integer\""
        }
       ],
       "type": "table"
      }
     },
     "output_type": "display_data"
    },
    {
     "output_type": "display_data",
     "data": {
      "text/plain": [
       "Databricks visualization. Run in Databricks to view."
      ]
     },
     "metadata": {
      "application/vnd.databricks.v1.subcommand+json": {
       "baseErrorDetails": null,
       "bindings": {},
       "collapsed": false,
       "command": "%sql WITH q AS (SELECT Age FROM BodyFat) ,min_max AS (SELECT `Age`,(SELECT MAX(`Age`) FROM q) `target_column_max`,(SELECT MIN(`Age`) FROM q) `target_column_min` FROM q) ,histogram_meta AS (SELECT `Age`,`target_column_min` `min_value`,IF(`target_column_max` = `target_column_min`,`target_column_max` + 1,`target_column_max`) `max_value`,(`target_column_max` - `target_column_min`) / 15 `step` FROM min_max) SELECT IF(ISNULL(`Age`),NULL,LEAST(WIDTH_BUCKET(`Age`,`min_value`,`max_value`,15),15)) `Age_BIN`,FIRST(`min_value` + ((IF(ISNULL(`Age`),NULL,LEAST(WIDTH_BUCKET(`Age`,`min_value`,`max_value`,15),15)) - 1) * `step`)) `Age_BIN_LOWER_BOUND`,FIRST(`step`) `Age_BIN_STEP`,COUNT(`Age`) `COUNT` FROM histogram_meta GROUP BY `Age_BIN`",
       "commandTitle": "Visualization 1",
       "commandType": "auto",
       "commandVersion": 0,
       "commentThread": [],
       "commentsVisible": false,
       "contentSha256Hex": null,
       "customPlotOptions": {
        "redashChart": [
         {
          "key": "type",
          "value": "CHART"
         },
         {
          "key": "options",
          "value": {
           "alignYAxesAtZero": true,
           "coefficient": 1,
           "columnConfigurationMap": {
            "x": {
             "column": "Age",
             "id": "column_a0f52a983"
            }
           },
           "dateTimeFormat": "DD/MM/YYYY HH:mm",
           "direction": {
            "type": "counterclockwise"
           },
           "error_y": {
            "type": "data",
            "visible": true
           },
           "globalSeriesType": "histogram",
           "legend": {
            "traceorder": "normal"
           },
           "missingValuesAsZero": true,
           "numBins": 15,
           "numberFormat": "0,0.[00000]",
           "percentFormat": "0[.]00%",
           "series": {
            "error_y": {
             "type": "data",
             "visible": true
            },
            "stacking": null
           },
           "seriesOptions": {},
           "showDataLabels": false,
           "sizemode": "diameter",
           "sortX": true,
           "sortY": true,
           "swappedAxes": false,
           "textFormat": "",
           "useAggregationsUi": true,
           "valuesOptions": {},
           "version": 2,
           "xAxis": {
            "labels": {
             "enabled": true
            },
            "type": "-"
           },
           "yAxis": [
            {
             "type": "-"
            },
            {
             "opposite": true,
             "type": "-"
            }
           ]
          }
         }
        ]
       },
       "datasetPreviewNameToCmdIdMap": {},
       "diffDeletes": [],
       "diffInserts": [],
       "displayType": "redashChart",
       "error": null,
       "errorDetails": null,
       "errorSummary": null,
       "errorTraceType": null,
       "finishTime": 0,
       "globalVars": {},
       "guid": "",
       "height": "auto",
       "hideCommandCode": false,
       "hideCommandResult": false,
       "iPythonMetadata": null,
       "inputWidgets": {},
       "isLockedInExamMode": false,
       "latestUser": "a user",
       "latestUserId": null,
       "listResultMetadata": null,
       "metadata": {
        "byteLimit": 2048000,
        "implicitDf": true,
        "rowLimit": 10000
       },
       "nuid": "42950836-5f25-4768-a67e-639aa91ed6d5",
       "origId": 0,
       "parentHierarchy": [],
       "pivotAggregation": null,
       "pivotColumns": null,
       "position": 9.75,
       "resultDbfsErrorMessage": null,
       "resultDbfsStatus": "INLINED_IN_TREE",
       "results": null,
       "showCommandTitle": false,
       "startTime": 0,
       "state": "finished",
       "streamStates": {},
       "subcommandOptions": {
        "queryPlan": {
         "groups": [
          {
           "column": "Age_BIN",
           "type": "column"
          }
         ],
         "selects": [
          {
           "alias": "Age_BIN",
           "args": [
            {
             "column": "Age",
             "type": "column"
            },
            {
             "number": 15,
             "type": "number"
            }
           ],
           "function": "BIN",
           "type": "function"
          },
          {
           "alias": "Age_BIN_LOWER_BOUND",
           "args": [
            {
             "column": "Age",
             "type": "column"
            },
            {
             "number": 15,
             "type": "number"
            }
           ],
           "function": "BIN_LOWER_BOUND",
           "type": "function"
          },
          {
           "alias": "Age_BIN_STEP",
           "args": [
            {
             "column": "Age",
             "type": "column"
            },
            {
             "number": 15,
             "type": "number"
            }
           ],
           "function": "BIN_STEP",
           "type": "function"
          },
          {
           "alias": "COUNT",
           "args": [
            {
             "column": "Age",
             "type": "column"
            }
           ],
           "function": "COUNT",
           "type": "function"
          }
         ]
        }
       },
       "submitTime": 0,
       "subtype": "tableResultSubCmd.visualization",
       "tableResultIndex": 0,
       "useConsistentColors": false,
       "version": "CommandV1",
       "width": "auto",
       "workflows": [],
       "xColumns": null,
       "yColumns": null
      }
     },
     "output_type": "display_data"
    }
   ],
   "source": [
    "%sql\n",
    "\n",
    "SELECT Age FROM BodyFat;"
   ]
  },
  {
   "cell_type": "markdown",
   "metadata": {
    "application/vnd.databricks.v1+cell": {
     "cellMetadata": {},
     "inputWidgets": {},
     "nuid": "4e3a7700-7c62-42c2-bc03-2cf1e5075931",
     "showTitle": false,
     "title": ""
    }
   },
   "source": [
    "#### Histogram of Weight"
   ]
  },
  {
   "cell_type": "code",
   "execution_count": 0,
   "metadata": {
    "application/vnd.databricks.v1+cell": {
     "cellMetadata": {
      "byteLimit": 2048000,
      "implicitDf": true,
      "rowLimit": 10000
     },
     "inputWidgets": {},
     "nuid": "407b9ffa-1529-43a7-99fb-fed58df8411d",
     "showTitle": false,
     "title": ""
    }
   },
   "outputs": [
    {
     "output_type": "display_data",
     "data": {
      "text/html": [
       "<style scoped>\n",
       "  .table-result-container {\n",
       "    max-height: 300px;\n",
       "    overflow: auto;\n",
       "  }\n",
       "  table, th, td {\n",
       "    border: 1px solid black;\n",
       "    border-collapse: collapse;\n",
       "  }\n",
       "  th, td {\n",
       "    padding: 5px;\n",
       "  }\n",
       "  th {\n",
       "    text-align: left;\n",
       "  }\n",
       "</style><div class='table-result-container'><table class='table-result'><thead style='background-color: white'><tr><th>Weight</th></tr></thead><tbody><tr><td>69.966566</td></tr><tr><td>78.584814</td></tr><tr><td>69.853168</td></tr><tr><td>83.80112199999999</td></tr><tr><td>83.574326</td></tr><tr><td>95.367718</td></tr><tr><td>82.100152</td></tr><tr><td>79.83219199999999</td></tr><tr><td>86.636072</td></tr><tr><td>89.924614</td></tr><tr><td>84.48151</td></tr><tr><td>97.975872</td></tr><tr><td>81.873356</td></tr><tr><td>93.099758</td></tr><tr><td>85.161898</td></tr><tr><td>73.822098</td></tr><tr><td>88.790634</td></tr><tr><td>94.914126</td></tr><tr><td>83.34753</td></tr><tr><td>96.048106</td></tr><tr><td>81.192968</td></tr><tr><td>90.945196</td></tr><tr><td>63.616278</td></tr><tr><td>67.47181</td></tr><tr><td>68.60579</td></tr><tr><td>72.234526</td></tr><tr><td>59.647348</td></tr><tr><td>67.131616</td></tr><tr><td>60.441134</td></tr><tr><td>72.914914</td></tr><tr><td>82.553744</td></tr><tr><td>72.688118</td></tr><tr><td>76.203456</td></tr><tr><td>99.109852</td></tr><tr><td>112.150622</td></tr><tr><td>86.976266</td></tr><tr><td>91.738982</td></tr><tr><td>89.244226</td></tr><tr><td>164.72193479999999</td></tr><tr><td>92.079176</td></tr><tr><td>119.181298</td></tr><tr><td>92.98636</td></tr><tr><td>98.429464</td></tr><tr><td>96.161504</td></tr><tr><td>56.812398</td></tr><tr><td>74.502486</td></tr><tr><td>60.554532</td></tr><tr><td>67.358412</td></tr><tr><td>61.575114</td></tr><tr><td>57.83298</td></tr><tr><td>71.780934</td></tr><tr><td>63.162686</td></tr><tr><td>62.255502</td></tr><tr><td>69.28617799999999</td></tr><tr><td>61.80191</td></tr><tr><td>89.811216</td></tr><tr><td>82.326948</td></tr><tr><td>91.28538999999999</td></tr><tr><td>91.85238</td></tr><tr><td>81.533162</td></tr><tr><td>97.975872</td></tr><tr><td>81.07957</td></tr><tr><td>87.656654</td></tr><tr><td>80.739376</td></tr><tr><td>93.213156</td></tr><tr><td>83.234132</td></tr><tr><td>68.719188</td></tr><tr><td>70.193362</td></tr><tr><td>70.420158</td></tr><tr><td>71.100546</td></tr><tr><td>75.97666</td></tr><tr><td>66.564626</td></tr><tr><td>72.914914</td></tr><tr><td>56.699</td></tr><tr><td>64.863656</td></tr><tr><td>67.245014</td></tr><tr><td>73.7087</td></tr><tr><td>80.625978</td></tr><tr><td>73.14171</td></tr><tr><td>77.67763</td></tr><tr><td>74.27569</td></tr><tr><td>68.152198</td></tr><tr><td>86.295878</td></tr><tr><td>77.450834</td></tr><tr><td>76.203456</td></tr><tr><td>75.749864</td></tr><tr><td>71.554138</td></tr><tr><td>72.57472</td></tr><tr><td>80.172386</td></tr><tr><td>79.83219199999999</td></tr><tr><td>80.28578399999999</td></tr><tr><td>81.533162</td></tr><tr><td>74.956078</td></tr><tr><td>87.31645999999999</td></tr><tr><td>83.574326</td></tr><tr><td>101.83140399999999</td></tr><tr><td>85.61549</td></tr><tr><td>73.7087</td></tr><tr><td>70.987148</td></tr><tr><td>89.357624</td></tr><tr><td>90.038012</td></tr><tr><td>78.81161</td></tr><tr><td>78.358018</td></tr><tr><td>89.244226</td></tr><tr><td>80.28578399999999</td></tr><tr><td>75.069476</td></tr><tr><td>90.83179799999999</td></tr><tr><td>92.192574</td></tr><tr><td>87.996848</td></tr><tr><td>76.430252</td></tr><tr><td>77.450834</td></tr><tr><td>83.120734</td></tr><tr><td>80.852774</td></tr><tr><td>73.935496</td></tr><tr><td>79.491998</td></tr><tr><td>71.667536</td></tr><tr><td>80.399182</td></tr><tr><td>81.192968</td></tr><tr><td>86.636072</td></tr><tr><td>85.0485</td></tr><tr><td>93.666748</td></tr><tr><td>84.027918</td></tr><tr><td>72.688118</td></tr><tr><td>68.719188</td></tr><tr><td>73.028312</td></tr><tr><td>75.749864</td></tr><tr><td>80.51258</td></tr><tr><td>69.059382</td></tr><tr><td>87.203062</td></tr><tr><td>74.956078</td></tr><tr><td>77.904426</td></tr><tr><td>77.67763</td></tr><tr><td>89.357624</td></tr><tr><td>71.213944</td></tr><tr><td>76.31685399999999</td></tr><tr><td>84.368112</td></tr><tr><td>75.636466</td></tr><tr><td>85.161898</td></tr><tr><td>76.31685399999999</td></tr><tr><td>96.501698</td></tr><tr><td>80.172386</td></tr><tr><td>78.584814</td></tr><tr><td>75.749864</td></tr><tr><td>72.461322</td></tr><tr><td>85.34333480000001</td></tr><tr><td>70.760352</td></tr><tr><td>94.573932</td></tr><tr><td>93.666748</td></tr><tr><td>65.20385</td></tr><tr><td>101.151016</td></tr><tr><td>69.059382</td></tr><tr><td>109.655866</td></tr><tr><td>66.224432</td></tr><tr><td>71.100546</td></tr><tr><td>90.83179799999999</td></tr><tr><td>77.791028</td></tr><tr><td>93.326554</td></tr><tr><td>82.78054</td></tr><tr><td>61.915307999999996</td></tr><tr><td>80.399182</td></tr><tr><td>68.60579</td></tr><tr><td>88.904032</td></tr><tr><td>83.574326</td></tr><tr><td>63.50288</td></tr><tr><td>99.22325</td></tr><tr><td>98.429464</td></tr><tr><td>75.40967</td></tr><tr><td>101.944802</td></tr><tr><td>103.532374</td></tr><tr><td>78.358018</td></tr><tr><td>69.059382</td></tr><tr><td>57.039194</td></tr><tr><td>80.399182</td></tr><tr><td>79.94559</td></tr><tr><td>102.851986</td></tr><tr><td>65.884238</td></tr><tr><td>68.492392</td></tr><tr><td>109.42907</td></tr><tr><td>84.935102</td></tr><tr><td>106.480722</td></tr><tr><td>99.450046</td></tr><tr><td>53.750652</td></tr><tr><td>66.111034</td></tr><tr><td>72.234526</td></tr><tr><td>77.337436</td></tr><tr><td>75.97666</td></tr><tr><td>105.573538</td></tr><tr><td>95.481116</td></tr><tr><td>91.738982</td></tr><tr><td>83.91452</td></tr><tr><td>69.399576</td></tr><tr><td>110.789846</td></tr><tr><td>87.77005199999999</td></tr><tr><td>101.944802</td></tr><tr><td>73.822098</td></tr><tr><td>81.64656</td></tr><tr><td>70.87375</td></tr><tr><td>76.203456</td></tr><tr><td>75.863262</td></tr><tr><td>77.450834</td></tr><tr><td>80.852774</td></tr><tr><td>68.0388</td></tr><tr><td>90.945196</td></tr><tr><td>83.460928</td></tr><tr><td>101.151016</td></tr><tr><td>94.68733</td></tr><tr><td>75.296272</td></tr><tr><td>88.45044</td></tr><tr><td>72.80151599999999</td></tr><tr><td>72.461322</td></tr><tr><td>63.729676</td></tr><tr><td>98.08927</td></tr><tr><td>76.31685399999999</td></tr><tr><td>88.337042</td></tr><tr><td>78.358018</td></tr><tr><td>99.336648</td></tr><tr><td>67.698606</td></tr><tr><td>70.079964</td></tr><tr><td>90.378206</td></tr><tr><td>70.079964</td></tr><tr><td>69.512974</td></tr><tr><td>104.32616</td></tr><tr><td>73.368506</td></tr><tr><td>64.523462</td></tr><tr><td>81.533162</td></tr><tr><td>57.379388</td></tr><tr><td>76.883844</td></tr><tr><td>90.038012</td></tr><tr><td>79.151804</td></tr><tr><td>76.090058</td></tr><tr><td>67.018218</td></tr><tr><td>82.667142</td></tr><tr><td>79.605396</td></tr><tr><td>73.368506</td></tr><tr><td>71.554138</td></tr><tr><td>76.54365</td></tr><tr><td>86.862868</td></tr><tr><td>99.40468680000001</td></tr><tr><td>70.420158</td></tr><tr><td>86.069082</td></tr><tr><td>57.83298</td></tr><tr><td>101.83140399999999</td></tr><tr><td>106.25392599999999</td></tr><tr><td>103.305578</td></tr><tr><td>90.491604</td></tr><tr><td>70.533556</td></tr><tr><td>97.749076</td></tr><tr><td>60.894726</td></tr><tr><td>91.171992</td></tr><tr><td>84.708306</td></tr><tr><td>86.522674</td></tr><tr><td>94.12034</td></tr></tbody></table></div>"
      ]
     },
     "metadata": {
      "application/vnd.databricks.v1+output": {
       "addedWidgets": {},
       "aggData": [],
       "aggError": "",
       "aggOverflow": false,
       "aggSchema": [],
       "aggSeriesLimitReached": false,
       "aggType": "",
       "arguments": {},
       "columnCustomDisplayInfos": {},
       "data": [
        [
         69.966566
        ],
        [
         78.584814
        ],
        [
         69.853168
        ],
        [
         83.80112199999999
        ],
        [
         83.574326
        ],
        [
         95.367718
        ],
        [
         82.100152
        ],
        [
         79.83219199999999
        ],
        [
         86.636072
        ],
        [
         89.924614
        ],
        [
         84.48151
        ],
        [
         97.975872
        ],
        [
         81.873356
        ],
        [
         93.099758
        ],
        [
         85.161898
        ],
        [
         73.822098
        ],
        [
         88.790634
        ],
        [
         94.914126
        ],
        [
         83.34753
        ],
        [
         96.048106
        ],
        [
         81.192968
        ],
        [
         90.945196
        ],
        [
         63.616278
        ],
        [
         67.47181
        ],
        [
         68.60579
        ],
        [
         72.234526
        ],
        [
         59.647348
        ],
        [
         67.131616
        ],
        [
         60.441134
        ],
        [
         72.914914
        ],
        [
         82.553744
        ],
        [
         72.688118
        ],
        [
         76.203456
        ],
        [
         99.109852
        ],
        [
         112.150622
        ],
        [
         86.976266
        ],
        [
         91.738982
        ],
        [
         89.244226
        ],
        [
         164.72193479999999
        ],
        [
         92.079176
        ],
        [
         119.181298
        ],
        [
         92.98636
        ],
        [
         98.429464
        ],
        [
         96.161504
        ],
        [
         56.812398
        ],
        [
         74.502486
        ],
        [
         60.554532
        ],
        [
         67.358412
        ],
        [
         61.575114
        ],
        [
         57.83298
        ],
        [
         71.780934
        ],
        [
         63.162686
        ],
        [
         62.255502
        ],
        [
         69.28617799999999
        ],
        [
         61.80191
        ],
        [
         89.811216
        ],
        [
         82.326948
        ],
        [
         91.28538999999999
        ],
        [
         91.85238
        ],
        [
         81.533162
        ],
        [
         97.975872
        ],
        [
         81.07957
        ],
        [
         87.656654
        ],
        [
         80.739376
        ],
        [
         93.213156
        ],
        [
         83.234132
        ],
        [
         68.719188
        ],
        [
         70.193362
        ],
        [
         70.420158
        ],
        [
         71.100546
        ],
        [
         75.97666
        ],
        [
         66.564626
        ],
        [
         72.914914
        ],
        [
         56.699
        ],
        [
         64.863656
        ],
        [
         67.245014
        ],
        [
         73.7087
        ],
        [
         80.625978
        ],
        [
         73.14171
        ],
        [
         77.67763
        ],
        [
         74.27569
        ],
        [
         68.152198
        ],
        [
         86.295878
        ],
        [
         77.450834
        ],
        [
         76.203456
        ],
        [
         75.749864
        ],
        [
         71.554138
        ],
        [
         72.57472
        ],
        [
         80.172386
        ],
        [
         79.83219199999999
        ],
        [
         80.28578399999999
        ],
        [
         81.533162
        ],
        [
         74.956078
        ],
        [
         87.31645999999999
        ],
        [
         83.574326
        ],
        [
         101.83140399999999
        ],
        [
         85.61549
        ],
        [
         73.7087
        ],
        [
         70.987148
        ],
        [
         89.357624
        ],
        [
         90.038012
        ],
        [
         78.81161
        ],
        [
         78.358018
        ],
        [
         89.244226
        ],
        [
         80.28578399999999
        ],
        [
         75.069476
        ],
        [
         90.83179799999999
        ],
        [
         92.192574
        ],
        [
         87.996848
        ],
        [
         76.430252
        ],
        [
         77.450834
        ],
        [
         83.120734
        ],
        [
         80.852774
        ],
        [
         73.935496
        ],
        [
         79.491998
        ],
        [
         71.667536
        ],
        [
         80.399182
        ],
        [
         81.192968
        ],
        [
         86.636072
        ],
        [
         85.0485
        ],
        [
         93.666748
        ],
        [
         84.027918
        ],
        [
         72.688118
        ],
        [
         68.719188
        ],
        [
         73.028312
        ],
        [
         75.749864
        ],
        [
         80.51258
        ],
        [
         69.059382
        ],
        [
         87.203062
        ],
        [
         74.956078
        ],
        [
         77.904426
        ],
        [
         77.67763
        ],
        [
         89.357624
        ],
        [
         71.213944
        ],
        [
         76.31685399999999
        ],
        [
         84.368112
        ],
        [
         75.636466
        ],
        [
         85.161898
        ],
        [
         76.31685399999999
        ],
        [
         96.501698
        ],
        [
         80.172386
        ],
        [
         78.584814
        ],
        [
         75.749864
        ],
        [
         72.461322
        ],
        [
         85.34333480000001
        ],
        [
         70.760352
        ],
        [
         94.573932
        ],
        [
         93.666748
        ],
        [
         65.20385
        ],
        [
         101.151016
        ],
        [
         69.059382
        ],
        [
         109.655866
        ],
        [
         66.224432
        ],
        [
         71.100546
        ],
        [
         90.83179799999999
        ],
        [
         77.791028
        ],
        [
         93.326554
        ],
        [
         82.78054
        ],
        [
         61.915307999999996
        ],
        [
         80.399182
        ],
        [
         68.60579
        ],
        [
         88.904032
        ],
        [
         83.574326
        ],
        [
         63.50288
        ],
        [
         99.22325
        ],
        [
         98.429464
        ],
        [
         75.40967
        ],
        [
         101.944802
        ],
        [
         103.532374
        ],
        [
         78.358018
        ],
        [
         69.059382
        ],
        [
         57.039194
        ],
        [
         80.399182
        ],
        [
         79.94559
        ],
        [
         102.851986
        ],
        [
         65.884238
        ],
        [
         68.492392
        ],
        [
         109.42907
        ],
        [
         84.935102
        ],
        [
         106.480722
        ],
        [
         99.450046
        ],
        [
         53.750652
        ],
        [
         66.111034
        ],
        [
         72.234526
        ],
        [
         77.337436
        ],
        [
         75.97666
        ],
        [
         105.573538
        ],
        [
         95.481116
        ],
        [
         91.738982
        ],
        [
         83.91452
        ],
        [
         69.399576
        ],
        [
         110.789846
        ],
        [
         87.77005199999999
        ],
        [
         101.944802
        ],
        [
         73.822098
        ],
        [
         81.64656
        ],
        [
         70.87375
        ],
        [
         76.203456
        ],
        [
         75.863262
        ],
        [
         77.450834
        ],
        [
         80.852774
        ],
        [
         68.0388
        ],
        [
         90.945196
        ],
        [
         83.460928
        ],
        [
         101.151016
        ],
        [
         94.68733
        ],
        [
         75.296272
        ],
        [
         88.45044
        ],
        [
         72.80151599999999
        ],
        [
         72.461322
        ],
        [
         63.729676
        ],
        [
         98.08927
        ],
        [
         76.31685399999999
        ],
        [
         88.337042
        ],
        [
         78.358018
        ],
        [
         99.336648
        ],
        [
         67.698606
        ],
        [
         70.079964
        ],
        [
         90.378206
        ],
        [
         70.079964
        ],
        [
         69.512974
        ],
        [
         104.32616
        ],
        [
         73.368506
        ],
        [
         64.523462
        ],
        [
         81.533162
        ],
        [
         57.379388
        ],
        [
         76.883844
        ],
        [
         90.038012
        ],
        [
         79.151804
        ],
        [
         76.090058
        ],
        [
         67.018218
        ],
        [
         82.667142
        ],
        [
         79.605396
        ],
        [
         73.368506
        ],
        [
         71.554138
        ],
        [
         76.54365
        ],
        [
         86.862868
        ],
        [
         99.40468680000001
        ],
        [
         70.420158
        ],
        [
         86.069082
        ],
        [
         57.83298
        ],
        [
         101.83140399999999
        ],
        [
         106.25392599999999
        ],
        [
         103.305578
        ],
        [
         90.491604
        ],
        [
         70.533556
        ],
        [
         97.749076
        ],
        [
         60.894726
        ],
        [
         91.171992
        ],
        [
         84.708306
        ],
        [
         86.522674
        ],
        [
         94.12034
        ]
       ],
       "datasetInfos": [],
       "dbfsResultPath": null,
       "isJsonSchema": true,
       "metadata": {},
       "overflow": false,
       "plotOptions": {
        "customPlotOptions": {},
        "displayType": "table",
        "pivotAggregation": null,
        "pivotColumns": null,
        "xColumns": null,
        "yColumns": null
       },
       "removedWidgets": [],
       "schema": [
        {
         "metadata": "{}",
         "name": "Weight",
         "type": "\"double\""
        }
       ],
       "type": "table"
      }
     },
     "output_type": "display_data"
    },
    {
     "output_type": "display_data",
     "data": {
      "text/plain": [
       "Databricks visualization. Run in Databricks to view."
      ]
     },
     "metadata": {
      "application/vnd.databricks.v1.subcommand+json": {
       "baseErrorDetails": null,
       "bindings": {},
       "collapsed": false,
       "command": "%sql WITH q AS (SELECT Weight FROM BodyFat) ,min_max AS (SELECT `Weight`,(SELECT MAX(`Weight`) FROM q) `target_column_max`,(SELECT MIN(`Weight`) FROM q) `target_column_min` FROM q) ,histogram_meta AS (SELECT `Weight`,`target_column_min` `min_value`,IF(`target_column_max` = `target_column_min`,`target_column_max` + 1,`target_column_max`) `max_value`,(`target_column_max` - `target_column_min`) / 15 `step` FROM min_max) SELECT IF(ISNULL(`Weight`),NULL,LEAST(WIDTH_BUCKET(`Weight`,`min_value`,`max_value`,15),15)) `Weight_BIN`,FIRST(`min_value` + ((IF(ISNULL(`Weight`),NULL,LEAST(WIDTH_BUCKET(`Weight`,`min_value`,`max_value`,15),15)) - 1) * `step`)) `Weight_BIN_LOWER_BOUND`,FIRST(`step`) `Weight_BIN_STEP`,COUNT(`Weight`) `COUNT` FROM histogram_meta GROUP BY `Weight_BIN`",
       "commandTitle": "Visualization 1",
       "commandType": "auto",
       "commandVersion": 0,
       "commentThread": [],
       "commentsVisible": false,
       "contentSha256Hex": null,
       "customPlotOptions": {
        "redashChart": [
         {
          "key": "type",
          "value": "CHART"
         },
         {
          "key": "options",
          "value": {
           "alignYAxesAtZero": true,
           "coefficient": 1,
           "columnConfigurationMap": {
            "x": {
             "column": "Weight",
             "id": "column_a0f52a984"
            }
           },
           "dateTimeFormat": "DD/MM/YYYY HH:mm",
           "direction": {
            "type": "counterclockwise"
           },
           "error_y": {
            "type": "data",
            "visible": true
           },
           "globalSeriesType": "histogram",
           "legend": {
            "traceorder": "normal"
           },
           "missingValuesAsZero": true,
           "numBins": 15,
           "numberFormat": "0,0.[00000]",
           "percentFormat": "0[.]00%",
           "series": {
            "error_y": {
             "type": "data",
             "visible": true
            },
            "stacking": null
           },
           "seriesOptions": {},
           "showDataLabels": false,
           "sizemode": "diameter",
           "sortX": true,
           "sortY": true,
           "swappedAxes": false,
           "textFormat": "",
           "useAggregationsUi": true,
           "valuesOptions": {},
           "version": 2,
           "xAxis": {
            "labels": {
             "enabled": true
            },
            "type": "-"
           },
           "yAxis": [
            {
             "type": "-"
            },
            {
             "opposite": true,
             "type": "-"
            }
           ]
          }
         }
        ]
       },
       "datasetPreviewNameToCmdIdMap": {},
       "diffDeletes": [],
       "diffInserts": [],
       "displayType": "redashChart",
       "error": null,
       "errorDetails": null,
       "errorSummary": null,
       "errorTraceType": null,
       "finishTime": 0,
       "globalVars": {},
       "guid": "",
       "height": "auto",
       "hideCommandCode": false,
       "hideCommandResult": false,
       "iPythonMetadata": null,
       "inputWidgets": {},
       "isLockedInExamMode": false,
       "latestUser": "a user",
       "latestUserId": null,
       "listResultMetadata": null,
       "metadata": {
        "byteLimit": 2048000,
        "implicitDf": true,
        "rowLimit": 10000
       },
       "nuid": "058984b3-1381-4589-ab84-5092c63ce2a6",
       "origId": 0,
       "parentHierarchy": [],
       "pivotAggregation": null,
       "pivotColumns": null,
       "position": 10.75,
       "resultDbfsErrorMessage": null,
       "resultDbfsStatus": "INLINED_IN_TREE",
       "results": null,
       "showCommandTitle": false,
       "startTime": 0,
       "state": "finished",
       "streamStates": {},
       "subcommandOptions": {
        "queryPlan": {
         "groups": [
          {
           "column": "Weight_BIN",
           "type": "column"
          }
         ],
         "selects": [
          {
           "alias": "Weight_BIN",
           "args": [
            {
             "column": "Weight",
             "type": "column"
            },
            {
             "number": 15,
             "type": "number"
            }
           ],
           "function": "BIN",
           "type": "function"
          },
          {
           "alias": "Weight_BIN_LOWER_BOUND",
           "args": [
            {
             "column": "Weight",
             "type": "column"
            },
            {
             "number": 15,
             "type": "number"
            }
           ],
           "function": "BIN_LOWER_BOUND",
           "type": "function"
          },
          {
           "alias": "Weight_BIN_STEP",
           "args": [
            {
             "column": "Weight",
             "type": "column"
            },
            {
             "number": 15,
             "type": "number"
            }
           ],
           "function": "BIN_STEP",
           "type": "function"
          },
          {
           "alias": "COUNT",
           "args": [
            {
             "column": "Weight",
             "type": "column"
            }
           ],
           "function": "COUNT",
           "type": "function"
          }
         ]
        }
       },
       "submitTime": 0,
       "subtype": "tableResultSubCmd.visualization",
       "tableResultIndex": 0,
       "useConsistentColors": false,
       "version": "CommandV1",
       "width": "auto",
       "workflows": [],
       "xColumns": null,
       "yColumns": null
      }
     },
     "output_type": "display_data"
    }
   ],
   "source": [
    "%sql\n",
    "\n",
    "SELECT Weight FROM BodyFat;"
   ]
  },
  {
   "cell_type": "markdown",
   "metadata": {
    "application/vnd.databricks.v1+cell": {
     "cellMetadata": {},
     "inputWidgets": {},
     "nuid": "730139cf-944f-4724-9e8e-d99a16ec11dd",
     "showTitle": false,
     "title": ""
    }
   },
   "source": [
    "#### Histogram of Height"
   ]
  },
  {
   "cell_type": "code",
   "execution_count": 0,
   "metadata": {
    "application/vnd.databricks.v1+cell": {
     "cellMetadata": {
      "byteLimit": 2048000,
      "implicitDf": true,
      "rowLimit": 10000
     },
     "inputWidgets": {},
     "nuid": "6eb82068-e397-4fd6-a277-353490727ce9",
     "showTitle": false,
     "title": ""
    }
   },
   "outputs": [
    {
     "output_type": "display_data",
     "data": {
      "text/html": [
       "<style scoped>\n",
       "  .table-result-container {\n",
       "    max-height: 300px;\n",
       "    overflow: auto;\n",
       "  }\n",
       "  table, th, td {\n",
       "    border: 1px solid black;\n",
       "    border-collapse: collapse;\n",
       "  }\n",
       "  th, td {\n",
       "    padding: 5px;\n",
       "  }\n",
       "  th {\n",
       "    text-align: left;\n",
       "  }\n",
       "</style><div class='table-result-container'><table class='table-result'><thead style='background-color: white'><tr><th>Height</th></tr></thead><tbody><tr><td>1.72085</td></tr><tr><td>1.8351499999999998</td></tr><tr><td>1.68275</td></tr><tr><td>1.8351499999999998</td></tr><tr><td>1.80975</td></tr><tr><td>1.89865</td></tr><tr><td>1.77165</td></tr><tr><td>1.8415</td></tr><tr><td>1.8796</td></tr><tr><td>1.8669</td></tr><tr><td>1.8922999999999999</td></tr><tr><td>1.9304</td></tr><tr><td>1.7652999999999999</td></tr><tr><td>1.80975</td></tr><tr><td>1.7652999999999999</td></tr><tr><td>1.6764</td></tr><tr><td>1.8034</td></tr><tr><td>1.8034</td></tr><tr><td>1.72085</td></tr><tr><td>1.8669</td></tr><tr><td>1.7271999999999998</td></tr><tr><td>1.77165</td></tr><tr><td>1.73355</td></tr><tr><td>1.778</td></tr><tr><td>1.72085</td></tr><tr><td>1.8160999999999998</td></tr><tr><td>1.7145</td></tr><tr><td>1.7145</td></tr><tr><td>1.64465</td></tr><tr><td>1.7526</td></tr><tr><td>1.8732499999999999</td></tr><tr><td>1.80975</td></tr><tr><td>1.80975</td></tr><tr><td>1.8034</td></tr><tr><td>1.8669</td></tr><tr><td>1.651</td></tr><tr><td>1.778</td></tr><tr><td>1.73355</td></tr><tr><td>1.8351499999999998</td></tr><tr><td>1.7018</td></tr><tr><td>1.7462499999999999</td></tr><tr><td>0.7493</td></tr><tr><td>1.778</td></tr><tr><td>1.8160999999999998</td></tr><tr><td>1.7271999999999998</td></tr><tr><td>1.86055</td></tr><tr><td>1.7145</td></tr><tr><td>1.80975</td></tr><tr><td>1.7399</td></tr><tr><td>1.69545</td></tr><tr><td>1.8351499999999998</td></tr><tr><td>1.7526</td></tr><tr><td>1.72085</td></tr><tr><td>1.8669</td></tr><tr><td>1.7145</td></tr><tr><td>1.8288</td></tr><tr><td>1.7271999999999998</td></tr><tr><td>1.7652999999999999</td></tr><tr><td>1.79705</td></tr><tr><td>1.67005</td></tr><tr><td>1.86055</td></tr><tr><td>1.7399</td></tr><tr><td>1.7843499999999999</td></tr><tr><td>1.7018</td></tr><tr><td>1.778</td></tr><tr><td>1.7145</td></tr><tr><td>1.79705</td></tr><tr><td>1.8160999999999998</td></tr><tr><td>1.75895</td></tr><tr><td>1.8160999999999998</td></tr><tr><td>1.8160999999999998</td></tr><tr><td>1.7462499999999999</td></tr><tr><td>1.8732499999999999</td></tr><tr><td>1.6256</td></tr><tr><td>1.67005</td></tr><tr><td>1.7145</td></tr><tr><td>1.7652999999999999</td></tr><tr><td>1.7399</td></tr><tr><td>1.7843499999999999</td></tr><tr><td>1.75895</td></tr><tr><td>1.72085</td></tr><tr><td>1.7081499999999998</td></tr><tr><td>1.84785</td></tr><tr><td>1.778</td></tr><tr><td>1.75895</td></tr><tr><td>1.7145</td></tr><tr><td>1.7081499999999998</td></tr><tr><td>1.67005</td></tr><tr><td>1.8415</td></tr><tr><td>1.8541999999999998</td></tr><tr><td>1.778</td></tr><tr><td>1.7652999999999999</td></tr><tr><td>1.7907</td></tr><tr><td>1.82245</td></tr><tr><td>1.8922999999999999</td></tr><tr><td>1.97485</td></tr><tr><td>1.86055</td></tr><tr><td>1.6890999999999998</td></tr><tr><td>1.73355</td></tr><tr><td>1.8288</td></tr><tr><td>1.8669</td></tr><tr><td>1.8288</td></tr><tr><td>1.80975</td></tr><tr><td>1.8732499999999999</td></tr><tr><td>1.75895</td></tr><tr><td>1.7399</td></tr><tr><td>1.8669</td></tr><tr><td>1.88595</td></tr><tr><td>1.9177</td></tr><tr><td>1.75895</td></tr><tr><td>1.7399</td></tr><tr><td>1.778</td></tr><tr><td>1.778</td></tr><tr><td>1.7843499999999999</td></tr><tr><td>1.82245</td></tr><tr><td>1.75895</td></tr><tr><td>1.84785</td></tr><tr><td>1.8288</td></tr><tr><td>1.8796</td></tr><tr><td>1.8351499999999998</td></tr><tr><td>1.8922999999999999</td></tr><tr><td>1.8160999999999998</td></tr><tr><td>1.7462499999999999</td></tr><tr><td>1.69545</td></tr><tr><td>1.6890999999999998</td></tr><tr><td>1.7018</td></tr><tr><td>1.7462499999999999</td></tr><tr><td>1.72085</td></tr><tr><td>1.86055</td></tr><tr><td>1.77165</td></tr><tr><td>1.8160999999999998</td></tr><tr><td>1.7907</td></tr><tr><td>1.86055</td></tr><tr><td>1.69545</td></tr><tr><td>1.7652999999999999</td></tr><tr><td>1.77165</td></tr><tr><td>1.79705</td></tr><tr><td>1.8796</td></tr><tr><td>1.80975</td></tr><tr><td>1.905</td></tr><tr><td>1.8034</td></tr><tr><td>1.7652999999999999</td></tr><tr><td>1.72085</td></tr><tr><td>1.8351499999999998</td></tr><tr><td>1.9685</td></tr><tr><td>1.79705</td></tr><tr><td>1.84785</td></tr><tr><td>1.77165</td></tr><tr><td>1.8415</td></tr><tr><td>1.7843499999999999</td></tr><tr><td>1.7526</td></tr><tr><td>1.8922999999999999</td></tr><tr><td>1.8351499999999998</td></tr><tr><td>1.7081499999999998</td></tr><tr><td>1.8669</td></tr><tr><td>1.9113499999999999</td></tr><tr><td>1.7526</td></tr><tr><td>1.8351499999999998</td></tr><tr><td>1.7462499999999999</td></tr><tr><td>1.8160999999999998</td></tr><tr><td>1.8351499999999998</td></tr><tr><td>1.8541999999999998</td></tr><tr><td>1.7462499999999999</td></tr><tr><td>1.7907</td></tr><tr><td>1.8288</td></tr><tr><td>1.8732499999999999</td></tr><tr><td>1.7271999999999998</td></tr><tr><td>1.8351499999999998</td></tr><tr><td>1.7652999999999999</td></tr><tr><td>1.7652999999999999</td></tr><tr><td>1.72085</td></tr><tr><td>1.6637</td></tr><tr><td>1.8034</td></tr><tr><td>1.8160999999999998</td></tr><tr><td>1.82245</td></tr><tr><td>1.75895</td></tr><tr><td>1.7018</td></tr><tr><td>1.8160999999999998</td></tr><tr><td>1.75895</td></tr><tr><td>1.8922999999999999</td></tr><tr><td>1.88595</td></tr><tr><td>1.7271999999999998</td></tr><tr><td>1.7081499999999998</td></tr><tr><td>1.77165</td></tr><tr><td>1.88595</td></tr><tr><td>1.8160999999999998</td></tr><tr><td>1.88595</td></tr><tr><td>1.8288</td></tr><tr><td>1.8415</td></tr><tr><td>1.73355</td></tr><tr><td>1.75895</td></tr><tr><td>1.9304</td></tr><tr><td>1.7907</td></tr><tr><td>1.89865</td></tr><tr><td>1.84785</td></tr><tr><td>1.73355</td></tr><tr><td>1.7526</td></tr><tr><td>1.8160999999999998</td></tr><tr><td>1.84785</td></tr><tr><td>1.7145</td></tr><tr><td>1.7843499999999999</td></tr><tr><td>1.75895</td></tr><tr><td>1.8160999999999998</td></tr><tr><td>1.8796</td></tr><tr><td>1.77165</td></tr><tr><td>1.8541999999999998</td></tr><tr><td>1.6637</td></tr><tr><td>1.8415</td></tr><tr><td>1.7843499999999999</td></tr><tr><td>1.79705</td></tr><tr><td>1.7271999999999998</td></tr><tr><td>1.8922999999999999</td></tr><tr><td>1.82245</td></tr><tr><td>1.79705</td></tr><tr><td>1.8541999999999998</td></tr><tr><td>1.6256</td></tr><tr><td>1.77165</td></tr><tr><td>1.778</td></tr><tr><td>1.82245</td></tr><tr><td>1.75895</td></tr><tr><td>1.7907</td></tr><tr><td>1.8351499999999998</td></tr><tr><td>1.7145</td></tr><tr><td>1.7081499999999998</td></tr><tr><td>1.7462499999999999</td></tr><tr><td>1.69545</td></tr><tr><td>1.73355</td></tr><tr><td>1.88595</td></tr><tr><td>1.7652999999999999</td></tr><tr><td>1.7399</td></tr><tr><td>1.67005</td></tr><tr><td>1.82245</td></tr><tr><td>1.8160999999999998</td></tr><tr><td>1.7081499999999998</td></tr><tr><td>1.7145</td></tr><tr><td>1.7145</td></tr><tr><td>1.8351499999999998</td></tr><tr><td>1.7652999999999999</td></tr><tr><td>1.7652999999999999</td></tr><tr><td>1.67005</td></tr><tr><td>1.67005</td></tr><tr><td>1.73355</td></tr><tr><td>1.8288</td></tr><tr><td>1.84785</td></tr><tr><td>1.7399</td></tr><tr><td>1.75895</td></tr><tr><td>1.7907</td></tr><tr><td>1.7018</td></tr><tr><td>1.77165</td></tr><tr><td>1.6764</td></tr><tr><td>1.7907</td></tr><tr><td>1.778</td></tr></tbody></table></div>"
      ]
     },
     "metadata": {
      "application/vnd.databricks.v1+output": {
       "addedWidgets": {},
       "aggData": [],
       "aggError": "",
       "aggOverflow": false,
       "aggSchema": [],
       "aggSeriesLimitReached": false,
       "aggType": "",
       "arguments": {},
       "columnCustomDisplayInfos": {},
       "data": [
        [
         1.72085
        ],
        [
         1.8351499999999998
        ],
        [
         1.68275
        ],
        [
         1.8351499999999998
        ],
        [
         1.80975
        ],
        [
         1.89865
        ],
        [
         1.77165
        ],
        [
         1.8415
        ],
        [
         1.8796
        ],
        [
         1.8669
        ],
        [
         1.8922999999999999
        ],
        [
         1.9304
        ],
        [
         1.7652999999999999
        ],
        [
         1.80975
        ],
        [
         1.7652999999999999
        ],
        [
         1.6764
        ],
        [
         1.8034
        ],
        [
         1.8034
        ],
        [
         1.72085
        ],
        [
         1.8669
        ],
        [
         1.7271999999999998
        ],
        [
         1.77165
        ],
        [
         1.73355
        ],
        [
         1.778
        ],
        [
         1.72085
        ],
        [
         1.8160999999999998
        ],
        [
         1.7145
        ],
        [
         1.7145
        ],
        [
         1.64465
        ],
        [
         1.7526
        ],
        [
         1.8732499999999999
        ],
        [
         1.80975
        ],
        [
         1.80975
        ],
        [
         1.8034
        ],
        [
         1.8669
        ],
        [
         1.651
        ],
        [
         1.778
        ],
        [
         1.73355
        ],
        [
         1.8351499999999998
        ],
        [
         1.7018
        ],
        [
         1.7462499999999999
        ],
        [
         0.7493
        ],
        [
         1.778
        ],
        [
         1.8160999999999998
        ],
        [
         1.7271999999999998
        ],
        [
         1.86055
        ],
        [
         1.7145
        ],
        [
         1.80975
        ],
        [
         1.7399
        ],
        [
         1.69545
        ],
        [
         1.8351499999999998
        ],
        [
         1.7526
        ],
        [
         1.72085
        ],
        [
         1.8669
        ],
        [
         1.7145
        ],
        [
         1.8288
        ],
        [
         1.7271999999999998
        ],
        [
         1.7652999999999999
        ],
        [
         1.79705
        ],
        [
         1.67005
        ],
        [
         1.86055
        ],
        [
         1.7399
        ],
        [
         1.7843499999999999
        ],
        [
         1.7018
        ],
        [
         1.778
        ],
        [
         1.7145
        ],
        [
         1.79705
        ],
        [
         1.8160999999999998
        ],
        [
         1.75895
        ],
        [
         1.8160999999999998
        ],
        [
         1.8160999999999998
        ],
        [
         1.7462499999999999
        ],
        [
         1.8732499999999999
        ],
        [
         1.6256
        ],
        [
         1.67005
        ],
        [
         1.7145
        ],
        [
         1.7652999999999999
        ],
        [
         1.7399
        ],
        [
         1.7843499999999999
        ],
        [
         1.75895
        ],
        [
         1.72085
        ],
        [
         1.7081499999999998
        ],
        [
         1.84785
        ],
        [
         1.778
        ],
        [
         1.75895
        ],
        [
         1.7145
        ],
        [
         1.7081499999999998
        ],
        [
         1.67005
        ],
        [
         1.8415
        ],
        [
         1.8541999999999998
        ],
        [
         1.778
        ],
        [
         1.7652999999999999
        ],
        [
         1.7907
        ],
        [
         1.82245
        ],
        [
         1.8922999999999999
        ],
        [
         1.97485
        ],
        [
         1.86055
        ],
        [
         1.6890999999999998
        ],
        [
         1.73355
        ],
        [
         1.8288
        ],
        [
         1.8669
        ],
        [
         1.8288
        ],
        [
         1.80975
        ],
        [
         1.8732499999999999
        ],
        [
         1.75895
        ],
        [
         1.7399
        ],
        [
         1.8669
        ],
        [
         1.88595
        ],
        [
         1.9177
        ],
        [
         1.75895
        ],
        [
         1.7399
        ],
        [
         1.778
        ],
        [
         1.778
        ],
        [
         1.7843499999999999
        ],
        [
         1.82245
        ],
        [
         1.75895
        ],
        [
         1.84785
        ],
        [
         1.8288
        ],
        [
         1.8796
        ],
        [
         1.8351499999999998
        ],
        [
         1.8922999999999999
        ],
        [
         1.8160999999999998
        ],
        [
         1.7462499999999999
        ],
        [
         1.69545
        ],
        [
         1.6890999999999998
        ],
        [
         1.7018
        ],
        [
         1.7462499999999999
        ],
        [
         1.72085
        ],
        [
         1.86055
        ],
        [
         1.77165
        ],
        [
         1.8160999999999998
        ],
        [
         1.7907
        ],
        [
         1.86055
        ],
        [
         1.69545
        ],
        [
         1.7652999999999999
        ],
        [
         1.77165
        ],
        [
         1.79705
        ],
        [
         1.8796
        ],
        [
         1.80975
        ],
        [
         1.905
        ],
        [
         1.8034
        ],
        [
         1.7652999999999999
        ],
        [
         1.72085
        ],
        [
         1.8351499999999998
        ],
        [
         1.9685
        ],
        [
         1.79705
        ],
        [
         1.84785
        ],
        [
         1.77165
        ],
        [
         1.8415
        ],
        [
         1.7843499999999999
        ],
        [
         1.7526
        ],
        [
         1.8922999999999999
        ],
        [
         1.8351499999999998
        ],
        [
         1.7081499999999998
        ],
        [
         1.8669
        ],
        [
         1.9113499999999999
        ],
        [
         1.7526
        ],
        [
         1.8351499999999998
        ],
        [
         1.7462499999999999
        ],
        [
         1.8160999999999998
        ],
        [
         1.8351499999999998
        ],
        [
         1.8541999999999998
        ],
        [
         1.7462499999999999
        ],
        [
         1.7907
        ],
        [
         1.8288
        ],
        [
         1.8732499999999999
        ],
        [
         1.7271999999999998
        ],
        [
         1.8351499999999998
        ],
        [
         1.7652999999999999
        ],
        [
         1.7652999999999999
        ],
        [
         1.72085
        ],
        [
         1.6637
        ],
        [
         1.8034
        ],
        [
         1.8160999999999998
        ],
        [
         1.82245
        ],
        [
         1.75895
        ],
        [
         1.7018
        ],
        [
         1.8160999999999998
        ],
        [
         1.75895
        ],
        [
         1.8922999999999999
        ],
        [
         1.88595
        ],
        [
         1.7271999999999998
        ],
        [
         1.7081499999999998
        ],
        [
         1.77165
        ],
        [
         1.88595
        ],
        [
         1.8160999999999998
        ],
        [
         1.88595
        ],
        [
         1.8288
        ],
        [
         1.8415
        ],
        [
         1.73355
        ],
        [
         1.75895
        ],
        [
         1.9304
        ],
        [
         1.7907
        ],
        [
         1.89865
        ],
        [
         1.84785
        ],
        [
         1.73355
        ],
        [
         1.7526
        ],
        [
         1.8160999999999998
        ],
        [
         1.84785
        ],
        [
         1.7145
        ],
        [
         1.7843499999999999
        ],
        [
         1.75895
        ],
        [
         1.8160999999999998
        ],
        [
         1.8796
        ],
        [
         1.77165
        ],
        [
         1.8541999999999998
        ],
        [
         1.6637
        ],
        [
         1.8415
        ],
        [
         1.7843499999999999
        ],
        [
         1.79705
        ],
        [
         1.7271999999999998
        ],
        [
         1.8922999999999999
        ],
        [
         1.82245
        ],
        [
         1.79705
        ],
        [
         1.8541999999999998
        ],
        [
         1.6256
        ],
        [
         1.77165
        ],
        [
         1.778
        ],
        [
         1.82245
        ],
        [
         1.75895
        ],
        [
         1.7907
        ],
        [
         1.8351499999999998
        ],
        [
         1.7145
        ],
        [
         1.7081499999999998
        ],
        [
         1.7462499999999999
        ],
        [
         1.69545
        ],
        [
         1.73355
        ],
        [
         1.88595
        ],
        [
         1.7652999999999999
        ],
        [
         1.7399
        ],
        [
         1.67005
        ],
        [
         1.82245
        ],
        [
         1.8160999999999998
        ],
        [
         1.7081499999999998
        ],
        [
         1.7145
        ],
        [
         1.7145
        ],
        [
         1.8351499999999998
        ],
        [
         1.7652999999999999
        ],
        [
         1.7652999999999999
        ],
        [
         1.67005
        ],
        [
         1.67005
        ],
        [
         1.73355
        ],
        [
         1.8288
        ],
        [
         1.84785
        ],
        [
         1.7399
        ],
        [
         1.75895
        ],
        [
         1.7907
        ],
        [
         1.7018
        ],
        [
         1.77165
        ],
        [
         1.6764
        ],
        [
         1.7907
        ],
        [
         1.778
        ]
       ],
       "datasetInfos": [],
       "dbfsResultPath": null,
       "isJsonSchema": true,
       "metadata": {},
       "overflow": false,
       "plotOptions": {
        "customPlotOptions": {},
        "displayType": "table",
        "pivotAggregation": null,
        "pivotColumns": null,
        "xColumns": null,
        "yColumns": null
       },
       "removedWidgets": [],
       "schema": [
        {
         "metadata": "{}",
         "name": "Height",
         "type": "\"double\""
        }
       ],
       "type": "table"
      }
     },
     "output_type": "display_data"
    },
    {
     "output_type": "display_data",
     "data": {
      "text/plain": [
       "Databricks visualization. Run in Databricks to view."
      ]
     },
     "metadata": {
      "application/vnd.databricks.v1.subcommand+json": {
       "baseErrorDetails": null,
       "bindings": {},
       "collapsed": false,
       "command": "%sql WITH q AS (SELECT Height FROM BodyFat) ,min_max AS (SELECT `Height`,(SELECT MAX(`Height`) FROM q) `target_column_max`,(SELECT MIN(`Height`) FROM q) `target_column_min` FROM q) ,histogram_meta AS (SELECT `Height`,`target_column_min` `min_value`,IF(`target_column_max` = `target_column_min`,`target_column_max` + 1,`target_column_max`) `max_value`,(`target_column_max` - `target_column_min`) / 15 `step` FROM min_max) SELECT IF(ISNULL(`Height`),NULL,LEAST(WIDTH_BUCKET(`Height`,`min_value`,`max_value`,15),15)) `Height_BIN`,FIRST(`min_value` + ((IF(ISNULL(`Height`),NULL,LEAST(WIDTH_BUCKET(`Height`,`min_value`,`max_value`,15),15)) - 1) * `step`)) `Height_BIN_LOWER_BOUND`,FIRST(`step`) `Height_BIN_STEP`,COUNT(`Height`) `COUNT` FROM histogram_meta GROUP BY `Height_BIN`",
       "commandTitle": "Visualization 1",
       "commandType": "auto",
       "commandVersion": 0,
       "commentThread": [],
       "commentsVisible": false,
       "contentSha256Hex": null,
       "customPlotOptions": {
        "redashChart": [
         {
          "key": "type",
          "value": "CHART"
         },
         {
          "key": "options",
          "value": {
           "alignYAxesAtZero": true,
           "coefficient": 1,
           "columnConfigurationMap": {
            "x": {
             "column": "Height",
             "id": "column_a0f52a985"
            }
           },
           "dateTimeFormat": "DD/MM/YYYY HH:mm",
           "direction": {
            "type": "counterclockwise"
           },
           "error_y": {
            "type": "data",
            "visible": true
           },
           "globalSeriesType": "histogram",
           "legend": {
            "traceorder": "normal"
           },
           "missingValuesAsZero": true,
           "numBins": 15,
           "numberFormat": "0,0.[00000]",
           "percentFormat": "0[.]00%",
           "series": {
            "error_y": {
             "type": "data",
             "visible": true
            },
            "stacking": null
           },
           "seriesOptions": {},
           "showDataLabels": false,
           "sizemode": "diameter",
           "sortX": true,
           "sortY": true,
           "swappedAxes": false,
           "textFormat": "",
           "useAggregationsUi": true,
           "valuesOptions": {},
           "version": 2,
           "xAxis": {
            "labels": {
             "enabled": true
            },
            "type": "-"
           },
           "yAxis": [
            {
             "type": "-"
            },
            {
             "opposite": true,
             "type": "-"
            }
           ]
          }
         }
        ]
       },
       "datasetPreviewNameToCmdIdMap": {},
       "diffDeletes": [],
       "diffInserts": [],
       "displayType": "redashChart",
       "error": null,
       "errorDetails": null,
       "errorSummary": null,
       "errorTraceType": null,
       "finishTime": 0,
       "globalVars": {},
       "guid": "",
       "height": "auto",
       "hideCommandCode": false,
       "hideCommandResult": false,
       "iPythonMetadata": null,
       "inputWidgets": {},
       "isLockedInExamMode": false,
       "latestUser": "a user",
       "latestUserId": null,
       "listResultMetadata": null,
       "metadata": {
        "byteLimit": 2048000,
        "implicitDf": true,
        "rowLimit": 10000
       },
       "nuid": "7def26c9-439d-4db5-af0e-863f303db7b8",
       "origId": 0,
       "parentHierarchy": [],
       "pivotAggregation": null,
       "pivotColumns": null,
       "position": 11.75,
       "resultDbfsErrorMessage": null,
       "resultDbfsStatus": "INLINED_IN_TREE",
       "results": null,
       "showCommandTitle": false,
       "startTime": 0,
       "state": "finished",
       "streamStates": {},
       "subcommandOptions": {
        "queryPlan": {
         "groups": [
          {
           "column": "Height_BIN",
           "type": "column"
          }
         ],
         "selects": [
          {
           "alias": "Height_BIN",
           "args": [
            {
             "column": "Height",
             "type": "column"
            },
            {
             "number": 15,
             "type": "number"
            }
           ],
           "function": "BIN",
           "type": "function"
          },
          {
           "alias": "Height_BIN_LOWER_BOUND",
           "args": [
            {
             "column": "Height",
             "type": "column"
            },
            {
             "number": 15,
             "type": "number"
            }
           ],
           "function": "BIN_LOWER_BOUND",
           "type": "function"
          },
          {
           "alias": "Height_BIN_STEP",
           "args": [
            {
             "column": "Height",
             "type": "column"
            },
            {
             "number": 15,
             "type": "number"
            }
           ],
           "function": "BIN_STEP",
           "type": "function"
          },
          {
           "alias": "COUNT",
           "args": [
            {
             "column": "Height",
             "type": "column"
            }
           ],
           "function": "COUNT",
           "type": "function"
          }
         ]
        }
       },
       "submitTime": 0,
       "subtype": "tableResultSubCmd.visualization",
       "tableResultIndex": 0,
       "useConsistentColors": false,
       "version": "CommandV1",
       "width": "auto",
       "workflows": [],
       "xColumns": null,
       "yColumns": null
      }
     },
     "output_type": "display_data"
    }
   ],
   "source": [
    "%sql\n",
    "\n",
    "SELECT Height FROM BodyFat;"
   ]
  },
  {
   "cell_type": "markdown",
   "metadata": {
    "application/vnd.databricks.v1+cell": {
     "cellMetadata": {},
     "inputWidgets": {},
     "nuid": "2060f72a-db8d-4ee7-8d22-f28dd98175d7",
     "showTitle": false,
     "title": ""
    }
   },
   "source": [
    "#### Histogram of Neck Circumference"
   ]
  },
  {
   "cell_type": "code",
   "execution_count": 0,
   "metadata": {
    "application/vnd.databricks.v1+cell": {
     "cellMetadata": {
      "byteLimit": 2048000,
      "implicitDf": true,
      "rowLimit": 10000
     },
     "inputWidgets": {},
     "nuid": "f2ad95e3-ff7f-43fd-bab2-f065373dde02",
     "showTitle": false,
     "title": ""
    }
   },
   "outputs": [
    {
     "output_type": "display_data",
     "data": {
      "text/html": [
       "<style scoped>\n",
       "  .table-result-container {\n",
       "    max-height: 300px;\n",
       "    overflow: auto;\n",
       "  }\n",
       "  table, th, td {\n",
       "    border: 1px solid black;\n",
       "    border-collapse: collapse;\n",
       "  }\n",
       "  th, td {\n",
       "    padding: 5px;\n",
       "  }\n",
       "  th {\n",
       "    text-align: left;\n",
       "  }\n",
       "</style><div class='table-result-container'><table class='table-result'><thead style='background-color: white'><tr><th>Neck</th></tr></thead><tbody><tr><td>36.2</td></tr><tr><td>38.5</td></tr><tr><td>34.0</td></tr><tr><td>37.4</td></tr><tr><td>34.4</td></tr><tr><td>39.0</td></tr><tr><td>36.4</td></tr><tr><td>37.8</td></tr><tr><td>38.1</td></tr><tr><td>42.1</td></tr><tr><td>38.5</td></tr><tr><td>39.4</td></tr><tr><td>38.4</td></tr><tr><td>39.4</td></tr><tr><td>40.5</td></tr><tr><td>36.4</td></tr><tr><td>38.9</td></tr><tr><td>42.1</td></tr><tr><td>38.0</td></tr><tr><td>40.0</td></tr><tr><td>39.1</td></tr><tr><td>41.3</td></tr><tr><td>33.9</td></tr><tr><td>35.5</td></tr><tr><td>34.5</td></tr><tr><td>35.7</td></tr><tr><td>36.2</td></tr><tr><td>38.8</td></tr><tr><td>36.4</td></tr><tr><td>36.7</td></tr><tr><td>38.7</td></tr><tr><td>37.3</td></tr><tr><td>38.1</td></tr><tr><td>39.8</td></tr><tr><td>42.1</td></tr><tr><td>38.4</td></tr><tr><td>38.5</td></tr><tr><td>42.1</td></tr><tr><td>51.2</td></tr><tr><td>40.2</td></tr><tr><td>43.2</td></tr><tr><td>36.6</td></tr><tr><td>37.3</td></tr><tr><td>41.5</td></tr><tr><td>31.5</td></tr><tr><td>35.7</td></tr><tr><td>33.6</td></tr><tr><td>34.6</td></tr><tr><td>32.8</td></tr><tr><td>34.0</td></tr><tr><td>34.9</td></tr><tr><td>34.3</td></tr><tr><td>36.5</td></tr><tr><td>35.1</td></tr><tr><td>37.8</td></tr><tr><td>39.9</td></tr><tr><td>39.1</td></tr><tr><td>40.5</td></tr><tr><td>40.5</td></tr><tr><td>38.4</td></tr><tr><td>41.4</td></tr><tr><td>35.6</td></tr><tr><td>38.0</td></tr><tr><td>37.4</td></tr><tr><td>40.1</td></tr><tr><td>40.9</td></tr><tr><td>35.6</td></tr><tr><td>36.9</td></tr><tr><td>37.5</td></tr><tr><td>36.3</td></tr><tr><td>35.5</td></tr><tr><td>38.7</td></tr><tr><td>36.4</td></tr><tr><td>33.2</td></tr><tr><td>36.5</td></tr><tr><td>36.0</td></tr><tr><td>38.7</td></tr><tr><td>38.7</td></tr><tr><td>37.8</td></tr><tr><td>37.4</td></tr><tr><td>38.4</td></tr><tr><td>38.1</td></tr><tr><td>39.3</td></tr><tr><td>38.7</td></tr><tr><td>38.5</td></tr><tr><td>36.5</td></tr><tr><td>37.7</td></tr><tr><td>36.5</td></tr><tr><td>38.0</td></tr><tr><td>36.7</td></tr><tr><td>37.2</td></tr><tr><td>39.2</td></tr><tr><td>37.5</td></tr><tr><td>38.0</td></tr><tr><td>37.3</td></tr><tr><td>41.1</td></tr><tr><td>37.5</td></tr><tr><td>38.7</td></tr><tr><td>35.9</td></tr><tr><td>40.0</td></tr><tr><td>40.1</td></tr><tr><td>37.0</td></tr><tr><td>36.3</td></tr><tr><td>40.7</td></tr><tr><td>39.6</td></tr><tr><td>31.1</td></tr><tr><td>38.6</td></tr><tr><td>42.0</td></tr><tr><td>38.5</td></tr><tr><td>34.2</td></tr><tr><td>37.2</td></tr><tr><td>37.1</td></tr><tr><td>40.2</td></tr><tr><td>35.3</td></tr><tr><td>38.0</td></tr><tr><td>36.3</td></tr><tr><td>36.8</td></tr><tr><td>41.0</td></tr><tr><td>38.3</td></tr><tr><td>38.0</td></tr><tr><td>40.8</td></tr><tr><td>39.5</td></tr><tr><td>36.9</td></tr><tr><td>36.9</td></tr><tr><td>37.7</td></tr><tr><td>36.6</td></tr><tr><td>38.9</td></tr><tr><td>37.5</td></tr><tr><td>39.8</td></tr><tr><td>38.3</td></tr><tr><td>35.5</td></tr><tr><td>36.3</td></tr><tr><td>37.8</td></tr><tr><td>37.8</td></tr><tr><td>36.5</td></tr><tr><td>37.8</td></tr><tr><td>37.0</td></tr><tr><td>37.7</td></tr><tr><td>34.3</td></tr><tr><td>40.8</td></tr><tr><td>37.4</td></tr><tr><td>36.5</td></tr><tr><td>37.5</td></tr><tr><td>35.5</td></tr><tr><td>38.0</td></tr><tr><td>35.7</td></tr><tr><td>39.2</td></tr><tr><td>40.9</td></tr><tr><td>35.2</td></tr><tr><td>40.6</td></tr><tr><td>35.4</td></tr><tr><td>41.8</td></tr><tr><td>34.1</td></tr><tr><td>37.9</td></tr><tr><td>38.2</td></tr><tr><td>35.6</td></tr><tr><td>38.5</td></tr><tr><td>37.0</td></tr><tr><td>35.9</td></tr><tr><td>36.2</td></tr><tr><td>35.0</td></tr><tr><td>38.5</td></tr><tr><td>40.7</td></tr><tr><td>36.0</td></tr><tr><td>39.5</td></tr><tr><td>40.5</td></tr><tr><td>38.5</td></tr><tr><td>43.9</td></tr><tr><td>40.4</td></tr><tr><td>37.6</td></tr><tr><td>37.0</td></tr><tr><td>34.0</td></tr><tr><td>38.4</td></tr><tr><td>38.7</td></tr><tr><td>41.5</td></tr><tr><td>36.0</td></tr><tr><td>35.3</td></tr><tr><td>42.1</td></tr><tr><td>38.0</td></tr><tr><td>42.8</td></tr><tr><td>40.0</td></tr><tr><td>33.8</td></tr><tr><td>35.5</td></tr><tr><td>35.3</td></tr><tr><td>37.7</td></tr><tr><td>39.4</td></tr><tr><td>41.9</td></tr><tr><td>38.5</td></tr><tr><td>40.8</td></tr><tr><td>38.0</td></tr><tr><td>36.4</td></tr><tr><td>41.8</td></tr><tr><td>40.7</td></tr><tr><td>38.5</td></tr><tr><td>35.4</td></tr><tr><td>38.5</td></tr><tr><td>35.5</td></tr><tr><td>36.5</td></tr><tr><td>37.6</td></tr><tr><td>37.4</td></tr><tr><td>37.8</td></tr><tr><td>35.2</td></tr><tr><td>37.9</td></tr><tr><td>37.9</td></tr><tr><td>40.9</td></tr><tr><td>41.9</td></tr><tr><td>39.1</td></tr><tr><td>40.2</td></tr><tr><td>36.0</td></tr><tr><td>34.5</td></tr><tr><td>35.8</td></tr><tr><td>40.2</td></tr><tr><td>38.3</td></tr><tr><td>39.0</td></tr><tr><td>37.4</td></tr><tr><td>41.2</td></tr><tr><td>34.8</td></tr><tr><td>36.9</td></tr><tr><td>39.4</td></tr><tr><td>37.6</td></tr><tr><td>38.5</td></tr><tr><td>42.5</td></tr><tr><td>37.4</td></tr><tr><td>35.2</td></tr><tr><td>41.1</td></tr><tr><td>33.4</td></tr><tr><td>37.2</td></tr><tr><td>38.3</td></tr><tr><td>38.1</td></tr><tr><td>37.4</td></tr><tr><td>35.2</td></tr><tr><td>39.4</td></tr><tr><td>38.0</td></tr><tr><td>35.1</td></tr><tr><td>40.4</td></tr><tr><td>38.3</td></tr><tr><td>40.6</td></tr><tr><td>40.2</td></tr><tr><td>37.9</td></tr><tr><td>40.8</td></tr><tr><td>34.7</td></tr><tr><td>38.8</td></tr><tr><td>41.4</td></tr><tr><td>41.3</td></tr><tr><td>40.7</td></tr><tr><td>36.3</td></tr><tr><td>40.8</td></tr><tr><td>34.9</td></tr><tr><td>40.9</td></tr><tr><td>38.9</td></tr><tr><td>38.9</td></tr><tr><td>40.8</td></tr></tbody></table></div>"
      ]
     },
     "metadata": {
      "application/vnd.databricks.v1+output": {
       "addedWidgets": {},
       "aggData": [],
       "aggError": "",
       "aggOverflow": false,
       "aggSchema": [],
       "aggSeriesLimitReached": false,
       "aggType": "",
       "arguments": {},
       "columnCustomDisplayInfos": {},
       "data": [
        [
         36.2
        ],
        [
         38.5
        ],
        [
         34.0
        ],
        [
         37.4
        ],
        [
         34.4
        ],
        [
         39.0
        ],
        [
         36.4
        ],
        [
         37.8
        ],
        [
         38.1
        ],
        [
         42.1
        ],
        [
         38.5
        ],
        [
         39.4
        ],
        [
         38.4
        ],
        [
         39.4
        ],
        [
         40.5
        ],
        [
         36.4
        ],
        [
         38.9
        ],
        [
         42.1
        ],
        [
         38.0
        ],
        [
         40.0
        ],
        [
         39.1
        ],
        [
         41.3
        ],
        [
         33.9
        ],
        [
         35.5
        ],
        [
         34.5
        ],
        [
         35.7
        ],
        [
         36.2
        ],
        [
         38.8
        ],
        [
         36.4
        ],
        [
         36.7
        ],
        [
         38.7
        ],
        [
         37.3
        ],
        [
         38.1
        ],
        [
         39.8
        ],
        [
         42.1
        ],
        [
         38.4
        ],
        [
         38.5
        ],
        [
         42.1
        ],
        [
         51.2
        ],
        [
         40.2
        ],
        [
         43.2
        ],
        [
         36.6
        ],
        [
         37.3
        ],
        [
         41.5
        ],
        [
         31.5
        ],
        [
         35.7
        ],
        [
         33.6
        ],
        [
         34.6
        ],
        [
         32.8
        ],
        [
         34.0
        ],
        [
         34.9
        ],
        [
         34.3
        ],
        [
         36.5
        ],
        [
         35.1
        ],
        [
         37.8
        ],
        [
         39.9
        ],
        [
         39.1
        ],
        [
         40.5
        ],
        [
         40.5
        ],
        [
         38.4
        ],
        [
         41.4
        ],
        [
         35.6
        ],
        [
         38.0
        ],
        [
         37.4
        ],
        [
         40.1
        ],
        [
         40.9
        ],
        [
         35.6
        ],
        [
         36.9
        ],
        [
         37.5
        ],
        [
         36.3
        ],
        [
         35.5
        ],
        [
         38.7
        ],
        [
         36.4
        ],
        [
         33.2
        ],
        [
         36.5
        ],
        [
         36.0
        ],
        [
         38.7
        ],
        [
         38.7
        ],
        [
         37.8
        ],
        [
         37.4
        ],
        [
         38.4
        ],
        [
         38.1
        ],
        [
         39.3
        ],
        [
         38.7
        ],
        [
         38.5
        ],
        [
         36.5
        ],
        [
         37.7
        ],
        [
         36.5
        ],
        [
         38.0
        ],
        [
         36.7
        ],
        [
         37.2
        ],
        [
         39.2
        ],
        [
         37.5
        ],
        [
         38.0
        ],
        [
         37.3
        ],
        [
         41.1
        ],
        [
         37.5
        ],
        [
         38.7
        ],
        [
         35.9
        ],
        [
         40.0
        ],
        [
         40.1
        ],
        [
         37.0
        ],
        [
         36.3
        ],
        [
         40.7
        ],
        [
         39.6
        ],
        [
         31.1
        ],
        [
         38.6
        ],
        [
         42.0
        ],
        [
         38.5
        ],
        [
         34.2
        ],
        [
         37.2
        ],
        [
         37.1
        ],
        [
         40.2
        ],
        [
         35.3
        ],
        [
         38.0
        ],
        [
         36.3
        ],
        [
         36.8
        ],
        [
         41.0
        ],
        [
         38.3
        ],
        [
         38.0
        ],
        [
         40.8
        ],
        [
         39.5
        ],
        [
         36.9
        ],
        [
         36.9
        ],
        [
         37.7
        ],
        [
         36.6
        ],
        [
         38.9
        ],
        [
         37.5
        ],
        [
         39.8
        ],
        [
         38.3
        ],
        [
         35.5
        ],
        [
         36.3
        ],
        [
         37.8
        ],
        [
         37.8
        ],
        [
         36.5
        ],
        [
         37.8
        ],
        [
         37.0
        ],
        [
         37.7
        ],
        [
         34.3
        ],
        [
         40.8
        ],
        [
         37.4
        ],
        [
         36.5
        ],
        [
         37.5
        ],
        [
         35.5
        ],
        [
         38.0
        ],
        [
         35.7
        ],
        [
         39.2
        ],
        [
         40.9
        ],
        [
         35.2
        ],
        [
         40.6
        ],
        [
         35.4
        ],
        [
         41.8
        ],
        [
         34.1
        ],
        [
         37.9
        ],
        [
         38.2
        ],
        [
         35.6
        ],
        [
         38.5
        ],
        [
         37.0
        ],
        [
         35.9
        ],
        [
         36.2
        ],
        [
         35.0
        ],
        [
         38.5
        ],
        [
         40.7
        ],
        [
         36.0
        ],
        [
         39.5
        ],
        [
         40.5
        ],
        [
         38.5
        ],
        [
         43.9
        ],
        [
         40.4
        ],
        [
         37.6
        ],
        [
         37.0
        ],
        [
         34.0
        ],
        [
         38.4
        ],
        [
         38.7
        ],
        [
         41.5
        ],
        [
         36.0
        ],
        [
         35.3
        ],
        [
         42.1
        ],
        [
         38.0
        ],
        [
         42.8
        ],
        [
         40.0
        ],
        [
         33.8
        ],
        [
         35.5
        ],
        [
         35.3
        ],
        [
         37.7
        ],
        [
         39.4
        ],
        [
         41.9
        ],
        [
         38.5
        ],
        [
         40.8
        ],
        [
         38.0
        ],
        [
         36.4
        ],
        [
         41.8
        ],
        [
         40.7
        ],
        [
         38.5
        ],
        [
         35.4
        ],
        [
         38.5
        ],
        [
         35.5
        ],
        [
         36.5
        ],
        [
         37.6
        ],
        [
         37.4
        ],
        [
         37.8
        ],
        [
         35.2
        ],
        [
         37.9
        ],
        [
         37.9
        ],
        [
         40.9
        ],
        [
         41.9
        ],
        [
         39.1
        ],
        [
         40.2
        ],
        [
         36.0
        ],
        [
         34.5
        ],
        [
         35.8
        ],
        [
         40.2
        ],
        [
         38.3
        ],
        [
         39.0
        ],
        [
         37.4
        ],
        [
         41.2
        ],
        [
         34.8
        ],
        [
         36.9
        ],
        [
         39.4
        ],
        [
         37.6
        ],
        [
         38.5
        ],
        [
         42.5
        ],
        [
         37.4
        ],
        [
         35.2
        ],
        [
         41.1
        ],
        [
         33.4
        ],
        [
         37.2
        ],
        [
         38.3
        ],
        [
         38.1
        ],
        [
         37.4
        ],
        [
         35.2
        ],
        [
         39.4
        ],
        [
         38.0
        ],
        [
         35.1
        ],
        [
         40.4
        ],
        [
         38.3
        ],
        [
         40.6
        ],
        [
         40.2
        ],
        [
         37.9
        ],
        [
         40.8
        ],
        [
         34.7
        ],
        [
         38.8
        ],
        [
         41.4
        ],
        [
         41.3
        ],
        [
         40.7
        ],
        [
         36.3
        ],
        [
         40.8
        ],
        [
         34.9
        ],
        [
         40.9
        ],
        [
         38.9
        ],
        [
         38.9
        ],
        [
         40.8
        ]
       ],
       "datasetInfos": [],
       "dbfsResultPath": null,
       "isJsonSchema": true,
       "metadata": {},
       "overflow": false,
       "plotOptions": {
        "customPlotOptions": {},
        "displayType": "table",
        "pivotAggregation": null,
        "pivotColumns": null,
        "xColumns": null,
        "yColumns": null
       },
       "removedWidgets": [],
       "schema": [
        {
         "metadata": "{}",
         "name": "Neck",
         "type": "\"double\""
        }
       ],
       "type": "table"
      }
     },
     "output_type": "display_data"
    },
    {
     "output_type": "display_data",
     "data": {
      "text/plain": [
       "Databricks visualization. Run in Databricks to view."
      ]
     },
     "metadata": {
      "application/vnd.databricks.v1.subcommand+json": {
       "baseErrorDetails": null,
       "bindings": {},
       "collapsed": false,
       "command": "%sql WITH q AS (SELECT Neck FROM BodyFat) ,min_max AS (SELECT `Neck`,(SELECT MAX(`Neck`) FROM q) `target_column_max`,(SELECT MIN(`Neck`) FROM q) `target_column_min` FROM q) ,histogram_meta AS (SELECT `Neck`,`target_column_min` `min_value`,IF(`target_column_max` = `target_column_min`,`target_column_max` + 1,`target_column_max`) `max_value`,(`target_column_max` - `target_column_min`) / 15 `step` FROM min_max) SELECT IF(ISNULL(`Neck`),NULL,LEAST(WIDTH_BUCKET(`Neck`,`min_value`,`max_value`,15),15)) `Neck_BIN`,FIRST(`min_value` + ((IF(ISNULL(`Neck`),NULL,LEAST(WIDTH_BUCKET(`Neck`,`min_value`,`max_value`,15),15)) - 1) * `step`)) `Neck_BIN_LOWER_BOUND`,FIRST(`step`) `Neck_BIN_STEP`,COUNT(`Neck`) `COUNT` FROM histogram_meta GROUP BY `Neck_BIN`",
       "commandTitle": "Visualization 1",
       "commandType": "auto",
       "commandVersion": 0,
       "commentThread": [],
       "commentsVisible": false,
       "contentSha256Hex": null,
       "customPlotOptions": {
        "redashChart": [
         {
          "key": "type",
          "value": "CHART"
         },
         {
          "key": "options",
          "value": {
           "alignYAxesAtZero": true,
           "coefficient": 1,
           "columnConfigurationMap": {
            "x": {
             "column": "Neck",
             "id": "column_a0f52a986"
            }
           },
           "dateTimeFormat": "DD/MM/YYYY HH:mm",
           "direction": {
            "type": "counterclockwise"
           },
           "error_y": {
            "type": "data",
            "visible": true
           },
           "globalSeriesType": "histogram",
           "legend": {
            "traceorder": "normal"
           },
           "missingValuesAsZero": true,
           "numBins": 15,
           "numberFormat": "0,0.[00000]",
           "percentFormat": "0[.]00%",
           "series": {
            "error_y": {
             "type": "data",
             "visible": true
            },
            "stacking": null
           },
           "seriesOptions": {},
           "showDataLabels": false,
           "sizemode": "diameter",
           "sortX": true,
           "sortY": true,
           "swappedAxes": false,
           "textFormat": "",
           "useAggregationsUi": true,
           "valuesOptions": {},
           "version": 2,
           "xAxis": {
            "labels": {
             "enabled": true
            },
            "type": "-"
           },
           "yAxis": [
            {
             "type": "-"
            },
            {
             "opposite": true,
             "type": "-"
            }
           ]
          }
         }
        ]
       },
       "datasetPreviewNameToCmdIdMap": {},
       "diffDeletes": [],
       "diffInserts": [],
       "displayType": "redashChart",
       "error": null,
       "errorDetails": null,
       "errorSummary": null,
       "errorTraceType": null,
       "finishTime": 0,
       "globalVars": {},
       "guid": "",
       "height": "auto",
       "hideCommandCode": false,
       "hideCommandResult": false,
       "iPythonMetadata": null,
       "inputWidgets": {},
       "isLockedInExamMode": false,
       "latestUser": "a user",
       "latestUserId": null,
       "listResultMetadata": null,
       "metadata": {
        "byteLimit": 2048000,
        "implicitDf": true,
        "rowLimit": 10000
       },
       "nuid": "c85bef60-ca8d-44f3-8192-b26f7a77f9b8",
       "origId": 0,
       "parentHierarchy": [],
       "pivotAggregation": null,
       "pivotColumns": null,
       "position": 12.75,
       "resultDbfsErrorMessage": null,
       "resultDbfsStatus": "INLINED_IN_TREE",
       "results": null,
       "showCommandTitle": false,
       "startTime": 0,
       "state": "finished",
       "streamStates": {},
       "subcommandOptions": {
        "queryPlan": {
         "groups": [
          {
           "column": "Neck_BIN",
           "type": "column"
          }
         ],
         "selects": [
          {
           "alias": "Neck_BIN",
           "args": [
            {
             "column": "Neck",
             "type": "column"
            },
            {
             "number": 15,
             "type": "number"
            }
           ],
           "function": "BIN",
           "type": "function"
          },
          {
           "alias": "Neck_BIN_LOWER_BOUND",
           "args": [
            {
             "column": "Neck",
             "type": "column"
            },
            {
             "number": 15,
             "type": "number"
            }
           ],
           "function": "BIN_LOWER_BOUND",
           "type": "function"
          },
          {
           "alias": "Neck_BIN_STEP",
           "args": [
            {
             "column": "Neck",
             "type": "column"
            },
            {
             "number": 15,
             "type": "number"
            }
           ],
           "function": "BIN_STEP",
           "type": "function"
          },
          {
           "alias": "COUNT",
           "args": [
            {
             "column": "Neck",
             "type": "column"
            }
           ],
           "function": "COUNT",
           "type": "function"
          }
         ]
        }
       },
       "submitTime": 0,
       "subtype": "tableResultSubCmd.visualization",
       "tableResultIndex": 0,
       "useConsistentColors": false,
       "version": "CommandV1",
       "width": "auto",
       "workflows": [],
       "xColumns": null,
       "yColumns": null
      }
     },
     "output_type": "display_data"
    }
   ],
   "source": [
    "%sql\n",
    "\n",
    "SELECT Neck FROM BodyFat;"
   ]
  },
  {
   "cell_type": "markdown",
   "metadata": {
    "application/vnd.databricks.v1+cell": {
     "cellMetadata": {},
     "inputWidgets": {},
     "nuid": "ba6bd4f0-3776-458a-a1a3-de3a7e011bb7",
     "showTitle": false,
     "title": ""
    }
   },
   "source": [
    "#### Histogram of Chest Circumference"
   ]
  },
  {
   "cell_type": "code",
   "execution_count": 0,
   "metadata": {
    "application/vnd.databricks.v1+cell": {
     "cellMetadata": {
      "byteLimit": 2048000,
      "implicitDf": true,
      "rowLimit": 10000
     },
     "inputWidgets": {},
     "nuid": "8c56b2c8-56bc-4c45-8fa7-31f54833b23e",
     "showTitle": false,
     "title": ""
    }
   },
   "outputs": [
    {
     "output_type": "display_data",
     "data": {
      "text/html": [
       "<style scoped>\n",
       "  .table-result-container {\n",
       "    max-height: 300px;\n",
       "    overflow: auto;\n",
       "  }\n",
       "  table, th, td {\n",
       "    border: 1px solid black;\n",
       "    border-collapse: collapse;\n",
       "  }\n",
       "  th, td {\n",
       "    padding: 5px;\n",
       "  }\n",
       "  th {\n",
       "    text-align: left;\n",
       "  }\n",
       "</style><div class='table-result-container'><table class='table-result'><thead style='background-color: white'><tr><th>Chest</th></tr></thead><tbody><tr><td>93.1</td></tr><tr><td>93.6</td></tr><tr><td>95.8</td></tr><tr><td>101.8</td></tr><tr><td>97.3</td></tr><tr><td>104.5</td></tr><tr><td>105.1</td></tr><tr><td>99.6</td></tr><tr><td>100.9</td></tr><tr><td>99.6</td></tr><tr><td>101.5</td></tr><tr><td>103.6</td></tr><tr><td>102.0</td></tr><tr><td>104.1</td></tr><tr><td>101.3</td></tr><tr><td>99.1</td></tr><tr><td>101.9</td></tr><tr><td>107.6</td></tr><tr><td>106.8</td></tr><tr><td>106.2</td></tr><tr><td>103.3</td></tr><tr><td>111.4</td></tr><tr><td>86.0</td></tr><tr><td>86.7</td></tr><tr><td>90.2</td></tr><tr><td>89.6</td></tr><tr><td>88.6</td></tr><tr><td>97.4</td></tr><tr><td>93.5</td></tr><tr><td>97.4</td></tr><tr><td>100.5</td></tr><tr><td>93.5</td></tr><tr><td>93.0</td></tr><tr><td>111.7</td></tr><tr><td>117.0</td></tr><tr><td>118.5</td></tr><tr><td>106.5</td></tr><tr><td>105.6</td></tr><tr><td>136.2</td></tr><tr><td>114.8</td></tr><tr><td>128.3</td></tr><tr><td>106.0</td></tr><tr><td>113.3</td></tr><tr><td>106.6</td></tr><tr><td>85.1</td></tr><tr><td>96.6</td></tr><tr><td>88.2</td></tr><tr><td>89.8</td></tr><tr><td>92.3</td></tr><tr><td>83.4</td></tr><tr><td>90.2</td></tr><tr><td>89.2</td></tr><tr><td>89.7</td></tr><tr><td>93.3</td></tr><tr><td>87.6</td></tr><tr><td>107.6</td></tr><tr><td>100.0</td></tr><tr><td>111.5</td></tr><tr><td>115.4</td></tr><tr><td>104.8</td></tr><tr><td>112.3</td></tr><tr><td>102.9</td></tr><tr><td>107.6</td></tr><tr><td>105.3</td></tr><tr><td>105.3</td></tr><tr><td>103.0</td></tr><tr><td>90.0</td></tr><tr><td>95.4</td></tr><tr><td>89.3</td></tr><tr><td>94.4</td></tr><tr><td>97.6</td></tr><tr><td>88.5</td></tr><tr><td>93.6</td></tr><tr><td>87.7</td></tr><tr><td>93.4</td></tr><tr><td>91.6</td></tr><tr><td>91.6</td></tr><tr><td>102.0</td></tr><tr><td>96.4</td></tr><tr><td>102.7</td></tr><tr><td>97.7</td></tr><tr><td>97.1</td></tr><tr><td>103.1</td></tr><tr><td>101.8</td></tr><tr><td>101.4</td></tr><tr><td>98.9</td></tr><tr><td>97.5</td></tr><tr><td>104.3</td></tr><tr><td>97.3</td></tr><tr><td>96.7</td></tr><tr><td>99.7</td></tr><tr><td>101.9</td></tr><tr><td>97.2</td></tr><tr><td>106.6</td></tr><tr><td>99.6</td></tr><tr><td>113.2</td></tr><tr><td>99.1</td></tr><tr><td>99.4</td></tr><tr><td>95.1</td></tr><tr><td>107.5</td></tr><tr><td>106.5</td></tr><tr><td>99.1</td></tr><tr><td>96.7</td></tr><tr><td>103.5</td></tr><tr><td>104.0</td></tr><tr><td>93.1</td></tr><tr><td>105.2</td></tr><tr><td>110.0</td></tr><tr><td>110.1</td></tr><tr><td>97.8</td></tr><tr><td>96.3</td></tr><tr><td>108.0</td></tr><tr><td>99.7</td></tr><tr><td>93.5</td></tr><tr><td>100.7</td></tr><tr><td>97.0</td></tr><tr><td>96.0</td></tr><tr><td>99.2</td></tr><tr><td>95.4</td></tr><tr><td>101.8</td></tr><tr><td>104.3</td></tr><tr><td>99.2</td></tr><tr><td>99.3</td></tr><tr><td>94.0</td></tr><tr><td>98.9</td></tr><tr><td>101.0</td></tr><tr><td>98.7</td></tr><tr><td>95.9</td></tr><tr><td>103.9</td></tr><tr><td>96.2</td></tr><tr><td>97.8</td></tr><tr><td>94.6</td></tr><tr><td>103.6</td></tr><tr><td>100.4</td></tr><tr><td>98.4</td></tr><tr><td>104.6</td></tr><tr><td>92.9</td></tr><tr><td>97.8</td></tr><tr><td>98.3</td></tr><tr><td>104.7</td></tr><tr><td>98.6</td></tr><tr><td>99.5</td></tr><tr><td>102.7</td></tr><tr><td>92.1</td></tr><tr><td>96.6</td></tr><tr><td>92.7</td></tr><tr><td>102.0</td></tr><tr><td>110.9</td></tr><tr><td>92.3</td></tr><tr><td>114.1</td></tr><tr><td>92.9</td></tr><tr><td>108.3</td></tr><tr><td>88.5</td></tr><tr><td>94.0</td></tr><tr><td>101.1</td></tr><tr><td>92.1</td></tr><tr><td>105.6</td></tr><tr><td>98.5</td></tr><tr><td>88.7</td></tr><tr><td>101.1</td></tr><tr><td>94.0</td></tr><tr><td>103.8</td></tr><tr><td>98.9</td></tr><tr><td>89.2</td></tr><tr><td>111.4</td></tr><tr><td>107.5</td></tr><tr><td>99.1</td></tr><tr><td>108.2</td></tr><tr><td>114.9</td></tr><tr><td>99.1</td></tr><tr><td>92.2</td></tr><tr><td>90.8</td></tr><tr><td>100.5</td></tr><tr><td>98.2</td></tr><tr><td>115.3</td></tr><tr><td>96.8</td></tr><tr><td>92.6</td></tr><tr><td>119.2</td></tr><tr><td>102.7</td></tr><tr><td>109.5</td></tr><tr><td>108.5</td></tr><tr><td>79.3</td></tr><tr><td>95.5</td></tr><tr><td>92.3</td></tr><tr><td>98.9</td></tr><tr><td>89.5</td></tr><tr><td>117.5</td></tr><tr><td>107.4</td></tr><tr><td>109.2</td></tr><tr><td>103.4</td></tr><tr><td>91.4</td></tr><tr><td>115.2</td></tr><tr><td>104.9</td></tr><tr><td>106.7</td></tr><tr><td>92.2</td></tr><tr><td>101.6</td></tr><tr><td>97.8</td></tr><tr><td>92.0</td></tr><tr><td>94.0</td></tr><tr><td>103.7</td></tr><tr><td>102.7</td></tr><tr><td>91.1</td></tr><tr><td>107.2</td></tr><tr><td>100.8</td></tr><tr><td>121.6</td></tr><tr><td>105.6</td></tr><tr><td>100.6</td></tr><tr><td>102.7</td></tr><tr><td>99.8</td></tr><tr><td>92.9</td></tr><tr><td>91.2</td></tr><tr><td>115.6</td></tr><tr><td>98.3</td></tr><tr><td>103.7</td></tr><tr><td>98.7</td></tr><tr><td>119.8</td></tr><tr><td>92.8</td></tr><tr><td>93.3</td></tr><tr><td>106.8</td></tr><tr><td>93.9</td></tr><tr><td>99.0</td></tr><tr><td>119.9</td></tr><tr><td>94.2</td></tr><tr><td>92.7</td></tr><tr><td>106.9</td></tr><tr><td>88.8</td></tr><tr><td>101.7</td></tr><tr><td>105.3</td></tr><tr><td>104.0</td></tr><tr><td>98.6</td></tr><tr><td>99.6</td></tr><tr><td>103.4</td></tr><tr><td>100.2</td></tr><tr><td>94.9</td></tr><tr><td>97.2</td></tr><tr><td>104.7</td></tr><tr><td>104.0</td></tr><tr><td>117.6</td></tr><tr><td>95.8</td></tr><tr><td>106.4</td></tr><tr><td>93.0</td></tr><tr><td>119.6</td></tr><tr><td>119.7</td></tr><tr><td>115.8</td></tr><tr><td>118.3</td></tr><tr><td>97.4</td></tr><tr><td>113.7</td></tr><tr><td>89.2</td></tr><tr><td>108.5</td></tr><tr><td>111.1</td></tr><tr><td>108.3</td></tr><tr><td>112.4</td></tr></tbody></table></div>"
      ]
     },
     "metadata": {
      "application/vnd.databricks.v1+output": {
       "addedWidgets": {},
       "aggData": [],
       "aggError": "",
       "aggOverflow": false,
       "aggSchema": [],
       "aggSeriesLimitReached": false,
       "aggType": "",
       "arguments": {},
       "columnCustomDisplayInfos": {},
       "data": [
        [
         93.1
        ],
        [
         93.6
        ],
        [
         95.8
        ],
        [
         101.8
        ],
        [
         97.3
        ],
        [
         104.5
        ],
        [
         105.1
        ],
        [
         99.6
        ],
        [
         100.9
        ],
        [
         99.6
        ],
        [
         101.5
        ],
        [
         103.6
        ],
        [
         102.0
        ],
        [
         104.1
        ],
        [
         101.3
        ],
        [
         99.1
        ],
        [
         101.9
        ],
        [
         107.6
        ],
        [
         106.8
        ],
        [
         106.2
        ],
        [
         103.3
        ],
        [
         111.4
        ],
        [
         86.0
        ],
        [
         86.7
        ],
        [
         90.2
        ],
        [
         89.6
        ],
        [
         88.6
        ],
        [
         97.4
        ],
        [
         93.5
        ],
        [
         97.4
        ],
        [
         100.5
        ],
        [
         93.5
        ],
        [
         93.0
        ],
        [
         111.7
        ],
        [
         117.0
        ],
        [
         118.5
        ],
        [
         106.5
        ],
        [
         105.6
        ],
        [
         136.2
        ],
        [
         114.8
        ],
        [
         128.3
        ],
        [
         106.0
        ],
        [
         113.3
        ],
        [
         106.6
        ],
        [
         85.1
        ],
        [
         96.6
        ],
        [
         88.2
        ],
        [
         89.8
        ],
        [
         92.3
        ],
        [
         83.4
        ],
        [
         90.2
        ],
        [
         89.2
        ],
        [
         89.7
        ],
        [
         93.3
        ],
        [
         87.6
        ],
        [
         107.6
        ],
        [
         100.0
        ],
        [
         111.5
        ],
        [
         115.4
        ],
        [
         104.8
        ],
        [
         112.3
        ],
        [
         102.9
        ],
        [
         107.6
        ],
        [
         105.3
        ],
        [
         105.3
        ],
        [
         103.0
        ],
        [
         90.0
        ],
        [
         95.4
        ],
        [
         89.3
        ],
        [
         94.4
        ],
        [
         97.6
        ],
        [
         88.5
        ],
        [
         93.6
        ],
        [
         87.7
        ],
        [
         93.4
        ],
        [
         91.6
        ],
        [
         91.6
        ],
        [
         102.0
        ],
        [
         96.4
        ],
        [
         102.7
        ],
        [
         97.7
        ],
        [
         97.1
        ],
        [
         103.1
        ],
        [
         101.8
        ],
        [
         101.4
        ],
        [
         98.9
        ],
        [
         97.5
        ],
        [
         104.3
        ],
        [
         97.3
        ],
        [
         96.7
        ],
        [
         99.7
        ],
        [
         101.9
        ],
        [
         97.2
        ],
        [
         106.6
        ],
        [
         99.6
        ],
        [
         113.2
        ],
        [
         99.1
        ],
        [
         99.4
        ],
        [
         95.1
        ],
        [
         107.5
        ],
        [
         106.5
        ],
        [
         99.1
        ],
        [
         96.7
        ],
        [
         103.5
        ],
        [
         104.0
        ],
        [
         93.1
        ],
        [
         105.2
        ],
        [
         110.0
        ],
        [
         110.1
        ],
        [
         97.8
        ],
        [
         96.3
        ],
        [
         108.0
        ],
        [
         99.7
        ],
        [
         93.5
        ],
        [
         100.7
        ],
        [
         97.0
        ],
        [
         96.0
        ],
        [
         99.2
        ],
        [
         95.4
        ],
        [
         101.8
        ],
        [
         104.3
        ],
        [
         99.2
        ],
        [
         99.3
        ],
        [
         94.0
        ],
        [
         98.9
        ],
        [
         101.0
        ],
        [
         98.7
        ],
        [
         95.9
        ],
        [
         103.9
        ],
        [
         96.2
        ],
        [
         97.8
        ],
        [
         94.6
        ],
        [
         103.6
        ],
        [
         100.4
        ],
        [
         98.4
        ],
        [
         104.6
        ],
        [
         92.9
        ],
        [
         97.8
        ],
        [
         98.3
        ],
        [
         104.7
        ],
        [
         98.6
        ],
        [
         99.5
        ],
        [
         102.7
        ],
        [
         92.1
        ],
        [
         96.6
        ],
        [
         92.7
        ],
        [
         102.0
        ],
        [
         110.9
        ],
        [
         92.3
        ],
        [
         114.1
        ],
        [
         92.9
        ],
        [
         108.3
        ],
        [
         88.5
        ],
        [
         94.0
        ],
        [
         101.1
        ],
        [
         92.1
        ],
        [
         105.6
        ],
        [
         98.5
        ],
        [
         88.7
        ],
        [
         101.1
        ],
        [
         94.0
        ],
        [
         103.8
        ],
        [
         98.9
        ],
        [
         89.2
        ],
        [
         111.4
        ],
        [
         107.5
        ],
        [
         99.1
        ],
        [
         108.2
        ],
        [
         114.9
        ],
        [
         99.1
        ],
        [
         92.2
        ],
        [
         90.8
        ],
        [
         100.5
        ],
        [
         98.2
        ],
        [
         115.3
        ],
        [
         96.8
        ],
        [
         92.6
        ],
        [
         119.2
        ],
        [
         102.7
        ],
        [
         109.5
        ],
        [
         108.5
        ],
        [
         79.3
        ],
        [
         95.5
        ],
        [
         92.3
        ],
        [
         98.9
        ],
        [
         89.5
        ],
        [
         117.5
        ],
        [
         107.4
        ],
        [
         109.2
        ],
        [
         103.4
        ],
        [
         91.4
        ],
        [
         115.2
        ],
        [
         104.9
        ],
        [
         106.7
        ],
        [
         92.2
        ],
        [
         101.6
        ],
        [
         97.8
        ],
        [
         92.0
        ],
        [
         94.0
        ],
        [
         103.7
        ],
        [
         102.7
        ],
        [
         91.1
        ],
        [
         107.2
        ],
        [
         100.8
        ],
        [
         121.6
        ],
        [
         105.6
        ],
        [
         100.6
        ],
        [
         102.7
        ],
        [
         99.8
        ],
        [
         92.9
        ],
        [
         91.2
        ],
        [
         115.6
        ],
        [
         98.3
        ],
        [
         103.7
        ],
        [
         98.7
        ],
        [
         119.8
        ],
        [
         92.8
        ],
        [
         93.3
        ],
        [
         106.8
        ],
        [
         93.9
        ],
        [
         99.0
        ],
        [
         119.9
        ],
        [
         94.2
        ],
        [
         92.7
        ],
        [
         106.9
        ],
        [
         88.8
        ],
        [
         101.7
        ],
        [
         105.3
        ],
        [
         104.0
        ],
        [
         98.6
        ],
        [
         99.6
        ],
        [
         103.4
        ],
        [
         100.2
        ],
        [
         94.9
        ],
        [
         97.2
        ],
        [
         104.7
        ],
        [
         104.0
        ],
        [
         117.6
        ],
        [
         95.8
        ],
        [
         106.4
        ],
        [
         93.0
        ],
        [
         119.6
        ],
        [
         119.7
        ],
        [
         115.8
        ],
        [
         118.3
        ],
        [
         97.4
        ],
        [
         113.7
        ],
        [
         89.2
        ],
        [
         108.5
        ],
        [
         111.1
        ],
        [
         108.3
        ],
        [
         112.4
        ]
       ],
       "datasetInfos": [],
       "dbfsResultPath": null,
       "isJsonSchema": true,
       "metadata": {},
       "overflow": false,
       "plotOptions": {
        "customPlotOptions": {},
        "displayType": "table",
        "pivotAggregation": null,
        "pivotColumns": null,
        "xColumns": null,
        "yColumns": null
       },
       "removedWidgets": [],
       "schema": [
        {
         "metadata": "{}",
         "name": "Chest",
         "type": "\"double\""
        }
       ],
       "type": "table"
      }
     },
     "output_type": "display_data"
    },
    {
     "output_type": "display_data",
     "data": {
      "text/plain": [
       "Databricks visualization. Run in Databricks to view."
      ]
     },
     "metadata": {
      "application/vnd.databricks.v1.subcommand+json": {
       "baseErrorDetails": null,
       "bindings": {},
       "collapsed": false,
       "command": "%sql WITH q AS (SELECT Chest FROM BodyFat) ,min_max AS (SELECT `Chest`,(SELECT MAX(`Chest`) FROM q) `target_column_max`,(SELECT MIN(`Chest`) FROM q) `target_column_min` FROM q) ,histogram_meta AS (SELECT `Chest`,`target_column_min` `min_value`,IF(`target_column_max` = `target_column_min`,`target_column_max` + 1,`target_column_max`) `max_value`,(`target_column_max` - `target_column_min`) / 15 `step` FROM min_max) SELECT IF(ISNULL(`Chest`),NULL,LEAST(WIDTH_BUCKET(`Chest`,`min_value`,`max_value`,15),15)) `Chest_BIN`,FIRST(`min_value` + ((IF(ISNULL(`Chest`),NULL,LEAST(WIDTH_BUCKET(`Chest`,`min_value`,`max_value`,15),15)) - 1) * `step`)) `Chest_BIN_LOWER_BOUND`,FIRST(`step`) `Chest_BIN_STEP`,COUNT(`Chest`) `COUNT` FROM histogram_meta GROUP BY `Chest_BIN`",
       "commandTitle": "Visualization 1",
       "commandType": "auto",
       "commandVersion": 0,
       "commentThread": [],
       "commentsVisible": false,
       "contentSha256Hex": null,
       "customPlotOptions": {
        "redashChart": [
         {
          "key": "type",
          "value": "CHART"
         },
         {
          "key": "options",
          "value": {
           "alignYAxesAtZero": true,
           "coefficient": 1,
           "columnConfigurationMap": {
            "x": {
             "column": "Chest",
             "id": "column_a0f52a987"
            }
           },
           "dateTimeFormat": "DD/MM/YYYY HH:mm",
           "direction": {
            "type": "counterclockwise"
           },
           "error_y": {
            "type": "data",
            "visible": true
           },
           "globalSeriesType": "histogram",
           "legend": {
            "traceorder": "normal"
           },
           "missingValuesAsZero": true,
           "numBins": 15,
           "numberFormat": "0,0.[00000]",
           "percentFormat": "0[.]00%",
           "series": {
            "error_y": {
             "type": "data",
             "visible": true
            },
            "stacking": null
           },
           "seriesOptions": {},
           "showDataLabels": false,
           "sizemode": "diameter",
           "sortX": true,
           "sortY": true,
           "swappedAxes": false,
           "textFormat": "",
           "useAggregationsUi": true,
           "valuesOptions": {},
           "version": 2,
           "xAxis": {
            "labels": {
             "enabled": true
            },
            "type": "-"
           },
           "yAxis": [
            {
             "type": "-"
            },
            {
             "opposite": true,
             "type": "-"
            }
           ]
          }
         }
        ]
       },
       "datasetPreviewNameToCmdIdMap": {},
       "diffDeletes": [],
       "diffInserts": [],
       "displayType": "redashChart",
       "error": null,
       "errorDetails": null,
       "errorSummary": null,
       "errorTraceType": null,
       "finishTime": 0,
       "globalVars": {},
       "guid": "",
       "height": "auto",
       "hideCommandCode": false,
       "hideCommandResult": false,
       "iPythonMetadata": null,
       "inputWidgets": {},
       "isLockedInExamMode": false,
       "latestUser": "a user",
       "latestUserId": null,
       "listResultMetadata": null,
       "metadata": {
        "byteLimit": 2048000,
        "implicitDf": true,
        "rowLimit": 10000
       },
       "nuid": "ea3290a9-f46d-46fb-8c20-42a4a6508719",
       "origId": 0,
       "parentHierarchy": [],
       "pivotAggregation": null,
       "pivotColumns": null,
       "position": 13.75,
       "resultDbfsErrorMessage": null,
       "resultDbfsStatus": "INLINED_IN_TREE",
       "results": null,
       "showCommandTitle": false,
       "startTime": 0,
       "state": "finished",
       "streamStates": {},
       "subcommandOptions": {
        "queryPlan": {
         "groups": [
          {
           "column": "Chest_BIN",
           "type": "column"
          }
         ],
         "selects": [
          {
           "alias": "Chest_BIN",
           "args": [
            {
             "column": "Chest",
             "type": "column"
            },
            {
             "number": 15,
             "type": "number"
            }
           ],
           "function": "BIN",
           "type": "function"
          },
          {
           "alias": "Chest_BIN_LOWER_BOUND",
           "args": [
            {
             "column": "Chest",
             "type": "column"
            },
            {
             "number": 15,
             "type": "number"
            }
           ],
           "function": "BIN_LOWER_BOUND",
           "type": "function"
          },
          {
           "alias": "Chest_BIN_STEP",
           "args": [
            {
             "column": "Chest",
             "type": "column"
            },
            {
             "number": 15,
             "type": "number"
            }
           ],
           "function": "BIN_STEP",
           "type": "function"
          },
          {
           "alias": "COUNT",
           "args": [
            {
             "column": "Chest",
             "type": "column"
            }
           ],
           "function": "COUNT",
           "type": "function"
          }
         ]
        }
       },
       "submitTime": 0,
       "subtype": "tableResultSubCmd.visualization",
       "tableResultIndex": 0,
       "useConsistentColors": false,
       "version": "CommandV1",
       "width": "auto",
       "workflows": [],
       "xColumns": null,
       "yColumns": null
      }
     },
     "output_type": "display_data"
    }
   ],
   "source": [
    "%sql\n",
    "\n",
    "SELECT Chest FROM BodyFat;"
   ]
  },
  {
   "cell_type": "markdown",
   "metadata": {
    "application/vnd.databricks.v1+cell": {
     "cellMetadata": {},
     "inputWidgets": {},
     "nuid": "345f3574-3885-4ea1-adf4-2fab53f44998",
     "showTitle": false,
     "title": ""
    }
   },
   "source": [
    "#### Histogram of Abdomen Circumference"
   ]
  },
  {
   "cell_type": "code",
   "execution_count": 0,
   "metadata": {
    "application/vnd.databricks.v1+cell": {
     "cellMetadata": {
      "byteLimit": 2048000,
      "implicitDf": true,
      "rowLimit": 10000
     },
     "inputWidgets": {},
     "nuid": "f269d20a-3b56-4d76-a287-b69319bfddb3",
     "showTitle": false,
     "title": ""
    }
   },
   "outputs": [
    {
     "output_type": "display_data",
     "data": {
      "text/html": [
       "<style scoped>\n",
       "  .table-result-container {\n",
       "    max-height: 300px;\n",
       "    overflow: auto;\n",
       "  }\n",
       "  table, th, td {\n",
       "    border: 1px solid black;\n",
       "    border-collapse: collapse;\n",
       "  }\n",
       "  th, td {\n",
       "    padding: 5px;\n",
       "  }\n",
       "  th {\n",
       "    text-align: left;\n",
       "  }\n",
       "</style><div class='table-result-container'><table class='table-result'><thead style='background-color: white'><tr><th>Abdomen</th></tr></thead><tbody><tr><td>85.2</td></tr><tr><td>83.0</td></tr><tr><td>87.9</td></tr><tr><td>86.4</td></tr><tr><td>100.0</td></tr><tr><td>94.4</td></tr><tr><td>90.7</td></tr><tr><td>88.5</td></tr><tr><td>82.5</td></tr><tr><td>88.6</td></tr><tr><td>83.6</td></tr><tr><td>90.9</td></tr><tr><td>91.6</td></tr><tr><td>101.8</td></tr><tr><td>96.4</td></tr><tr><td>92.8</td></tr><tr><td>96.4</td></tr><tr><td>97.5</td></tr><tr><td>89.6</td></tr><tr><td>100.5</td></tr><tr><td>95.9</td></tr><tr><td>98.8</td></tr><tr><td>76.4</td></tr><tr><td>80.0</td></tr><tr><td>76.3</td></tr><tr><td>79.7</td></tr><tr><td>74.6</td></tr><tr><td>88.7</td></tr><tr><td>73.9</td></tr><tr><td>83.5</td></tr><tr><td>88.7</td></tr><tr><td>84.5</td></tr><tr><td>79.1</td></tr><tr><td>100.5</td></tr><tr><td>115.6</td></tr><tr><td>113.1</td></tr><tr><td>100.9</td></tr><tr><td>98.8</td></tr><tr><td>148.1</td></tr><tr><td>108.1</td></tr><tr><td>126.2</td></tr><tr><td>104.3</td></tr><tr><td>111.2</td></tr><tr><td>104.3</td></tr><tr><td>76.0</td></tr><tr><td>81.5</td></tr><tr><td>73.7</td></tr><tr><td>79.5</td></tr><tr><td>83.4</td></tr><tr><td>70.4</td></tr><tr><td>86.7</td></tr><tr><td>77.9</td></tr><tr><td>82.0</td></tr><tr><td>79.6</td></tr><tr><td>77.6</td></tr><tr><td>100.0</td></tr><tr><td>99.8</td></tr><tr><td>104.2</td></tr><tr><td>105.3</td></tr><tr><td>98.3</td></tr><tr><td>104.8</td></tr><tr><td>94.7</td></tr><tr><td>102.4</td></tr><tr><td>99.7</td></tr><tr><td>105.5</td></tr><tr><td>100.3</td></tr><tr><td>83.9</td></tr><tr><td>86.6</td></tr><tr><td>78.4</td></tr><tr><td>84.6</td></tr><tr><td>91.5</td></tr><tr><td>82.8</td></tr><tr><td>82.9</td></tr><tr><td>76.0</td></tr><tr><td>83.3</td></tr><tr><td>81.8</td></tr><tr><td>78.8</td></tr><tr><td>95.0</td></tr><tr><td>95.4</td></tr><tr><td>98.6</td></tr><tr><td>95.8</td></tr><tr><td>89.0</td></tr><tr><td>97.8</td></tr><tr><td>94.9</td></tr><tr><td>99.8</td></tr><tr><td>89.7</td></tr><tr><td>88.1</td></tr><tr><td>90.9</td></tr><tr><td>86.0</td></tr><tr><td>86.5</td></tr><tr><td>95.6</td></tr><tr><td>93.2</td></tr><tr><td>83.1</td></tr><tr><td>97.5</td></tr><tr><td>88.8</td></tr><tr><td>99.2</td></tr><tr><td>91.6</td></tr><tr><td>86.7</td></tr><tr><td>88.2</td></tr><tr><td>94.0</td></tr><tr><td>95.0</td></tr><tr><td>92.0</td></tr><tr><td>89.2</td></tr><tr><td>95.5</td></tr><tr><td>98.6</td></tr><tr><td>87.3</td></tr><tr><td>102.8</td></tr><tr><td>101.6</td></tr><tr><td>88.7</td></tr><tr><td>92.3</td></tr><tr><td>90.6</td></tr><tr><td>105.0</td></tr><tr><td>95.0</td></tr><tr><td>89.6</td></tr><tr><td>92.4</td></tr><tr><td>86.6</td></tr><tr><td>90.0</td></tr><tr><td>90.0</td></tr><tr><td>92.4</td></tr><tr><td>87.5</td></tr><tr><td>99.2</td></tr><tr><td>98.1</td></tr><tr><td>83.3</td></tr><tr><td>86.1</td></tr><tr><td>84.1</td></tr><tr><td>89.9</td></tr><tr><td>92.1</td></tr><tr><td>78.0</td></tr><tr><td>93.5</td></tr><tr><td>87.0</td></tr><tr><td>90.1</td></tr><tr><td>90.3</td></tr><tr><td>99.8</td></tr><tr><td>89.4</td></tr><tr><td>87.2</td></tr><tr><td>101.1</td></tr><tr><td>86.1</td></tr><tr><td>98.6</td></tr><tr><td>88.5</td></tr><tr><td>106.6</td></tr><tr><td>93.1</td></tr><tr><td>93.0</td></tr><tr><td>91.0</td></tr><tr><td>77.1</td></tr><tr><td>85.3</td></tr><tr><td>81.9</td></tr><tr><td>99.1</td></tr><tr><td>100.5</td></tr><tr><td>76.5</td></tr><tr><td>106.8</td></tr><tr><td>77.6</td></tr><tr><td>102.9</td></tr><tr><td>72.8</td></tr><tr><td>88.2</td></tr><tr><td>100.1</td></tr><tr><td>83.5</td></tr><tr><td>105.0</td></tr><tr><td>90.8</td></tr><tr><td>76.6</td></tr><tr><td>92.4</td></tr><tr><td>81.2</td></tr><tr><td>95.6</td></tr><tr><td>92.1</td></tr><tr><td>83.4</td></tr><tr><td>106.0</td></tr><tr><td>95.1</td></tr><tr><td>90.4</td></tr><tr><td>100.4</td></tr><tr><td>115.9</td></tr><tr><td>90.8</td></tr><tr><td>81.9</td></tr><tr><td>75.0</td></tr><tr><td>90.3</td></tr><tr><td>90.3</td></tr><tr><td>108.8</td></tr><tr><td>79.4</td></tr><tr><td>83.2</td></tr><tr><td>110.3</td></tr><tr><td>92.7</td></tr><tr><td>104.5</td></tr><tr><td>104.6</td></tr><tr><td>69.4</td></tr><tr><td>83.6</td></tr><tr><td>86.8</td></tr><tr><td>90.4</td></tr><tr><td>83.7</td></tr><tr><td>109.3</td></tr><tr><td>98.9</td></tr><tr><td>98.0</td></tr><tr><td>101.2</td></tr><tr><td>80.6</td></tr><tr><td>113.7</td></tr><tr><td>94.1</td></tr><tr><td>105.7</td></tr><tr><td>85.6</td></tr><tr><td>96.6</td></tr><tr><td>86.0</td></tr><tr><td>89.7</td></tr><tr><td>78.0</td></tr><tr><td>89.7</td></tr><tr><td>89.2</td></tr><tr><td>85.7</td></tr><tr><td>103.1</td></tr><tr><td>89.1</td></tr><tr><td>113.9</td></tr><tr><td>96.3</td></tr><tr><td>93.9</td></tr><tr><td>101.3</td></tr><tr><td>83.9</td></tr><tr><td>84.4</td></tr><tr><td>79.4</td></tr><tr><td>104.0</td></tr><tr><td>89.7</td></tr><tr><td>97.6</td></tr><tr><td>87.6</td></tr><tr><td>122.1</td></tr><tr><td>81.1</td></tr><tr><td>81.5</td></tr><tr><td>100.0</td></tr><tr><td>88.7</td></tr><tr><td>91.8</td></tr><tr><td>110.4</td></tr><tr><td>87.6</td></tr><tr><td>82.8</td></tr><tr><td>95.3</td></tr><tr><td>78.2</td></tr><tr><td>91.1</td></tr><tr><td>96.7</td></tr><tr><td>89.4</td></tr><tr><td>93.0</td></tr><tr><td>86.4</td></tr><tr><td>96.7</td></tr><tr><td>88.1</td></tr><tr><td>94.9</td></tr><tr><td>93.3</td></tr><tr><td>95.6</td></tr><tr><td>98.2</td></tr><tr><td>113.8</td></tr><tr><td>82.8</td></tr><tr><td>100.5</td></tr><tr><td>79.7</td></tr><tr><td>118.0</td></tr><tr><td>109.0</td></tr><tr><td>113.4</td></tr><tr><td>106.1</td></tr><tr><td>84.3</td></tr><tr><td>107.6</td></tr><tr><td>83.6</td></tr><tr><td>105.0</td></tr><tr><td>111.5</td></tr><tr><td>101.3</td></tr><tr><td>108.5</td></tr></tbody></table></div>"
      ]
     },
     "metadata": {
      "application/vnd.databricks.v1+output": {
       "addedWidgets": {},
       "aggData": [],
       "aggError": "",
       "aggOverflow": false,
       "aggSchema": [],
       "aggSeriesLimitReached": false,
       "aggType": "",
       "arguments": {},
       "columnCustomDisplayInfos": {},
       "data": [
        [
         85.2
        ],
        [
         83.0
        ],
        [
         87.9
        ],
        [
         86.4
        ],
        [
         100.0
        ],
        [
         94.4
        ],
        [
         90.7
        ],
        [
         88.5
        ],
        [
         82.5
        ],
        [
         88.6
        ],
        [
         83.6
        ],
        [
         90.9
        ],
        [
         91.6
        ],
        [
         101.8
        ],
        [
         96.4
        ],
        [
         92.8
        ],
        [
         96.4
        ],
        [
         97.5
        ],
        [
         89.6
        ],
        [
         100.5
        ],
        [
         95.9
        ],
        [
         98.8
        ],
        [
         76.4
        ],
        [
         80.0
        ],
        [
         76.3
        ],
        [
         79.7
        ],
        [
         74.6
        ],
        [
         88.7
        ],
        [
         73.9
        ],
        [
         83.5
        ],
        [
         88.7
        ],
        [
         84.5
        ],
        [
         79.1
        ],
        [
         100.5
        ],
        [
         115.6
        ],
        [
         113.1
        ],
        [
         100.9
        ],
        [
         98.8
        ],
        [
         148.1
        ],
        [
         108.1
        ],
        [
         126.2
        ],
        [
         104.3
        ],
        [
         111.2
        ],
        [
         104.3
        ],
        [
         76.0
        ],
        [
         81.5
        ],
        [
         73.7
        ],
        [
         79.5
        ],
        [
         83.4
        ],
        [
         70.4
        ],
        [
         86.7
        ],
        [
         77.9
        ],
        [
         82.0
        ],
        [
         79.6
        ],
        [
         77.6
        ],
        [
         100.0
        ],
        [
         99.8
        ],
        [
         104.2
        ],
        [
         105.3
        ],
        [
         98.3
        ],
        [
         104.8
        ],
        [
         94.7
        ],
        [
         102.4
        ],
        [
         99.7
        ],
        [
         105.5
        ],
        [
         100.3
        ],
        [
         83.9
        ],
        [
         86.6
        ],
        [
         78.4
        ],
        [
         84.6
        ],
        [
         91.5
        ],
        [
         82.8
        ],
        [
         82.9
        ],
        [
         76.0
        ],
        [
         83.3
        ],
        [
         81.8
        ],
        [
         78.8
        ],
        [
         95.0
        ],
        [
         95.4
        ],
        [
         98.6
        ],
        [
         95.8
        ],
        [
         89.0
        ],
        [
         97.8
        ],
        [
         94.9
        ],
        [
         99.8
        ],
        [
         89.7
        ],
        [
         88.1
        ],
        [
         90.9
        ],
        [
         86.0
        ],
        [
         86.5
        ],
        [
         95.6
        ],
        [
         93.2
        ],
        [
         83.1
        ],
        [
         97.5
        ],
        [
         88.8
        ],
        [
         99.2
        ],
        [
         91.6
        ],
        [
         86.7
        ],
        [
         88.2
        ],
        [
         94.0
        ],
        [
         95.0
        ],
        [
         92.0
        ],
        [
         89.2
        ],
        [
         95.5
        ],
        [
         98.6
        ],
        [
         87.3
        ],
        [
         102.8
        ],
        [
         101.6
        ],
        [
         88.7
        ],
        [
         92.3
        ],
        [
         90.6
        ],
        [
         105.0
        ],
        [
         95.0
        ],
        [
         89.6
        ],
        [
         92.4
        ],
        [
         86.6
        ],
        [
         90.0
        ],
        [
         90.0
        ],
        [
         92.4
        ],
        [
         87.5
        ],
        [
         99.2
        ],
        [
         98.1
        ],
        [
         83.3
        ],
        [
         86.1
        ],
        [
         84.1
        ],
        [
         89.9
        ],
        [
         92.1
        ],
        [
         78.0
        ],
        [
         93.5
        ],
        [
         87.0
        ],
        [
         90.1
        ],
        [
         90.3
        ],
        [
         99.8
        ],
        [
         89.4
        ],
        [
         87.2
        ],
        [
         101.1
        ],
        [
         86.1
        ],
        [
         98.6
        ],
        [
         88.5
        ],
        [
         106.6
        ],
        [
         93.1
        ],
        [
         93.0
        ],
        [
         91.0
        ],
        [
         77.1
        ],
        [
         85.3
        ],
        [
         81.9
        ],
        [
         99.1
        ],
        [
         100.5
        ],
        [
         76.5
        ],
        [
         106.8
        ],
        [
         77.6
        ],
        [
         102.9
        ],
        [
         72.8
        ],
        [
         88.2
        ],
        [
         100.1
        ],
        [
         83.5
        ],
        [
         105.0
        ],
        [
         90.8
        ],
        [
         76.6
        ],
        [
         92.4
        ],
        [
         81.2
        ],
        [
         95.6
        ],
        [
         92.1
        ],
        [
         83.4
        ],
        [
         106.0
        ],
        [
         95.1
        ],
        [
         90.4
        ],
        [
         100.4
        ],
        [
         115.9
        ],
        [
         90.8
        ],
        [
         81.9
        ],
        [
         75.0
        ],
        [
         90.3
        ],
        [
         90.3
        ],
        [
         108.8
        ],
        [
         79.4
        ],
        [
         83.2
        ],
        [
         110.3
        ],
        [
         92.7
        ],
        [
         104.5
        ],
        [
         104.6
        ],
        [
         69.4
        ],
        [
         83.6
        ],
        [
         86.8
        ],
        [
         90.4
        ],
        [
         83.7
        ],
        [
         109.3
        ],
        [
         98.9
        ],
        [
         98.0
        ],
        [
         101.2
        ],
        [
         80.6
        ],
        [
         113.7
        ],
        [
         94.1
        ],
        [
         105.7
        ],
        [
         85.6
        ],
        [
         96.6
        ],
        [
         86.0
        ],
        [
         89.7
        ],
        [
         78.0
        ],
        [
         89.7
        ],
        [
         89.2
        ],
        [
         85.7
        ],
        [
         103.1
        ],
        [
         89.1
        ],
        [
         113.9
        ],
        [
         96.3
        ],
        [
         93.9
        ],
        [
         101.3
        ],
        [
         83.9
        ],
        [
         84.4
        ],
        [
         79.4
        ],
        [
         104.0
        ],
        [
         89.7
        ],
        [
         97.6
        ],
        [
         87.6
        ],
        [
         122.1
        ],
        [
         81.1
        ],
        [
         81.5
        ],
        [
         100.0
        ],
        [
         88.7
        ],
        [
         91.8
        ],
        [
         110.4
        ],
        [
         87.6
        ],
        [
         82.8
        ],
        [
         95.3
        ],
        [
         78.2
        ],
        [
         91.1
        ],
        [
         96.7
        ],
        [
         89.4
        ],
        [
         93.0
        ],
        [
         86.4
        ],
        [
         96.7
        ],
        [
         88.1
        ],
        [
         94.9
        ],
        [
         93.3
        ],
        [
         95.6
        ],
        [
         98.2
        ],
        [
         113.8
        ],
        [
         82.8
        ],
        [
         100.5
        ],
        [
         79.7
        ],
        [
         118.0
        ],
        [
         109.0
        ],
        [
         113.4
        ],
        [
         106.1
        ],
        [
         84.3
        ],
        [
         107.6
        ],
        [
         83.6
        ],
        [
         105.0
        ],
        [
         111.5
        ],
        [
         101.3
        ],
        [
         108.5
        ]
       ],
       "datasetInfos": [],
       "dbfsResultPath": null,
       "isJsonSchema": true,
       "metadata": {},
       "overflow": false,
       "plotOptions": {
        "customPlotOptions": {},
        "displayType": "table",
        "pivotAggregation": null,
        "pivotColumns": null,
        "xColumns": null,
        "yColumns": null
       },
       "removedWidgets": [],
       "schema": [
        {
         "metadata": "{}",
         "name": "Abdomen",
         "type": "\"double\""
        }
       ],
       "type": "table"
      }
     },
     "output_type": "display_data"
    },
    {
     "output_type": "display_data",
     "data": {
      "text/plain": [
       "Databricks visualization. Run in Databricks to view."
      ]
     },
     "metadata": {
      "application/vnd.databricks.v1.subcommand+json": {
       "baseErrorDetails": null,
       "bindings": {},
       "collapsed": false,
       "command": "%sql WITH q AS (SELECT Abdomen FROM BodyFat) ,min_max AS (SELECT `Abdomen`,(SELECT MAX(`Abdomen`) FROM q) `target_column_max`,(SELECT MIN(`Abdomen`) FROM q) `target_column_min` FROM q) ,histogram_meta AS (SELECT `Abdomen`,`target_column_min` `min_value`,IF(`target_column_max` = `target_column_min`,`target_column_max` + 1,`target_column_max`) `max_value`,(`target_column_max` - `target_column_min`) / 15 `step` FROM min_max) SELECT IF(ISNULL(`Abdomen`),NULL,LEAST(WIDTH_BUCKET(`Abdomen`,`min_value`,`max_value`,15),15)) `Abdomen_BIN`,FIRST(`min_value` + ((IF(ISNULL(`Abdomen`),NULL,LEAST(WIDTH_BUCKET(`Abdomen`,`min_value`,`max_value`,15),15)) - 1) * `step`)) `Abdomen_BIN_LOWER_BOUND`,FIRST(`step`) `Abdomen_BIN_STEP`,COUNT(`Abdomen`) `COUNT` FROM histogram_meta GROUP BY `Abdomen_BIN`",
       "commandTitle": "Visualization 1",
       "commandType": "auto",
       "commandVersion": 0,
       "commentThread": [],
       "commentsVisible": false,
       "contentSha256Hex": null,
       "customPlotOptions": {
        "redashChart": [
         {
          "key": "type",
          "value": "CHART"
         },
         {
          "key": "options",
          "value": {
           "alignYAxesAtZero": true,
           "coefficient": 1,
           "columnConfigurationMap": {
            "x": {
             "column": "Abdomen",
             "id": "column_a0f52a988"
            }
           },
           "dateTimeFormat": "DD/MM/YYYY HH:mm",
           "direction": {
            "type": "counterclockwise"
           },
           "error_y": {
            "type": "data",
            "visible": true
           },
           "globalSeriesType": "histogram",
           "legend": {
            "traceorder": "normal"
           },
           "missingValuesAsZero": true,
           "numBins": 15,
           "numberFormat": "0,0.[00000]",
           "percentFormat": "0[.]00%",
           "series": {
            "error_y": {
             "type": "data",
             "visible": true
            },
            "stacking": null
           },
           "seriesOptions": {},
           "showDataLabels": false,
           "sizemode": "diameter",
           "sortX": true,
           "sortY": true,
           "swappedAxes": false,
           "textFormat": "",
           "useAggregationsUi": true,
           "valuesOptions": {},
           "version": 2,
           "xAxis": {
            "labels": {
             "enabled": true
            },
            "type": "-"
           },
           "yAxis": [
            {
             "type": "-"
            },
            {
             "opposite": true,
             "type": "-"
            }
           ]
          }
         }
        ]
       },
       "datasetPreviewNameToCmdIdMap": {},
       "diffDeletes": [],
       "diffInserts": [],
       "displayType": "redashChart",
       "error": null,
       "errorDetails": null,
       "errorSummary": null,
       "errorTraceType": null,
       "finishTime": 0,
       "globalVars": {},
       "guid": "",
       "height": "auto",
       "hideCommandCode": false,
       "hideCommandResult": false,
       "iPythonMetadata": null,
       "inputWidgets": {},
       "isLockedInExamMode": false,
       "latestUser": "a user",
       "latestUserId": null,
       "listResultMetadata": null,
       "metadata": {
        "byteLimit": 2048000,
        "implicitDf": true,
        "rowLimit": 10000
       },
       "nuid": "a4618684-8f7c-45d1-b463-8a3f3f9083f6",
       "origId": 0,
       "parentHierarchy": [],
       "pivotAggregation": null,
       "pivotColumns": null,
       "position": 14.75,
       "resultDbfsErrorMessage": null,
       "resultDbfsStatus": "INLINED_IN_TREE",
       "results": null,
       "showCommandTitle": false,
       "startTime": 0,
       "state": "finished",
       "streamStates": {},
       "subcommandOptions": {
        "queryPlan": {
         "groups": [
          {
           "column": "Abdomen_BIN",
           "type": "column"
          }
         ],
         "selects": [
          {
           "alias": "Abdomen_BIN",
           "args": [
            {
             "column": "Abdomen",
             "type": "column"
            },
            {
             "number": 15,
             "type": "number"
            }
           ],
           "function": "BIN",
           "type": "function"
          },
          {
           "alias": "Abdomen_BIN_LOWER_BOUND",
           "args": [
            {
             "column": "Abdomen",
             "type": "column"
            },
            {
             "number": 15,
             "type": "number"
            }
           ],
           "function": "BIN_LOWER_BOUND",
           "type": "function"
          },
          {
           "alias": "Abdomen_BIN_STEP",
           "args": [
            {
             "column": "Abdomen",
             "type": "column"
            },
            {
             "number": 15,
             "type": "number"
            }
           ],
           "function": "BIN_STEP",
           "type": "function"
          },
          {
           "alias": "COUNT",
           "args": [
            {
             "column": "Abdomen",
             "type": "column"
            }
           ],
           "function": "COUNT",
           "type": "function"
          }
         ]
        }
       },
       "submitTime": 0,
       "subtype": "tableResultSubCmd.visualization",
       "tableResultIndex": 0,
       "useConsistentColors": false,
       "version": "CommandV1",
       "width": "auto",
       "workflows": [],
       "xColumns": null,
       "yColumns": null
      }
     },
     "output_type": "display_data"
    }
   ],
   "source": [
    "%sql\n",
    "\n",
    "SELECT Abdomen FROM BodyFat;"
   ]
  },
  {
   "cell_type": "markdown",
   "metadata": {
    "application/vnd.databricks.v1+cell": {
     "cellMetadata": {},
     "inputWidgets": {},
     "nuid": "3a50c0b9-fde0-4e56-a741-952ab0fcaa6e",
     "showTitle": false,
     "title": ""
    }
   },
   "source": [
    "#### Histogram of Hip Circumference"
   ]
  },
  {
   "cell_type": "code",
   "execution_count": 0,
   "metadata": {
    "application/vnd.databricks.v1+cell": {
     "cellMetadata": {
      "byteLimit": 2048000,
      "implicitDf": true,
      "rowLimit": 10000
     },
     "inputWidgets": {},
     "nuid": "e393a81d-f156-4780-94ce-4875aa55486c",
     "showTitle": false,
     "title": ""
    }
   },
   "outputs": [
    {
     "output_type": "display_data",
     "data": {
      "text/html": [
       "<style scoped>\n",
       "  .table-result-container {\n",
       "    max-height: 300px;\n",
       "    overflow: auto;\n",
       "  }\n",
       "  table, th, td {\n",
       "    border: 1px solid black;\n",
       "    border-collapse: collapse;\n",
       "  }\n",
       "  th, td {\n",
       "    padding: 5px;\n",
       "  }\n",
       "  th {\n",
       "    text-align: left;\n",
       "  }\n",
       "</style><div class='table-result-container'><table class='table-result'><thead style='background-color: white'><tr><th>Hip</th></tr></thead><tbody><tr><td>94.5</td></tr><tr><td>98.7</td></tr><tr><td>99.2</td></tr><tr><td>101.2</td></tr><tr><td>101.9</td></tr><tr><td>107.8</td></tr><tr><td>100.3</td></tr><tr><td>97.1</td></tr><tr><td>99.9</td></tr><tr><td>104.1</td></tr><tr><td>98.2</td></tr><tr><td>107.7</td></tr><tr><td>103.9</td></tr><tr><td>108.6</td></tr><tr><td>100.1</td></tr><tr><td>99.2</td></tr><tr><td>105.2</td></tr><tr><td>107.0</td></tr><tr><td>102.4</td></tr><tr><td>109.0</td></tr><tr><td>104.9</td></tr><tr><td>104.8</td></tr><tr><td>94.6</td></tr><tr><td>93.4</td></tr><tr><td>95.8</td></tr><tr><td>96.5</td></tr><tr><td>85.3</td></tr><tr><td>94.7</td></tr><tr><td>88.5</td></tr><tr><td>98.7</td></tr><tr><td>99.8</td></tr><tr><td>100.6</td></tr><tr><td>94.5</td></tr><tr><td>108.3</td></tr><tr><td>116.1</td></tr><tr><td>113.8</td></tr><tr><td>106.2</td></tr><tr><td>104.8</td></tr><tr><td>147.7</td></tr><tr><td>102.5</td></tr><tr><td>125.6</td></tr><tr><td>115.5</td></tr><tr><td>114.1</td></tr><tr><td>106.0</td></tr><tr><td>88.2</td></tr><tr><td>97.2</td></tr><tr><td>88.5</td></tr><tr><td>92.7</td></tr><tr><td>90.4</td></tr><tr><td>87.2</td></tr><tr><td>98.3</td></tr><tr><td>91.0</td></tr><tr><td>89.1</td></tr><tr><td>91.6</td></tr><tr><td>88.6</td></tr><tr><td>99.6</td></tr><tr><td>102.5</td></tr><tr><td>105.8</td></tr><tr><td>97.0</td></tr><tr><td>99.6</td></tr><tr><td>103.1</td></tr><tr><td>100.8</td></tr><tr><td>99.4</td></tr><tr><td>99.7</td></tr><tr><td>108.3</td></tr><tr><td>104.2</td></tr><tr><td>93.9</td></tr><tr><td>91.8</td></tr><tr><td>96.1</td></tr><tr><td>94.3</td></tr><tr><td>98.5</td></tr><tr><td>95.5</td></tr><tr><td>96.3</td></tr><tr><td>88.6</td></tr><tr><td>93.0</td></tr><tr><td>94.8</td></tr><tr><td>94.3</td></tr><tr><td>98.3</td></tr><tr><td>99.3</td></tr><tr><td>100.2</td></tr><tr><td>97.1</td></tr><tr><td>96.9</td></tr><tr><td>99.6</td></tr><tr><td>95.0</td></tr><tr><td>96.2</td></tr><tr><td>96.2</td></tr><tr><td>96.9</td></tr><tr><td>93.8</td></tr><tr><td>99.3</td></tr><tr><td>98.3</td></tr><tr><td>102.2</td></tr><tr><td>100.6</td></tr><tr><td>95.4</td></tr><tr><td>100.6</td></tr><tr><td>101.4</td></tr><tr><td>107.5</td></tr><tr><td>102.4</td></tr><tr><td>96.2</td></tr><tr><td>92.8</td></tr><tr><td>103.7</td></tr><tr><td>101.7</td></tr><tr><td>98.3</td></tr><tr><td>98.3</td></tr><tr><td>101.6</td></tr><tr><td>99.5</td></tr><tr><td>96.6</td></tr><tr><td>103.6</td></tr><tr><td>100.7</td></tr><tr><td>102.1</td></tr><tr><td>100.6</td></tr><tr><td>99.3</td></tr><tr><td>103.0</td></tr><tr><td>98.6</td></tr><tr><td>99.8</td></tr><tr><td>97.5</td></tr><tr><td>92.6</td></tr><tr><td>99.7</td></tr><tr><td>96.4</td></tr><tr><td>104.3</td></tr><tr><td>101.0</td></tr><tr><td>104.1</td></tr><tr><td>101.4</td></tr><tr><td>97.5</td></tr><tr><td>95.2</td></tr><tr><td>94.0</td></tr><tr><td>100.0</td></tr><tr><td>98.5</td></tr><tr><td>93.2</td></tr><tr><td>99.5</td></tr><tr><td>97.8</td></tr><tr><td>95.8</td></tr><tr><td>99.1</td></tr><tr><td>103.2</td></tr><tr><td>92.3</td></tr><tr><td>98.4</td></tr><tr><td>102.1</td></tr><tr><td>95.6</td></tr><tr><td>100.6</td></tr><tr><td>98.3</td></tr><tr><td>107.7</td></tr><tr><td>101.6</td></tr><tr><td>99.3</td></tr><tr><td>98.9</td></tr><tr><td>93.9</td></tr><tr><td>102.5</td></tr><tr><td>95.3</td></tr><tr><td>110.1</td></tr><tr><td>106.2</td></tr><tr><td>92.1</td></tr><tr><td>113.9</td></tr><tr><td>93.5</td></tr><tr><td>114.4</td></tr><tr><td>91.1</td></tr><tr><td>95.2</td></tr><tr><td>105.0</td></tr><tr><td>98.3</td></tr><tr><td>106.4</td></tr><tr><td>102.5</td></tr><tr><td>89.8</td></tr><tr><td>99.3</td></tr><tr><td>91.5</td></tr><tr><td>105.1</td></tr><tr><td>103.5</td></tr><tr><td>89.6</td></tr><tr><td>108.8</td></tr><tr><td>104.5</td></tr><tr><td>95.6</td></tr><tr><td>106.8</td></tr><tr><td>111.9</td></tr><tr><td>98.1</td></tr><tr><td>92.8</td></tr><tr><td>89.2</td></tr><tr><td>98.7</td></tr><tr><td>99.9</td></tr><tr><td>114.4</td></tr><tr><td>89.2</td></tr><tr><td>96.4</td></tr><tr><td>113.9</td></tr><tr><td>101.9</td></tr><tr><td>109.9</td></tr><tr><td>109.8</td></tr><tr><td>85.0</td></tr><tr><td>91.6</td></tr><tr><td>96.1</td></tr><tr><td>95.5</td></tr><tr><td>98.1</td></tr><tr><td>108.8</td></tr><tr><td>104.1</td></tr><tr><td>101.8</td></tr><tr><td>103.1</td></tr><tr><td>92.3</td></tr><tr><td>112.4</td></tr><tr><td>102.7</td></tr><tr><td>111.8</td></tr><tr><td>96.5</td></tr><tr><td>100.6</td></tr><tr><td>96.2</td></tr><tr><td>101.0</td></tr><tr><td>99.0</td></tr><tr><td>94.2</td></tr><tr><td>99.2</td></tr><tr><td>96.9</td></tr><tr><td>105.5</td></tr><tr><td>102.6</td></tr><tr><td>107.1</td></tr><tr><td>102.0</td></tr><tr><td>100.1</td></tr><tr><td>101.7</td></tr><tr><td>91.8</td></tr><tr><td>94.0</td></tr><tr><td>89.0</td></tr><tr><td>109.0</td></tr><tr><td>99.1</td></tr><tr><td>104.2</td></tr><tr><td>96.1</td></tr><tr><td>112.8</td></tr><tr><td>96.3</td></tr><tr><td>94.4</td></tr><tr><td>105.0</td></tr><tr><td>94.5</td></tr><tr><td>96.2</td></tr><tr><td>105.5</td></tr><tr><td>95.6</td></tr><tr><td>91.9</td></tr><tr><td>98.2</td></tr><tr><td>87.5</td></tr><tr><td>97.1</td></tr><tr><td>106.6</td></tr><tr><td>98.4</td></tr><tr><td>97.0</td></tr><tr><td>90.1</td></tr><tr><td>100.7</td></tr><tr><td>97.8</td></tr><tr><td>100.2</td></tr><tr><td>94.0</td></tr><tr><td>93.7</td></tr><tr><td>101.1</td></tr><tr><td>111.8</td></tr><tr><td>94.5</td></tr><tr><td>100.5</td></tr><tr><td>87.6</td></tr><tr><td>114.3</td></tr><tr><td>109.1</td></tr><tr><td>109.8</td></tr><tr><td>101.6</td></tr><tr><td>94.4</td></tr><tr><td>110.0</td></tr><tr><td>88.8</td></tr><tr><td>104.5</td></tr><tr><td>101.7</td></tr><tr><td>97.8</td></tr><tr><td>107.1</td></tr></tbody></table></div>"
      ]
     },
     "metadata": {
      "application/vnd.databricks.v1+output": {
       "addedWidgets": {},
       "aggData": [],
       "aggError": "",
       "aggOverflow": false,
       "aggSchema": [],
       "aggSeriesLimitReached": false,
       "aggType": "",
       "arguments": {},
       "columnCustomDisplayInfos": {},
       "data": [
        [
         94.5
        ],
        [
         98.7
        ],
        [
         99.2
        ],
        [
         101.2
        ],
        [
         101.9
        ],
        [
         107.8
        ],
        [
         100.3
        ],
        [
         97.1
        ],
        [
         99.9
        ],
        [
         104.1
        ],
        [
         98.2
        ],
        [
         107.7
        ],
        [
         103.9
        ],
        [
         108.6
        ],
        [
         100.1
        ],
        [
         99.2
        ],
        [
         105.2
        ],
        [
         107.0
        ],
        [
         102.4
        ],
        [
         109.0
        ],
        [
         104.9
        ],
        [
         104.8
        ],
        [
         94.6
        ],
        [
         93.4
        ],
        [
         95.8
        ],
        [
         96.5
        ],
        [
         85.3
        ],
        [
         94.7
        ],
        [
         88.5
        ],
        [
         98.7
        ],
        [
         99.8
        ],
        [
         100.6
        ],
        [
         94.5
        ],
        [
         108.3
        ],
        [
         116.1
        ],
        [
         113.8
        ],
        [
         106.2
        ],
        [
         104.8
        ],
        [
         147.7
        ],
        [
         102.5
        ],
        [
         125.6
        ],
        [
         115.5
        ],
        [
         114.1
        ],
        [
         106.0
        ],
        [
         88.2
        ],
        [
         97.2
        ],
        [
         88.5
        ],
        [
         92.7
        ],
        [
         90.4
        ],
        [
         87.2
        ],
        [
         98.3
        ],
        [
         91.0
        ],
        [
         89.1
        ],
        [
         91.6
        ],
        [
         88.6
        ],
        [
         99.6
        ],
        [
         102.5
        ],
        [
         105.8
        ],
        [
         97.0
        ],
        [
         99.6
        ],
        [
         103.1
        ],
        [
         100.8
        ],
        [
         99.4
        ],
        [
         99.7
        ],
        [
         108.3
        ],
        [
         104.2
        ],
        [
         93.9
        ],
        [
         91.8
        ],
        [
         96.1
        ],
        [
         94.3
        ],
        [
         98.5
        ],
        [
         95.5
        ],
        [
         96.3
        ],
        [
         88.6
        ],
        [
         93.0
        ],
        [
         94.8
        ],
        [
         94.3
        ],
        [
         98.3
        ],
        [
         99.3
        ],
        [
         100.2
        ],
        [
         97.1
        ],
        [
         96.9
        ],
        [
         99.6
        ],
        [
         95.0
        ],
        [
         96.2
        ],
        [
         96.2
        ],
        [
         96.9
        ],
        [
         93.8
        ],
        [
         99.3
        ],
        [
         98.3
        ],
        [
         102.2
        ],
        [
         100.6
        ],
        [
         95.4
        ],
        [
         100.6
        ],
        [
         101.4
        ],
        [
         107.5
        ],
        [
         102.4
        ],
        [
         96.2
        ],
        [
         92.8
        ],
        [
         103.7
        ],
        [
         101.7
        ],
        [
         98.3
        ],
        [
         98.3
        ],
        [
         101.6
        ],
        [
         99.5
        ],
        [
         96.6
        ],
        [
         103.6
        ],
        [
         100.7
        ],
        [
         102.1
        ],
        [
         100.6
        ],
        [
         99.3
        ],
        [
         103.0
        ],
        [
         98.6
        ],
        [
         99.8
        ],
        [
         97.5
        ],
        [
         92.6
        ],
        [
         99.7
        ],
        [
         96.4
        ],
        [
         104.3
        ],
        [
         101.0
        ],
        [
         104.1
        ],
        [
         101.4
        ],
        [
         97.5
        ],
        [
         95.2
        ],
        [
         94.0
        ],
        [
         100.0
        ],
        [
         98.5
        ],
        [
         93.2
        ],
        [
         99.5
        ],
        [
         97.8
        ],
        [
         95.8
        ],
        [
         99.1
        ],
        [
         103.2
        ],
        [
         92.3
        ],
        [
         98.4
        ],
        [
         102.1
        ],
        [
         95.6
        ],
        [
         100.6
        ],
        [
         98.3
        ],
        [
         107.7
        ],
        [
         101.6
        ],
        [
         99.3
        ],
        [
         98.9
        ],
        [
         93.9
        ],
        [
         102.5
        ],
        [
         95.3
        ],
        [
         110.1
        ],
        [
         106.2
        ],
        [
         92.1
        ],
        [
         113.9
        ],
        [
         93.5
        ],
        [
         114.4
        ],
        [
         91.1
        ],
        [
         95.2
        ],
        [
         105.0
        ],
        [
         98.3
        ],
        [
         106.4
        ],
        [
         102.5
        ],
        [
         89.8
        ],
        [
         99.3
        ],
        [
         91.5
        ],
        [
         105.1
        ],
        [
         103.5
        ],
        [
         89.6
        ],
        [
         108.8
        ],
        [
         104.5
        ],
        [
         95.6
        ],
        [
         106.8
        ],
        [
         111.9
        ],
        [
         98.1
        ],
        [
         92.8
        ],
        [
         89.2
        ],
        [
         98.7
        ],
        [
         99.9
        ],
        [
         114.4
        ],
        [
         89.2
        ],
        [
         96.4
        ],
        [
         113.9
        ],
        [
         101.9
        ],
        [
         109.9
        ],
        [
         109.8
        ],
        [
         85.0
        ],
        [
         91.6
        ],
        [
         96.1
        ],
        [
         95.5
        ],
        [
         98.1
        ],
        [
         108.8
        ],
        [
         104.1
        ],
        [
         101.8
        ],
        [
         103.1
        ],
        [
         92.3
        ],
        [
         112.4
        ],
        [
         102.7
        ],
        [
         111.8
        ],
        [
         96.5
        ],
        [
         100.6
        ],
        [
         96.2
        ],
        [
         101.0
        ],
        [
         99.0
        ],
        [
         94.2
        ],
        [
         99.2
        ],
        [
         96.9
        ],
        [
         105.5
        ],
        [
         102.6
        ],
        [
         107.1
        ],
        [
         102.0
        ],
        [
         100.1
        ],
        [
         101.7
        ],
        [
         91.8
        ],
        [
         94.0
        ],
        [
         89.0
        ],
        [
         109.0
        ],
        [
         99.1
        ],
        [
         104.2
        ],
        [
         96.1
        ],
        [
         112.8
        ],
        [
         96.3
        ],
        [
         94.4
        ],
        [
         105.0
        ],
        [
         94.5
        ],
        [
         96.2
        ],
        [
         105.5
        ],
        [
         95.6
        ],
        [
         91.9
        ],
        [
         98.2
        ],
        [
         87.5
        ],
        [
         97.1
        ],
        [
         106.6
        ],
        [
         98.4
        ],
        [
         97.0
        ],
        [
         90.1
        ],
        [
         100.7
        ],
        [
         97.8
        ],
        [
         100.2
        ],
        [
         94.0
        ],
        [
         93.7
        ],
        [
         101.1
        ],
        [
         111.8
        ],
        [
         94.5
        ],
        [
         100.5
        ],
        [
         87.6
        ],
        [
         114.3
        ],
        [
         109.1
        ],
        [
         109.8
        ],
        [
         101.6
        ],
        [
         94.4
        ],
        [
         110.0
        ],
        [
         88.8
        ],
        [
         104.5
        ],
        [
         101.7
        ],
        [
         97.8
        ],
        [
         107.1
        ]
       ],
       "datasetInfos": [],
       "dbfsResultPath": null,
       "isJsonSchema": true,
       "metadata": {},
       "overflow": false,
       "plotOptions": {
        "customPlotOptions": {},
        "displayType": "table",
        "pivotAggregation": null,
        "pivotColumns": null,
        "xColumns": null,
        "yColumns": null
       },
       "removedWidgets": [],
       "schema": [
        {
         "metadata": "{}",
         "name": "Hip",
         "type": "\"double\""
        }
       ],
       "type": "table"
      }
     },
     "output_type": "display_data"
    },
    {
     "output_type": "display_data",
     "data": {
      "text/plain": [
       "Databricks visualization. Run in Databricks to view."
      ]
     },
     "metadata": {
      "application/vnd.databricks.v1.subcommand+json": {
       "baseErrorDetails": null,
       "bindings": {},
       "collapsed": false,
       "command": "%sql WITH q AS (SELECT Hip FROM BodyFat) ,min_max AS (SELECT `Hip`,(SELECT MAX(`Hip`) FROM q) `target_column_max`,(SELECT MIN(`Hip`) FROM q) `target_column_min` FROM q) ,histogram_meta AS (SELECT `Hip`,`target_column_min` `min_value`,IF(`target_column_max` = `target_column_min`,`target_column_max` + 1,`target_column_max`) `max_value`,(`target_column_max` - `target_column_min`) / 15 `step` FROM min_max) SELECT IF(ISNULL(`Hip`),NULL,LEAST(WIDTH_BUCKET(`Hip`,`min_value`,`max_value`,15),15)) `Hip_BIN`,FIRST(`min_value` + ((IF(ISNULL(`Hip`),NULL,LEAST(WIDTH_BUCKET(`Hip`,`min_value`,`max_value`,15),15)) - 1) * `step`)) `Hip_BIN_LOWER_BOUND`,FIRST(`step`) `Hip_BIN_STEP`,COUNT(`Hip`) `COUNT` FROM histogram_meta GROUP BY `Hip_BIN`",
       "commandTitle": "Visualization 1",
       "commandType": "auto",
       "commandVersion": 0,
       "commentThread": [],
       "commentsVisible": false,
       "contentSha256Hex": null,
       "customPlotOptions": {
        "redashChart": [
         {
          "key": "type",
          "value": "CHART"
         },
         {
          "key": "options",
          "value": {
           "alignYAxesAtZero": true,
           "coefficient": 1,
           "columnConfigurationMap": {
            "x": {
             "column": "Hip",
             "id": "column_a0f52a989"
            }
           },
           "dateTimeFormat": "DD/MM/YYYY HH:mm",
           "direction": {
            "type": "counterclockwise"
           },
           "error_y": {
            "type": "data",
            "visible": true
           },
           "globalSeriesType": "histogram",
           "legend": {
            "traceorder": "normal"
           },
           "missingValuesAsZero": true,
           "numBins": 15,
           "numberFormat": "0,0.[00000]",
           "percentFormat": "0[.]00%",
           "series": {
            "error_y": {
             "type": "data",
             "visible": true
            },
            "stacking": null
           },
           "seriesOptions": {},
           "showDataLabels": false,
           "sizemode": "diameter",
           "sortX": true,
           "sortY": true,
           "swappedAxes": false,
           "textFormat": "",
           "useAggregationsUi": true,
           "valuesOptions": {},
           "version": 2,
           "xAxis": {
            "labels": {
             "enabled": true
            },
            "type": "-"
           },
           "yAxis": [
            {
             "type": "-"
            },
            {
             "opposite": true,
             "type": "-"
            }
           ]
          }
         }
        ]
       },
       "datasetPreviewNameToCmdIdMap": {},
       "diffDeletes": [],
       "diffInserts": [],
       "displayType": "redashChart",
       "error": null,
       "errorDetails": null,
       "errorSummary": null,
       "errorTraceType": null,
       "finishTime": 0,
       "globalVars": {},
       "guid": "",
       "height": "auto",
       "hideCommandCode": false,
       "hideCommandResult": false,
       "iPythonMetadata": null,
       "inputWidgets": {},
       "isLockedInExamMode": false,
       "latestUser": "a user",
       "latestUserId": null,
       "listResultMetadata": null,
       "metadata": {
        "byteLimit": 2048000,
        "implicitDf": true,
        "rowLimit": 10000
       },
       "nuid": "4e186f5a-b128-48b9-8aef-e84146633309",
       "origId": 0,
       "parentHierarchy": [],
       "pivotAggregation": null,
       "pivotColumns": null,
       "position": 15.75,
       "resultDbfsErrorMessage": null,
       "resultDbfsStatus": "INLINED_IN_TREE",
       "results": null,
       "showCommandTitle": false,
       "startTime": 0,
       "state": "finished",
       "streamStates": {},
       "subcommandOptions": {
        "queryPlan": {
         "groups": [
          {
           "column": "Hip_BIN",
           "type": "column"
          }
         ],
         "selects": [
          {
           "alias": "Hip_BIN",
           "args": [
            {
             "column": "Hip",
             "type": "column"
            },
            {
             "number": 15,
             "type": "number"
            }
           ],
           "function": "BIN",
           "type": "function"
          },
          {
           "alias": "Hip_BIN_LOWER_BOUND",
           "args": [
            {
             "column": "Hip",
             "type": "column"
            },
            {
             "number": 15,
             "type": "number"
            }
           ],
           "function": "BIN_LOWER_BOUND",
           "type": "function"
          },
          {
           "alias": "Hip_BIN_STEP",
           "args": [
            {
             "column": "Hip",
             "type": "column"
            },
            {
             "number": 15,
             "type": "number"
            }
           ],
           "function": "BIN_STEP",
           "type": "function"
          },
          {
           "alias": "COUNT",
           "args": [
            {
             "column": "Hip",
             "type": "column"
            }
           ],
           "function": "COUNT",
           "type": "function"
          }
         ]
        }
       },
       "submitTime": 0,
       "subtype": "tableResultSubCmd.visualization",
       "tableResultIndex": 0,
       "useConsistentColors": false,
       "version": "CommandV1",
       "width": "auto",
       "workflows": [],
       "xColumns": null,
       "yColumns": null
      }
     },
     "output_type": "display_data"
    }
   ],
   "source": [
    "%sql\n",
    "\n",
    "SELECT Hip FROM BodyFat;"
   ]
  },
  {
   "cell_type": "markdown",
   "metadata": {
    "application/vnd.databricks.v1+cell": {
     "cellMetadata": {},
     "inputWidgets": {},
     "nuid": "6850f4d4-abc8-4acf-bfb8-51ebe88f08d5",
     "showTitle": false,
     "title": ""
    }
   },
   "source": [
    "#### Histogram of Thigh Circumference"
   ]
  },
  {
   "cell_type": "code",
   "execution_count": 0,
   "metadata": {
    "application/vnd.databricks.v1+cell": {
     "cellMetadata": {
      "byteLimit": 2048000,
      "implicitDf": true,
      "rowLimit": 10000
     },
     "inputWidgets": {},
     "nuid": "c64a175a-0820-4fac-b683-c8f6c26f5507",
     "showTitle": false,
     "title": ""
    }
   },
   "outputs": [
    {
     "output_type": "display_data",
     "data": {
      "text/html": [
       "<style scoped>\n",
       "  .table-result-container {\n",
       "    max-height: 300px;\n",
       "    overflow: auto;\n",
       "  }\n",
       "  table, th, td {\n",
       "    border: 1px solid black;\n",
       "    border-collapse: collapse;\n",
       "  }\n",
       "  th, td {\n",
       "    padding: 5px;\n",
       "  }\n",
       "  th {\n",
       "    text-align: left;\n",
       "  }\n",
       "</style><div class='table-result-container'><table class='table-result'><thead style='background-color: white'><tr><th>Thigh</th></tr></thead><tbody><tr><td>59.0</td></tr><tr><td>58.7</td></tr><tr><td>59.6</td></tr><tr><td>60.1</td></tr><tr><td>63.2</td></tr><tr><td>66.0</td></tr><tr><td>58.4</td></tr><tr><td>60.0</td></tr><tr><td>62.9</td></tr><tr><td>63.1</td></tr><tr><td>59.7</td></tr><tr><td>66.2</td></tr><tr><td>63.4</td></tr><tr><td>66.0</td></tr><tr><td>69.0</td></tr><tr><td>63.1</td></tr><tr><td>64.8</td></tr><tr><td>66.9</td></tr><tr><td>64.2</td></tr><tr><td>65.8</td></tr><tr><td>63.5</td></tr><tr><td>63.4</td></tr><tr><td>57.4</td></tr><tr><td>54.9</td></tr><tr><td>58.4</td></tr><tr><td>55.0</td></tr><tr><td>51.7</td></tr><tr><td>57.5</td></tr><tr><td>50.1</td></tr><tr><td>58.9</td></tr><tr><td>57.5</td></tr><tr><td>58.5</td></tr><tr><td>57.3</td></tr><tr><td>67.1</td></tr><tr><td>71.2</td></tr><tr><td>61.9</td></tr><tr><td>63.5</td></tr><tr><td>66.0</td></tr><tr><td>87.3</td></tr><tr><td>61.3</td></tr><tr><td>72.5</td></tr><tr><td>70.6</td></tr><tr><td>67.7</td></tr><tr><td>65.0</td></tr><tr><td>50.0</td></tr><tr><td>58.4</td></tr><tr><td>53.3</td></tr><tr><td>52.7</td></tr><tr><td>52.0</td></tr><tr><td>50.6</td></tr><tr><td>52.6</td></tr><tr><td>51.4</td></tr><tr><td>49.3</td></tr><tr><td>52.6</td></tr><tr><td>51.9</td></tr><tr><td>57.2</td></tr><tr><td>62.1</td></tr><tr><td>61.8</td></tr><tr><td>59.1</td></tr><tr><td>60.6</td></tr><tr><td>61.6</td></tr><tr><td>60.9</td></tr><tr><td>61.0</td></tr><tr><td>60.8</td></tr><tr><td>65.0</td></tr><tr><td>64.8</td></tr><tr><td>55.0</td></tr><tr><td>54.3</td></tr><tr><td>56.0</td></tr><tr><td>51.2</td></tr><tr><td>56.6</td></tr><tr><td>58.9</td></tr><tr><td>52.9</td></tr><tr><td>50.9</td></tr><tr><td>55.5</td></tr><tr><td>54.5</td></tr><tr><td>56.7</td></tr><tr><td>55.0</td></tr><tr><td>53.5</td></tr><tr><td>56.5</td></tr><tr><td>54.8</td></tr><tr><td>54.8</td></tr><tr><td>58.9</td></tr><tr><td>56.0</td></tr><tr><td>56.3</td></tr><tr><td>54.7</td></tr><tr><td>57.2</td></tr><tr><td>57.8</td></tr><tr><td>61.0</td></tr><tr><td>60.4</td></tr><tr><td>58.3</td></tr><tr><td>58.9</td></tr><tr><td>56.9</td></tr><tr><td>58.9</td></tr><tr><td>57.4</td></tr><tr><td>61.7</td></tr><tr><td>60.6</td></tr><tr><td>62.1</td></tr><tr><td>54.7</td></tr><tr><td>62.7</td></tr><tr><td>59.0</td></tr><tr><td>59.3</td></tr><tr><td>60.0</td></tr><tr><td>59.1</td></tr><tr><td>59.5</td></tr><tr><td>54.7</td></tr><tr><td>61.2</td></tr><tr><td>55.8</td></tr><tr><td>57.5</td></tr><tr><td>57.5</td></tr><tr><td>61.9</td></tr><tr><td>63.7</td></tr><tr><td>62.3</td></tr><tr><td>61.5</td></tr><tr><td>59.3</td></tr><tr><td>55.9</td></tr><tr><td>58.8</td></tr><tr><td>56.8</td></tr><tr><td>64.6</td></tr><tr><td>58.5</td></tr><tr><td>58.5</td></tr><tr><td>57.1</td></tr><tr><td>60.5</td></tr><tr><td>58.1</td></tr><tr><td>58.5</td></tr><tr><td>60.7</td></tr><tr><td>60.7</td></tr><tr><td>53.5</td></tr><tr><td>61.7</td></tr><tr><td>57.4</td></tr><tr><td>57.0</td></tr><tr><td>60.3</td></tr><tr><td>61.2</td></tr><tr><td>56.1</td></tr><tr><td>56.0</td></tr><tr><td>58.9</td></tr><tr><td>58.8</td></tr><tr><td>63.6</td></tr><tr><td>58.1</td></tr><tr><td>66.5</td></tr><tr><td>59.1</td></tr><tr><td>60.4</td></tr><tr><td>57.1</td></tr><tr><td>56.1</td></tr><tr><td>59.1</td></tr><tr><td>56.4</td></tr><tr><td>71.2</td></tr><tr><td>68.4</td></tr><tr><td>51.9</td></tr><tr><td>67.6</td></tr><tr><td>56.9</td></tr><tr><td>72.9</td></tr><tr><td>53.6</td></tr><tr><td>56.8</td></tr><tr><td>62.1</td></tr><tr><td>57.3</td></tr><tr><td>68.6</td></tr><tr><td>60.8</td></tr><tr><td>50.1</td></tr><tr><td>59.4</td></tr><tr><td>52.5</td></tr><tr><td>61.4</td></tr><tr><td>64.0</td></tr><tr><td>52.4</td></tr><tr><td>63.8</td></tr><tr><td>64.8</td></tr><tr><td>55.5</td></tr><tr><td>63.3</td></tr><tr><td>74.4</td></tr><tr><td>60.1</td></tr><tr><td>54.7</td></tr><tr><td>50.0</td></tr><tr><td>57.8</td></tr><tr><td>59.2</td></tr><tr><td>69.2</td></tr><tr><td>50.3</td></tr><tr><td>60.0</td></tr><tr><td>69.8</td></tr><tr><td>64.7</td></tr><tr><td>69.5</td></tr><tr><td>68.1</td></tr><tr><td>47.2</td></tr><tr><td>54.1</td></tr><tr><td>58.0</td></tr><tr><td>55.4</td></tr><tr><td>57.3</td></tr><tr><td>67.7</td></tr><tr><td>63.5</td></tr><tr><td>62.8</td></tr><tr><td>61.5</td></tr><tr><td>54.3</td></tr><tr><td>68.5</td></tr><tr><td>60.6</td></tr><tr><td>65.3</td></tr><tr><td>60.2</td></tr><tr><td>61.1</td></tr><tr><td>57.7</td></tr><tr><td>62.3</td></tr><tr><td>57.5</td></tr><tr><td>58.5</td></tr><tr><td>60.2</td></tr><tr><td>55.5</td></tr><tr><td>68.8</td></tr><tr><td>60.6</td></tr><tr><td>63.5</td></tr><tr><td>63.3</td></tr><tr><td>58.9</td></tr><tr><td>60.7</td></tr><tr><td>53.0</td></tr><tr><td>56.0</td></tr><tr><td>51.1</td></tr><tr><td>63.7</td></tr><tr><td>56.3</td></tr><tr><td>60.0</td></tr><tr><td>57.1</td></tr><tr><td>62.5</td></tr><tr><td>53.8</td></tr><tr><td>54.7</td></tr><tr><td>63.9</td></tr><tr><td>53.7</td></tr><tr><td>57.7</td></tr><tr><td>64.2</td></tr><tr><td>59.7</td></tr><tr><td>54.4</td></tr><tr><td>57.4</td></tr><tr><td>50.8</td></tr><tr><td>56.6</td></tr><tr><td>64.0</td></tr><tr><td>58.4</td></tr><tr><td>55.4</td></tr><tr><td>53.0</td></tr><tr><td>59.3</td></tr><tr><td>57.1</td></tr><tr><td>56.8</td></tr><tr><td>54.3</td></tr><tr><td>54.4</td></tr><tr><td>59.3</td></tr><tr><td>63.4</td></tr><tr><td>61.2</td></tr><tr><td>59.2</td></tr><tr><td>50.7</td></tr><tr><td>61.3</td></tr><tr><td>63.7</td></tr><tr><td>65.6</td></tr><tr><td>58.2</td></tr><tr><td>54.3</td></tr><tr><td>63.3</td></tr><tr><td>49.6</td></tr><tr><td>59.6</td></tr><tr><td>60.3</td></tr><tr><td>56.0</td></tr><tr><td>59.3</td></tr></tbody></table></div>"
      ]
     },
     "metadata": {
      "application/vnd.databricks.v1+output": {
       "addedWidgets": {},
       "aggData": [],
       "aggError": "",
       "aggOverflow": false,
       "aggSchema": [],
       "aggSeriesLimitReached": false,
       "aggType": "",
       "arguments": {},
       "columnCustomDisplayInfos": {},
       "data": [
        [
         59.0
        ],
        [
         58.7
        ],
        [
         59.6
        ],
        [
         60.1
        ],
        [
         63.2
        ],
        [
         66.0
        ],
        [
         58.4
        ],
        [
         60.0
        ],
        [
         62.9
        ],
        [
         63.1
        ],
        [
         59.7
        ],
        [
         66.2
        ],
        [
         63.4
        ],
        [
         66.0
        ],
        [
         69.0
        ],
        [
         63.1
        ],
        [
         64.8
        ],
        [
         66.9
        ],
        [
         64.2
        ],
        [
         65.8
        ],
        [
         63.5
        ],
        [
         63.4
        ],
        [
         57.4
        ],
        [
         54.9
        ],
        [
         58.4
        ],
        [
         55.0
        ],
        [
         51.7
        ],
        [
         57.5
        ],
        [
         50.1
        ],
        [
         58.9
        ],
        [
         57.5
        ],
        [
         58.5
        ],
        [
         57.3
        ],
        [
         67.1
        ],
        [
         71.2
        ],
        [
         61.9
        ],
        [
         63.5
        ],
        [
         66.0
        ],
        [
         87.3
        ],
        [
         61.3
        ],
        [
         72.5
        ],
        [
         70.6
        ],
        [
         67.7
        ],
        [
         65.0
        ],
        [
         50.0
        ],
        [
         58.4
        ],
        [
         53.3
        ],
        [
         52.7
        ],
        [
         52.0
        ],
        [
         50.6
        ],
        [
         52.6
        ],
        [
         51.4
        ],
        [
         49.3
        ],
        [
         52.6
        ],
        [
         51.9
        ],
        [
         57.2
        ],
        [
         62.1
        ],
        [
         61.8
        ],
        [
         59.1
        ],
        [
         60.6
        ],
        [
         61.6
        ],
        [
         60.9
        ],
        [
         61.0
        ],
        [
         60.8
        ],
        [
         65.0
        ],
        [
         64.8
        ],
        [
         55.0
        ],
        [
         54.3
        ],
        [
         56.0
        ],
        [
         51.2
        ],
        [
         56.6
        ],
        [
         58.9
        ],
        [
         52.9
        ],
        [
         50.9
        ],
        [
         55.5
        ],
        [
         54.5
        ],
        [
         56.7
        ],
        [
         55.0
        ],
        [
         53.5
        ],
        [
         56.5
        ],
        [
         54.8
        ],
        [
         54.8
        ],
        [
         58.9
        ],
        [
         56.0
        ],
        [
         56.3
        ],
        [
         54.7
        ],
        [
         57.2
        ],
        [
         57.8
        ],
        [
         61.0
        ],
        [
         60.4
        ],
        [
         58.3
        ],
        [
         58.9
        ],
        [
         56.9
        ],
        [
         58.9
        ],
        [
         57.4
        ],
        [
         61.7
        ],
        [
         60.6
        ],
        [
         62.1
        ],
        [
         54.7
        ],
        [
         62.7
        ],
        [
         59.0
        ],
        [
         59.3
        ],
        [
         60.0
        ],
        [
         59.1
        ],
        [
         59.5
        ],
        [
         54.7
        ],
        [
         61.2
        ],
        [
         55.8
        ],
        [
         57.5
        ],
        [
         57.5
        ],
        [
         61.9
        ],
        [
         63.7
        ],
        [
         62.3
        ],
        [
         61.5
        ],
        [
         59.3
        ],
        [
         55.9
        ],
        [
         58.8
        ],
        [
         56.8
        ],
        [
         64.6
        ],
        [
         58.5
        ],
        [
         58.5
        ],
        [
         57.1
        ],
        [
         60.5
        ],
        [
         58.1
        ],
        [
         58.5
        ],
        [
         60.7
        ],
        [
         60.7
        ],
        [
         53.5
        ],
        [
         61.7
        ],
        [
         57.4
        ],
        [
         57.0
        ],
        [
         60.3
        ],
        [
         61.2
        ],
        [
         56.1
        ],
        [
         56.0
        ],
        [
         58.9
        ],
        [
         58.8
        ],
        [
         63.6
        ],
        [
         58.1
        ],
        [
         66.5
        ],
        [
         59.1
        ],
        [
         60.4
        ],
        [
         57.1
        ],
        [
         56.1
        ],
        [
         59.1
        ],
        [
         56.4
        ],
        [
         71.2
        ],
        [
         68.4
        ],
        [
         51.9
        ],
        [
         67.6
        ],
        [
         56.9
        ],
        [
         72.9
        ],
        [
         53.6
        ],
        [
         56.8
        ],
        [
         62.1
        ],
        [
         57.3
        ],
        [
         68.6
        ],
        [
         60.8
        ],
        [
         50.1
        ],
        [
         59.4
        ],
        [
         52.5
        ],
        [
         61.4
        ],
        [
         64.0
        ],
        [
         52.4
        ],
        [
         63.8
        ],
        [
         64.8
        ],
        [
         55.5
        ],
        [
         63.3
        ],
        [
         74.4
        ],
        [
         60.1
        ],
        [
         54.7
        ],
        [
         50.0
        ],
        [
         57.8
        ],
        [
         59.2
        ],
        [
         69.2
        ],
        [
         50.3
        ],
        [
         60.0
        ],
        [
         69.8
        ],
        [
         64.7
        ],
        [
         69.5
        ],
        [
         68.1
        ],
        [
         47.2
        ],
        [
         54.1
        ],
        [
         58.0
        ],
        [
         55.4
        ],
        [
         57.3
        ],
        [
         67.7
        ],
        [
         63.5
        ],
        [
         62.8
        ],
        [
         61.5
        ],
        [
         54.3
        ],
        [
         68.5
        ],
        [
         60.6
        ],
        [
         65.3
        ],
        [
         60.2
        ],
        [
         61.1
        ],
        [
         57.7
        ],
        [
         62.3
        ],
        [
         57.5
        ],
        [
         58.5
        ],
        [
         60.2
        ],
        [
         55.5
        ],
        [
         68.8
        ],
        [
         60.6
        ],
        [
         63.5
        ],
        [
         63.3
        ],
        [
         58.9
        ],
        [
         60.7
        ],
        [
         53.0
        ],
        [
         56.0
        ],
        [
         51.1
        ],
        [
         63.7
        ],
        [
         56.3
        ],
        [
         60.0
        ],
        [
         57.1
        ],
        [
         62.5
        ],
        [
         53.8
        ],
        [
         54.7
        ],
        [
         63.9
        ],
        [
         53.7
        ],
        [
         57.7
        ],
        [
         64.2
        ],
        [
         59.7
        ],
        [
         54.4
        ],
        [
         57.4
        ],
        [
         50.8
        ],
        [
         56.6
        ],
        [
         64.0
        ],
        [
         58.4
        ],
        [
         55.4
        ],
        [
         53.0
        ],
        [
         59.3
        ],
        [
         57.1
        ],
        [
         56.8
        ],
        [
         54.3
        ],
        [
         54.4
        ],
        [
         59.3
        ],
        [
         63.4
        ],
        [
         61.2
        ],
        [
         59.2
        ],
        [
         50.7
        ],
        [
         61.3
        ],
        [
         63.7
        ],
        [
         65.6
        ],
        [
         58.2
        ],
        [
         54.3
        ],
        [
         63.3
        ],
        [
         49.6
        ],
        [
         59.6
        ],
        [
         60.3
        ],
        [
         56.0
        ],
        [
         59.3
        ]
       ],
       "datasetInfos": [],
       "dbfsResultPath": null,
       "isJsonSchema": true,
       "metadata": {},
       "overflow": false,
       "plotOptions": {
        "customPlotOptions": {},
        "displayType": "table",
        "pivotAggregation": null,
        "pivotColumns": null,
        "xColumns": null,
        "yColumns": null
       },
       "removedWidgets": [],
       "schema": [
        {
         "metadata": "{}",
         "name": "Thigh",
         "type": "\"double\""
        }
       ],
       "type": "table"
      }
     },
     "output_type": "display_data"
    },
    {
     "output_type": "display_data",
     "data": {
      "text/plain": [
       "Databricks visualization. Run in Databricks to view."
      ]
     },
     "metadata": {
      "application/vnd.databricks.v1.subcommand+json": {
       "baseErrorDetails": null,
       "bindings": {},
       "collapsed": false,
       "command": "%sql WITH q AS (SELECT Thigh FROM BodyFat) ,min_max AS (SELECT `Thigh`,(SELECT MAX(`Thigh`) FROM q) `target_column_max`,(SELECT MIN(`Thigh`) FROM q) `target_column_min` FROM q) ,histogram_meta AS (SELECT `Thigh`,`target_column_min` `min_value`,IF(`target_column_max` = `target_column_min`,`target_column_max` + 1,`target_column_max`) `max_value`,(`target_column_max` - `target_column_min`) / 15 `step` FROM min_max) SELECT IF(ISNULL(`Thigh`),NULL,LEAST(WIDTH_BUCKET(`Thigh`,`min_value`,`max_value`,15),15)) `Thigh_BIN`,FIRST(`min_value` + ((IF(ISNULL(`Thigh`),NULL,LEAST(WIDTH_BUCKET(`Thigh`,`min_value`,`max_value`,15),15)) - 1) * `step`)) `Thigh_BIN_LOWER_BOUND`,FIRST(`step`) `Thigh_BIN_STEP`,COUNT(`Thigh`) `COUNT` FROM histogram_meta GROUP BY `Thigh_BIN`",
       "commandTitle": "Visualization 1",
       "commandType": "auto",
       "commandVersion": 0,
       "commentThread": [],
       "commentsVisible": false,
       "contentSha256Hex": null,
       "customPlotOptions": {
        "redashChart": [
         {
          "key": "type",
          "value": "CHART"
         },
         {
          "key": "options",
          "value": {
           "alignYAxesAtZero": true,
           "coefficient": 1,
           "columnConfigurationMap": {
            "x": {
             "column": "Thigh",
             "id": "column_a0f52a9810"
            }
           },
           "dateTimeFormat": "DD/MM/YYYY HH:mm",
           "direction": {
            "type": "counterclockwise"
           },
           "error_y": {
            "type": "data",
            "visible": true
           },
           "globalSeriesType": "histogram",
           "legend": {
            "traceorder": "normal"
           },
           "missingValuesAsZero": true,
           "numBins": 15,
           "numberFormat": "0,0.[00000]",
           "percentFormat": "0[.]00%",
           "series": {
            "error_y": {
             "type": "data",
             "visible": true
            },
            "stacking": null
           },
           "seriesOptions": {},
           "showDataLabels": false,
           "sizemode": "diameter",
           "sortX": true,
           "sortY": true,
           "swappedAxes": false,
           "textFormat": "",
           "useAggregationsUi": true,
           "valuesOptions": {},
           "version": 2,
           "xAxis": {
            "labels": {
             "enabled": true
            },
            "type": "-"
           },
           "yAxis": [
            {
             "type": "-"
            },
            {
             "opposite": true,
             "type": "-"
            }
           ]
          }
         }
        ]
       },
       "datasetPreviewNameToCmdIdMap": {},
       "diffDeletes": [],
       "diffInserts": [],
       "displayType": "redashChart",
       "error": null,
       "errorDetails": null,
       "errorSummary": null,
       "errorTraceType": null,
       "finishTime": 0,
       "globalVars": {},
       "guid": "",
       "height": "auto",
       "hideCommandCode": false,
       "hideCommandResult": false,
       "iPythonMetadata": null,
       "inputWidgets": {},
       "isLockedInExamMode": false,
       "latestUser": "a user",
       "latestUserId": null,
       "listResultMetadata": null,
       "metadata": {
        "byteLimit": 2048000,
        "implicitDf": true,
        "rowLimit": 10000
       },
       "nuid": "d1e5a437-689c-46fd-b340-d175e2e9f71c",
       "origId": 0,
       "parentHierarchy": [],
       "pivotAggregation": null,
       "pivotColumns": null,
       "position": 16.75,
       "resultDbfsErrorMessage": null,
       "resultDbfsStatus": "INLINED_IN_TREE",
       "results": null,
       "showCommandTitle": false,
       "startTime": 0,
       "state": "finished",
       "streamStates": {},
       "subcommandOptions": {
        "queryPlan": {
         "groups": [
          {
           "column": "Thigh_BIN",
           "type": "column"
          }
         ],
         "selects": [
          {
           "alias": "Thigh_BIN",
           "args": [
            {
             "column": "Thigh",
             "type": "column"
            },
            {
             "number": 15,
             "type": "number"
            }
           ],
           "function": "BIN",
           "type": "function"
          },
          {
           "alias": "Thigh_BIN_LOWER_BOUND",
           "args": [
            {
             "column": "Thigh",
             "type": "column"
            },
            {
             "number": 15,
             "type": "number"
            }
           ],
           "function": "BIN_LOWER_BOUND",
           "type": "function"
          },
          {
           "alias": "Thigh_BIN_STEP",
           "args": [
            {
             "column": "Thigh",
             "type": "column"
            },
            {
             "number": 15,
             "type": "number"
            }
           ],
           "function": "BIN_STEP",
           "type": "function"
          },
          {
           "alias": "COUNT",
           "args": [
            {
             "column": "Thigh",
             "type": "column"
            }
           ],
           "function": "COUNT",
           "type": "function"
          }
         ]
        }
       },
       "submitTime": 0,
       "subtype": "tableResultSubCmd.visualization",
       "tableResultIndex": 0,
       "useConsistentColors": false,
       "version": "CommandV1",
       "width": "auto",
       "workflows": [],
       "xColumns": null,
       "yColumns": null
      }
     },
     "output_type": "display_data"
    }
   ],
   "source": [
    "%sql\n",
    "\n",
    "SELECT Thigh FROM BodyFat;"
   ]
  },
  {
   "cell_type": "markdown",
   "metadata": {
    "application/vnd.databricks.v1+cell": {
     "cellMetadata": {},
     "inputWidgets": {},
     "nuid": "b6ee1842-b59f-4233-aa91-2c682f58f514",
     "showTitle": false,
     "title": ""
    }
   },
   "source": [
    "#### Histogram of Knee Circumference"
   ]
  },
  {
   "cell_type": "code",
   "execution_count": 0,
   "metadata": {
    "application/vnd.databricks.v1+cell": {
     "cellMetadata": {
      "byteLimit": 2048000,
      "implicitDf": true,
      "rowLimit": 10000
     },
     "inputWidgets": {},
     "nuid": "21702fe8-64f6-4f1d-a3ef-de29d3f46d6b",
     "showTitle": false,
     "title": ""
    }
   },
   "outputs": [
    {
     "output_type": "display_data",
     "data": {
      "text/html": [
       "<style scoped>\n",
       "  .table-result-container {\n",
       "    max-height: 300px;\n",
       "    overflow: auto;\n",
       "  }\n",
       "  table, th, td {\n",
       "    border: 1px solid black;\n",
       "    border-collapse: collapse;\n",
       "  }\n",
       "  th, td {\n",
       "    padding: 5px;\n",
       "  }\n",
       "  th {\n",
       "    text-align: left;\n",
       "  }\n",
       "</style><div class='table-result-container'><table class='table-result'><thead style='background-color: white'><tr><th>Knee</th></tr></thead><tbody><tr><td>37.3</td></tr><tr><td>37.3</td></tr><tr><td>38.9</td></tr><tr><td>37.3</td></tr><tr><td>42.2</td></tr><tr><td>42.0</td></tr><tr><td>38.3</td></tr><tr><td>39.4</td></tr><tr><td>38.3</td></tr><tr><td>41.7</td></tr><tr><td>39.7</td></tr><tr><td>39.2</td></tr><tr><td>38.3</td></tr><tr><td>41.5</td></tr><tr><td>39.0</td></tr><tr><td>38.7</td></tr><tr><td>40.8</td></tr><tr><td>40.0</td></tr><tr><td>38.7</td></tr><tr><td>40.6</td></tr><tr><td>38.0</td></tr><tr><td>40.6</td></tr><tr><td>35.3</td></tr><tr><td>36.2</td></tr><tr><td>35.5</td></tr><tr><td>36.7</td></tr><tr><td>34.7</td></tr><tr><td>36.0</td></tr><tr><td>34.5</td></tr><tr><td>35.3</td></tr><tr><td>38.7</td></tr><tr><td>38.8</td></tr><tr><td>36.2</td></tr><tr><td>44.2</td></tr><tr><td>43.3</td></tr><tr><td>38.3</td></tr><tr><td>39.9</td></tr><tr><td>41.5</td></tr><tr><td>49.1</td></tr><tr><td>41.1</td></tr><tr><td>39.6</td></tr><tr><td>42.5</td></tr><tr><td>40.9</td></tr><tr><td>40.2</td></tr><tr><td>34.7</td></tr><tr><td>38.2</td></tr><tr><td>34.5</td></tr><tr><td>37.5</td></tr><tr><td>35.8</td></tr><tr><td>34.4</td></tr><tr><td>37.2</td></tr><tr><td>34.9</td></tr><tr><td>33.7</td></tr><tr><td>37.6</td></tr><tr><td>34.9</td></tr><tr><td>38.0</td></tr><tr><td>39.6</td></tr><tr><td>39.8</td></tr><tr><td>38.0</td></tr><tr><td>37.7</td></tr><tr><td>40.9</td></tr><tr><td>38.0</td></tr><tr><td>39.4</td></tr><tr><td>40.1</td></tr><tr><td>41.2</td></tr><tr><td>40.2</td></tr><tr><td>36.1</td></tr><tr><td>35.4</td></tr><tr><td>37.4</td></tr><tr><td>37.4</td></tr><tr><td>38.6</td></tr><tr><td>37.6</td></tr><tr><td>37.5</td></tr><tr><td>35.4</td></tr><tr><td>35.2</td></tr><tr><td>37.0</td></tr><tr><td>39.7</td></tr><tr><td>38.3</td></tr><tr><td>37.5</td></tr><tr><td>39.3</td></tr><tr><td>38.2</td></tr><tr><td>38.0</td></tr><tr><td>39.0</td></tr><tr><td>36.5</td></tr><tr><td>36.6</td></tr><tr><td>37.8</td></tr><tr><td>37.7</td></tr><tr><td>39.5</td></tr><tr><td>38.4</td></tr><tr><td>39.9</td></tr><tr><td>38.2</td></tr><tr><td>39.7</td></tr><tr><td>38.3</td></tr><tr><td>40.5</td></tr><tr><td>39.6</td></tr><tr><td>42.3</td></tr><tr><td>39.4</td></tr><tr><td>39.3</td></tr><tr><td>37.3</td></tr><tr><td>39.0</td></tr><tr><td>39.4</td></tr><tr><td>38.4</td></tr><tr><td>38.4</td></tr><tr><td>39.8</td></tr><tr><td>36.1</td></tr><tr><td>39.0</td></tr><tr><td>39.3</td></tr><tr><td>38.7</td></tr><tr><td>40.0</td></tr><tr><td>36.8</td></tr><tr><td>38.0</td></tr><tr><td>40.0</td></tr><tr><td>38.1</td></tr><tr><td>37.8</td></tr><tr><td>38.1</td></tr><tr><td>36.3</td></tr><tr><td>38.4</td></tr><tr><td>38.8</td></tr><tr><td>41.1</td></tr><tr><td>39.2</td></tr><tr><td>39.3</td></tr><tr><td>40.5</td></tr><tr><td>38.7</td></tr><tr><td>36.5</td></tr><tr><td>36.6</td></tr><tr><td>36.0</td></tr><tr><td>36.8</td></tr><tr><td>35.8</td></tr><tr><td>39.0</td></tr><tr><td>36.9</td></tr><tr><td>38.7</td></tr><tr><td>38.5</td></tr><tr><td>38.1</td></tr><tr><td>35.6</td></tr><tr><td>36.9</td></tr><tr><td>37.9</td></tr><tr><td>36.1</td></tr><tr><td>39.2</td></tr><tr><td>38.4</td></tr><tr><td>42.5</td></tr><tr><td>39.6</td></tr><tr><td>38.2</td></tr><tr><td>36.7</td></tr><tr><td>36.1</td></tr><tr><td>37.6</td></tr><tr><td>36.5</td></tr><tr><td>43.5</td></tr><tr><td>40.8</td></tr><tr><td>35.7</td></tr><tr><td>42.7</td></tr><tr><td>35.9</td></tr><tr><td>43.5</td></tr><tr><td>36.8</td></tr><tr><td>37.4</td></tr><tr><td>40.0</td></tr><tr><td>37.8</td></tr><tr><td>40.0</td></tr><tr><td>38.5</td></tr><tr><td>34.8</td></tr><tr><td>39.0</td></tr><tr><td>36.6</td></tr><tr><td>40.6</td></tr><tr><td>37.3</td></tr><tr><td>35.6</td></tr><tr><td>42.0</td></tr><tr><td>41.3</td></tr><tr><td>34.2</td></tr><tr><td>41.7</td></tr><tr><td>40.6</td></tr><tr><td>39.1</td></tr><tr><td>36.2</td></tr><tr><td>34.8</td></tr><tr><td>37.3</td></tr><tr><td>37.7</td></tr><tr><td>42.4</td></tr><tr><td>34.8</td></tr><tr><td>38.1</td></tr><tr><td>42.6</td></tr><tr><td>39.5</td></tr><tr><td>43.1</td></tr><tr><td>42.8</td></tr><tr><td>33.5</td></tr><tr><td>36.2</td></tr><tr><td>39.4</td></tr><tr><td>38.9</td></tr><tr><td>39.7</td></tr><tr><td>41.3</td></tr><tr><td>39.8</td></tr><tr><td>41.3</td></tr><tr><td>40.4</td></tr><tr><td>36.3</td></tr><tr><td>45.0</td></tr><tr><td>38.6</td></tr><tr><td>43.3</td></tr><tr><td>38.9</td></tr><tr><td>38.4</td></tr><tr><td>38.6</td></tr><tr><td>38.0</td></tr><tr><td>40.0</td></tr><tr><td>39.0</td></tr><tr><td>39.2</td></tr><tr><td>35.7</td></tr><tr><td>38.3</td></tr><tr><td>39.0</td></tr><tr><td>40.3</td></tr><tr><td>39.8</td></tr><tr><td>37.6</td></tr><tr><td>39.4</td></tr><tr><td>36.2</td></tr><tr><td>38.2</td></tr><tr><td>35.0</td></tr><tr><td>40.3</td></tr><tr><td>38.8</td></tr><tr><td>40.9</td></tr><tr><td>38.1</td></tr><tr><td>36.9</td></tr><tr><td>36.5</td></tr><tr><td>39.0</td></tr><tr><td>39.2</td></tr><tr><td>36.2</td></tr><tr><td>38.1</td></tr><tr><td>42.7</td></tr><tr><td>40.2</td></tr><tr><td>35.2</td></tr><tr><td>37.1</td></tr><tr><td>33.0</td></tr><tr><td>38.5</td></tr><tr><td>42.6</td></tr><tr><td>37.4</td></tr><tr><td>38.8</td></tr><tr><td>35.0</td></tr><tr><td>38.6</td></tr><tr><td>38.9</td></tr><tr><td>35.9</td></tr><tr><td>35.7</td></tr><tr><td>37.1</td></tr><tr><td>40.3</td></tr><tr><td>41.1</td></tr><tr><td>39.1</td></tr><tr><td>38.1</td></tr><tr><td>33.4</td></tr><tr><td>42.1</td></tr><tr><td>42.4</td></tr><tr><td>46.0</td></tr><tr><td>38.8</td></tr><tr><td>37.5</td></tr><tr><td>44.0</td></tr><tr><td>34.8</td></tr><tr><td>40.8</td></tr><tr><td>37.3</td></tr><tr><td>41.6</td></tr><tr><td>42.2</td></tr></tbody></table></div>"
      ]
     },
     "metadata": {
      "application/vnd.databricks.v1+output": {
       "addedWidgets": {},
       "aggData": [],
       "aggError": "",
       "aggOverflow": false,
       "aggSchema": [],
       "aggSeriesLimitReached": false,
       "aggType": "",
       "arguments": {},
       "columnCustomDisplayInfos": {},
       "data": [
        [
         37.3
        ],
        [
         37.3
        ],
        [
         38.9
        ],
        [
         37.3
        ],
        [
         42.2
        ],
        [
         42.0
        ],
        [
         38.3
        ],
        [
         39.4
        ],
        [
         38.3
        ],
        [
         41.7
        ],
        [
         39.7
        ],
        [
         39.2
        ],
        [
         38.3
        ],
        [
         41.5
        ],
        [
         39.0
        ],
        [
         38.7
        ],
        [
         40.8
        ],
        [
         40.0
        ],
        [
         38.7
        ],
        [
         40.6
        ],
        [
         38.0
        ],
        [
         40.6
        ],
        [
         35.3
        ],
        [
         36.2
        ],
        [
         35.5
        ],
        [
         36.7
        ],
        [
         34.7
        ],
        [
         36.0
        ],
        [
         34.5
        ],
        [
         35.3
        ],
        [
         38.7
        ],
        [
         38.8
        ],
        [
         36.2
        ],
        [
         44.2
        ],
        [
         43.3
        ],
        [
         38.3
        ],
        [
         39.9
        ],
        [
         41.5
        ],
        [
         49.1
        ],
        [
         41.1
        ],
        [
         39.6
        ],
        [
         42.5
        ],
        [
         40.9
        ],
        [
         40.2
        ],
        [
         34.7
        ],
        [
         38.2
        ],
        [
         34.5
        ],
        [
         37.5
        ],
        [
         35.8
        ],
        [
         34.4
        ],
        [
         37.2
        ],
        [
         34.9
        ],
        [
         33.7
        ],
        [
         37.6
        ],
        [
         34.9
        ],
        [
         38.0
        ],
        [
         39.6
        ],
        [
         39.8
        ],
        [
         38.0
        ],
        [
         37.7
        ],
        [
         40.9
        ],
        [
         38.0
        ],
        [
         39.4
        ],
        [
         40.1
        ],
        [
         41.2
        ],
        [
         40.2
        ],
        [
         36.1
        ],
        [
         35.4
        ],
        [
         37.4
        ],
        [
         37.4
        ],
        [
         38.6
        ],
        [
         37.6
        ],
        [
         37.5
        ],
        [
         35.4
        ],
        [
         35.2
        ],
        [
         37.0
        ],
        [
         39.7
        ],
        [
         38.3
        ],
        [
         37.5
        ],
        [
         39.3
        ],
        [
         38.2
        ],
        [
         38.0
        ],
        [
         39.0
        ],
        [
         36.5
        ],
        [
         36.6
        ],
        [
         37.8
        ],
        [
         37.7
        ],
        [
         39.5
        ],
        [
         38.4
        ],
        [
         39.9
        ],
        [
         38.2
        ],
        [
         39.7
        ],
        [
         38.3
        ],
        [
         40.5
        ],
        [
         39.6
        ],
        [
         42.3
        ],
        [
         39.4
        ],
        [
         39.3
        ],
        [
         37.3
        ],
        [
         39.0
        ],
        [
         39.4
        ],
        [
         38.4
        ],
        [
         38.4
        ],
        [
         39.8
        ],
        [
         36.1
        ],
        [
         39.0
        ],
        [
         39.3
        ],
        [
         38.7
        ],
        [
         40.0
        ],
        [
         36.8
        ],
        [
         38.0
        ],
        [
         40.0
        ],
        [
         38.1
        ],
        [
         37.8
        ],
        [
         38.1
        ],
        [
         36.3
        ],
        [
         38.4
        ],
        [
         38.8
        ],
        [
         41.1
        ],
        [
         39.2
        ],
        [
         39.3
        ],
        [
         40.5
        ],
        [
         38.7
        ],
        [
         36.5
        ],
        [
         36.6
        ],
        [
         36.0
        ],
        [
         36.8
        ],
        [
         35.8
        ],
        [
         39.0
        ],
        [
         36.9
        ],
        [
         38.7
        ],
        [
         38.5
        ],
        [
         38.1
        ],
        [
         35.6
        ],
        [
         36.9
        ],
        [
         37.9
        ],
        [
         36.1
        ],
        [
         39.2
        ],
        [
         38.4
        ],
        [
         42.5
        ],
        [
         39.6
        ],
        [
         38.2
        ],
        [
         36.7
        ],
        [
         36.1
        ],
        [
         37.6
        ],
        [
         36.5
        ],
        [
         43.5
        ],
        [
         40.8
        ],
        [
         35.7
        ],
        [
         42.7
        ],
        [
         35.9
        ],
        [
         43.5
        ],
        [
         36.8
        ],
        [
         37.4
        ],
        [
         40.0
        ],
        [
         37.8
        ],
        [
         40.0
        ],
        [
         38.5
        ],
        [
         34.8
        ],
        [
         39.0
        ],
        [
         36.6
        ],
        [
         40.6
        ],
        [
         37.3
        ],
        [
         35.6
        ],
        [
         42.0
        ],
        [
         41.3
        ],
        [
         34.2
        ],
        [
         41.7
        ],
        [
         40.6
        ],
        [
         39.1
        ],
        [
         36.2
        ],
        [
         34.8
        ],
        [
         37.3
        ],
        [
         37.7
        ],
        [
         42.4
        ],
        [
         34.8
        ],
        [
         38.1
        ],
        [
         42.6
        ],
        [
         39.5
        ],
        [
         43.1
        ],
        [
         42.8
        ],
        [
         33.5
        ],
        [
         36.2
        ],
        [
         39.4
        ],
        [
         38.9
        ],
        [
         39.7
        ],
        [
         41.3
        ],
        [
         39.8
        ],
        [
         41.3
        ],
        [
         40.4
        ],
        [
         36.3
        ],
        [
         45.0
        ],
        [
         38.6
        ],
        [
         43.3
        ],
        [
         38.9
        ],
        [
         38.4
        ],
        [
         38.6
        ],
        [
         38.0
        ],
        [
         40.0
        ],
        [
         39.0
        ],
        [
         39.2
        ],
        [
         35.7
        ],
        [
         38.3
        ],
        [
         39.0
        ],
        [
         40.3
        ],
        [
         39.8
        ],
        [
         37.6
        ],
        [
         39.4
        ],
        [
         36.2
        ],
        [
         38.2
        ],
        [
         35.0
        ],
        [
         40.3
        ],
        [
         38.8
        ],
        [
         40.9
        ],
        [
         38.1
        ],
        [
         36.9
        ],
        [
         36.5
        ],
        [
         39.0
        ],
        [
         39.2
        ],
        [
         36.2
        ],
        [
         38.1
        ],
        [
         42.7
        ],
        [
         40.2
        ],
        [
         35.2
        ],
        [
         37.1
        ],
        [
         33.0
        ],
        [
         38.5
        ],
        [
         42.6
        ],
        [
         37.4
        ],
        [
         38.8
        ],
        [
         35.0
        ],
        [
         38.6
        ],
        [
         38.9
        ],
        [
         35.9
        ],
        [
         35.7
        ],
        [
         37.1
        ],
        [
         40.3
        ],
        [
         41.1
        ],
        [
         39.1
        ],
        [
         38.1
        ],
        [
         33.4
        ],
        [
         42.1
        ],
        [
         42.4
        ],
        [
         46.0
        ],
        [
         38.8
        ],
        [
         37.5
        ],
        [
         44.0
        ],
        [
         34.8
        ],
        [
         40.8
        ],
        [
         37.3
        ],
        [
         41.6
        ],
        [
         42.2
        ]
       ],
       "datasetInfos": [],
       "dbfsResultPath": null,
       "isJsonSchema": true,
       "metadata": {},
       "overflow": false,
       "plotOptions": {
        "customPlotOptions": {},
        "displayType": "table",
        "pivotAggregation": null,
        "pivotColumns": null,
        "xColumns": null,
        "yColumns": null
       },
       "removedWidgets": [],
       "schema": [
        {
         "metadata": "{}",
         "name": "Knee",
         "type": "\"double\""
        }
       ],
       "type": "table"
      }
     },
     "output_type": "display_data"
    },
    {
     "output_type": "display_data",
     "data": {
      "text/plain": [
       "Databricks visualization. Run in Databricks to view."
      ]
     },
     "metadata": {
      "application/vnd.databricks.v1.subcommand+json": {
       "baseErrorDetails": null,
       "bindings": {},
       "collapsed": false,
       "command": "%sql WITH q AS (SELECT Knee FROM BodyFat) ,min_max AS (SELECT `Knee`,(SELECT MAX(`Knee`) FROM q) `target_column_max`,(SELECT MIN(`Knee`) FROM q) `target_column_min` FROM q) ,histogram_meta AS (SELECT `Knee`,`target_column_min` `min_value`,IF(`target_column_max` = `target_column_min`,`target_column_max` + 1,`target_column_max`) `max_value`,(`target_column_max` - `target_column_min`) / 15 `step` FROM min_max) SELECT IF(ISNULL(`Knee`),NULL,LEAST(WIDTH_BUCKET(`Knee`,`min_value`,`max_value`,15),15)) `Knee_BIN`,FIRST(`min_value` + ((IF(ISNULL(`Knee`),NULL,LEAST(WIDTH_BUCKET(`Knee`,`min_value`,`max_value`,15),15)) - 1) * `step`)) `Knee_BIN_LOWER_BOUND`,FIRST(`step`) `Knee_BIN_STEP`,COUNT(`Knee`) `COUNT` FROM histogram_meta GROUP BY `Knee_BIN`",
       "commandTitle": "Visualization 1",
       "commandType": "auto",
       "commandVersion": 0,
       "commentThread": [],
       "commentsVisible": false,
       "contentSha256Hex": null,
       "customPlotOptions": {
        "redashChart": [
         {
          "key": "type",
          "value": "CHART"
         },
         {
          "key": "options",
          "value": {
           "alignYAxesAtZero": true,
           "coefficient": 1,
           "columnConfigurationMap": {
            "x": {
             "column": "Knee",
             "id": "column_a0f52a9811"
            }
           },
           "dateTimeFormat": "DD/MM/YYYY HH:mm",
           "direction": {
            "type": "counterclockwise"
           },
           "error_y": {
            "type": "data",
            "visible": true
           },
           "globalSeriesType": "histogram",
           "legend": {
            "traceorder": "normal"
           },
           "missingValuesAsZero": true,
           "numBins": 15,
           "numberFormat": "0,0.[00000]",
           "percentFormat": "0[.]00%",
           "series": {
            "error_y": {
             "type": "data",
             "visible": true
            },
            "stacking": null
           },
           "seriesOptions": {},
           "showDataLabels": false,
           "sizemode": "diameter",
           "sortX": true,
           "sortY": true,
           "swappedAxes": false,
           "textFormat": "",
           "useAggregationsUi": true,
           "valuesOptions": {},
           "version": 2,
           "xAxis": {
            "labels": {
             "enabled": true
            },
            "type": "-"
           },
           "yAxis": [
            {
             "type": "-"
            },
            {
             "opposite": true,
             "type": "-"
            }
           ]
          }
         }
        ]
       },
       "datasetPreviewNameToCmdIdMap": {},
       "diffDeletes": [],
       "diffInserts": [],
       "displayType": "redashChart",
       "error": null,
       "errorDetails": null,
       "errorSummary": null,
       "errorTraceType": null,
       "finishTime": 0,
       "globalVars": {},
       "guid": "",
       "height": "auto",
       "hideCommandCode": false,
       "hideCommandResult": false,
       "iPythonMetadata": null,
       "inputWidgets": {},
       "isLockedInExamMode": false,
       "latestUser": "a user",
       "latestUserId": null,
       "listResultMetadata": null,
       "metadata": {
        "byteLimit": 2048000,
        "implicitDf": true,
        "rowLimit": 10000
       },
       "nuid": "8e0d1593-cdf1-4039-8b75-e599fe073340",
       "origId": 0,
       "parentHierarchy": [],
       "pivotAggregation": null,
       "pivotColumns": null,
       "position": 17.75,
       "resultDbfsErrorMessage": null,
       "resultDbfsStatus": "INLINED_IN_TREE",
       "results": null,
       "showCommandTitle": false,
       "startTime": 0,
       "state": "finished",
       "streamStates": {},
       "subcommandOptions": {
        "queryPlan": {
         "groups": [
          {
           "column": "Knee_BIN",
           "type": "column"
          }
         ],
         "selects": [
          {
           "alias": "Knee_BIN",
           "args": [
            {
             "column": "Knee",
             "type": "column"
            },
            {
             "number": 15,
             "type": "number"
            }
           ],
           "function": "BIN",
           "type": "function"
          },
          {
           "alias": "Knee_BIN_LOWER_BOUND",
           "args": [
            {
             "column": "Knee",
             "type": "column"
            },
            {
             "number": 15,
             "type": "number"
            }
           ],
           "function": "BIN_LOWER_BOUND",
           "type": "function"
          },
          {
           "alias": "Knee_BIN_STEP",
           "args": [
            {
             "column": "Knee",
             "type": "column"
            },
            {
             "number": 15,
             "type": "number"
            }
           ],
           "function": "BIN_STEP",
           "type": "function"
          },
          {
           "alias": "COUNT",
           "args": [
            {
             "column": "Knee",
             "type": "column"
            }
           ],
           "function": "COUNT",
           "type": "function"
          }
         ]
        }
       },
       "submitTime": 0,
       "subtype": "tableResultSubCmd.visualization",
       "tableResultIndex": 0,
       "useConsistentColors": false,
       "version": "CommandV1",
       "width": "auto",
       "workflows": [],
       "xColumns": null,
       "yColumns": null
      }
     },
     "output_type": "display_data"
    }
   ],
   "source": [
    "%sql\n",
    "\n",
    "SELECT Knee FROM BodyFat;"
   ]
  },
  {
   "cell_type": "markdown",
   "metadata": {
    "application/vnd.databricks.v1+cell": {
     "cellMetadata": {},
     "inputWidgets": {},
     "nuid": "361dd3d2-b886-4967-bef6-32ab879c5945",
     "showTitle": false,
     "title": ""
    }
   },
   "source": [
    "#### Histogram of Ankle Circumference"
   ]
  },
  {
   "cell_type": "code",
   "execution_count": 0,
   "metadata": {
    "application/vnd.databricks.v1+cell": {
     "cellMetadata": {
      "byteLimit": 2048000,
      "implicitDf": true,
      "rowLimit": 10000
     },
     "inputWidgets": {},
     "nuid": "fab145ad-9f22-487c-bc32-c19dd46ef2fa",
     "showTitle": false,
     "title": ""
    }
   },
   "outputs": [
    {
     "output_type": "display_data",
     "data": {
      "text/html": [
       "<style scoped>\n",
       "  .table-result-container {\n",
       "    max-height: 300px;\n",
       "    overflow: auto;\n",
       "  }\n",
       "  table, th, td {\n",
       "    border: 1px solid black;\n",
       "    border-collapse: collapse;\n",
       "  }\n",
       "  th, td {\n",
       "    padding: 5px;\n",
       "  }\n",
       "  th {\n",
       "    text-align: left;\n",
       "  }\n",
       "</style><div class='table-result-container'><table class='table-result'><thead style='background-color: white'><tr><th>Ankle</th></tr></thead><tbody><tr><td>21.9</td></tr><tr><td>23.4</td></tr><tr><td>24.0</td></tr><tr><td>22.8</td></tr><tr><td>24.0</td></tr><tr><td>25.6</td></tr><tr><td>22.9</td></tr><tr><td>23.2</td></tr><tr><td>23.8</td></tr><tr><td>25.0</td></tr><tr><td>25.2</td></tr><tr><td>25.9</td></tr><tr><td>21.5</td></tr><tr><td>23.7</td></tr><tr><td>23.1</td></tr><tr><td>21.7</td></tr><tr><td>23.1</td></tr><tr><td>24.4</td></tr><tr><td>22.9</td></tr><tr><td>24.0</td></tr><tr><td>22.1</td></tr><tr><td>24.6</td></tr><tr><td>22.2</td></tr><tr><td>22.1</td></tr><tr><td>22.9</td></tr><tr><td>22.5</td></tr><tr><td>21.4</td></tr><tr><td>21.0</td></tr><tr><td>21.3</td></tr><tr><td>22.6</td></tr><tr><td>33.9</td></tr><tr><td>21.5</td></tr><tr><td>24.5</td></tr><tr><td>25.2</td></tr><tr><td>26.3</td></tr><tr><td>21.9</td></tr><tr><td>22.6</td></tr><tr><td>24.7</td></tr><tr><td>29.6</td></tr><tr><td>24.7</td></tr><tr><td>26.6</td></tr><tr><td>23.7</td></tr><tr><td>25.0</td></tr><tr><td>23.0</td></tr><tr><td>21.0</td></tr><tr><td>23.4</td></tr><tr><td>22.5</td></tr><tr><td>21.9</td></tr><tr><td>20.6</td></tr><tr><td>21.9</td></tr><tr><td>22.4</td></tr><tr><td>21.0</td></tr><tr><td>21.4</td></tr><tr><td>22.6</td></tr><tr><td>22.5</td></tr><tr><td>22.0</td></tr><tr><td>22.5</td></tr><tr><td>22.7</td></tr><tr><td>22.5</td></tr><tr><td>22.9</td></tr><tr><td>23.1</td></tr><tr><td>22.1</td></tr><tr><td>23.6</td></tr><tr><td>22.7</td></tr><tr><td>24.7</td></tr><tr><td>22.7</td></tr><tr><td>21.7</td></tr><tr><td>21.5</td></tr><tr><td>22.4</td></tr><tr><td>21.6</td></tr><tr><td>22.4</td></tr><tr><td>21.6</td></tr><tr><td>23.1</td></tr><tr><td>19.1</td></tr><tr><td>20.9</td></tr><tr><td>21.4</td></tr><tr><td>24.2</td></tr><tr><td>21.8</td></tr><tr><td>21.5</td></tr><tr><td>22.7</td></tr><tr><td>23.7</td></tr><tr><td>22.0</td></tr><tr><td>23.0</td></tr><tr><td>24.1</td></tr><tr><td>22.0</td></tr><tr><td>33.7</td></tr><tr><td>21.8</td></tr><tr><td>23.3</td></tr><tr><td>23.8</td></tr><tr><td>24.4</td></tr><tr><td>22.5</td></tr><tr><td>23.1</td></tr><tr><td>22.1</td></tr><tr><td>24.5</td></tr><tr><td>24.6</td></tr><tr><td>23.2</td></tr><tr><td>22.9</td></tr><tr><td>23.3</td></tr><tr><td>21.9</td></tr><tr><td>22.3</td></tr><tr><td>22.3</td></tr><tr><td>22.4</td></tr><tr><td>23.2</td></tr><tr><td>25.4</td></tr><tr><td>22.0</td></tr><tr><td>24.8</td></tr><tr><td>23.5</td></tr><tr><td>23.4</td></tr><tr><td>24.8</td></tr><tr><td>22.8</td></tr><tr><td>22.3</td></tr><tr><td>23.6</td></tr><tr><td>23.9</td></tr><tr><td>21.9</td></tr><tr><td>21.8</td></tr><tr><td>22.1</td></tr><tr><td>22.8</td></tr><tr><td>23.3</td></tr><tr><td>24.8</td></tr><tr><td>24.5</td></tr><tr><td>24.6</td></tr><tr><td>23.2</td></tr><tr><td>22.6</td></tr><tr><td>22.1</td></tr><tr><td>23.5</td></tr><tr><td>21.9</td></tr><tr><td>22.2</td></tr><tr><td>20.8</td></tr><tr><td>21.8</td></tr><tr><td>22.2</td></tr><tr><td>23.2</td></tr><tr><td>23.0</td></tr><tr><td>22.6</td></tr><tr><td>20.5</td></tr><tr><td>23.0</td></tr><tr><td>22.7</td></tr><tr><td>22.4</td></tr><tr><td>23.8</td></tr><tr><td>22.5</td></tr><tr><td>24.5</td></tr><tr><td>21.6</td></tr><tr><td>22.0</td></tr><tr><td>22.3</td></tr><tr><td>22.7</td></tr><tr><td>23.2</td></tr><tr><td>22.0</td></tr><tr><td>25.2</td></tr><tr><td>24.6</td></tr><tr><td>22.0</td></tr><tr><td>24.7</td></tr><tr><td>20.4</td></tr><tr><td>25.1</td></tr><tr><td>23.8</td></tr><tr><td>22.8</td></tr><tr><td>24.9</td></tr><tr><td>21.7</td></tr><tr><td>25.2</td></tr><tr><td>25.0</td></tr><tr><td>21.8</td></tr><tr><td>24.6</td></tr><tr><td>21.0</td></tr><tr><td>25.0</td></tr><tr><td>23.5</td></tr><tr><td>20.4</td></tr><tr><td>23.4</td></tr><tr><td>25.6</td></tr><tr><td>21.9</td></tr><tr><td>24.6</td></tr><tr><td>24.0</td></tr><tr><td>23.4</td></tr><tr><td>22.1</td></tr><tr><td>22.0</td></tr><tr><td>22.4</td></tr><tr><td>21.5</td></tr><tr><td>24.0</td></tr><tr><td>22.2</td></tr><tr><td>22.0</td></tr><tr><td>24.8</td></tr><tr><td>24.7</td></tr><tr><td>25.8</td></tr><tr><td>24.1</td></tr><tr><td>20.2</td></tr><tr><td>21.8</td></tr><tr><td>22.7</td></tr><tr><td>22.4</td></tr><tr><td>22.6</td></tr><tr><td>24.7</td></tr><tr><td>23.5</td></tr><tr><td>24.8</td></tr><tr><td>22.9</td></tr><tr><td>21.8</td></tr><tr><td>25.5</td></tr><tr><td>24.7</td></tr><tr><td>26.0</td></tr><tr><td>22.4</td></tr><tr><td>24.1</td></tr><tr><td>24.0</td></tr><tr><td>22.3</td></tr><tr><td>22.5</td></tr><tr><td>24.1</td></tr><tr><td>23.8</td></tr><tr><td>22.0</td></tr><tr><td>23.7</td></tr><tr><td>24.0</td></tr><tr><td>21.8</td></tr><tr><td>24.1</td></tr><tr><td>21.4</td></tr><tr><td>23.3</td></tr><tr><td>22.5</td></tr><tr><td>22.6</td></tr><tr><td>21.7</td></tr><tr><td>23.2</td></tr><tr><td>23.0</td></tr><tr><td>25.5</td></tr><tr><td>21.8</td></tr><tr><td>23.6</td></tr><tr><td>21.5</td></tr><tr><td>22.6</td></tr><tr><td>22.9</td></tr><tr><td>22.0</td></tr><tr><td>23.9</td></tr><tr><td>27.0</td></tr><tr><td>23.4</td></tr><tr><td>22.5</td></tr><tr><td>21.8</td></tr><tr><td>19.7</td></tr><tr><td>22.6</td></tr><tr><td>23.4</td></tr><tr><td>22.5</td></tr><tr><td>23.2</td></tr><tr><td>21.3</td></tr><tr><td>22.8</td></tr><tr><td>23.6</td></tr><tr><td>21.0</td></tr><tr><td>21.0</td></tr><tr><td>22.7</td></tr><tr><td>23.0</td></tr><tr><td>22.3</td></tr><tr><td>22.3</td></tr><tr><td>24.0</td></tr><tr><td>20.1</td></tr><tr><td>23.4</td></tr><tr><td>24.6</td></tr><tr><td>25.4</td></tr><tr><td>24.1</td></tr><tr><td>22.6</td></tr><tr><td>22.6</td></tr><tr><td>21.5</td></tr><tr><td>23.2</td></tr><tr><td>21.5</td></tr><tr><td>22.7</td></tr><tr><td>24.6</td></tr></tbody></table></div>"
      ]
     },
     "metadata": {
      "application/vnd.databricks.v1+output": {
       "addedWidgets": {},
       "aggData": [],
       "aggError": "",
       "aggOverflow": false,
       "aggSchema": [],
       "aggSeriesLimitReached": false,
       "aggType": "",
       "arguments": {},
       "columnCustomDisplayInfos": {},
       "data": [
        [
         21.9
        ],
        [
         23.4
        ],
        [
         24.0
        ],
        [
         22.8
        ],
        [
         24.0
        ],
        [
         25.6
        ],
        [
         22.9
        ],
        [
         23.2
        ],
        [
         23.8
        ],
        [
         25.0
        ],
        [
         25.2
        ],
        [
         25.9
        ],
        [
         21.5
        ],
        [
         23.7
        ],
        [
         23.1
        ],
        [
         21.7
        ],
        [
         23.1
        ],
        [
         24.4
        ],
        [
         22.9
        ],
        [
         24.0
        ],
        [
         22.1
        ],
        [
         24.6
        ],
        [
         22.2
        ],
        [
         22.1
        ],
        [
         22.9
        ],
        [
         22.5
        ],
        [
         21.4
        ],
        [
         21.0
        ],
        [
         21.3
        ],
        [
         22.6
        ],
        [
         33.9
        ],
        [
         21.5
        ],
        [
         24.5
        ],
        [
         25.2
        ],
        [
         26.3
        ],
        [
         21.9
        ],
        [
         22.6
        ],
        [
         24.7
        ],
        [
         29.6
        ],
        [
         24.7
        ],
        [
         26.6
        ],
        [
         23.7
        ],
        [
         25.0
        ],
        [
         23.0
        ],
        [
         21.0
        ],
        [
         23.4
        ],
        [
         22.5
        ],
        [
         21.9
        ],
        [
         20.6
        ],
        [
         21.9
        ],
        [
         22.4
        ],
        [
         21.0
        ],
        [
         21.4
        ],
        [
         22.6
        ],
        [
         22.5
        ],
        [
         22.0
        ],
        [
         22.5
        ],
        [
         22.7
        ],
        [
         22.5
        ],
        [
         22.9
        ],
        [
         23.1
        ],
        [
         22.1
        ],
        [
         23.6
        ],
        [
         22.7
        ],
        [
         24.7
        ],
        [
         22.7
        ],
        [
         21.7
        ],
        [
         21.5
        ],
        [
         22.4
        ],
        [
         21.6
        ],
        [
         22.4
        ],
        [
         21.6
        ],
        [
         23.1
        ],
        [
         19.1
        ],
        [
         20.9
        ],
        [
         21.4
        ],
        [
         24.2
        ],
        [
         21.8
        ],
        [
         21.5
        ],
        [
         22.7
        ],
        [
         23.7
        ],
        [
         22.0
        ],
        [
         23.0
        ],
        [
         24.1
        ],
        [
         22.0
        ],
        [
         33.7
        ],
        [
         21.8
        ],
        [
         23.3
        ],
        [
         23.8
        ],
        [
         24.4
        ],
        [
         22.5
        ],
        [
         23.1
        ],
        [
         22.1
        ],
        [
         24.5
        ],
        [
         24.6
        ],
        [
         23.2
        ],
        [
         22.9
        ],
        [
         23.3
        ],
        [
         21.9
        ],
        [
         22.3
        ],
        [
         22.3
        ],
        [
         22.4
        ],
        [
         23.2
        ],
        [
         25.4
        ],
        [
         22.0
        ],
        [
         24.8
        ],
        [
         23.5
        ],
        [
         23.4
        ],
        [
         24.8
        ],
        [
         22.8
        ],
        [
         22.3
        ],
        [
         23.6
        ],
        [
         23.9
        ],
        [
         21.9
        ],
        [
         21.8
        ],
        [
         22.1
        ],
        [
         22.8
        ],
        [
         23.3
        ],
        [
         24.8
        ],
        [
         24.5
        ],
        [
         24.6
        ],
        [
         23.2
        ],
        [
         22.6
        ],
        [
         22.1
        ],
        [
         23.5
        ],
        [
         21.9
        ],
        [
         22.2
        ],
        [
         20.8
        ],
        [
         21.8
        ],
        [
         22.2
        ],
        [
         23.2
        ],
        [
         23.0
        ],
        [
         22.6
        ],
        [
         20.5
        ],
        [
         23.0
        ],
        [
         22.7
        ],
        [
         22.4
        ],
        [
         23.8
        ],
        [
         22.5
        ],
        [
         24.5
        ],
        [
         21.6
        ],
        [
         22.0
        ],
        [
         22.3
        ],
        [
         22.7
        ],
        [
         23.2
        ],
        [
         22.0
        ],
        [
         25.2
        ],
        [
         24.6
        ],
        [
         22.0
        ],
        [
         24.7
        ],
        [
         20.4
        ],
        [
         25.1
        ],
        [
         23.8
        ],
        [
         22.8
        ],
        [
         24.9
        ],
        [
         21.7
        ],
        [
         25.2
        ],
        [
         25.0
        ],
        [
         21.8
        ],
        [
         24.6
        ],
        [
         21.0
        ],
        [
         25.0
        ],
        [
         23.5
        ],
        [
         20.4
        ],
        [
         23.4
        ],
        [
         25.6
        ],
        [
         21.9
        ],
        [
         24.6
        ],
        [
         24.0
        ],
        [
         23.4
        ],
        [
         22.1
        ],
        [
         22.0
        ],
        [
         22.4
        ],
        [
         21.5
        ],
        [
         24.0
        ],
        [
         22.2
        ],
        [
         22.0
        ],
        [
         24.8
        ],
        [
         24.7
        ],
        [
         25.8
        ],
        [
         24.1
        ],
        [
         20.2
        ],
        [
         21.8
        ],
        [
         22.7
        ],
        [
         22.4
        ],
        [
         22.6
        ],
        [
         24.7
        ],
        [
         23.5
        ],
        [
         24.8
        ],
        [
         22.9
        ],
        [
         21.8
        ],
        [
         25.5
        ],
        [
         24.7
        ],
        [
         26.0
        ],
        [
         22.4
        ],
        [
         24.1
        ],
        [
         24.0
        ],
        [
         22.3
        ],
        [
         22.5
        ],
        [
         24.1
        ],
        [
         23.8
        ],
        [
         22.0
        ],
        [
         23.7
        ],
        [
         24.0
        ],
        [
         21.8
        ],
        [
         24.1
        ],
        [
         21.4
        ],
        [
         23.3
        ],
        [
         22.5
        ],
        [
         22.6
        ],
        [
         21.7
        ],
        [
         23.2
        ],
        [
         23.0
        ],
        [
         25.5
        ],
        [
         21.8
        ],
        [
         23.6
        ],
        [
         21.5
        ],
        [
         22.6
        ],
        [
         22.9
        ],
        [
         22.0
        ],
        [
         23.9
        ],
        [
         27.0
        ],
        [
         23.4
        ],
        [
         22.5
        ],
        [
         21.8
        ],
        [
         19.7
        ],
        [
         22.6
        ],
        [
         23.4
        ],
        [
         22.5
        ],
        [
         23.2
        ],
        [
         21.3
        ],
        [
         22.8
        ],
        [
         23.6
        ],
        [
         21.0
        ],
        [
         21.0
        ],
        [
         22.7
        ],
        [
         23.0
        ],
        [
         22.3
        ],
        [
         22.3
        ],
        [
         24.0
        ],
        [
         20.1
        ],
        [
         23.4
        ],
        [
         24.6
        ],
        [
         25.4
        ],
        [
         24.1
        ],
        [
         22.6
        ],
        [
         22.6
        ],
        [
         21.5
        ],
        [
         23.2
        ],
        [
         21.5
        ],
        [
         22.7
        ],
        [
         24.6
        ]
       ],
       "datasetInfos": [],
       "dbfsResultPath": null,
       "isJsonSchema": true,
       "metadata": {},
       "overflow": false,
       "plotOptions": {
        "customPlotOptions": {},
        "displayType": "table",
        "pivotAggregation": null,
        "pivotColumns": null,
        "xColumns": null,
        "yColumns": null
       },
       "removedWidgets": [],
       "schema": [
        {
         "metadata": "{}",
         "name": "Ankle",
         "type": "\"double\""
        }
       ],
       "type": "table"
      }
     },
     "output_type": "display_data"
    },
    {
     "output_type": "display_data",
     "data": {
      "text/plain": [
       "Databricks visualization. Run in Databricks to view."
      ]
     },
     "metadata": {
      "application/vnd.databricks.v1.subcommand+json": {
       "baseErrorDetails": null,
       "bindings": {},
       "collapsed": false,
       "command": "%sql WITH q AS (SELECT Ankle FROM BodyFat) ,min_max AS (SELECT `Ankle`,(SELECT MAX(`Ankle`) FROM q) `target_column_max`,(SELECT MIN(`Ankle`) FROM q) `target_column_min` FROM q) ,histogram_meta AS (SELECT `Ankle`,`target_column_min` `min_value`,IF(`target_column_max` = `target_column_min`,`target_column_max` + 1,`target_column_max`) `max_value`,(`target_column_max` - `target_column_min`) / 15 `step` FROM min_max) SELECT IF(ISNULL(`Ankle`),NULL,LEAST(WIDTH_BUCKET(`Ankle`,`min_value`,`max_value`,15),15)) `Ankle_BIN`,FIRST(`min_value` + ((IF(ISNULL(`Ankle`),NULL,LEAST(WIDTH_BUCKET(`Ankle`,`min_value`,`max_value`,15),15)) - 1) * `step`)) `Ankle_BIN_LOWER_BOUND`,FIRST(`step`) `Ankle_BIN_STEP`,COUNT(`Ankle`) `COUNT` FROM histogram_meta GROUP BY `Ankle_BIN`",
       "commandTitle": "Visualization 1",
       "commandType": "auto",
       "commandVersion": 0,
       "commentThread": [],
       "commentsVisible": false,
       "contentSha256Hex": null,
       "customPlotOptions": {
        "redashChart": [
         {
          "key": "type",
          "value": "CHART"
         },
         {
          "key": "options",
          "value": {
           "alignYAxesAtZero": true,
           "coefficient": 1,
           "columnConfigurationMap": {
            "x": {
             "column": "Ankle",
             "id": "column_a0f52a9812"
            }
           },
           "dateTimeFormat": "DD/MM/YYYY HH:mm",
           "direction": {
            "type": "counterclockwise"
           },
           "error_y": {
            "type": "data",
            "visible": true
           },
           "globalSeriesType": "histogram",
           "legend": {
            "traceorder": "normal"
           },
           "missingValuesAsZero": true,
           "numBins": 15,
           "numberFormat": "0,0.[00000]",
           "percentFormat": "0[.]00%",
           "series": {
            "error_y": {
             "type": "data",
             "visible": true
            },
            "stacking": null
           },
           "seriesOptions": {},
           "showDataLabels": false,
           "sizemode": "diameter",
           "sortX": true,
           "sortY": true,
           "swappedAxes": false,
           "textFormat": "",
           "useAggregationsUi": true,
           "valuesOptions": {},
           "version": 2,
           "xAxis": {
            "labels": {
             "enabled": true
            },
            "type": "-"
           },
           "yAxis": [
            {
             "type": "-"
            },
            {
             "opposite": true,
             "type": "-"
            }
           ]
          }
         }
        ]
       },
       "datasetPreviewNameToCmdIdMap": {},
       "diffDeletes": [],
       "diffInserts": [],
       "displayType": "redashChart",
       "error": null,
       "errorDetails": null,
       "errorSummary": null,
       "errorTraceType": null,
       "finishTime": 0,
       "globalVars": {},
       "guid": "",
       "height": "auto",
       "hideCommandCode": false,
       "hideCommandResult": false,
       "iPythonMetadata": null,
       "inputWidgets": {},
       "isLockedInExamMode": false,
       "latestUser": "a user",
       "latestUserId": null,
       "listResultMetadata": null,
       "metadata": {
        "byteLimit": 2048000,
        "implicitDf": true,
        "rowLimit": 10000
       },
       "nuid": "0b3c6050-00fd-4b2e-87b7-2ce4b2f91b60",
       "origId": 0,
       "parentHierarchy": [],
       "pivotAggregation": null,
       "pivotColumns": null,
       "position": 18.75,
       "resultDbfsErrorMessage": null,
       "resultDbfsStatus": "INLINED_IN_TREE",
       "results": null,
       "showCommandTitle": false,
       "startTime": 0,
       "state": "finished",
       "streamStates": {},
       "subcommandOptions": {
        "queryPlan": {
         "groups": [
          {
           "column": "Ankle_BIN",
           "type": "column"
          }
         ],
         "selects": [
          {
           "alias": "Ankle_BIN",
           "args": [
            {
             "column": "Ankle",
             "type": "column"
            },
            {
             "number": 15,
             "type": "number"
            }
           ],
           "function": "BIN",
           "type": "function"
          },
          {
           "alias": "Ankle_BIN_LOWER_BOUND",
           "args": [
            {
             "column": "Ankle",
             "type": "column"
            },
            {
             "number": 15,
             "type": "number"
            }
           ],
           "function": "BIN_LOWER_BOUND",
           "type": "function"
          },
          {
           "alias": "Ankle_BIN_STEP",
           "args": [
            {
             "column": "Ankle",
             "type": "column"
            },
            {
             "number": 15,
             "type": "number"
            }
           ],
           "function": "BIN_STEP",
           "type": "function"
          },
          {
           "alias": "COUNT",
           "args": [
            {
             "column": "Ankle",
             "type": "column"
            }
           ],
           "function": "COUNT",
           "type": "function"
          }
         ]
        }
       },
       "submitTime": 0,
       "subtype": "tableResultSubCmd.visualization",
       "tableResultIndex": 0,
       "useConsistentColors": false,
       "version": "CommandV1",
       "width": "auto",
       "workflows": [],
       "xColumns": null,
       "yColumns": null
      }
     },
     "output_type": "display_data"
    }
   ],
   "source": [
    "%sql\n",
    "\n",
    "SELECT Ankle FROM BodyFat;"
   ]
  },
  {
   "cell_type": "markdown",
   "metadata": {
    "application/vnd.databricks.v1+cell": {
     "cellMetadata": {},
     "inputWidgets": {},
     "nuid": "b5263c10-a956-4805-8405-3401d8c5db2b",
     "showTitle": false,
     "title": ""
    }
   },
   "source": [
    "#### Histogram of Biceps Circumference"
   ]
  },
  {
   "cell_type": "code",
   "execution_count": 0,
   "metadata": {
    "application/vnd.databricks.v1+cell": {
     "cellMetadata": {
      "byteLimit": 2048000,
      "implicitDf": true,
      "rowLimit": 10000
     },
     "inputWidgets": {},
     "nuid": "1e7b2fd6-defc-46a5-89ea-abe8886d1170",
     "showTitle": false,
     "title": ""
    }
   },
   "outputs": [
    {
     "output_type": "display_data",
     "data": {
      "text/html": [
       "<style scoped>\n",
       "  .table-result-container {\n",
       "    max-height: 300px;\n",
       "    overflow: auto;\n",
       "  }\n",
       "  table, th, td {\n",
       "    border: 1px solid black;\n",
       "    border-collapse: collapse;\n",
       "  }\n",
       "  th, td {\n",
       "    padding: 5px;\n",
       "  }\n",
       "  th {\n",
       "    text-align: left;\n",
       "  }\n",
       "</style><div class='table-result-container'><table class='table-result'><thead style='background-color: white'><tr><th>Biceps</th></tr></thead><tbody><tr><td>32.0</td></tr><tr><td>30.5</td></tr><tr><td>28.8</td></tr><tr><td>32.4</td></tr><tr><td>32.2</td></tr><tr><td>35.7</td></tr><tr><td>31.9</td></tr><tr><td>30.5</td></tr><tr><td>35.9</td></tr><tr><td>35.6</td></tr><tr><td>32.8</td></tr><tr><td>37.2</td></tr><tr><td>32.5</td></tr><tr><td>36.9</td></tr><tr><td>36.1</td></tr><tr><td>31.1</td></tr><tr><td>36.2</td></tr><tr><td>38.2</td></tr><tr><td>37.2</td></tr><tr><td>37.1</td></tr><tr><td>32.5</td></tr><tr><td>33.0</td></tr><tr><td>27.9</td></tr><tr><td>29.8</td></tr><tr><td>31.1</td></tr><tr><td>29.9</td></tr><tr><td>28.7</td></tr><tr><td>29.2</td></tr><tr><td>30.5</td></tr><tr><td>30.1</td></tr><tr><td>32.5</td></tr><tr><td>30.1</td></tr><tr><td>29.0</td></tr><tr><td>37.5</td></tr><tr><td>37.3</td></tr><tr><td>32.0</td></tr><tr><td>35.1</td></tr><tr><td>33.2</td></tr><tr><td>45.0</td></tr><tr><td>34.1</td></tr><tr><td>36.4</td></tr><tr><td>33.6</td></tr><tr><td>36.7</td></tr><tr><td>35.8</td></tr><tr><td>26.1</td></tr><tr><td>29.7</td></tr><tr><td>27.9</td></tr><tr><td>28.8</td></tr><tr><td>28.8</td></tr><tr><td>26.8</td></tr><tr><td>26.0</td></tr><tr><td>26.7</td></tr><tr><td>29.6</td></tr><tr><td>38.5</td></tr><tr><td>27.7</td></tr><tr><td>35.9</td></tr><tr><td>33.1</td></tr><tr><td>37.7</td></tr><tr><td>31.6</td></tr><tr><td>34.5</td></tr><tr><td>36.2</td></tr><tr><td>32.5</td></tr><tr><td>32.7</td></tr><tr><td>33.6</td></tr><tr><td>35.3</td></tr><tr><td>34.8</td></tr><tr><td>29.6</td></tr><tr><td>32.8</td></tr><tr><td>32.6</td></tr><tr><td>27.3</td></tr><tr><td>31.5</td></tr><tr><td>30.3</td></tr><tr><td>29.7</td></tr><tr><td>29.3</td></tr><tr><td>29.4</td></tr><tr><td>29.3</td></tr><tr><td>30.2</td></tr><tr><td>30.8</td></tr><tr><td>31.4</td></tr><tr><td>30.3</td></tr><tr><td>29.4</td></tr><tr><td>29.9</td></tr><tr><td>34.3</td></tr><tr><td>31.2</td></tr><tr><td>29.7</td></tr><tr><td>32.4</td></tr><tr><td>32.6</td></tr><tr><td>29.2</td></tr><tr><td>30.2</td></tr><tr><td>28.8</td></tr><tr><td>29.1</td></tr><tr><td>31.4</td></tr><tr><td>30.1</td></tr><tr><td>33.3</td></tr><tr><td>30.3</td></tr><tr><td>32.9</td></tr><tr><td>31.6</td></tr><tr><td>30.6</td></tr><tr><td>31.6</td></tr><tr><td>35.3</td></tr><tr><td>32.2</td></tr><tr><td>27.9</td></tr><tr><td>31.0</td></tr><tr><td>31.0</td></tr><tr><td>30.1</td></tr><tr><td>31.0</td></tr><tr><td>30.5</td></tr><tr><td>35.1</td></tr><tr><td>35.1</td></tr><tr><td>32.1</td></tr><tr><td>33.3</td></tr><tr><td>33.5</td></tr><tr><td>35.3</td></tr><tr><td>30.7</td></tr><tr><td>31.8</td></tr><tr><td>29.8</td></tr><tr><td>29.9</td></tr><tr><td>33.4</td></tr><tr><td>33.6</td></tr><tr><td>32.1</td></tr><tr><td>33.9</td></tr><tr><td>33.0</td></tr><tr><td>34.4</td></tr><tr><td>30.6</td></tr><tr><td>34.4</td></tr><tr><td>35.6</td></tr><tr><td>33.8</td></tr><tr><td>33.9</td></tr><tr><td>33.3</td></tr><tr><td>31.6</td></tr><tr><td>27.5</td></tr><tr><td>31.2</td></tr><tr><td>33.5</td></tr><tr><td>33.6</td></tr><tr><td>34.0</td></tr><tr><td>30.9</td></tr><tr><td>32.7</td></tr><tr><td>34.3</td></tr><tr><td>31.7</td></tr><tr><td>35.5</td></tr><tr><td>30.8</td></tr><tr><td>32.0</td></tr><tr><td>31.6</td></tr><tr><td>30.5</td></tr><tr><td>31.8</td></tr><tr><td>33.5</td></tr><tr><td>36.1</td></tr><tr><td>33.3</td></tr><tr><td>25.8</td></tr><tr><td>36.0</td></tr><tr><td>31.6</td></tr><tr><td>38.5</td></tr><tr><td>27.8</td></tr><tr><td>30.6</td></tr><tr><td>33.7</td></tr><tr><td>32.2</td></tr><tr><td>35.2</td></tr><tr><td>31.6</td></tr><tr><td>27.0</td></tr><tr><td>30.1</td></tr><tr><td>27.0</td></tr><tr><td>31.3</td></tr><tr><td>33.5</td></tr><tr><td>28.3</td></tr><tr><td>34.0</td></tr><tr><td>36.4</td></tr><tr><td>30.2</td></tr><tr><td>37.2</td></tr><tr><td>36.1</td></tr><tr><td>32.5</td></tr><tr><td>30.4</td></tr><tr><td>24.8</td></tr><tr><td>31.0</td></tr><tr><td>32.4</td></tr><tr><td>35.4</td></tr><tr><td>31.0</td></tr><tr><td>31.5</td></tr><tr><td>34.4</td></tr><tr><td>34.8</td></tr><tr><td>39.1</td></tr><tr><td>35.6</td></tr><tr><td>27.7</td></tr><tr><td>31.4</td></tr><tr><td>30.0</td></tr><tr><td>30.5</td></tr><tr><td>32.9</td></tr><tr><td>37.2</td></tr><tr><td>36.4</td></tr><tr><td>36.6</td></tr><tr><td>33.4</td></tr><tr><td>29.6</td></tr><tr><td>37.1</td></tr><tr><td>34.0</td></tr><tr><td>33.7</td></tr><tr><td>31.7</td></tr><tr><td>32.9</td></tr><tr><td>31.2</td></tr><tr><td>30.8</td></tr><tr><td>30.6</td></tr><tr><td>33.8</td></tr><tr><td>31.7</td></tr><tr><td>29.4</td></tr><tr><td>32.1</td></tr><tr><td>32.9</td></tr><tr><td>34.8</td></tr><tr><td>37.3</td></tr><tr><td>33.1</td></tr><tr><td>36.7</td></tr><tr><td>31.4</td></tr><tr><td>29.0</td></tr><tr><td>30.9</td></tr><tr><td>36.8</td></tr><tr><td>29.5</td></tr><tr><td>32.7</td></tr><tr><td>28.6</td></tr><tr><td>34.7</td></tr><tr><td>31.3</td></tr><tr><td>27.5</td></tr><tr><td>35.7</td></tr><tr><td>28.5</td></tr><tr><td>31.4</td></tr><tr><td>38.4</td></tr><tr><td>27.9</td></tr><tr><td>29.4</td></tr><tr><td>34.1</td></tr><tr><td>25.3</td></tr><tr><td>33.4</td></tr><tr><td>33.2</td></tr><tr><td>34.6</td></tr><tr><td>32.4</td></tr><tr><td>31.7</td></tr><tr><td>31.8</td></tr><tr><td>30.9</td></tr><tr><td>27.8</td></tr><tr><td>31.3</td></tr><tr><td>30.3</td></tr><tr><td>32.6</td></tr><tr><td>35.1</td></tr><tr><td>29.8</td></tr><tr><td>35.9</td></tr><tr><td>28.5</td></tr><tr><td>34.9</td></tr><tr><td>35.6</td></tr><tr><td>35.3</td></tr><tr><td>32.1</td></tr><tr><td>29.2</td></tr><tr><td>37.5</td></tr><tr><td>25.6</td></tr><tr><td>35.2</td></tr><tr><td>31.3</td></tr><tr><td>30.5</td></tr><tr><td>33.7</td></tr></tbody></table></div>"
      ]
     },
     "metadata": {
      "application/vnd.databricks.v1+output": {
       "addedWidgets": {},
       "aggData": [],
       "aggError": "",
       "aggOverflow": false,
       "aggSchema": [],
       "aggSeriesLimitReached": false,
       "aggType": "",
       "arguments": {},
       "columnCustomDisplayInfos": {},
       "data": [
        [
         32.0
        ],
        [
         30.5
        ],
        [
         28.8
        ],
        [
         32.4
        ],
        [
         32.2
        ],
        [
         35.7
        ],
        [
         31.9
        ],
        [
         30.5
        ],
        [
         35.9
        ],
        [
         35.6
        ],
        [
         32.8
        ],
        [
         37.2
        ],
        [
         32.5
        ],
        [
         36.9
        ],
        [
         36.1
        ],
        [
         31.1
        ],
        [
         36.2
        ],
        [
         38.2
        ],
        [
         37.2
        ],
        [
         37.1
        ],
        [
         32.5
        ],
        [
         33.0
        ],
        [
         27.9
        ],
        [
         29.8
        ],
        [
         31.1
        ],
        [
         29.9
        ],
        [
         28.7
        ],
        [
         29.2
        ],
        [
         30.5
        ],
        [
         30.1
        ],
        [
         32.5
        ],
        [
         30.1
        ],
        [
         29.0
        ],
        [
         37.5
        ],
        [
         37.3
        ],
        [
         32.0
        ],
        [
         35.1
        ],
        [
         33.2
        ],
        [
         45.0
        ],
        [
         34.1
        ],
        [
         36.4
        ],
        [
         33.6
        ],
        [
         36.7
        ],
        [
         35.8
        ],
        [
         26.1
        ],
        [
         29.7
        ],
        [
         27.9
        ],
        [
         28.8
        ],
        [
         28.8
        ],
        [
         26.8
        ],
        [
         26.0
        ],
        [
         26.7
        ],
        [
         29.6
        ],
        [
         38.5
        ],
        [
         27.7
        ],
        [
         35.9
        ],
        [
         33.1
        ],
        [
         37.7
        ],
        [
         31.6
        ],
        [
         34.5
        ],
        [
         36.2
        ],
        [
         32.5
        ],
        [
         32.7
        ],
        [
         33.6
        ],
        [
         35.3
        ],
        [
         34.8
        ],
        [
         29.6
        ],
        [
         32.8
        ],
        [
         32.6
        ],
        [
         27.3
        ],
        [
         31.5
        ],
        [
         30.3
        ],
        [
         29.7
        ],
        [
         29.3
        ],
        [
         29.4
        ],
        [
         29.3
        ],
        [
         30.2
        ],
        [
         30.8
        ],
        [
         31.4
        ],
        [
         30.3
        ],
        [
         29.4
        ],
        [
         29.9
        ],
        [
         34.3
        ],
        [
         31.2
        ],
        [
         29.7
        ],
        [
         32.4
        ],
        [
         32.6
        ],
        [
         29.2
        ],
        [
         30.2
        ],
        [
         28.8
        ],
        [
         29.1
        ],
        [
         31.4
        ],
        [
         30.1
        ],
        [
         33.3
        ],
        [
         30.3
        ],
        [
         32.9
        ],
        [
         31.6
        ],
        [
         30.6
        ],
        [
         31.6
        ],
        [
         35.3
        ],
        [
         32.2
        ],
        [
         27.9
        ],
        [
         31.0
        ],
        [
         31.0
        ],
        [
         30.1
        ],
        [
         31.0
        ],
        [
         30.5
        ],
        [
         35.1
        ],
        [
         35.1
        ],
        [
         32.1
        ],
        [
         33.3
        ],
        [
         33.5
        ],
        [
         35.3
        ],
        [
         30.7
        ],
        [
         31.8
        ],
        [
         29.8
        ],
        [
         29.9
        ],
        [
         33.4
        ],
        [
         33.6
        ],
        [
         32.1
        ],
        [
         33.9
        ],
        [
         33.0
        ],
        [
         34.4
        ],
        [
         30.6
        ],
        [
         34.4
        ],
        [
         35.6
        ],
        [
         33.8
        ],
        [
         33.9
        ],
        [
         33.3
        ],
        [
         31.6
        ],
        [
         27.5
        ],
        [
         31.2
        ],
        [
         33.5
        ],
        [
         33.6
        ],
        [
         34.0
        ],
        [
         30.9
        ],
        [
         32.7
        ],
        [
         34.3
        ],
        [
         31.7
        ],
        [
         35.5
        ],
        [
         30.8
        ],
        [
         32.0
        ],
        [
         31.6
        ],
        [
         30.5
        ],
        [
         31.8
        ],
        [
         33.5
        ],
        [
         36.1
        ],
        [
         33.3
        ],
        [
         25.8
        ],
        [
         36.0
        ],
        [
         31.6
        ],
        [
         38.5
        ],
        [
         27.8
        ],
        [
         30.6
        ],
        [
         33.7
        ],
        [
         32.2
        ],
        [
         35.2
        ],
        [
         31.6
        ],
        [
         27.0
        ],
        [
         30.1
        ],
        [
         27.0
        ],
        [
         31.3
        ],
        [
         33.5
        ],
        [
         28.3
        ],
        [
         34.0
        ],
        [
         36.4
        ],
        [
         30.2
        ],
        [
         37.2
        ],
        [
         36.1
        ],
        [
         32.5
        ],
        [
         30.4
        ],
        [
         24.8
        ],
        [
         31.0
        ],
        [
         32.4
        ],
        [
         35.4
        ],
        [
         31.0
        ],
        [
         31.5
        ],
        [
         34.4
        ],
        [
         34.8
        ],
        [
         39.1
        ],
        [
         35.6
        ],
        [
         27.7
        ],
        [
         31.4
        ],
        [
         30.0
        ],
        [
         30.5
        ],
        [
         32.9
        ],
        [
         37.2
        ],
        [
         36.4
        ],
        [
         36.6
        ],
        [
         33.4
        ],
        [
         29.6
        ],
        [
         37.1
        ],
        [
         34.0
        ],
        [
         33.7
        ],
        [
         31.7
        ],
        [
         32.9
        ],
        [
         31.2
        ],
        [
         30.8
        ],
        [
         30.6
        ],
        [
         33.8
        ],
        [
         31.7
        ],
        [
         29.4
        ],
        [
         32.1
        ],
        [
         32.9
        ],
        [
         34.8
        ],
        [
         37.3
        ],
        [
         33.1
        ],
        [
         36.7
        ],
        [
         31.4
        ],
        [
         29.0
        ],
        [
         30.9
        ],
        [
         36.8
        ],
        [
         29.5
        ],
        [
         32.7
        ],
        [
         28.6
        ],
        [
         34.7
        ],
        [
         31.3
        ],
        [
         27.5
        ],
        [
         35.7
        ],
        [
         28.5
        ],
        [
         31.4
        ],
        [
         38.4
        ],
        [
         27.9
        ],
        [
         29.4
        ],
        [
         34.1
        ],
        [
         25.3
        ],
        [
         33.4
        ],
        [
         33.2
        ],
        [
         34.6
        ],
        [
         32.4
        ],
        [
         31.7
        ],
        [
         31.8
        ],
        [
         30.9
        ],
        [
         27.8
        ],
        [
         31.3
        ],
        [
         30.3
        ],
        [
         32.6
        ],
        [
         35.1
        ],
        [
         29.8
        ],
        [
         35.9
        ],
        [
         28.5
        ],
        [
         34.9
        ],
        [
         35.6
        ],
        [
         35.3
        ],
        [
         32.1
        ],
        [
         29.2
        ],
        [
         37.5
        ],
        [
         25.6
        ],
        [
         35.2
        ],
        [
         31.3
        ],
        [
         30.5
        ],
        [
         33.7
        ]
       ],
       "datasetInfos": [],
       "dbfsResultPath": null,
       "isJsonSchema": true,
       "metadata": {},
       "overflow": false,
       "plotOptions": {
        "customPlotOptions": {},
        "displayType": "table",
        "pivotAggregation": null,
        "pivotColumns": null,
        "xColumns": null,
        "yColumns": null
       },
       "removedWidgets": [],
       "schema": [
        {
         "metadata": "{}",
         "name": "Biceps",
         "type": "\"double\""
        }
       ],
       "type": "table"
      }
     },
     "output_type": "display_data"
    },
    {
     "output_type": "display_data",
     "data": {
      "text/plain": [
       "Databricks visualization. Run in Databricks to view."
      ]
     },
     "metadata": {
      "application/vnd.databricks.v1.subcommand+json": {
       "baseErrorDetails": null,
       "bindings": {},
       "collapsed": false,
       "command": "%sql WITH q AS (SELECT Biceps FROM BodyFat) ,min_max AS (SELECT `Biceps`,(SELECT MAX(`Biceps`) FROM q) `target_column_max`,(SELECT MIN(`Biceps`) FROM q) `target_column_min` FROM q) ,histogram_meta AS (SELECT `Biceps`,`target_column_min` `min_value`,IF(`target_column_max` = `target_column_min`,`target_column_max` + 1,`target_column_max`) `max_value`,(`target_column_max` - `target_column_min`) / 15 `step` FROM min_max) SELECT IF(ISNULL(`Biceps`),NULL,LEAST(WIDTH_BUCKET(`Biceps`,`min_value`,`max_value`,15),15)) `Biceps_BIN`,FIRST(`min_value` + ((IF(ISNULL(`Biceps`),NULL,LEAST(WIDTH_BUCKET(`Biceps`,`min_value`,`max_value`,15),15)) - 1) * `step`)) `Biceps_BIN_LOWER_BOUND`,FIRST(`step`) `Biceps_BIN_STEP`,COUNT(`Biceps`) `COUNT` FROM histogram_meta GROUP BY `Biceps_BIN`",
       "commandTitle": "Visualization 1",
       "commandType": "auto",
       "commandVersion": 0,
       "commentThread": [],
       "commentsVisible": false,
       "contentSha256Hex": null,
       "customPlotOptions": {
        "redashChart": [
         {
          "key": "type",
          "value": "CHART"
         },
         {
          "key": "options",
          "value": {
           "alignYAxesAtZero": true,
           "coefficient": 1,
           "columnConfigurationMap": {
            "x": {
             "column": "Biceps",
             "id": "column_a0f52a9813"
            }
           },
           "dateTimeFormat": "DD/MM/YYYY HH:mm",
           "direction": {
            "type": "counterclockwise"
           },
           "error_y": {
            "type": "data",
            "visible": true
           },
           "globalSeriesType": "histogram",
           "legend": {
            "traceorder": "normal"
           },
           "missingValuesAsZero": true,
           "numBins": 15,
           "numberFormat": "0,0.[00000]",
           "percentFormat": "0[.]00%",
           "series": {
            "error_y": {
             "type": "data",
             "visible": true
            },
            "stacking": null
           },
           "seriesOptions": {},
           "showDataLabels": false,
           "sizemode": "diameter",
           "sortX": true,
           "sortY": true,
           "swappedAxes": false,
           "textFormat": "",
           "useAggregationsUi": true,
           "valuesOptions": {},
           "version": 2,
           "xAxis": {
            "labels": {
             "enabled": true
            },
            "type": "-"
           },
           "yAxis": [
            {
             "type": "-"
            },
            {
             "opposite": true,
             "type": "-"
            }
           ]
          }
         }
        ]
       },
       "datasetPreviewNameToCmdIdMap": {},
       "diffDeletes": [],
       "diffInserts": [],
       "displayType": "redashChart",
       "error": null,
       "errorDetails": null,
       "errorSummary": null,
       "errorTraceType": null,
       "finishTime": 0,
       "globalVars": {},
       "guid": "",
       "height": "auto",
       "hideCommandCode": false,
       "hideCommandResult": false,
       "iPythonMetadata": null,
       "inputWidgets": {},
       "isLockedInExamMode": false,
       "latestUser": "a user",
       "latestUserId": null,
       "listResultMetadata": null,
       "metadata": {
        "byteLimit": 2048000,
        "implicitDf": true,
        "rowLimit": 10000
       },
       "nuid": "d3884c31-c81d-4925-a607-24ba6ddecba5",
       "origId": 0,
       "parentHierarchy": [],
       "pivotAggregation": null,
       "pivotColumns": null,
       "position": 19.75,
       "resultDbfsErrorMessage": null,
       "resultDbfsStatus": "INLINED_IN_TREE",
       "results": null,
       "showCommandTitle": false,
       "startTime": 0,
       "state": "finished",
       "streamStates": {},
       "subcommandOptions": {
        "queryPlan": {
         "groups": [
          {
           "column": "Biceps_BIN",
           "type": "column"
          }
         ],
         "selects": [
          {
           "alias": "Biceps_BIN",
           "args": [
            {
             "column": "Biceps",
             "type": "column"
            },
            {
             "number": 15,
             "type": "number"
            }
           ],
           "function": "BIN",
           "type": "function"
          },
          {
           "alias": "Biceps_BIN_LOWER_BOUND",
           "args": [
            {
             "column": "Biceps",
             "type": "column"
            },
            {
             "number": 15,
             "type": "number"
            }
           ],
           "function": "BIN_LOWER_BOUND",
           "type": "function"
          },
          {
           "alias": "Biceps_BIN_STEP",
           "args": [
            {
             "column": "Biceps",
             "type": "column"
            },
            {
             "number": 15,
             "type": "number"
            }
           ],
           "function": "BIN_STEP",
           "type": "function"
          },
          {
           "alias": "COUNT",
           "args": [
            {
             "column": "Biceps",
             "type": "column"
            }
           ],
           "function": "COUNT",
           "type": "function"
          }
         ]
        }
       },
       "submitTime": 0,
       "subtype": "tableResultSubCmd.visualization",
       "tableResultIndex": 0,
       "useConsistentColors": false,
       "version": "CommandV1",
       "width": "auto",
       "workflows": [],
       "xColumns": null,
       "yColumns": null
      }
     },
     "output_type": "display_data"
    }
   ],
   "source": [
    "%sql\n",
    "\n",
    "SELECT Biceps FROM BodyFat;"
   ]
  },
  {
   "cell_type": "markdown",
   "metadata": {
    "application/vnd.databricks.v1+cell": {
     "cellMetadata": {},
     "inputWidgets": {},
     "nuid": "2bbbe1d4-a8f6-45b5-8828-196d3ace7d86",
     "showTitle": false,
     "title": ""
    }
   },
   "source": [
    "#### Histogram of Forearm Circumference"
   ]
  },
  {
   "cell_type": "code",
   "execution_count": 0,
   "metadata": {
    "application/vnd.databricks.v1+cell": {
     "cellMetadata": {
      "byteLimit": 2048000,
      "implicitDf": true,
      "rowLimit": 10000
     },
     "inputWidgets": {},
     "nuid": "51707c96-3d8c-4d52-8a4a-8a7131b8247a",
     "showTitle": false,
     "title": ""
    }
   },
   "outputs": [
    {
     "output_type": "display_data",
     "data": {
      "text/html": [
       "<style scoped>\n",
       "  .table-result-container {\n",
       "    max-height: 300px;\n",
       "    overflow: auto;\n",
       "  }\n",
       "  table, th, td {\n",
       "    border: 1px solid black;\n",
       "    border-collapse: collapse;\n",
       "  }\n",
       "  th, td {\n",
       "    padding: 5px;\n",
       "  }\n",
       "  th {\n",
       "    text-align: left;\n",
       "  }\n",
       "</style><div class='table-result-container'><table class='table-result'><thead style='background-color: white'><tr><th>Forearm</th></tr></thead><tbody><tr><td>27.4</td></tr><tr><td>28.9</td></tr><tr><td>25.2</td></tr><tr><td>29.4</td></tr><tr><td>27.7</td></tr><tr><td>30.6</td></tr><tr><td>27.8</td></tr><tr><td>29.0</td></tr><tr><td>31.1</td></tr><tr><td>30.0</td></tr><tr><td>29.4</td></tr><tr><td>30.2</td></tr><tr><td>28.6</td></tr><tr><td>31.6</td></tr><tr><td>30.5</td></tr><tr><td>26.4</td></tr><tr><td>30.8</td></tr><tr><td>31.6</td></tr><tr><td>30.5</td></tr><tr><td>30.1</td></tr><tr><td>30.3</td></tr><tr><td>32.8</td></tr><tr><td>25.9</td></tr><tr><td>26.7</td></tr><tr><td>28.0</td></tr><tr><td>28.2</td></tr><tr><td>27.0</td></tr><tr><td>26.6</td></tr><tr><td>27.9</td></tr><tr><td>26.7</td></tr><tr><td>27.7</td></tr><tr><td>26.4</td></tr><tr><td>30.0</td></tr><tr><td>31.5</td></tr><tr><td>31.7</td></tr><tr><td>29.8</td></tr><tr><td>30.6</td></tr><tr><td>30.5</td></tr><tr><td>29.0</td></tr><tr><td>31.0</td></tr><tr><td>32.7</td></tr><tr><td>28.7</td></tr><tr><td>29.8</td></tr><tr><td>31.5</td></tr><tr><td>23.1</td></tr><tr><td>27.4</td></tr><tr><td>26.2</td></tr><tr><td>26.8</td></tr><tr><td>25.5</td></tr><tr><td>25.8</td></tr><tr><td>25.8</td></tr><tr><td>26.1</td></tr><tr><td>26.0</td></tr><tr><td>27.4</td></tr><tr><td>27.5</td></tr><tr><td>30.2</td></tr><tr><td>28.3</td></tr><tr><td>30.9</td></tr><tr><td>28.8</td></tr><tr><td>29.6</td></tr><tr><td>31.8</td></tr><tr><td>29.8</td></tr><tr><td>29.9</td></tr><tr><td>29.0</td></tr><tr><td>31.1</td></tr><tr><td>30.1</td></tr><tr><td>27.4</td></tr><tr><td>27.4</td></tr><tr><td>28.1</td></tr><tr><td>27.1</td></tr><tr><td>27.3</td></tr><tr><td>27.3</td></tr><tr><td>27.3</td></tr><tr><td>25.7</td></tr><tr><td>27.0</td></tr><tr><td>27.0</td></tr><tr><td>29.2</td></tr><tr><td>25.7</td></tr><tr><td>26.8</td></tr><tr><td>28.7</td></tr><tr><td>27.2</td></tr><tr><td>25.2</td></tr><tr><td>29.6</td></tr><tr><td>27.3</td></tr><tr><td>26.3</td></tr><tr><td>27.7</td></tr><tr><td>28.0</td></tr><tr><td>28.4</td></tr><tr><td>29.3</td></tr><tr><td>29.6</td></tr><tr><td>27.7</td></tr><tr><td>28.4</td></tr><tr><td>28.2</td></tr><tr><td>29.6</td></tr><tr><td>27.9</td></tr><tr><td>30.8</td></tr><tr><td>30.1</td></tr><tr><td>27.8</td></tr><tr><td>27.5</td></tr><tr><td>30.9</td></tr><tr><td>31.0</td></tr><tr><td>26.2</td></tr><tr><td>29.2</td></tr><tr><td>30.3</td></tr><tr><td>27.2</td></tr><tr><td>29.4</td></tr><tr><td>28.5</td></tr><tr><td>29.6</td></tr><tr><td>30.7</td></tr><tr><td>26.0</td></tr><tr><td>28.2</td></tr><tr><td>27.8</td></tr><tr><td>31.1</td></tr><tr><td>27.6</td></tr><tr><td>27.3</td></tr><tr><td>26.3</td></tr><tr><td>28.0</td></tr><tr><td>29.8</td></tr><tr><td>29.5</td></tr><tr><td>28.6</td></tr><tr><td>31.2</td></tr><tr><td>29.6</td></tr><tr><td>28.0</td></tr><tr><td>27.5</td></tr><tr><td>29.2</td></tr><tr><td>30.2</td></tr><tr><td>30.3</td></tr><tr><td>28.2</td></tr><tr><td>29.6</td></tr><tr><td>27.8</td></tr><tr><td>26.5</td></tr><tr><td>28.4</td></tr><tr><td>28.6</td></tr><tr><td>29.3</td></tr><tr><td>29.8</td></tr><tr><td>28.8</td></tr><tr><td>28.3</td></tr><tr><td>28.4</td></tr><tr><td>27.4</td></tr><tr><td>29.8</td></tr><tr><td>27.9</td></tr><tr><td>28.5</td></tr><tr><td>27.5</td></tr><tr><td>27.2</td></tr><tr><td>29.7</td></tr><tr><td>28.3</td></tr><tr><td>30.3</td></tr><tr><td>29.7</td></tr><tr><td>25.2</td></tr><tr><td>30.4</td></tr><tr><td>29.0</td></tr><tr><td>33.8</td></tr><tr><td>26.3</td></tr><tr><td>28.3</td></tr><tr><td>29.2</td></tr><tr><td>27.7</td></tr><tr><td>30.7</td></tr><tr><td>28.0</td></tr><tr><td>34.9</td></tr><tr><td>28.2</td></tr><tr><td>26.3</td></tr><tr><td>29.2</td></tr><tr><td>30.6</td></tr><tr><td>26.2</td></tr><tr><td>31.2</td></tr><tr><td>33.7</td></tr><tr><td>28.7</td></tr><tr><td>33.1</td></tr><tr><td>31.8</td></tr><tr><td>29.8</td></tr><tr><td>27.4</td></tr><tr><td>25.9</td></tr><tr><td>28.7</td></tr><tr><td>28.4</td></tr><tr><td>21.0</td></tr><tr><td>26.9</td></tr><tr><td>26.6</td></tr><tr><td>29.5</td></tr><tr><td>30.3</td></tr><tr><td>32.5</td></tr><tr><td>29.0</td></tr><tr><td>24.6</td></tr><tr><td>28.3</td></tr><tr><td>26.4</td></tr><tr><td>28.9</td></tr><tr><td>29.3</td></tr><tr><td>31.8</td></tr><tr><td>30.4</td></tr><tr><td>32.4</td></tr><tr><td>29.2</td></tr><tr><td>27.3</td></tr><tr><td>31.2</td></tr><tr><td>30.1</td></tr><tr><td>29.9</td></tr><tr><td>27.1</td></tr><tr><td>29.8</td></tr><tr><td>27.3</td></tr><tr><td>27.8</td></tr><tr><td>30.0</td></tr><tr><td>28.8</td></tr><tr><td>28.4</td></tr><tr><td>26.6</td></tr><tr><td>28.9</td></tr><tr><td>29.2</td></tr><tr><td>30.7</td></tr><tr><td>23.1</td></tr><tr><td>29.5</td></tr><tr><td>31.6</td></tr><tr><td>27.5</td></tr><tr><td>26.2</td></tr><tr><td>28.8</td></tr><tr><td>31.0</td></tr><tr><td>27.9</td></tr><tr><td>30.0</td></tr><tr><td>26.7</td></tr><tr><td>29.1</td></tr><tr><td>26.3</td></tr><tr><td>25.9</td></tr><tr><td>30.4</td></tr><tr><td>25.7</td></tr><tr><td>29.9</td></tr><tr><td>32.0</td></tr><tr><td>27.0</td></tr><tr><td>26.8</td></tr><tr><td>31.1</td></tr><tr><td>22.0</td></tr><tr><td>29.3</td></tr><tr><td>30.0</td></tr><tr><td>30.1</td></tr><tr><td>29.7</td></tr><tr><td>27.3</td></tr><tr><td>29.1</td></tr><tr><td>29.6</td></tr><tr><td>26.1</td></tr><tr><td>28.7</td></tr><tr><td>26.3</td></tr><tr><td>28.5</td></tr><tr><td>29.6</td></tr><tr><td>28.9</td></tr><tr><td>30.5</td></tr><tr><td>24.8</td></tr><tr><td>30.1</td></tr><tr><td>30.7</td></tr><tr><td>29.8</td></tr><tr><td>29.3</td></tr><tr><td>27.3</td></tr><tr><td>32.6</td></tr><tr><td>25.7</td></tr><tr><td>28.6</td></tr><tr><td>27.2</td></tr><tr><td>29.4</td></tr><tr><td>30.0</td></tr></tbody></table></div>"
      ]
     },
     "metadata": {
      "application/vnd.databricks.v1+output": {
       "addedWidgets": {},
       "aggData": [],
       "aggError": "",
       "aggOverflow": false,
       "aggSchema": [],
       "aggSeriesLimitReached": false,
       "aggType": "",
       "arguments": {},
       "columnCustomDisplayInfos": {},
       "data": [
        [
         27.4
        ],
        [
         28.9
        ],
        [
         25.2
        ],
        [
         29.4
        ],
        [
         27.7
        ],
        [
         30.6
        ],
        [
         27.8
        ],
        [
         29.0
        ],
        [
         31.1
        ],
        [
         30.0
        ],
        [
         29.4
        ],
        [
         30.2
        ],
        [
         28.6
        ],
        [
         31.6
        ],
        [
         30.5
        ],
        [
         26.4
        ],
        [
         30.8
        ],
        [
         31.6
        ],
        [
         30.5
        ],
        [
         30.1
        ],
        [
         30.3
        ],
        [
         32.8
        ],
        [
         25.9
        ],
        [
         26.7
        ],
        [
         28.0
        ],
        [
         28.2
        ],
        [
         27.0
        ],
        [
         26.6
        ],
        [
         27.9
        ],
        [
         26.7
        ],
        [
         27.7
        ],
        [
         26.4
        ],
        [
         30.0
        ],
        [
         31.5
        ],
        [
         31.7
        ],
        [
         29.8
        ],
        [
         30.6
        ],
        [
         30.5
        ],
        [
         29.0
        ],
        [
         31.0
        ],
        [
         32.7
        ],
        [
         28.7
        ],
        [
         29.8
        ],
        [
         31.5
        ],
        [
         23.1
        ],
        [
         27.4
        ],
        [
         26.2
        ],
        [
         26.8
        ],
        [
         25.5
        ],
        [
         25.8
        ],
        [
         25.8
        ],
        [
         26.1
        ],
        [
         26.0
        ],
        [
         27.4
        ],
        [
         27.5
        ],
        [
         30.2
        ],
        [
         28.3
        ],
        [
         30.9
        ],
        [
         28.8
        ],
        [
         29.6
        ],
        [
         31.8
        ],
        [
         29.8
        ],
        [
         29.9
        ],
        [
         29.0
        ],
        [
         31.1
        ],
        [
         30.1
        ],
        [
         27.4
        ],
        [
         27.4
        ],
        [
         28.1
        ],
        [
         27.1
        ],
        [
         27.3
        ],
        [
         27.3
        ],
        [
         27.3
        ],
        [
         25.7
        ],
        [
         27.0
        ],
        [
         27.0
        ],
        [
         29.2
        ],
        [
         25.7
        ],
        [
         26.8
        ],
        [
         28.7
        ],
        [
         27.2
        ],
        [
         25.2
        ],
        [
         29.6
        ],
        [
         27.3
        ],
        [
         26.3
        ],
        [
         27.7
        ],
        [
         28.0
        ],
        [
         28.4
        ],
        [
         29.3
        ],
        [
         29.6
        ],
        [
         27.7
        ],
        [
         28.4
        ],
        [
         28.2
        ],
        [
         29.6
        ],
        [
         27.9
        ],
        [
         30.8
        ],
        [
         30.1
        ],
        [
         27.8
        ],
        [
         27.5
        ],
        [
         30.9
        ],
        [
         31.0
        ],
        [
         26.2
        ],
        [
         29.2
        ],
        [
         30.3
        ],
        [
         27.2
        ],
        [
         29.4
        ],
        [
         28.5
        ],
        [
         29.6
        ],
        [
         30.7
        ],
        [
         26.0
        ],
        [
         28.2
        ],
        [
         27.8
        ],
        [
         31.1
        ],
        [
         27.6
        ],
        [
         27.3
        ],
        [
         26.3
        ],
        [
         28.0
        ],
        [
         29.8
        ],
        [
         29.5
        ],
        [
         28.6
        ],
        [
         31.2
        ],
        [
         29.6
        ],
        [
         28.0
        ],
        [
         27.5
        ],
        [
         29.2
        ],
        [
         30.2
        ],
        [
         30.3
        ],
        [
         28.2
        ],
        [
         29.6
        ],
        [
         27.8
        ],
        [
         26.5
        ],
        [
         28.4
        ],
        [
         28.6
        ],
        [
         29.3
        ],
        [
         29.8
        ],
        [
         28.8
        ],
        [
         28.3
        ],
        [
         28.4
        ],
        [
         27.4
        ],
        [
         29.8
        ],
        [
         27.9
        ],
        [
         28.5
        ],
        [
         27.5
        ],
        [
         27.2
        ],
        [
         29.7
        ],
        [
         28.3
        ],
        [
         30.3
        ],
        [
         29.7
        ],
        [
         25.2
        ],
        [
         30.4
        ],
        [
         29.0
        ],
        [
         33.8
        ],
        [
         26.3
        ],
        [
         28.3
        ],
        [
         29.2
        ],
        [
         27.7
        ],
        [
         30.7
        ],
        [
         28.0
        ],
        [
         34.9
        ],
        [
         28.2
        ],
        [
         26.3
        ],
        [
         29.2
        ],
        [
         30.6
        ],
        [
         26.2
        ],
        [
         31.2
        ],
        [
         33.7
        ],
        [
         28.7
        ],
        [
         33.1
        ],
        [
         31.8
        ],
        [
         29.8
        ],
        [
         27.4
        ],
        [
         25.9
        ],
        [
         28.7
        ],
        [
         28.4
        ],
        [
         21.0
        ],
        [
         26.9
        ],
        [
         26.6
        ],
        [
         29.5
        ],
        [
         30.3
        ],
        [
         32.5
        ],
        [
         29.0
        ],
        [
         24.6
        ],
        [
         28.3
        ],
        [
         26.4
        ],
        [
         28.9
        ],
        [
         29.3
        ],
        [
         31.8
        ],
        [
         30.4
        ],
        [
         32.4
        ],
        [
         29.2
        ],
        [
         27.3
        ],
        [
         31.2
        ],
        [
         30.1
        ],
        [
         29.9
        ],
        [
         27.1
        ],
        [
         29.8
        ],
        [
         27.3
        ],
        [
         27.8
        ],
        [
         30.0
        ],
        [
         28.8
        ],
        [
         28.4
        ],
        [
         26.6
        ],
        [
         28.9
        ],
        [
         29.2
        ],
        [
         30.7
        ],
        [
         23.1
        ],
        [
         29.5
        ],
        [
         31.6
        ],
        [
         27.5
        ],
        [
         26.2
        ],
        [
         28.8
        ],
        [
         31.0
        ],
        [
         27.9
        ],
        [
         30.0
        ],
        [
         26.7
        ],
        [
         29.1
        ],
        [
         26.3
        ],
        [
         25.9
        ],
        [
         30.4
        ],
        [
         25.7
        ],
        [
         29.9
        ],
        [
         32.0
        ],
        [
         27.0
        ],
        [
         26.8
        ],
        [
         31.1
        ],
        [
         22.0
        ],
        [
         29.3
        ],
        [
         30.0
        ],
        [
         30.1
        ],
        [
         29.7
        ],
        [
         27.3
        ],
        [
         29.1
        ],
        [
         29.6
        ],
        [
         26.1
        ],
        [
         28.7
        ],
        [
         26.3
        ],
        [
         28.5
        ],
        [
         29.6
        ],
        [
         28.9
        ],
        [
         30.5
        ],
        [
         24.8
        ],
        [
         30.1
        ],
        [
         30.7
        ],
        [
         29.8
        ],
        [
         29.3
        ],
        [
         27.3
        ],
        [
         32.6
        ],
        [
         25.7
        ],
        [
         28.6
        ],
        [
         27.2
        ],
        [
         29.4
        ],
        [
         30.0
        ]
       ],
       "datasetInfos": [],
       "dbfsResultPath": null,
       "isJsonSchema": true,
       "metadata": {},
       "overflow": false,
       "plotOptions": {
        "customPlotOptions": {},
        "displayType": "table",
        "pivotAggregation": null,
        "pivotColumns": null,
        "xColumns": null,
        "yColumns": null
       },
       "removedWidgets": [],
       "schema": [
        {
         "metadata": "{}",
         "name": "Forearm",
         "type": "\"double\""
        }
       ],
       "type": "table"
      }
     },
     "output_type": "display_data"
    },
    {
     "output_type": "display_data",
     "data": {
      "text/plain": [
       "Databricks visualization. Run in Databricks to view."
      ]
     },
     "metadata": {
      "application/vnd.databricks.v1.subcommand+json": {
       "baseErrorDetails": null,
       "bindings": {},
       "collapsed": false,
       "command": "%sql WITH q AS (SELECT Forearm FROM BodyFat) ,min_max AS (SELECT `Forearm`,(SELECT MAX(`Forearm`) FROM q) `target_column_max`,(SELECT MIN(`Forearm`) FROM q) `target_column_min` FROM q) ,histogram_meta AS (SELECT `Forearm`,`target_column_min` `min_value`,IF(`target_column_max` = `target_column_min`,`target_column_max` + 1,`target_column_max`) `max_value`,(`target_column_max` - `target_column_min`) / 15 `step` FROM min_max) SELECT IF(ISNULL(`Forearm`),NULL,LEAST(WIDTH_BUCKET(`Forearm`,`min_value`,`max_value`,15),15)) `Forearm_BIN`,FIRST(`min_value` + ((IF(ISNULL(`Forearm`),NULL,LEAST(WIDTH_BUCKET(`Forearm`,`min_value`,`max_value`,15),15)) - 1) * `step`)) `Forearm_BIN_LOWER_BOUND`,FIRST(`step`) `Forearm_BIN_STEP`,COUNT(`Forearm`) `COUNT` FROM histogram_meta GROUP BY `Forearm_BIN`",
       "commandTitle": "Visualization 1",
       "commandType": "auto",
       "commandVersion": 0,
       "commentThread": [],
       "commentsVisible": false,
       "contentSha256Hex": null,
       "customPlotOptions": {
        "redashChart": [
         {
          "key": "type",
          "value": "CHART"
         },
         {
          "key": "options",
          "value": {
           "alignYAxesAtZero": true,
           "coefficient": 1,
           "columnConfigurationMap": {
            "x": {
             "column": "Forearm",
             "id": "column_a0f52a9814"
            }
           },
           "dateTimeFormat": "DD/MM/YYYY HH:mm",
           "direction": {
            "type": "counterclockwise"
           },
           "error_y": {
            "type": "data",
            "visible": true
           },
           "globalSeriesType": "histogram",
           "legend": {
            "traceorder": "normal"
           },
           "missingValuesAsZero": true,
           "numBins": 15,
           "numberFormat": "0,0.[00000]",
           "percentFormat": "0[.]00%",
           "series": {
            "error_y": {
             "type": "data",
             "visible": true
            },
            "stacking": null
           },
           "seriesOptions": {},
           "showDataLabels": false,
           "sizemode": "diameter",
           "sortX": true,
           "sortY": true,
           "swappedAxes": false,
           "textFormat": "",
           "useAggregationsUi": true,
           "valuesOptions": {},
           "version": 2,
           "xAxis": {
            "labels": {
             "enabled": true
            },
            "type": "-"
           },
           "yAxis": [
            {
             "type": "-"
            },
            {
             "opposite": true,
             "type": "-"
            }
           ]
          }
         }
        ]
       },
       "datasetPreviewNameToCmdIdMap": {},
       "diffDeletes": [],
       "diffInserts": [],
       "displayType": "redashChart",
       "error": null,
       "errorDetails": null,
       "errorSummary": null,
       "errorTraceType": null,
       "finishTime": 0,
       "globalVars": {},
       "guid": "",
       "height": "auto",
       "hideCommandCode": false,
       "hideCommandResult": false,
       "iPythonMetadata": null,
       "inputWidgets": {},
       "isLockedInExamMode": false,
       "latestUser": "a user",
       "latestUserId": null,
       "listResultMetadata": null,
       "metadata": {
        "byteLimit": 2048000,
        "implicitDf": true,
        "rowLimit": 10000
       },
       "nuid": "63c7b25f-74fa-4d36-926d-94ba98322e9f",
       "origId": 0,
       "parentHierarchy": [],
       "pivotAggregation": null,
       "pivotColumns": null,
       "position": 20.75,
       "resultDbfsErrorMessage": null,
       "resultDbfsStatus": "INLINED_IN_TREE",
       "results": null,
       "showCommandTitle": false,
       "startTime": 0,
       "state": "finished",
       "streamStates": {},
       "subcommandOptions": {
        "queryPlan": {
         "groups": [
          {
           "column": "Forearm_BIN",
           "type": "column"
          }
         ],
         "selects": [
          {
           "alias": "Forearm_BIN",
           "args": [
            {
             "column": "Forearm",
             "type": "column"
            },
            {
             "number": 15,
             "type": "number"
            }
           ],
           "function": "BIN",
           "type": "function"
          },
          {
           "alias": "Forearm_BIN_LOWER_BOUND",
           "args": [
            {
             "column": "Forearm",
             "type": "column"
            },
            {
             "number": 15,
             "type": "number"
            }
           ],
           "function": "BIN_LOWER_BOUND",
           "type": "function"
          },
          {
           "alias": "Forearm_BIN_STEP",
           "args": [
            {
             "column": "Forearm",
             "type": "column"
            },
            {
             "number": 15,
             "type": "number"
            }
           ],
           "function": "BIN_STEP",
           "type": "function"
          },
          {
           "alias": "COUNT",
           "args": [
            {
             "column": "Forearm",
             "type": "column"
            }
           ],
           "function": "COUNT",
           "type": "function"
          }
         ]
        }
       },
       "submitTime": 0,
       "subtype": "tableResultSubCmd.visualization",
       "tableResultIndex": 0,
       "useConsistentColors": false,
       "version": "CommandV1",
       "width": "auto",
       "workflows": [],
       "xColumns": null,
       "yColumns": null
      }
     },
     "output_type": "display_data"
    }
   ],
   "source": [
    "%sql\n",
    "\n",
    "SELECT Forearm FROM BodyFat;"
   ]
  },
  {
   "cell_type": "markdown",
   "metadata": {
    "application/vnd.databricks.v1+cell": {
     "cellMetadata": {},
     "inputWidgets": {},
     "nuid": "dbb4bf09-fc15-4aaf-a904-6e994ee864e2",
     "showTitle": false,
     "title": ""
    }
   },
   "source": [
    "#### Histogram of Wrist Circumference"
   ]
  },
  {
   "cell_type": "code",
   "execution_count": 0,
   "metadata": {
    "application/vnd.databricks.v1+cell": {
     "cellMetadata": {
      "byteLimit": 2048000,
      "implicitDf": true,
      "rowLimit": 10000
     },
     "inputWidgets": {},
     "nuid": "538734f7-ac3b-476e-ab8e-893775cc9008",
     "showTitle": false,
     "title": ""
    }
   },
   "outputs": [
    {
     "output_type": "display_data",
     "data": {
      "text/html": [
       "<style scoped>\n",
       "  .table-result-container {\n",
       "    max-height: 300px;\n",
       "    overflow: auto;\n",
       "  }\n",
       "  table, th, td {\n",
       "    border: 1px solid black;\n",
       "    border-collapse: collapse;\n",
       "  }\n",
       "  th, td {\n",
       "    padding: 5px;\n",
       "  }\n",
       "  th {\n",
       "    text-align: left;\n",
       "  }\n",
       "</style><div class='table-result-container'><table class='table-result'><thead style='background-color: white'><tr><th>Wrist</th></tr></thead><tbody><tr><td>17.1</td></tr><tr><td>18.2</td></tr><tr><td>16.6</td></tr><tr><td>18.2</td></tr><tr><td>17.7</td></tr><tr><td>18.8</td></tr><tr><td>17.7</td></tr><tr><td>18.8</td></tr><tr><td>18.2</td></tr><tr><td>19.2</td></tr><tr><td>18.5</td></tr><tr><td>19.0</td></tr><tr><td>17.7</td></tr><tr><td>18.8</td></tr><tr><td>18.2</td></tr><tr><td>16.9</td></tr><tr><td>17.3</td></tr><tr><td>19.3</td></tr><tr><td>18.5</td></tr><tr><td>18.2</td></tr><tr><td>18.4</td></tr><tr><td>19.9</td></tr><tr><td>16.7</td></tr><tr><td>17.1</td></tr><tr><td>17.6</td></tr><tr><td>17.7</td></tr><tr><td>16.5</td></tr><tr><td>17.0</td></tr><tr><td>17.2</td></tr><tr><td>17.6</td></tr><tr><td>18.4</td></tr><tr><td>17.9</td></tr><tr><td>18.8</td></tr><tr><td>18.7</td></tr><tr><td>19.7</td></tr><tr><td>17.0</td></tr><tr><td>19.0</td></tr><tr><td>19.4</td></tr><tr><td>21.4</td></tr><tr><td>18.3</td></tr><tr><td>21.4</td></tr><tr><td>17.4</td></tr><tr><td>18.4</td></tr><tr><td>18.8</td></tr><tr><td>16.1</td></tr><tr><td>18.3</td></tr><tr><td>17.3</td></tr><tr><td>17.9</td></tr><tr><td>16.3</td></tr><tr><td>16.8</td></tr><tr><td>17.3</td></tr><tr><td>17.2</td></tr><tr><td>16.9</td></tr><tr><td>18.5</td></tr><tr><td>18.5</td></tr><tr><td>18.9</td></tr><tr><td>18.5</td></tr><tr><td>19.2</td></tr><tr><td>18.2</td></tr><tr><td>18.5</td></tr><tr><td>20.2</td></tr><tr><td>18.3</td></tr><tr><td>19.1</td></tr><tr><td>18.8</td></tr><tr><td>18.4</td></tr><tr><td>18.7</td></tr><tr><td>17.4</td></tr><tr><td>18.7</td></tr><tr><td>18.1</td></tr><tr><td>17.3</td></tr><tr><td>18.6</td></tr><tr><td>18.3</td></tr><tr><td>18.2</td></tr><tr><td>16.9</td></tr><tr><td>16.8</td></tr><tr><td>18.3</td></tr><tr><td>18.1</td></tr><tr><td>18.8</td></tr><tr><td>18.3</td></tr><tr><td>19.0</td></tr><tr><td>19.0</td></tr><tr><td>17.7</td></tr><tr><td>19.0</td></tr><tr><td>19.2</td></tr><tr><td>18.0</td></tr><tr><td>18.2</td></tr><tr><td>18.8</td></tr><tr><td>18.1</td></tr><tr><td>18.8</td></tr><tr><td>18.7</td></tr><tr><td>17.7</td></tr><tr><td>18.8</td></tr><tr><td>18.4</td></tr><tr><td>19.1</td></tr><tr><td>17.8</td></tr><tr><td>20.4</td></tr><tr><td>18.5</td></tr><tr><td>18.2</td></tr><tr><td>18.2</td></tr><tr><td>18.3</td></tr><tr><td>18.6</td></tr><tr><td>17.0</td></tr><tr><td>18.4</td></tr><tr><td>19.7</td></tr><tr><td>17.7</td></tr><tr><td>18.8</td></tr><tr><td>18.1</td></tr><tr><td>19.1</td></tr><tr><td>19.2</td></tr><tr><td>17.3</td></tr><tr><td>18.1</td></tr><tr><td>17.4</td></tr><tr><td>19.8</td></tr><tr><td>17.4</td></tr><tr><td>17.5</td></tr><tr><td>17.3</td></tr><tr><td>18.1</td></tr><tr><td>19.5</td></tr><tr><td>18.5</td></tr><tr><td>18.0</td></tr><tr><td>19.5</td></tr><tr><td>18.4</td></tr><tr><td>17.6</td></tr><tr><td>17.6</td></tr><tr><td>18.0</td></tr><tr><td>17.6</td></tr><tr><td>17.2</td></tr><tr><td>17.4</td></tr><tr><td>18.1</td></tr><tr><td>17.7</td></tr><tr><td>17.6</td></tr><tr><td>17.1</td></tr><tr><td>17.9</td></tr><tr><td>17.3</td></tr><tr><td>18.1</td></tr><tr><td>17.6</td></tr><tr><td>17.1</td></tr><tr><td>17.7</td></tr><tr><td>17.6</td></tr><tr><td>18.7</td></tr><tr><td>16.6</td></tr><tr><td>17.8</td></tr><tr><td>17.9</td></tr><tr><td>18.2</td></tr><tr><td>18.3</td></tr><tr><td>17.3</td></tr><tr><td>18.7</td></tr><tr><td>18.4</td></tr><tr><td>16.9</td></tr><tr><td>18.4</td></tr><tr><td>17.8</td></tr><tr><td>19.6</td></tr><tr><td>17.4</td></tr><tr><td>17.9</td></tr><tr><td>19.4</td></tr><tr><td>17.7</td></tr><tr><td>19.1</td></tr><tr><td>18.6</td></tr><tr><td>16.9</td></tr><tr><td>18.2</td></tr><tr><td>16.5</td></tr><tr><td>19.1</td></tr><tr><td>19.7</td></tr><tr><td>16.5</td></tr><tr><td>18.5</td></tr><tr><td>19.4</td></tr><tr><td>17.7</td></tr><tr><td>19.8</td></tr><tr><td>18.8</td></tr><tr><td>17.4</td></tr><tr><td>17.7</td></tr><tr><td>16.9</td></tr><tr><td>17.7</td></tr><tr><td>17.8</td></tr><tr><td>20.1</td></tr><tr><td>16.9</td></tr><tr><td>16.7</td></tr><tr><td>18.4</td></tr><tr><td>18.1</td></tr><tr><td>19.9</td></tr><tr><td>19.0</td></tr><tr><td>16.5</td></tr><tr><td>17.2</td></tr><tr><td>17.4</td></tr><tr><td>17.7</td></tr><tr><td>18.2</td></tr><tr><td>20.0</td></tr><tr><td>19.1</td></tr><tr><td>18.8</td></tr><tr><td>18.5</td></tr><tr><td>17.9</td></tr><tr><td>19.9</td></tr><tr><td>18.7</td></tr><tr><td>18.5</td></tr><tr><td>17.1</td></tr><tr><td>18.8</td></tr><tr><td>17.4</td></tr><tr><td>16.9</td></tr><tr><td>18.5</td></tr><tr><td>18.8</td></tr><tr><td>18.6</td></tr><tr><td>17.4</td></tr><tr><td>18.7</td></tr><tr><td>18.4</td></tr><tr><td>17.4</td></tr><tr><td>19.4</td></tr><tr><td>17.3</td></tr><tr><td>18.4</td></tr><tr><td>17.7</td></tr><tr><td>17.6</td></tr><tr><td>17.4</td></tr><tr><td>18.9</td></tr><tr><td>18.6</td></tr><tr><td>19.0</td></tr><tr><td>18.0</td></tr><tr><td>18.4</td></tr><tr><td>17.8</td></tr><tr><td>18.6</td></tr><tr><td>19.2</td></tr><tr><td>17.1</td></tr><tr><td>18.9</td></tr><tr><td>19.6</td></tr><tr><td>17.8</td></tr><tr><td>17.0</td></tr><tr><td>19.2</td></tr><tr><td>15.8</td></tr><tr><td>18.8</td></tr><tr><td>18.4</td></tr><tr><td>18.8</td></tr><tr><td>19.0</td></tr><tr><td>16.9</td></tr><tr><td>19.0</td></tr><tr><td>18.0</td></tr><tr><td>17.6</td></tr><tr><td>18.3</td></tr><tr><td>18.3</td></tr><tr><td>19.0</td></tr><tr><td>18.5</td></tr><tr><td>18.3</td></tr><tr><td>19.1</td></tr><tr><td>16.5</td></tr><tr><td>19.4</td></tr><tr><td>19.5</td></tr><tr><td>19.5</td></tr><tr><td>18.5</td></tr><tr><td>18.5</td></tr><tr><td>18.8</td></tr><tr><td>18.5</td></tr><tr><td>20.1</td></tr><tr><td>18.0</td></tr><tr><td>19.8</td></tr><tr><td>20.9</td></tr></tbody></table></div>"
      ]
     },
     "metadata": {
      "application/vnd.databricks.v1+output": {
       "addedWidgets": {},
       "aggData": [],
       "aggError": "",
       "aggOverflow": false,
       "aggSchema": [],
       "aggSeriesLimitReached": false,
       "aggType": "",
       "arguments": {},
       "columnCustomDisplayInfos": {},
       "data": [
        [
         17.1
        ],
        [
         18.2
        ],
        [
         16.6
        ],
        [
         18.2
        ],
        [
         17.7
        ],
        [
         18.8
        ],
        [
         17.7
        ],
        [
         18.8
        ],
        [
         18.2
        ],
        [
         19.2
        ],
        [
         18.5
        ],
        [
         19.0
        ],
        [
         17.7
        ],
        [
         18.8
        ],
        [
         18.2
        ],
        [
         16.9
        ],
        [
         17.3
        ],
        [
         19.3
        ],
        [
         18.5
        ],
        [
         18.2
        ],
        [
         18.4
        ],
        [
         19.9
        ],
        [
         16.7
        ],
        [
         17.1
        ],
        [
         17.6
        ],
        [
         17.7
        ],
        [
         16.5
        ],
        [
         17.0
        ],
        [
         17.2
        ],
        [
         17.6
        ],
        [
         18.4
        ],
        [
         17.9
        ],
        [
         18.8
        ],
        [
         18.7
        ],
        [
         19.7
        ],
        [
         17.0
        ],
        [
         19.0
        ],
        [
         19.4
        ],
        [
         21.4
        ],
        [
         18.3
        ],
        [
         21.4
        ],
        [
         17.4
        ],
        [
         18.4
        ],
        [
         18.8
        ],
        [
         16.1
        ],
        [
         18.3
        ],
        [
         17.3
        ],
        [
         17.9
        ],
        [
         16.3
        ],
        [
         16.8
        ],
        [
         17.3
        ],
        [
         17.2
        ],
        [
         16.9
        ],
        [
         18.5
        ],
        [
         18.5
        ],
        [
         18.9
        ],
        [
         18.5
        ],
        [
         19.2
        ],
        [
         18.2
        ],
        [
         18.5
        ],
        [
         20.2
        ],
        [
         18.3
        ],
        [
         19.1
        ],
        [
         18.8
        ],
        [
         18.4
        ],
        [
         18.7
        ],
        [
         17.4
        ],
        [
         18.7
        ],
        [
         18.1
        ],
        [
         17.3
        ],
        [
         18.6
        ],
        [
         18.3
        ],
        [
         18.2
        ],
        [
         16.9
        ],
        [
         16.8
        ],
        [
         18.3
        ],
        [
         18.1
        ],
        [
         18.8
        ],
        [
         18.3
        ],
        [
         19.0
        ],
        [
         19.0
        ],
        [
         17.7
        ],
        [
         19.0
        ],
        [
         19.2
        ],
        [
         18.0
        ],
        [
         18.2
        ],
        [
         18.8
        ],
        [
         18.1
        ],
        [
         18.8
        ],
        [
         18.7
        ],
        [
         17.7
        ],
        [
         18.8
        ],
        [
         18.4
        ],
        [
         19.1
        ],
        [
         17.8
        ],
        [
         20.4
        ],
        [
         18.5
        ],
        [
         18.2
        ],
        [
         18.2
        ],
        [
         18.3
        ],
        [
         18.6
        ],
        [
         17.0
        ],
        [
         18.4
        ],
        [
         19.7
        ],
        [
         17.7
        ],
        [
         18.8
        ],
        [
         18.1
        ],
        [
         19.1
        ],
        [
         19.2
        ],
        [
         17.3
        ],
        [
         18.1
        ],
        [
         17.4
        ],
        [
         19.8
        ],
        [
         17.4
        ],
        [
         17.5
        ],
        [
         17.3
        ],
        [
         18.1
        ],
        [
         19.5
        ],
        [
         18.5
        ],
        [
         18.0
        ],
        [
         19.5
        ],
        [
         18.4
        ],
        [
         17.6
        ],
        [
         17.6
        ],
        [
         18.0
        ],
        [
         17.6
        ],
        [
         17.2
        ],
        [
         17.4
        ],
        [
         18.1
        ],
        [
         17.7
        ],
        [
         17.6
        ],
        [
         17.1
        ],
        [
         17.9
        ],
        [
         17.3
        ],
        [
         18.1
        ],
        [
         17.6
        ],
        [
         17.1
        ],
        [
         17.7
        ],
        [
         17.6
        ],
        [
         18.7
        ],
        [
         16.6
        ],
        [
         17.8
        ],
        [
         17.9
        ],
        [
         18.2
        ],
        [
         18.3
        ],
        [
         17.3
        ],
        [
         18.7
        ],
        [
         18.4
        ],
        [
         16.9
        ],
        [
         18.4
        ],
        [
         17.8
        ],
        [
         19.6
        ],
        [
         17.4
        ],
        [
         17.9
        ],
        [
         19.4
        ],
        [
         17.7
        ],
        [
         19.1
        ],
        [
         18.6
        ],
        [
         16.9
        ],
        [
         18.2
        ],
        [
         16.5
        ],
        [
         19.1
        ],
        [
         19.7
        ],
        [
         16.5
        ],
        [
         18.5
        ],
        [
         19.4
        ],
        [
         17.7
        ],
        [
         19.8
        ],
        [
         18.8
        ],
        [
         17.4
        ],
        [
         17.7
        ],
        [
         16.9
        ],
        [
         17.7
        ],
        [
         17.8
        ],
        [
         20.1
        ],
        [
         16.9
        ],
        [
         16.7
        ],
        [
         18.4
        ],
        [
         18.1
        ],
        [
         19.9
        ],
        [
         19.0
        ],
        [
         16.5
        ],
        [
         17.2
        ],
        [
         17.4
        ],
        [
         17.7
        ],
        [
         18.2
        ],
        [
         20.0
        ],
        [
         19.1
        ],
        [
         18.8
        ],
        [
         18.5
        ],
        [
         17.9
        ],
        [
         19.9
        ],
        [
         18.7
        ],
        [
         18.5
        ],
        [
         17.1
        ],
        [
         18.8
        ],
        [
         17.4
        ],
        [
         16.9
        ],
        [
         18.5
        ],
        [
         18.8
        ],
        [
         18.6
        ],
        [
         17.4
        ],
        [
         18.7
        ],
        [
         18.4
        ],
        [
         17.4
        ],
        [
         19.4
        ],
        [
         17.3
        ],
        [
         18.4
        ],
        [
         17.7
        ],
        [
         17.6
        ],
        [
         17.4
        ],
        [
         18.9
        ],
        [
         18.6
        ],
        [
         19.0
        ],
        [
         18.0
        ],
        [
         18.4
        ],
        [
         17.8
        ],
        [
         18.6
        ],
        [
         19.2
        ],
        [
         17.1
        ],
        [
         18.9
        ],
        [
         19.6
        ],
        [
         17.8
        ],
        [
         17.0
        ],
        [
         19.2
        ],
        [
         15.8
        ],
        [
         18.8
        ],
        [
         18.4
        ],
        [
         18.8
        ],
        [
         19.0
        ],
        [
         16.9
        ],
        [
         19.0
        ],
        [
         18.0
        ],
        [
         17.6
        ],
        [
         18.3
        ],
        [
         18.3
        ],
        [
         19.0
        ],
        [
         18.5
        ],
        [
         18.3
        ],
        [
         19.1
        ],
        [
         16.5
        ],
        [
         19.4
        ],
        [
         19.5
        ],
        [
         19.5
        ],
        [
         18.5
        ],
        [
         18.5
        ],
        [
         18.8
        ],
        [
         18.5
        ],
        [
         20.1
        ],
        [
         18.0
        ],
        [
         19.8
        ],
        [
         20.9
        ]
       ],
       "datasetInfos": [],
       "dbfsResultPath": null,
       "isJsonSchema": true,
       "metadata": {},
       "overflow": false,
       "plotOptions": {
        "customPlotOptions": {},
        "displayType": "table",
        "pivotAggregation": null,
        "pivotColumns": null,
        "xColumns": null,
        "yColumns": null
       },
       "removedWidgets": [],
       "schema": [
        {
         "metadata": "{}",
         "name": "Wrist",
         "type": "\"double\""
        }
       ],
       "type": "table"
      }
     },
     "output_type": "display_data"
    },
    {
     "output_type": "display_data",
     "data": {
      "text/plain": [
       "Databricks visualization. Run in Databricks to view."
      ]
     },
     "metadata": {
      "application/vnd.databricks.v1.subcommand+json": {
       "baseErrorDetails": null,
       "bindings": {},
       "collapsed": false,
       "command": "%sql WITH q AS (SELECT Wrist FROM BodyFat) ,min_max AS (SELECT `Wrist`,(SELECT MAX(`Wrist`) FROM q) `target_column_max`,(SELECT MIN(`Wrist`) FROM q) `target_column_min` FROM q) ,histogram_meta AS (SELECT `Wrist`,`target_column_min` `min_value`,IF(`target_column_max` = `target_column_min`,`target_column_max` + 1,`target_column_max`) `max_value`,(`target_column_max` - `target_column_min`) / 15 `step` FROM min_max) SELECT IF(ISNULL(`Wrist`),NULL,LEAST(WIDTH_BUCKET(`Wrist`,`min_value`,`max_value`,15),15)) `Wrist_BIN`,FIRST(`min_value` + ((IF(ISNULL(`Wrist`),NULL,LEAST(WIDTH_BUCKET(`Wrist`,`min_value`,`max_value`,15),15)) - 1) * `step`)) `Wrist_BIN_LOWER_BOUND`,FIRST(`step`) `Wrist_BIN_STEP`,COUNT(`Wrist`) `COUNT` FROM histogram_meta GROUP BY `Wrist_BIN`",
       "commandTitle": "Visualization 1",
       "commandType": "auto",
       "commandVersion": 0,
       "commentThread": [],
       "commentsVisible": false,
       "contentSha256Hex": null,
       "customPlotOptions": {
        "redashChart": [
         {
          "key": "type",
          "value": "CHART"
         },
         {
          "key": "options",
          "value": {
           "alignYAxesAtZero": true,
           "coefficient": 1,
           "columnConfigurationMap": {
            "x": {
             "column": "Wrist",
             "id": "column_a0f52a9815"
            }
           },
           "dateTimeFormat": "DD/MM/YYYY HH:mm",
           "direction": {
            "type": "counterclockwise"
           },
           "error_y": {
            "type": "data",
            "visible": true
           },
           "globalSeriesType": "histogram",
           "legend": {
            "traceorder": "normal"
           },
           "missingValuesAsZero": true,
           "numBins": 15,
           "numberFormat": "0,0.[00000]",
           "percentFormat": "0[.]00%",
           "series": {
            "error_y": {
             "type": "data",
             "visible": true
            },
            "stacking": null
           },
           "seriesOptions": {},
           "showDataLabels": false,
           "sizemode": "diameter",
           "sortX": true,
           "sortY": true,
           "swappedAxes": false,
           "textFormat": "",
           "useAggregationsUi": true,
           "valuesOptions": {},
           "version": 2,
           "xAxis": {
            "labels": {
             "enabled": true
            },
            "type": "-"
           },
           "yAxis": [
            {
             "type": "-"
            },
            {
             "opposite": true,
             "type": "-"
            }
           ]
          }
         }
        ]
       },
       "datasetPreviewNameToCmdIdMap": {},
       "diffDeletes": [],
       "diffInserts": [],
       "displayType": "redashChart",
       "error": null,
       "errorDetails": null,
       "errorSummary": null,
       "errorTraceType": null,
       "finishTime": 0,
       "globalVars": {},
       "guid": "",
       "height": "auto",
       "hideCommandCode": false,
       "hideCommandResult": false,
       "iPythonMetadata": null,
       "inputWidgets": {},
       "isLockedInExamMode": false,
       "latestUser": "a user",
       "latestUserId": null,
       "listResultMetadata": null,
       "metadata": {
        "byteLimit": 2048000,
        "implicitDf": true,
        "rowLimit": 10000
       },
       "nuid": "df8eb3c0-f2d4-4468-8d02-f8868ad08091",
       "origId": 0,
       "parentHierarchy": [],
       "pivotAggregation": null,
       "pivotColumns": null,
       "position": 21.75,
       "resultDbfsErrorMessage": null,
       "resultDbfsStatus": "INLINED_IN_TREE",
       "results": null,
       "showCommandTitle": false,
       "startTime": 0,
       "state": "finished",
       "streamStates": {},
       "subcommandOptions": {
        "queryPlan": {
         "groups": [
          {
           "column": "Wrist_BIN",
           "type": "column"
          }
         ],
         "selects": [
          {
           "alias": "Wrist_BIN",
           "args": [
            {
             "column": "Wrist",
             "type": "column"
            },
            {
             "number": 15,
             "type": "number"
            }
           ],
           "function": "BIN",
           "type": "function"
          },
          {
           "alias": "Wrist_BIN_LOWER_BOUND",
           "args": [
            {
             "column": "Wrist",
             "type": "column"
            },
            {
             "number": 15,
             "type": "number"
            }
           ],
           "function": "BIN_LOWER_BOUND",
           "type": "function"
          },
          {
           "alias": "Wrist_BIN_STEP",
           "args": [
            {
             "column": "Wrist",
             "type": "column"
            },
            {
             "number": 15,
             "type": "number"
            }
           ],
           "function": "BIN_STEP",
           "type": "function"
          },
          {
           "alias": "COUNT",
           "args": [
            {
             "column": "Wrist",
             "type": "column"
            }
           ],
           "function": "COUNT",
           "type": "function"
          }
         ]
        }
       },
       "submitTime": 0,
       "subtype": "tableResultSubCmd.visualization",
       "tableResultIndex": 0,
       "useConsistentColors": false,
       "version": "CommandV1",
       "width": "auto",
       "workflows": [],
       "xColumns": null,
       "yColumns": null
      }
     },
     "output_type": "display_data"
    }
   ],
   "source": [
    "%sql\n",
    "\n",
    "SELECT Wrist FROM BodyFat;"
   ]
  },
  {
   "cell_type": "markdown",
   "metadata": {
    "application/vnd.databricks.v1+cell": {
     "cellMetadata": {
      "byteLimit": 2048000,
      "rowLimit": 10000
     },
     "inputWidgets": {},
     "nuid": "d1caa974-9c54-460d-ba9a-7cde96f1a7bc",
     "showTitle": false,
     "title": ""
    }
   },
   "source": [
    "## Correlation Analysis"
   ]
  },
  {
   "cell_type": "code",
   "execution_count": 0,
   "metadata": {
    "application/vnd.databricks.v1+cell": {
     "cellMetadata": {
      "byteLimit": 2048000,
      "rowLimit": 10000
     },
     "inputWidgets": {},
     "nuid": "0f082388-52b4-495f-9ac5-fa137bdc68ca",
     "showTitle": false,
     "title": ""
    }
   },
   "outputs": [
    {
     "output_type": "stream",
     "name": "stdout",
     "output_type": "stream",
     "text": [
      "Out[28]: Row(Density=1.0, BodyFat=-0.9877824021639864, Age=-0.27763721075009434, Weight=-0.5940618756988721, Height=0.09788114294593664, Neck=-0.4729663617987716, Chest=-0.6825986513963713, Abdomen=-0.7989546315453323, Hip=-0.6093314301876932, Thigh=-0.5530909789787456, Knee=-0.49504035298897714, Ankle=-0.2648900333564061, Biceps=-0.4871087232659662, Forearm=-0.3516484181331154, Wrist=-0.3257159810204718)"
     ]
    }
   ],
   "source": [
    "from pyspark.ml.stat import Correlation\n",
    "from pyspark.ml.feature import VectorAssembler\n",
    "\n",
    "# convert to vector column first\n",
    "vector_col = \"corr_features\"\n",
    "assembler = VectorAssembler(inputCols=df.columns, outputCol=vector_col)\n",
    "df_vector = assembler.transform(df).select(vector_col)\n",
    "\n",
    "# get correlation matrix\n",
    "matrix = Correlation.corr(df_vector, vector_col).collect()[0][0]\n",
    "corrmatrix = matrix.toArray().tolist()\n",
    "\n",
    "corrdf = spark.createDataFrame(corrmatrix,df.columns)\n",
    "corrdf.head()"
   ]
  },
  {
   "cell_type": "code",
   "execution_count": 0,
   "metadata": {
    "application/vnd.databricks.v1+cell": {
     "cellMetadata": {
      "byteLimit": 2048000,
      "rowLimit": 10000
     },
     "inputWidgets": {},
     "nuid": "daa23ac8-6945-4a1e-b7d1-9d3e10c0b459",
     "showTitle": false,
     "title": ""
    }
   },
   "outputs": [
    {
     "output_type": "display_data",
     "data": {
      "image/png": "[encoded data removed]"
     },
     "metadata": {
      "application/vnd.databricks.v1+output": {
       "addedWidgets": {},
       "arguments": {},
       "data": "data:image/png;base64,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\n",
       "datasetInfos": [],
       "metadata": {},
       "removedWidgets": [],
       "type": "image"
      }
     },
     "output_type": "display_data"
    }
   ],
   "source": [
    "import matplotlib.pyplot as plt\n",
    "import numpy as np\n",
    "\n",
    "fig = plt.figure(figsize=(12, 12))\n",
    "ax = fig.add_subplot(111)\n",
    "ax.set_title(\"Correlation Matrix for Specified Attributes\")\n",
    "\n",
    "# plot the correlation matrix\n",
    "cax = ax.imshow(corrmatrix, vmax=1, vmin=-1, cmap='coolwarm')\n",
    "\n",
    "# set labels\n",
    "ax.set_xticks(np.arange(len(df.columns)))\n",
    "ax.set_yticks(np.arange(len(df.columns)))\n",
    "ax.set_xticklabels(df.columns, rotation=90, ha='center')\n",
    "ax.set_yticklabels(df.columns)\n",
    "\n",
    "# add colorbar\n",
    "fig.colorbar(cax)\n",
    "\n",
    "plt.tight_layout()\n",
    "plt.show()\n",
    "\n"
   ]
  },
  {
   "cell_type": "code",
   "execution_count": 0,
   "metadata": {
    "application/vnd.databricks.v1+cell": {
     "cellMetadata": {
      "byteLimit": 2048000,
      "rowLimit": 10000
     },
     "inputWidgets": {},
     "nuid": "ba22552b-16ea-4c12-88c3-7a3cf13da8f7",
     "showTitle": false,
     "title": ""
    }
   },
   "outputs": [
    {
     "output_type": "stream",
     "name": "stdout",
     "output_type": "stream",
     "text": [
      "Correlation to BodyFat for  Density -0.9877824021639853\nCorrelation to BodyFat for  BodyFat 1.0\nCorrelation to BodyFat for  Age 0.29145844013522204\nCorrelation to BodyFat for  Weight 0.6124140022026475\nCorrelation to BodyFat for  Height -0.08949537985440173\nCorrelation to BodyFat for  Neck 0.4905918534410396\nCorrelation to BodyFat for  Chest 0.7026203388938641\nCorrelation to BodyFat for  Abdomen 0.813432284781049\nCorrelation to BodyFat for  Hip 0.6252009175086624\nCorrelation to BodyFat for  Thigh 0.5596075319940894\nCorrelation to BodyFat for  Knee 0.5086652428854677\nCorrelation to BodyFat for  Ankle 0.265969770306373\nCorrelation to BodyFat for  Biceps 0.49327112589161554\nCorrelation to BodyFat for  Forearm 0.3613869031997192\nCorrelation to BodyFat for  Wrist 0.34657486452658576\n"
     ]
    }
   ],
   "source": [
    "import six\n",
    "\n",
    "for i in df.columns:\n",
    "    if not( isinstance( df.select(i).take(1)[0][0], six.string_types)):\n",
    "        print( \"Correlation to BodyFat for \", i, df.stat.corr('BodyFat',i))"
   ]
  },
  {
   "cell_type": "markdown",
   "metadata": {
    "application/vnd.databricks.v1+cell": {
     "cellMetadata": {},
     "inputWidgets": {},
     "nuid": "8a0b9bfb-9dde-4743-93ac-68c37fe44b42",
     "showTitle": false,
     "title": ""
    }
   },
   "source": [
    "#### Conclusion\n",
    "The correlation coefficient ranges from –1 to 1. When it is close to 1, it means that there is a strong positive correlation; for example, the body fat tends to go up when the abdomen circumference goes up. \n",
    "\n",
    "When the coefficient is close to –1, it means that there is a strong negative correlation; the body fat tends to go down when the density goes up. \n",
    "\n",
    "Finally, coefficients close to zero mean that there is no linear correlation.\n"
   ]
  },
  {
   "cell_type": "markdown",
   "metadata": {
    "application/vnd.databricks.v1+cell": {
     "cellMetadata": {},
     "inputWidgets": {},
     "nuid": "a2ff757a-93c7-4674-932f-7b7c4c3d42b3",
     "showTitle": false,
     "title": ""
    }
   },
   "source": [
    "## Exploring Dependencies of Life Expectancy"
   ]
  },
  {
   "cell_type": "markdown",
   "metadata": {
    "application/vnd.databricks.v1+cell": {
     "cellMetadata": {},
     "inputWidgets": {},
     "nuid": "f7b7b512-50b4-4643-b1ef-dc12d5fac1db",
     "showTitle": false,
     "title": ""
    }
   },
   "source": [
    "Scatter Plot (BodyFat VS Density)"
   ]
  },
  {
   "cell_type": "code",
   "execution_count": 0,
   "metadata": {
    "application/vnd.databricks.v1+cell": {
     "cellMetadata": {
      "byteLimit": 2048000,
      "implicitDf": true,
      "rowLimit": 10000
     },
     "inputWidgets": {},
     "nuid": "03837190-962a-4fe7-adb3-cdd3d064c3e7",
     "showTitle": false,
     "title": ""
    }
   },
   "outputs": [
    {
     "output_type": "display_data",
     "data": {
      "text/html": [
       "<style scoped>\n",
       "  .table-result-container {\n",
       "    max-height: 300px;\n",
       "    overflow: auto;\n",
       "  }\n",
       "  table, th, td {\n",
       "    border: 1px solid black;\n",
       "    border-collapse: collapse;\n",
       "  }\n",
       "  th, td {\n",
       "    padding: 5px;\n",
       "  }\n",
       "  th {\n",
       "    text-align: left;\n",
       "  }\n",
       "</style><div class='table-result-container'><table class='table-result'><thead style='background-color: white'><tr><th>BodyFat</th><th>Density</th></tr></thead><tbody><tr><td>12.3</td><td>1.0708</td></tr><tr><td>6.1</td><td>1.0853</td></tr><tr><td>25.3</td><td>1.0414</td></tr><tr><td>10.4</td><td>1.0751</td></tr><tr><td>28.7</td><td>1.034</td></tr><tr><td>20.9</td><td>1.0502</td></tr><tr><td>19.2</td><td>1.0549</td></tr><tr><td>12.4</td><td>1.0704</td></tr><tr><td>4.1</td><td>1.09</td></tr><tr><td>11.7</td><td>1.0722</td></tr><tr><td>7.1</td><td>1.083</td></tr><tr><td>7.8</td><td>1.0812</td></tr><tr><td>20.8</td><td>1.0513</td></tr><tr><td>21.2</td><td>1.0505</td></tr><tr><td>22.1</td><td>1.0484</td></tr><tr><td>20.9</td><td>1.0512</td></tr><tr><td>29.0</td><td>1.0333</td></tr><tr><td>22.9</td><td>1.0468</td></tr><tr><td>16.0</td><td>1.0622</td></tr><tr><td>16.5</td><td>1.061</td></tr><tr><td>19.1</td><td>1.0551</td></tr><tr><td>15.2</td><td>1.064</td></tr><tr><td>15.6</td><td>1.0631</td></tr><tr><td>17.7</td><td>1.0584</td></tr><tr><td>14.0</td><td>1.0668</td></tr><tr><td>3.7</td><td>1.0911</td></tr><tr><td>7.9</td><td>1.0811</td></tr><tr><td>22.9</td><td>1.0468</td></tr><tr><td>3.7</td><td>1.091</td></tr><tr><td>8.8</td><td>1.079</td></tr><tr><td>11.9</td><td>1.0716</td></tr><tr><td>5.7</td><td>1.0862</td></tr><tr><td>11.8</td><td>1.0719</td></tr><tr><td>21.3</td><td>1.0502</td></tr><tr><td>32.3</td><td>1.0263</td></tr><tr><td>40.1</td><td>1.0101</td></tr><tr><td>24.2</td><td>1.0438</td></tr><tr><td>28.4</td><td>1.0346</td></tr><tr><td>35.2</td><td>1.0202</td></tr><tr><td>32.6</td><td>1.0258</td></tr><tr><td>34.5</td><td>1.0217</td></tr><tr><td>32.9</td><td>1.025</td></tr><tr><td>31.6</td><td>1.0279</td></tr><tr><td>32.0</td><td>1.0269</td></tr><tr><td>7.7</td><td>1.0814</td></tr><tr><td>13.9</td><td>1.067</td></tr><tr><td>10.8</td><td>1.0742</td></tr><tr><td>5.6</td><td>1.0665</td></tr><tr><td>13.6</td><td>1.0678</td></tr><tr><td>4.0</td><td>1.0903</td></tr><tr><td>10.2</td><td>1.0756</td></tr><tr><td>6.6</td><td>1.084</td></tr><tr><td>8.0</td><td>1.0807</td></tr><tr><td>6.3</td><td>1.0848</td></tr><tr><td>3.9</td><td>1.0906</td></tr><tr><td>22.6</td><td>1.0473</td></tr><tr><td>20.4</td><td>1.0524</td></tr><tr><td>28.0</td><td>1.0356</td></tr><tr><td>31.5</td><td>1.028</td></tr><tr><td>24.6</td><td>1.043</td></tr><tr><td>26.1</td><td>1.0396</td></tr><tr><td>29.8</td><td>1.0317</td></tr><tr><td>30.7</td><td>1.0298</td></tr><tr><td>25.8</td><td>1.0403</td></tr><tr><td>32.3</td><td>1.0264</td></tr><tr><td>30.0</td><td>1.0313</td></tr><tr><td>21.5</td><td>1.0499</td></tr><tr><td>13.8</td><td>1.0673</td></tr><tr><td>6.3</td><td>1.0847</td></tr><tr><td>12.9</td><td>1.0693</td></tr><tr><td>24.3</td><td>1.0439</td></tr><tr><td>8.8</td><td>1.0788</td></tr><tr><td>8.5</td><td>1.0796</td></tr><tr><td>13.5</td><td>1.068</td></tr><tr><td>11.8</td><td>1.072</td></tr><tr><td>18.5</td><td>1.0666</td></tr><tr><td>8.8</td><td>1.079</td></tr><tr><td>22.2</td><td>1.0483</td></tr><tr><td>21.5</td><td>1.0498</td></tr><tr><td>18.8</td><td>1.056</td></tr><tr><td>31.4</td><td>1.0283</td></tr><tr><td>26.8</td><td>1.0382</td></tr><tr><td>18.4</td><td>1.0568</td></tr><tr><td>27.0</td><td>1.0377</td></tr><tr><td>27.0</td><td>1.0378</td></tr><tr><td>26.6</td><td>1.0386</td></tr><tr><td>14.9</td><td>1.0648</td></tr><tr><td>23.1</td><td>1.0462</td></tr><tr><td>8.3</td><td>1.08</td></tr><tr><td>14.1</td><td>1.0666</td></tr><tr><td>20.5</td><td>1.052</td></tr><tr><td>18.2</td><td>1.0573</td></tr><tr><td>8.5</td><td>1.0795</td></tr><tr><td>24.9</td><td>1.0424</td></tr><tr><td>9.0</td><td>1.0785</td></tr><tr><td>17.4</td><td>1.0991</td></tr><tr><td>9.6</td><td>1.077</td></tr><tr><td>11.3</td><td>1.073</td></tr><tr><td>17.8</td><td>1.0582</td></tr><tr><td>22.2</td><td>1.0484</td></tr><tr><td>21.2</td><td>1.0506</td></tr><tr><td>20.4</td><td>1.0524</td></tr><tr><td>20.1</td><td>1.053</td></tr><tr><td>22.3</td><td>1.048</td></tr><tr><td>25.4</td><td>1.0412</td></tr><tr><td>18.0</td><td>1.0578</td></tr><tr><td>19.3</td><td>1.0547</td></tr><tr><td>18.3</td><td>1.0569</td></tr><tr><td>17.3</td><td>1.0593</td></tr><tr><td>21.4</td><td>1.05</td></tr><tr><td>19.7</td><td>1.0538</td></tr><tr><td>28.0</td><td>1.0355</td></tr><tr><td>22.1</td><td>1.0486</td></tr><tr><td>21.3</td><td>1.0503</td></tr><tr><td>26.7</td><td>1.0384</td></tr><tr><td>16.7</td><td>1.0607</td></tr><tr><td>20.1</td><td>1.0529</td></tr><tr><td>13.9</td><td>1.0671</td></tr><tr><td>25.8</td><td>1.0404</td></tr><tr><td>18.1</td><td>1.0575</td></tr><tr><td>27.9</td><td>1.0358</td></tr><tr><td>25.3</td><td>1.0414</td></tr><tr><td>14.7</td><td>1.0652</td></tr><tr><td>16.0</td><td>1.0623</td></tr><tr><td>13.8</td><td>1.0674</td></tr><tr><td>17.5</td><td>1.0587</td></tr><tr><td>27.2</td><td>1.0373</td></tr><tr><td>17.4</td><td>1.059</td></tr><tr><td>20.8</td><td>1.0515</td></tr><tr><td>14.9</td><td>1.0648</td></tr><tr><td>18.1</td><td>1.0575</td></tr><tr><td>22.7</td><td>1.0472</td></tr><tr><td>23.6</td><td>1.0452</td></tr><tr><td>26.1</td><td>1.0398</td></tr><tr><td>24.4</td><td>1.0435</td></tr><tr><td>27.1</td><td>1.0374</td></tr><tr><td>21.8</td><td>1.0491</td></tr><tr><td>29.4</td><td>1.0325</td></tr><tr><td>22.4</td><td>1.0481</td></tr><tr><td>20.4</td><td>1.0522</td></tr><tr><td>24.9</td><td>1.0422</td></tr><tr><td>18.3</td><td>1.0571</td></tr><tr><td>23.3</td><td>1.0459</td></tr><tr><td>9.4</td><td>1.0775</td></tr><tr><td>10.3</td><td>1.0754</td></tr><tr><td>14.2</td><td>1.0664</td></tr><tr><td>19.2</td><td>1.055</td></tr><tr><td>29.6</td><td>1.0322</td></tr><tr><td>5.3</td><td>1.0873</td></tr><tr><td>25.2</td><td>1.0416</td></tr><tr><td>9.4</td><td>1.0776</td></tr><tr><td>19.6</td><td>1.0542</td></tr><tr><td>10.1</td><td>1.0758</td></tr><tr><td>16.5</td><td>1.061</td></tr><tr><td>21.0</td><td>1.051</td></tr><tr><td>17.3</td><td>1.0594</td></tr><tr><td>31.2</td><td>1.0287</td></tr><tr><td>10.0</td><td>1.0761</td></tr><tr><td>12.5</td><td>1.0704</td></tr><tr><td>22.5</td><td>1.0477</td></tr><tr><td>9.4</td><td>1.0775</td></tr><tr><td>14.6</td><td>1.0653</td></tr><tr><td>13.0</td><td>1.069</td></tr><tr><td>15.1</td><td>1.0644</td></tr><tr><td>27.3</td><td>1.037</td></tr><tr><td>19.2</td><td>1.0549</td></tr><tr><td>21.8</td><td>1.0492</td></tr><tr><td>20.3</td><td>1.0525</td></tr><tr><td>34.3</td><td>1.018</td></tr><tr><td>16.5</td><td>1.061</td></tr><tr><td>3.0</td><td>1.0926</td></tr><tr><td>0.7</td><td>1.0983</td></tr><tr><td>20.5</td><td>1.0521</td></tr><tr><td>16.9</td><td>1.0603</td></tr><tr><td>25.3</td><td>1.0414</td></tr><tr><td>9.9</td><td>1.0763</td></tr><tr><td>13.1</td><td>1.0689</td></tr><tr><td>29.9</td><td>1.0316</td></tr><tr><td>22.5</td><td>1.0477</td></tr><tr><td>16.9</td><td>1.0603</td></tr><tr><td>26.6</td><td>1.0387</td></tr><tr><td>0.0</td><td>1.1089</td></tr><tr><td>11.5</td><td>1.0725</td></tr><tr><td>12.1</td><td>1.0713</td></tr><tr><td>17.5</td><td>1.0587</td></tr><tr><td>8.6</td><td>1.0794</td></tr><tr><td>23.6</td><td>1.0453</td></tr><tr><td>20.4</td><td>1.0524</td></tr><tr><td>20.5</td><td>1.052</td></tr><tr><td>24.4</td><td>1.0434</td></tr><tr><td>11.4</td><td>1.0728</td></tr><tr><td>38.1</td><td>1.014</td></tr><tr><td>15.9</td><td>1.0624</td></tr><tr><td>24.7</td><td>1.0429</td></tr><tr><td>22.8</td><td>1.047</td></tr><tr><td>25.5</td><td>1.0411</td></tr><tr><td>22.0</td><td>1.0488</td></tr><tr><td>17.7</td><td>1.0583</td></tr><tr><td>6.6</td><td>1.0841</td></tr><tr><td>23.6</td><td>1.0462</td></tr><tr><td>12.2</td><td>1.0709</td></tr><tr><td>22.1</td><td>1.0484</td></tr><tr><td>28.7</td><td>1.034</td></tr><tr><td>6.0</td><td>1.0854</td></tr><tr><td>34.8</td><td>1.0209</td></tr><tr><td>16.6</td><td>1.061</td></tr><tr><td>32.9</td><td>1.025</td></tr><tr><td>32.8</td><td>1.0254</td></tr><tr><td>9.6</td><td>1.0771</td></tr><tr><td>10.8</td><td>1.0742</td></tr><tr><td>7.1</td><td>1.0829</td></tr><tr><td>27.2</td><td>1.0373</td></tr><tr><td>19.5</td><td>1.0543</td></tr><tr><td>18.7</td><td>1.0561</td></tr><tr><td>19.5</td><td>1.0543</td></tr><tr><td>47.5</td><td>0.995</td></tr><tr><td>13.6</td><td>1.0678</td></tr><tr><td>7.5</td><td>1.0819</td></tr><tr><td>24.5</td><td>1.0433</td></tr><tr><td>15.0</td><td>1.0646</td></tr><tr><td>12.4</td><td>1.0706</td></tr><tr><td>26.0</td><td>1.0399</td></tr><tr><td>11.5</td><td>1.0726</td></tr><tr><td>5.2</td><td>1.0874</td></tr><tr><td>10.9</td><td>1.074</td></tr><tr><td>12.5</td><td>1.0703</td></tr><tr><td>14.8</td><td>1.065</td></tr><tr><td>25.2</td><td>1.0418</td></tr><tr><td>14.9</td><td>1.0647</td></tr><tr><td>17.0</td><td>1.0601</td></tr><tr><td>10.6</td><td>1.0745</td></tr><tr><td>16.1</td><td>1.062</td></tr><tr><td>15.4</td><td>1.0636</td></tr><tr><td>26.7</td><td>1.0384</td></tr><tr><td>25.8</td><td>1.0403</td></tr><tr><td>18.6</td><td>1.0563</td></tr><tr><td>24.8</td><td>1.0424</td></tr><tr><td>27.3</td><td>1.0372</td></tr><tr><td>12.4</td><td>1.0705</td></tr><tr><td>29.9</td><td>1.0316</td></tr><tr><td>17.0</td><td>1.0599</td></tr><tr><td>35.0</td><td>1.0207</td></tr><tr><td>30.4</td><td>1.0304</td></tr><tr><td>32.6</td><td>1.0256</td></tr><tr><td>29.0</td><td>1.0334</td></tr><tr><td>15.2</td><td>1.0641</td></tr><tr><td>30.2</td><td>1.0308</td></tr><tr><td>11.0</td><td>1.0736</td></tr><tr><td>33.6</td><td>1.0236</td></tr><tr><td>29.3</td><td>1.0328</td></tr><tr><td>26.0</td><td>1.0399</td></tr><tr><td>31.9</td><td>1.0271</td></tr></tbody></table></div>"
      ]
     },
     "metadata": {
      "application/vnd.databricks.v1+output": {
       "addedWidgets": {},
       "aggData": [],
       "aggError": "",
       "aggOverflow": false,
       "aggSchema": [],
       "aggSeriesLimitReached": false,
       "aggType": "",
       "arguments": {},
       "columnCustomDisplayInfos": {},
       "data": [
        [
         12.3,
         1.0708
        ],
        [
         6.1,
         1.0853
        ],
        [
         25.3,
         1.0414
        ],
        [
         10.4,
         1.0751
        ],
        [
         28.7,
         1.034
        ],
        [
         20.9,
         1.0502
        ],
        [
         19.2,
         1.0549
        ],
        [
         12.4,
         1.0704
        ],
        [
         4.1,
         1.09
        ],
        [
         11.7,
         1.0722
        ],
        [
         7.1,
         1.083
        ],
        [
         7.8,
         1.0812
        ],
        [
         20.8,
         1.0513
        ],
        [
         21.2,
         1.0505
        ],
        [
         22.1,
         1.0484
        ],
        [
         20.9,
         1.0512
        ],
        [
         29.0,
         1.0333
        ],
        [
         22.9,
         1.0468
        ],
        [
         16.0,
         1.0622
        ],
        [
         16.5,
         1.061
        ],
        [
         19.1,
         1.0551
        ],
        [
         15.2,
         1.064
        ],
        [
         15.6,
         1.0631
        ],
        [
         17.7,
         1.0584
        ],
        [
         14.0,
         1.0668
        ],
        [
         3.7,
         1.0911
        ],
        [
         7.9,
         1.0811
        ],
        [
         22.9,
         1.0468
        ],
        [
         3.7,
         1.091
        ],
        [
         8.8,
         1.079
        ],
        [
         11.9,
         1.0716
        ],
        [
         5.7,
         1.0862
        ],
        [
         11.8,
         1.0719
        ],
        [
         21.3,
         1.0502
        ],
        [
         32.3,
         1.0263
        ],
        [
         40.1,
         1.0101
        ],
        [
         24.2,
         1.0438
        ],
        [
         28.4,
         1.0346
        ],
        [
         35.2,
         1.0202
        ],
        [
         32.6,
         1.0258
        ],
        [
         34.5,
         1.0217
        ],
        [
         32.9,
         1.025
        ],
        [
         31.6,
         1.0279
        ],
        [
         32.0,
         1.0269
        ],
        [
         7.7,
         1.0814
        ],
        [
         13.9,
         1.067
        ],
        [
         10.8,
         1.0742
        ],
        [
         5.6,
         1.0665
        ],
        [
         13.6,
         1.0678
        ],
        [
         4.0,
         1.0903
        ],
        [
         10.2,
         1.0756
        ],
        [
         6.6,
         1.084
        ],
        [
         8.0,
         1.0807
        ],
        [
         6.3,
         1.0848
        ],
        [
         3.9,
         1.0906
        ],
        [
         22.6,
         1.0473
        ],
        [
         20.4,
         1.0524
        ],
        [
         28.0,
         1.0356
        ],
        [
         31.5,
         1.028
        ],
        [
         24.6,
         1.043
        ],
        [
         26.1,
         1.0396
        ],
        [
         29.8,
         1.0317
        ],
        [
         30.7,
         1.0298
        ],
        [
         25.8,
         1.0403
        ],
        [
         32.3,
         1.0264
        ],
        [
         30.0,
         1.0313
        ],
        [
         21.5,
         1.0499
        ],
        [
         13.8,
         1.0673
        ],
        [
         6.3,
         1.0847
        ],
        [
         12.9,
         1.0693
        ],
        [
         24.3,
         1.0439
        ],
        [
         8.8,
         1.0788
        ],
        [
         8.5,
         1.0796
        ],
        [
         13.5,
         1.068
        ],
        [
         11.8,
         1.072
        ],
        [
         18.5,
         1.0666
        ],
        [
         8.8,
         1.079
        ],
        [
         22.2,
         1.0483
        ],
        [
         21.5,
         1.0498
        ],
        [
         18.8,
         1.056
        ],
        [
         31.4,
         1.0283
        ],
        [
         26.8,
         1.0382
        ],
        [
         18.4,
         1.0568
        ],
        [
         27.0,
         1.0377
        ],
        [
         27.0,
         1.0378
        ],
        [
         26.6,
         1.0386
        ],
        [
         14.9,
         1.0648
        ],
        [
         23.1,
         1.0462
        ],
        [
         8.3,
         1.08
        ],
        [
         14.1,
         1.0666
        ],
        [
         20.5,
         1.052
        ],
        [
         18.2,
         1.0573
        ],
        [
         8.5,
         1.0795
        ],
        [
         24.9,
         1.0424
        ],
        [
         9.0,
         1.0785
        ],
        [
         17.4,
         1.0991
        ],
        [
         9.6,
         1.077
        ],
        [
         11.3,
         1.073
        ],
        [
         17.8,
         1.0582
        ],
        [
         22.2,
         1.0484
        ],
        [
         21.2,
         1.0506
        ],
        [
         20.4,
         1.0524
        ],
        [
         20.1,
         1.053
        ],
        [
         22.3,
         1.048
        ],
        [
         25.4,
         1.0412
        ],
        [
         18.0,
         1.0578
        ],
        [
         19.3,
         1.0547
        ],
        [
         18.3,
         1.0569
        ],
        [
         17.3,
         1.0593
        ],
        [
         21.4,
         1.05
        ],
        [
         19.7,
         1.0538
        ],
        [
         28.0,
         1.0355
        ],
        [
         22.1,
         1.0486
        ],
        [
         21.3,
         1.0503
        ],
        [
         26.7,
         1.0384
        ],
        [
         16.7,
         1.0607
        ],
        [
         20.1,
         1.0529
        ],
        [
         13.9,
         1.0671
        ],
        [
         25.8,
         1.0404
        ],
        [
         18.1,
         1.0575
        ],
        [
         27.9,
         1.0358
        ],
        [
         25.3,
         1.0414
        ],
        [
         14.7,
         1.0652
        ],
        [
         16.0,
         1.0623
        ],
        [
         13.8,
         1.0674
        ],
        [
         17.5,
         1.0587
        ],
        [
         27.2,
         1.0373
        ],
        [
         17.4,
         1.059
        ],
        [
         20.8,
         1.0515
        ],
        [
         14.9,
         1.0648
        ],
        [
         18.1,
         1.0575
        ],
        [
         22.7,
         1.0472
        ],
        [
         23.6,
         1.0452
        ],
        [
         26.1,
         1.0398
        ],
        [
         24.4,
         1.0435
        ],
        [
         27.1,
         1.0374
        ],
        [
         21.8,
         1.0491
        ],
        [
         29.4,
         1.0325
        ],
        [
         22.4,
         1.0481
        ],
        [
         20.4,
         1.0522
        ],
        [
         24.9,
         1.0422
        ],
        [
         18.3,
         1.0571
        ],
        [
         23.3,
         1.0459
        ],
        [
         9.4,
         1.0775
        ],
        [
         10.3,
         1.0754
        ],
        [
         14.2,
         1.0664
        ],
        [
         19.2,
         1.055
        ],
        [
         29.6,
         1.0322
        ],
        [
         5.3,
         1.0873
        ],
        [
         25.2,
         1.0416
        ],
        [
         9.4,
         1.0776
        ],
        [
         19.6,
         1.0542
        ],
        [
         10.1,
         1.0758
        ],
        [
         16.5,
         1.061
        ],
        [
         21.0,
         1.051
        ],
        [
         17.3,
         1.0594
        ],
        [
         31.2,
         1.0287
        ],
        [
         10.0,
         1.0761
        ],
        [
         12.5,
         1.0704
        ],
        [
         22.5,
         1.0477
        ],
        [
         9.4,
         1.0775
        ],
        [
         14.6,
         1.0653
        ],
        [
         13.0,
         1.069
        ],
        [
         15.1,
         1.0644
        ],
        [
         27.3,
         1.037
        ],
        [
         19.2,
         1.0549
        ],
        [
         21.8,
         1.0492
        ],
        [
         20.3,
         1.0525
        ],
        [
         34.3,
         1.018
        ],
        [
         16.5,
         1.061
        ],
        [
         3.0,
         1.0926
        ],
        [
         0.7,
         1.0983
        ],
        [
         20.5,
         1.0521
        ],
        [
         16.9,
         1.0603
        ],
        [
         25.3,
         1.0414
        ],
        [
         9.9,
         1.0763
        ],
        [
         13.1,
         1.0689
        ],
        [
         29.9,
         1.0316
        ],
        [
         22.5,
         1.0477
        ],
        [
         16.9,
         1.0603
        ],
        [
         26.6,
         1.0387
        ],
        [
         0.0,
         1.1089
        ],
        [
         11.5,
         1.0725
        ],
        [
         12.1,
         1.0713
        ],
        [
         17.5,
         1.0587
        ],
        [
         8.6,
         1.0794
        ],
        [
         23.6,
         1.0453
        ],
        [
         20.4,
         1.0524
        ],
        [
         20.5,
         1.052
        ],
        [
         24.4,
         1.0434
        ],
        [
         11.4,
         1.0728
        ],
        [
         38.1,
         1.014
        ],
        [
         15.9,
         1.0624
        ],
        [
         24.7,
         1.0429
        ],
        [
         22.8,
         1.047
        ],
        [
         25.5,
         1.0411
        ],
        [
         22.0,
         1.0488
        ],
        [
         17.7,
         1.0583
        ],
        [
         6.6,
         1.0841
        ],
        [
         23.6,
         1.0462
        ],
        [
         12.2,
         1.0709
        ],
        [
         22.1,
         1.0484
        ],
        [
         28.7,
         1.034
        ],
        [
         6.0,
         1.0854
        ],
        [
         34.8,
         1.0209
        ],
        [
         16.6,
         1.061
        ],
        [
         32.9,
         1.025
        ],
        [
         32.8,
         1.0254
        ],
        [
         9.6,
         1.0771
        ],
        [
         10.8,
         1.0742
        ],
        [
         7.1,
         1.0829
        ],
        [
         27.2,
         1.0373
        ],
        [
         19.5,
         1.0543
        ],
        [
         18.7,
         1.0561
        ],
        [
         19.5,
         1.0543
        ],
        [
         47.5,
         0.995
        ],
        [
         13.6,
         1.0678
        ],
        [
         7.5,
         1.0819
        ],
        [
         24.5,
         1.0433
        ],
        [
         15.0,
         1.0646
        ],
        [
         12.4,
         1.0706
        ],
        [
         26.0,
         1.0399
        ],
        [
         11.5,
         1.0726
        ],
        [
         5.2,
         1.0874
        ],
        [
         10.9,
         1.074
        ],
        [
         12.5,
         1.0703
        ],
        [
         14.8,
         1.065
        ],
        [
         25.2,
         1.0418
        ],
        [
         14.9,
         1.0647
        ],
        [
         17.0,
         1.0601
        ],
        [
         10.6,
         1.0745
        ],
        [
         16.1,
         1.062
        ],
        [
         15.4,
         1.0636
        ],
        [
         26.7,
         1.0384
        ],
        [
         25.8,
         1.0403
        ],
        [
         18.6,
         1.0563
        ],
        [
         24.8,
         1.0424
        ],
        [
         27.3,
         1.0372
        ],
        [
         12.4,
         1.0705
        ],
        [
         29.9,
         1.0316
        ],
        [
         17.0,
         1.0599
        ],
        [
         35.0,
         1.0207
        ],
        [
         30.4,
         1.0304
        ],
        [
         32.6,
         1.0256
        ],
        [
         29.0,
         1.0334
        ],
        [
         15.2,
         1.0641
        ],
        [
         30.2,
         1.0308
        ],
        [
         11.0,
         1.0736
        ],
        [
         33.6,
         1.0236
        ],
        [
         29.3,
         1.0328
        ],
        [
         26.0,
         1.0399
        ],
        [
         31.9,
         1.0271
        ]
       ],
       "datasetInfos": [],
       "dbfsResultPath": null,
       "isJsonSchema": true,
       "metadata": {},
       "overflow": false,
       "plotOptions": {
        "customPlotOptions": {},
        "displayType": "table",
        "pivotAggregation": null,
        "pivotColumns": null,
        "xColumns": null,
        "yColumns": null
       },
       "removedWidgets": [],
       "schema": [
        {
         "metadata": "{}",
         "name": "BodyFat",
         "type": "\"double\""
        },
        {
         "metadata": "{}",
         "name": "Density",
         "type": "\"double\""
        }
       ],
       "type": "table"
      }
     },
     "output_type": "display_data"
    },
    {
     "output_type": "display_data",
     "data": {
      "text/plain": [
       "Databricks visualization. Run in Databricks to view."
      ]
     },
     "metadata": {
      "application/vnd.databricks.v1.subcommand+json": {
       "baseErrorDetails": null,
       "bindings": {},
       "collapsed": false,
       "command": "%sql WITH q AS (SELECT BodyFat, Density FROM BodyFat) SELECT `BodyFat`,`Density` FROM q",
       "commandTitle": "Visualization 1",
       "commandType": "auto",
       "commandVersion": 0,
       "commentThread": [],
       "commentsVisible": false,
       "contentSha256Hex": null,
       "customPlotOptions": {
        "redashChart": [
         {
          "key": "type",
          "value": "CHART"
         },
         {
          "key": "options",
          "value": {
           "alignYAxesAtZero": true,
           "coefficient": 1,
           "columnConfigurationMap": {
            "x": {
             "column": "Density",
             "id": "column_dcde195e17"
            },
            "y": [
             {
              "column": "BodyFat",
              "id": "column_dcde195e21"
             }
            ]
           },
           "dateTimeFormat": "DD/MM/YYYY HH:mm",
           "direction": {
            "type": "counterclockwise"
           },
           "error_y": {
            "type": "data",
            "visible": true
           },
           "globalSeriesType": "scatter",
           "legend": {
            "traceorder": "normal"
           },
           "missingValuesAsZero": true,
           "numberFormat": "0,0.[00000]",
           "percentFormat": "0[.]00%",
           "series": {
            "error_y": {
             "type": "data",
             "visible": true
            },
            "stacking": null
           },
           "seriesOptions": {
            "BodyFat": {
             "type": "scatter",
             "yAxis": 0
            },
            "Density": {
             "type": "scatter",
             "yAxis": 0
            },
            "column_97d44c152": {
             "name": "Density",
             "yAxis": 0
            }
           },
           "showDataLabels": false,
           "sizemode": "diameter",
           "sortX": true,
           "sortY": true,
           "swappedAxes": false,
           "textFormat": "",
           "useAggregationsUi": true,
           "valuesOptions": {},
           "version": 2,
           "xAxis": {
            "labels": {
             "enabled": true
            },
            "type": "-"
           },
           "yAxis": [
            {
             "type": "-"
            },
            {
             "opposite": true,
             "type": "-"
            }
           ]
          }
         }
        ]
       },
       "datasetPreviewNameToCmdIdMap": {},
       "diffDeletes": [],
       "diffInserts": [],
       "displayType": "redashChart",
       "error": null,
       "errorDetails": null,
       "errorSummary": null,
       "errorTraceType": null,
       "finishTime": 0,
       "globalVars": {},
       "guid": "",
       "height": "auto",
       "hideCommandCode": false,
       "hideCommandResult": false,
       "iPythonMetadata": null,
       "inputWidgets": {},
       "isLockedInExamMode": false,
       "latestUser": "a user",
       "latestUserId": null,
       "listResultMetadata": null,
       "metadata": {},
       "nuid": "26642a36-579d-4bd8-a0f2-98a39ed63a11",
       "origId": 0,
       "parentHierarchy": [],
       "pivotAggregation": null,
       "pivotColumns": null,
       "position": 26.1875,
       "resultDbfsErrorMessage": null,
       "resultDbfsStatus": "INLINED_IN_TREE",
       "results": null,
       "showCommandTitle": false,
       "startTime": 0,
       "state": "input",
       "streamStates": {},
       "subcommandOptions": {
        "queryPlan": {
         "selects": [
          {
           "column": "Density",
           "type": "column"
          },
          {
           "column": "BodyFat",
           "type": "column"
          }
         ]
        }
       },
       "submitTime": 0,
       "subtype": "tableResultSubCmd.visualization",
       "tableResultIndex": 0,
       "useConsistentColors": false,
       "version": "CommandV1",
       "width": "auto",
       "workflows": [],
       "xColumns": null,
       "yColumns": null
      }
     },
     "output_type": "display_data"
    }
   ],
   "source": [
    "%sql\n",
    "\n",
    "SELECT BodyFat, Density FROM BodyFat;"
   ]
  },
  {
   "cell_type": "code",
   "execution_count": 0,
   "metadata": {
    "application/vnd.databricks.v1+cell": {
     "cellMetadata": {
      "byteLimit": 2048000,
      "implicitDf": true,
      "rowLimit": 10000
     },
     "inputWidgets": {},
     "nuid": "71f26e10-91a9-4ed5-af59-e64d02af210a",
     "showTitle": false,
     "title": ""
    }
   },
   "outputs": [
    {
     "output_type": "display_data",
     "data": {
      "text/html": [
       "<style scoped>\n",
       "  .table-result-container {\n",
       "    max-height: 300px;\n",
       "    overflow: auto;\n",
       "  }\n",
       "  table, th, td {\n",
       "    border: 1px solid black;\n",
       "    border-collapse: collapse;\n",
       "  }\n",
       "  th, td {\n",
       "    padding: 5px;\n",
       "  }\n",
       "  th {\n",
       "    text-align: left;\n",
       "  }\n",
       "</style><div class='table-result-container'><table class='table-result'><thead style='background-color: white'><tr><th>BodyFat</th><th>Age</th></tr></thead><tbody><tr><td>12.3</td><td>23</td></tr><tr><td>6.1</td><td>22</td></tr><tr><td>25.3</td><td>22</td></tr><tr><td>10.4</td><td>26</td></tr><tr><td>28.7</td><td>24</td></tr><tr><td>20.9</td><td>24</td></tr><tr><td>19.2</td><td>26</td></tr><tr><td>12.4</td><td>25</td></tr><tr><td>4.1</td><td>25</td></tr><tr><td>11.7</td><td>23</td></tr><tr><td>7.1</td><td>26</td></tr><tr><td>7.8</td><td>27</td></tr><tr><td>20.8</td><td>32</td></tr><tr><td>21.2</td><td>30</td></tr><tr><td>22.1</td><td>35</td></tr><tr><td>20.9</td><td>35</td></tr><tr><td>29.0</td><td>34</td></tr><tr><td>22.9</td><td>32</td></tr><tr><td>16.0</td><td>28</td></tr><tr><td>16.5</td><td>33</td></tr><tr><td>19.1</td><td>28</td></tr><tr><td>15.2</td><td>28</td></tr><tr><td>15.6</td><td>31</td></tr><tr><td>17.7</td><td>32</td></tr><tr><td>14.0</td><td>28</td></tr><tr><td>3.7</td><td>27</td></tr><tr><td>7.9</td><td>34</td></tr><tr><td>22.9</td><td>31</td></tr><tr><td>3.7</td><td>27</td></tr><tr><td>8.8</td><td>29</td></tr><tr><td>11.9</td><td>32</td></tr><tr><td>5.7</td><td>29</td></tr><tr><td>11.8</td><td>27</td></tr><tr><td>21.3</td><td>41</td></tr><tr><td>32.3</td><td>41</td></tr><tr><td>40.1</td><td>49</td></tr><tr><td>24.2</td><td>40</td></tr><tr><td>28.4</td><td>50</td></tr><tr><td>35.2</td><td>46</td></tr><tr><td>32.6</td><td>50</td></tr><tr><td>34.5</td><td>45</td></tr><tr><td>32.9</td><td>44</td></tr><tr><td>31.6</td><td>48</td></tr><tr><td>32.0</td><td>41</td></tr><tr><td>7.7</td><td>39</td></tr><tr><td>13.9</td><td>43</td></tr><tr><td>10.8</td><td>40</td></tr><tr><td>5.6</td><td>39</td></tr><tr><td>13.6</td><td>45</td></tr><tr><td>4.0</td><td>47</td></tr><tr><td>10.2</td><td>47</td></tr><tr><td>6.6</td><td>40</td></tr><tr><td>8.0</td><td>51</td></tr><tr><td>6.3</td><td>49</td></tr><tr><td>3.9</td><td>42</td></tr><tr><td>22.6</td><td>54</td></tr><tr><td>20.4</td><td>58</td></tr><tr><td>28.0</td><td>62</td></tr><tr><td>31.5</td><td>54</td></tr><tr><td>24.6</td><td>61</td></tr><tr><td>26.1</td><td>62</td></tr><tr><td>29.8</td><td>56</td></tr><tr><td>30.7</td><td>54</td></tr><tr><td>25.8</td><td>61</td></tr><tr><td>32.3</td><td>57</td></tr><tr><td>30.0</td><td>55</td></tr><tr><td>21.5</td><td>54</td></tr><tr><td>13.8</td><td>55</td></tr><tr><td>6.3</td><td>54</td></tr><tr><td>12.9</td><td>55</td></tr><tr><td>24.3</td><td>62</td></tr><tr><td>8.8</td><td>55</td></tr><tr><td>8.5</td><td>56</td></tr><tr><td>13.5</td><td>55</td></tr><tr><td>11.8</td><td>61</td></tr><tr><td>18.5</td><td>61</td></tr><tr><td>8.8</td><td>57</td></tr><tr><td>22.2</td><td>69</td></tr><tr><td>21.5</td><td>81</td></tr><tr><td>18.8</td><td>66</td></tr><tr><td>31.4</td><td>67</td></tr><tr><td>26.8</td><td>64</td></tr><tr><td>18.4</td><td>64</td></tr><tr><td>27.0</td><td>70</td></tr><tr><td>27.0</td><td>72</td></tr><tr><td>26.6</td><td>67</td></tr><tr><td>14.9</td><td>72</td></tr><tr><td>23.1</td><td>64</td></tr><tr><td>8.3</td><td>46</td></tr><tr><td>14.1</td><td>48</td></tr><tr><td>20.5</td><td>46</td></tr><tr><td>18.2</td><td>44</td></tr><tr><td>8.5</td><td>47</td></tr><tr><td>24.9</td><td>46</td></tr><tr><td>9.0</td><td>47</td></tr><tr><td>17.4</td><td>53</td></tr><tr><td>9.6</td><td>38</td></tr><tr><td>11.3</td><td>50</td></tr><tr><td>17.8</td><td>46</td></tr><tr><td>22.2</td><td>47</td></tr><tr><td>21.2</td><td>49</td></tr><tr><td>20.4</td><td>48</td></tr><tr><td>20.1</td><td>41</td></tr><tr><td>22.3</td><td>49</td></tr><tr><td>25.4</td><td>43</td></tr><tr><td>18.0</td><td>43</td></tr><tr><td>19.3</td><td>43</td></tr><tr><td>18.3</td><td>52</td></tr><tr><td>17.3</td><td>43</td></tr><tr><td>21.4</td><td>40</td></tr><tr><td>19.7</td><td>43</td></tr><tr><td>28.0</td><td>43</td></tr><tr><td>22.1</td><td>47</td></tr><tr><td>21.3</td><td>42</td></tr><tr><td>26.7</td><td>48</td></tr><tr><td>16.7</td><td>40</td></tr><tr><td>20.1</td><td>48</td></tr><tr><td>13.9</td><td>51</td></tr><tr><td>25.8</td><td>40</td></tr><tr><td>18.1</td><td>44</td></tr><tr><td>27.9</td><td>52</td></tr><tr><td>25.3</td><td>44</td></tr><tr><td>14.7</td><td>40</td></tr><tr><td>16.0</td><td>47</td></tr><tr><td>13.8</td><td>50</td></tr><tr><td>17.5</td><td>46</td></tr><tr><td>27.2</td><td>42</td></tr><tr><td>17.4</td><td>43</td></tr><tr><td>20.8</td><td>40</td></tr><tr><td>14.9</td><td>42</td></tr><tr><td>18.1</td><td>49</td></tr><tr><td>22.7</td><td>40</td></tr><tr><td>23.6</td><td>47</td></tr><tr><td>26.1</td><td>50</td></tr><tr><td>24.4</td><td>41</td></tr><tr><td>27.1</td><td>44</td></tr><tr><td>21.8</td><td>39</td></tr><tr><td>29.4</td><td>43</td></tr><tr><td>22.4</td><td>40</td></tr><tr><td>20.4</td><td>49</td></tr><tr><td>24.9</td><td>40</td></tr><tr><td>18.3</td><td>40</td></tr><tr><td>23.3</td><td>52</td></tr><tr><td>9.4</td><td>23</td></tr><tr><td>10.3</td><td>23</td></tr><tr><td>14.2</td><td>24</td></tr><tr><td>19.2</td><td>24</td></tr><tr><td>29.6</td><td>25</td></tr><tr><td>5.3</td><td>25</td></tr><tr><td>25.2</td><td>26</td></tr><tr><td>9.4</td><td>26</td></tr><tr><td>19.6</td><td>26</td></tr><tr><td>10.1</td><td>27</td></tr><tr><td>16.5</td><td>27</td></tr><tr><td>21.0</td><td>27</td></tr><tr><td>17.3</td><td>28</td></tr><tr><td>31.2</td><td>28</td></tr><tr><td>10.0</td><td>28</td></tr><tr><td>12.5</td><td>30</td></tr><tr><td>22.5</td><td>31</td></tr><tr><td>9.4</td><td>31</td></tr><tr><td>14.6</td><td>33</td></tr><tr><td>13.0</td><td>33</td></tr><tr><td>15.1</td><td>34</td></tr><tr><td>27.3</td><td>34</td></tr><tr><td>19.2</td><td>35</td></tr><tr><td>21.8</td><td>35</td></tr><tr><td>20.3</td><td>35</td></tr><tr><td>34.3</td><td>35</td></tr><tr><td>16.5</td><td>35</td></tr><tr><td>3.0</td><td>35</td></tr><tr><td>0.7</td><td>35</td></tr><tr><td>20.5</td><td>35</td></tr><tr><td>16.9</td><td>36</td></tr><tr><td>25.3</td><td>36</td></tr><tr><td>9.9</td><td>37</td></tr><tr><td>13.1</td><td>37</td></tr><tr><td>29.9</td><td>37</td></tr><tr><td>22.5</td><td>38</td></tr><tr><td>16.9</td><td>39</td></tr><tr><td>26.6</td><td>39</td></tr><tr><td>0.0</td><td>40</td></tr><tr><td>11.5</td><td>40</td></tr><tr><td>12.1</td><td>40</td></tr><tr><td>17.5</td><td>40</td></tr><tr><td>8.6</td><td>40</td></tr><tr><td>23.6</td><td>41</td></tr><tr><td>20.4</td><td>41</td></tr><tr><td>20.5</td><td>41</td></tr><tr><td>24.4</td><td>41</td></tr><tr><td>11.4</td><td>41</td></tr><tr><td>38.1</td><td>42</td></tr><tr><td>15.9</td><td>42</td></tr><tr><td>24.7</td><td>42</td></tr><tr><td>22.8</td><td>42</td></tr><tr><td>25.5</td><td>42</td></tr><tr><td>22.0</td><td>42</td></tr><tr><td>17.7</td><td>42</td></tr><tr><td>6.6</td><td>42</td></tr><tr><td>23.6</td><td>43</td></tr><tr><td>12.2</td><td>43</td></tr><tr><td>22.1</td><td>43</td></tr><tr><td>28.7</td><td>43</td></tr><tr><td>6.0</td><td>44</td></tr><tr><td>34.8</td><td>44</td></tr><tr><td>16.6</td><td>44</td></tr><tr><td>32.9</td><td>44</td></tr><tr><td>32.8</td><td>47</td></tr><tr><td>9.6</td><td>47</td></tr><tr><td>10.8</td><td>47</td></tr><tr><td>7.1</td><td>49</td></tr><tr><td>27.2</td><td>49</td></tr><tr><td>19.5</td><td>49</td></tr><tr><td>18.7</td><td>50</td></tr><tr><td>19.5</td><td>50</td></tr><tr><td>47.5</td><td>51</td></tr><tr><td>13.6</td><td>51</td></tr><tr><td>7.5</td><td>51</td></tr><tr><td>24.5</td><td>52</td></tr><tr><td>15.0</td><td>53</td></tr><tr><td>12.4</td><td>54</td></tr><tr><td>26.0</td><td>54</td></tr><tr><td>11.5</td><td>54</td></tr><tr><td>5.2</td><td>55</td></tr><tr><td>10.9</td><td>55</td></tr><tr><td>12.5</td><td>55</td></tr><tr><td>14.8</td><td>55</td></tr><tr><td>25.2</td><td>55</td></tr><tr><td>14.9</td><td>56</td></tr><tr><td>17.0</td><td>56</td></tr><tr><td>10.6</td><td>57</td></tr><tr><td>16.1</td><td>57</td></tr><tr><td>15.4</td><td>58</td></tr><tr><td>26.7</td><td>58</td></tr><tr><td>25.8</td><td>60</td></tr><tr><td>18.6</td><td>62</td></tr><tr><td>24.8</td><td>62</td></tr><tr><td>27.3</td><td>63</td></tr><tr><td>12.4</td><td>64</td></tr><tr><td>29.9</td><td>65</td></tr><tr><td>17.0</td><td>65</td></tr><tr><td>35.0</td><td>65</td></tr><tr><td>30.4</td><td>66</td></tr><tr><td>32.6</td><td>67</td></tr><tr><td>29.0</td><td>67</td></tr><tr><td>15.2</td><td>68</td></tr><tr><td>30.2</td><td>69</td></tr><tr><td>11.0</td><td>70</td></tr><tr><td>33.6</td><td>72</td></tr><tr><td>29.3</td><td>72</td></tr><tr><td>26.0</td><td>72</td></tr><tr><td>31.9</td><td>74</td></tr></tbody></table></div>"
      ]
     },
     "metadata": {
      "application/vnd.databricks.v1+output": {
       "addedWidgets": {},
       "aggData": [],
       "aggError": "",
       "aggOverflow": false,
       "aggSchema": [],
       "aggSeriesLimitReached": false,
       "aggType": "",
       "arguments": {},
       "columnCustomDisplayInfos": {},
       "data": [
        [
         12.3,
         23
        ],
        [
         6.1,
         22
        ],
        [
         25.3,
         22
        ],
        [
         10.4,
         26
        ],
        [
         28.7,
         24
        ],
        [
         20.9,
         24
        ],
        [
         19.2,
         26
        ],
        [
         12.4,
         25
        ],
        [
         4.1,
         25
        ],
        [
         11.7,
         23
        ],
        [
         7.1,
         26
        ],
        [
         7.8,
         27
        ],
        [
         20.8,
         32
        ],
        [
         21.2,
         30
        ],
        [
         22.1,
         35
        ],
        [
         20.9,
         35
        ],
        [
         29.0,
         34
        ],
        [
         22.9,
         32
        ],
        [
         16.0,
         28
        ],
        [
         16.5,
         33
        ],
        [
         19.1,
         28
        ],
        [
         15.2,
         28
        ],
        [
         15.6,
         31
        ],
        [
         17.7,
         32
        ],
        [
         14.0,
         28
        ],
        [
         3.7,
         27
        ],
        [
         7.9,
         34
        ],
        [
         22.9,
         31
        ],
        [
         3.7,
         27
        ],
        [
         8.8,
         29
        ],
        [
         11.9,
         32
        ],
        [
         5.7,
         29
        ],
        [
         11.8,
         27
        ],
        [
         21.3,
         41
        ],
        [
         32.3,
         41
        ],
        [
         40.1,
         49
        ],
        [
         24.2,
         40
        ],
        [
         28.4,
         50
        ],
        [
         35.2,
         46
        ],
        [
         32.6,
         50
        ],
        [
         34.5,
         45
        ],
        [
         32.9,
         44
        ],
        [
         31.6,
         48
        ],
        [
         32.0,
         41
        ],
        [
         7.7,
         39
        ],
        [
         13.9,
         43
        ],
        [
         10.8,
         40
        ],
        [
         5.6,
         39
        ],
        [
         13.6,
         45
        ],
        [
         4.0,
         47
        ],
        [
         10.2,
         47
        ],
        [
         6.6,
         40
        ],
        [
         8.0,
         51
        ],
        [
         6.3,
         49
        ],
        [
         3.9,
         42
        ],
        [
         22.6,
         54
        ],
        [
         20.4,
         58
        ],
        [
         28.0,
         62
        ],
        [
         31.5,
         54
        ],
        [
         24.6,
         61
        ],
        [
         26.1,
         62
        ],
        [
         29.8,
         56
        ],
        [
         30.7,
         54
        ],
        [
         25.8,
         61
        ],
        [
         32.3,
         57
        ],
        [
         30.0,
         55
        ],
        [
         21.5,
         54
        ],
        [
         13.8,
         55
        ],
        [
         6.3,
         54
        ],
        [
         12.9,
         55
        ],
        [
         24.3,
         62
        ],
        [
         8.8,
         55
        ],
        [
         8.5,
         56
        ],
        [
         13.5,
         55
        ],
        [
         11.8,
         61
        ],
        [
         18.5,
         61
        ],
        [
         8.8,
         57
        ],
        [
         22.2,
         69
        ],
        [
         21.5,
         81
        ],
        [
         18.8,
         66
        ],
        [
         31.4,
         67
        ],
        [
         26.8,
         64
        ],
        [
         18.4,
         64
        ],
        [
         27.0,
         70
        ],
        [
         27.0,
         72
        ],
        [
         26.6,
         67
        ],
        [
         14.9,
         72
        ],
        [
         23.1,
         64
        ],
        [
         8.3,
         46
        ],
        [
         14.1,
         48
        ],
        [
         20.5,
         46
        ],
        [
         18.2,
         44
        ],
        [
         8.5,
         47
        ],
        [
         24.9,
         46
        ],
        [
         9.0,
         47
        ],
        [
         17.4,
         53
        ],
        [
         9.6,
         38
        ],
        [
         11.3,
         50
        ],
        [
         17.8,
         46
        ],
        [
         22.2,
         47
        ],
        [
         21.2,
         49
        ],
        [
         20.4,
         48
        ],
        [
         20.1,
         41
        ],
        [
         22.3,
         49
        ],
        [
         25.4,
         43
        ],
        [
         18.0,
         43
        ],
        [
         19.3,
         43
        ],
        [
         18.3,
         52
        ],
        [
         17.3,
         43
        ],
        [
         21.4,
         40
        ],
        [
         19.7,
         43
        ],
        [
         28.0,
         43
        ],
        [
         22.1,
         47
        ],
        [
         21.3,
         42
        ],
        [
         26.7,
         48
        ],
        [
         16.7,
         40
        ],
        [
         20.1,
         48
        ],
        [
         13.9,
         51
        ],
        [
         25.8,
         40
        ],
        [
         18.1,
         44
        ],
        [
         27.9,
         52
        ],
        [
         25.3,
         44
        ],
        [
         14.7,
         40
        ],
        [
         16.0,
         47
        ],
        [
         13.8,
         50
        ],
        [
         17.5,
         46
        ],
        [
         27.2,
         42
        ],
        [
         17.4,
         43
        ],
        [
         20.8,
         40
        ],
        [
         14.9,
         42
        ],
        [
         18.1,
         49
        ],
        [
         22.7,
         40
        ],
        [
         23.6,
         47
        ],
        [
         26.1,
         50
        ],
        [
         24.4,
         41
        ],
        [
         27.1,
         44
        ],
        [
         21.8,
         39
        ],
        [
         29.4,
         43
        ],
        [
         22.4,
         40
        ],
        [
         20.4,
         49
        ],
        [
         24.9,
         40
        ],
        [
         18.3,
         40
        ],
        [
         23.3,
         52
        ],
        [
         9.4,
         23
        ],
        [
         10.3,
         23
        ],
        [
         14.2,
         24
        ],
        [
         19.2,
         24
        ],
        [
         29.6,
         25
        ],
        [
         5.3,
         25
        ],
        [
         25.2,
         26
        ],
        [
         9.4,
         26
        ],
        [
         19.6,
         26
        ],
        [
         10.1,
         27
        ],
        [
         16.5,
         27
        ],
        [
         21.0,
         27
        ],
        [
         17.3,
         28
        ],
        [
         31.2,
         28
        ],
        [
         10.0,
         28
        ],
        [
         12.5,
         30
        ],
        [
         22.5,
         31
        ],
        [
         9.4,
         31
        ],
        [
         14.6,
         33
        ],
        [
         13.0,
         33
        ],
        [
         15.1,
         34
        ],
        [
         27.3,
         34
        ],
        [
         19.2,
         35
        ],
        [
         21.8,
         35
        ],
        [
         20.3,
         35
        ],
        [
         34.3,
         35
        ],
        [
         16.5,
         35
        ],
        [
         3.0,
         35
        ],
        [
         0.7,
         35
        ],
        [
         20.5,
         35
        ],
        [
         16.9,
         36
        ],
        [
         25.3,
         36
        ],
        [
         9.9,
         37
        ],
        [
         13.1,
         37
        ],
        [
         29.9,
         37
        ],
        [
         22.5,
         38
        ],
        [
         16.9,
         39
        ],
        [
         26.6,
         39
        ],
        [
         0.0,
         40
        ],
        [
         11.5,
         40
        ],
        [
         12.1,
         40
        ],
        [
         17.5,
         40
        ],
        [
         8.6,
         40
        ],
        [
         23.6,
         41
        ],
        [
         20.4,
         41
        ],
        [
         20.5,
         41
        ],
        [
         24.4,
         41
        ],
        [
         11.4,
         41
        ],
        [
         38.1,
         42
        ],
        [
         15.9,
         42
        ],
        [
         24.7,
         42
        ],
        [
         22.8,
         42
        ],
        [
         25.5,
         42
        ],
        [
         22.0,
         42
        ],
        [
         17.7,
         42
        ],
        [
         6.6,
         42
        ],
        [
         23.6,
         43
        ],
        [
         12.2,
         43
        ],
        [
         22.1,
         43
        ],
        [
         28.7,
         43
        ],
        [
         6.0,
         44
        ],
        [
         34.8,
         44
        ],
        [
         16.6,
         44
        ],
        [
         32.9,
         44
        ],
        [
         32.8,
         47
        ],
        [
         9.6,
         47
        ],
        [
         10.8,
         47
        ],
        [
         7.1,
         49
        ],
        [
         27.2,
         49
        ],
        [
         19.5,
         49
        ],
        [
         18.7,
         50
        ],
        [
         19.5,
         50
        ],
        [
         47.5,
         51
        ],
        [
         13.6,
         51
        ],
        [
         7.5,
         51
        ],
        [
         24.5,
         52
        ],
        [
         15.0,
         53
        ],
        [
         12.4,
         54
        ],
        [
         26.0,
         54
        ],
        [
         11.5,
         54
        ],
        [
         5.2,
         55
        ],
        [
         10.9,
         55
        ],
        [
         12.5,
         55
        ],
        [
         14.8,
         55
        ],
        [
         25.2,
         55
        ],
        [
         14.9,
         56
        ],
        [
         17.0,
         56
        ],
        [
         10.6,
         57
        ],
        [
         16.1,
         57
        ],
        [
         15.4,
         58
        ],
        [
         26.7,
         58
        ],
        [
         25.8,
         60
        ],
        [
         18.6,
         62
        ],
        [
         24.8,
         62
        ],
        [
         27.3,
         63
        ],
        [
         12.4,
         64
        ],
        [
         29.9,
         65
        ],
        [
         17.0,
         65
        ],
        [
         35.0,
         65
        ],
        [
         30.4,
         66
        ],
        [
         32.6,
         67
        ],
        [
         29.0,
         67
        ],
        [
         15.2,
         68
        ],
        [
         30.2,
         69
        ],
        [
         11.0,
         70
        ],
        [
         33.6,
         72
        ],
        [
         29.3,
         72
        ],
        [
         26.0,
         72
        ],
        [
         31.9,
         74
        ]
       ],
       "datasetInfos": [],
       "dbfsResultPath": null,
       "isJsonSchema": true,
       "metadata": {},
       "overflow": false,
       "plotOptions": {
        "customPlotOptions": {},
        "displayType": "table",
        "pivotAggregation": null,
        "pivotColumns": null,
        "xColumns": null,
        "yColumns": null
       },
       "removedWidgets": [],
       "schema": [
        {
         "metadata": "{}",
         "name": "BodyFat",
         "type": "\"double\""
        },
        {
         "metadata": "{}",
         "name": "Age",
         "type": "\"integer\""
        }
       ],
       "type": "table"
      }
     },
     "output_type": "display_data"
    },
    {
     "output_type": "display_data",
     "data": {
      "text/plain": [
       "Databricks visualization. Run in Databricks to view."
      ]
     },
     "metadata": {
      "application/vnd.databricks.v1.subcommand+json": {
       "baseErrorDetails": null,
       "bindings": {},
       "collapsed": false,
       "command": "%sql WITH q AS (SELECT BodyFat, Age FROM BodyFat) SELECT `BodyFat`,`Age` FROM q",
       "commandTitle": "Visualization 1",
       "commandType": "auto",
       "commandVersion": 0,
       "commentThread": [],
       "commentsVisible": false,
       "contentSha256Hex": null,
       "customPlotOptions": {
        "redashChart": [
         {
          "key": "type",
          "value": "CHART"
         },
         {
          "key": "options",
          "value": {
           "alignYAxesAtZero": true,
           "coefficient": 1,
           "columnConfigurationMap": {
            "x": {
             "column": "Age",
             "id": "column_dcde195e13"
            },
            "y": [
             {
              "column": "BodyFat",
              "id": "column_dcde195e16"
             }
            ]
           },
           "dateTimeFormat": "DD/MM/YYYY HH:mm",
           "direction": {
            "type": "counterclockwise"
           },
           "error_y": {
            "type": "data",
            "visible": true
           },
           "globalSeriesType": "scatter",
           "legend": {
            "traceorder": "normal"
           },
           "missingValuesAsZero": true,
           "numberFormat": "0,0.[00000]",
           "percentFormat": "0[.]00%",
           "series": {
            "error_y": {
             "type": "data",
             "visible": true
            },
            "stacking": null
           },
           "seriesOptions": {
            "Age": {
             "type": "scatter",
             "yAxis": 0
            },
            "BodyFat": {
             "type": "scatter",
             "yAxis": 0
            },
            "column_dcde195e2": {
             "name": "Age",
             "yAxis": 0
            }
           },
           "showDataLabels": false,
           "sizemode": "diameter",
           "sortX": true,
           "sortY": true,
           "swappedAxes": false,
           "textFormat": "",
           "useAggregationsUi": true,
           "valuesOptions": {},
           "version": 2,
           "xAxis": {
            "labels": {
             "enabled": true
            },
            "type": "-"
           },
           "yAxis": [
            {
             "type": "-"
            },
            {
             "opposite": true,
             "type": "-"
            }
           ]
          }
         }
        ]
       },
       "datasetPreviewNameToCmdIdMap": {},
       "diffDeletes": [],
       "diffInserts": [],
       "displayType": "redashChart",
       "error": null,
       "errorDetails": null,
       "errorSummary": null,
       "errorTraceType": null,
       "finishTime": 0,
       "globalVars": {},
       "guid": "",
       "height": "auto",
       "hideCommandCode": false,
       "hideCommandResult": false,
       "iPythonMetadata": null,
       "inputWidgets": {},
       "isLockedInExamMode": false,
       "latestUser": "a user",
       "latestUserId": null,
       "listResultMetadata": null,
       "metadata": {},
       "nuid": "1b9283bc-a985-429c-95f0-98f57194c804",
       "origId": 0,
       "parentHierarchy": [],
       "pivotAggregation": null,
       "pivotColumns": null,
       "position": 26.46875,
       "resultDbfsErrorMessage": null,
       "resultDbfsStatus": "INLINED_IN_TREE",
       "results": null,
       "showCommandTitle": false,
       "startTime": 0,
       "state": "input",
       "streamStates": {},
       "subcommandOptions": {
        "queryPlan": {
         "selects": [
          {
           "column": "Age",
           "type": "column"
          },
          {
           "column": "BodyFat",
           "type": "column"
          }
         ]
        }
       },
       "submitTime": 0,
       "subtype": "tableResultSubCmd.visualization",
       "tableResultIndex": 0,
       "useConsistentColors": false,
       "version": "CommandV1",
       "width": "auto",
       "workflows": [],
       "xColumns": null,
       "yColumns": null
      }
     },
     "output_type": "display_data"
    }
   ],
   "source": [
    "%sql\n",
    "\n",
    "SELECT BodyFat, Age FROM BodyFat;"
   ]
  },
  {
   "cell_type": "code",
   "execution_count": 0,
   "metadata": {
    "application/vnd.databricks.v1+cell": {
     "cellMetadata": {
      "byteLimit": 2048000,
      "implicitDf": true,
      "rowLimit": 10000
     },
     "inputWidgets": {},
     "nuid": "ef54a02f-eb20-4eeb-84f0-4edd3e4987a4",
     "showTitle": false,
     "title": ""
    }
   },
   "outputs": [
    {
     "output_type": "display_data",
     "data": {
      "text/html": [
       "<style scoped>\n",
       "  .table-result-container {\n",
       "    max-height: 300px;\n",
       "    overflow: auto;\n",
       "  }\n",
       "  table, th, td {\n",
       "    border: 1px solid black;\n",
       "    border-collapse: collapse;\n",
       "  }\n",
       "  th, td {\n",
       "    padding: 5px;\n",
       "  }\n",
       "  th {\n",
       "    text-align: left;\n",
       "  }\n",
       "</style><div class='table-result-container'><table class='table-result'><thead style='background-color: white'><tr><th>Weight</th><th>BodyFat</th></tr></thead><tbody><tr><td>69.966566</td><td>12.3</td></tr><tr><td>78.584814</td><td>6.1</td></tr><tr><td>69.853168</td><td>25.3</td></tr><tr><td>83.80112199999999</td><td>10.4</td></tr><tr><td>83.574326</td><td>28.7</td></tr><tr><td>95.367718</td><td>20.9</td></tr><tr><td>82.100152</td><td>19.2</td></tr><tr><td>79.83219199999999</td><td>12.4</td></tr><tr><td>86.636072</td><td>4.1</td></tr><tr><td>89.924614</td><td>11.7</td></tr><tr><td>84.48151</td><td>7.1</td></tr><tr><td>97.975872</td><td>7.8</td></tr><tr><td>81.873356</td><td>20.8</td></tr><tr><td>93.099758</td><td>21.2</td></tr><tr><td>85.161898</td><td>22.1</td></tr><tr><td>73.822098</td><td>20.9</td></tr><tr><td>88.790634</td><td>29.0</td></tr><tr><td>94.914126</td><td>22.9</td></tr><tr><td>83.34753</td><td>16.0</td></tr><tr><td>96.048106</td><td>16.5</td></tr><tr><td>81.192968</td><td>19.1</td></tr><tr><td>90.945196</td><td>15.2</td></tr><tr><td>63.616278</td><td>15.6</td></tr><tr><td>67.47181</td><td>17.7</td></tr><tr><td>68.60579</td><td>14.0</td></tr><tr><td>72.234526</td><td>3.7</td></tr><tr><td>59.647348</td><td>7.9</td></tr><tr><td>67.131616</td><td>22.9</td></tr><tr><td>60.441134</td><td>3.7</td></tr><tr><td>72.914914</td><td>8.8</td></tr><tr><td>82.553744</td><td>11.9</td></tr><tr><td>72.688118</td><td>5.7</td></tr><tr><td>76.203456</td><td>11.8</td></tr><tr><td>99.109852</td><td>21.3</td></tr><tr><td>112.150622</td><td>32.3</td></tr><tr><td>86.976266</td><td>40.1</td></tr><tr><td>91.738982</td><td>24.2</td></tr><tr><td>89.244226</td><td>28.4</td></tr><tr><td>164.72193479999999</td><td>35.2</td></tr><tr><td>92.079176</td><td>32.6</td></tr><tr><td>119.181298</td><td>34.5</td></tr><tr><td>92.98636</td><td>32.9</td></tr><tr><td>98.429464</td><td>31.6</td></tr><tr><td>96.161504</td><td>32.0</td></tr><tr><td>56.812398</td><td>7.7</td></tr><tr><td>74.502486</td><td>13.9</td></tr><tr><td>60.554532</td><td>10.8</td></tr><tr><td>67.358412</td><td>5.6</td></tr><tr><td>61.575114</td><td>13.6</td></tr><tr><td>57.83298</td><td>4.0</td></tr><tr><td>71.780934</td><td>10.2</td></tr><tr><td>63.162686</td><td>6.6</td></tr><tr><td>62.255502</td><td>8.0</td></tr><tr><td>69.28617799999999</td><td>6.3</td></tr><tr><td>61.80191</td><td>3.9</td></tr><tr><td>89.811216</td><td>22.6</td></tr><tr><td>82.326948</td><td>20.4</td></tr><tr><td>91.28538999999999</td><td>28.0</td></tr><tr><td>91.85238</td><td>31.5</td></tr><tr><td>81.533162</td><td>24.6</td></tr><tr><td>97.975872</td><td>26.1</td></tr><tr><td>81.07957</td><td>29.8</td></tr><tr><td>87.656654</td><td>30.7</td></tr><tr><td>80.739376</td><td>25.8</td></tr><tr><td>93.213156</td><td>32.3</td></tr><tr><td>83.234132</td><td>30.0</td></tr><tr><td>68.719188</td><td>21.5</td></tr><tr><td>70.193362</td><td>13.8</td></tr><tr><td>70.420158</td><td>6.3</td></tr><tr><td>71.100546</td><td>12.9</td></tr><tr><td>75.97666</td><td>24.3</td></tr><tr><td>66.564626</td><td>8.8</td></tr><tr><td>72.914914</td><td>8.5</td></tr><tr><td>56.699</td><td>13.5</td></tr><tr><td>64.863656</td><td>11.8</td></tr><tr><td>67.245014</td><td>18.5</td></tr><tr><td>73.7087</td><td>8.8</td></tr><tr><td>80.625978</td><td>22.2</td></tr><tr><td>73.14171</td><td>21.5</td></tr><tr><td>77.67763</td><td>18.8</td></tr><tr><td>74.27569</td><td>31.4</td></tr><tr><td>68.152198</td><td>26.8</td></tr><tr><td>86.295878</td><td>18.4</td></tr><tr><td>77.450834</td><td>27.0</td></tr><tr><td>76.203456</td><td>27.0</td></tr><tr><td>75.749864</td><td>26.6</td></tr><tr><td>71.554138</td><td>14.9</td></tr><tr><td>72.57472</td><td>23.1</td></tr><tr><td>80.172386</td><td>8.3</td></tr><tr><td>79.83219199999999</td><td>14.1</td></tr><tr><td>80.28578399999999</td><td>20.5</td></tr><tr><td>81.533162</td><td>18.2</td></tr><tr><td>74.956078</td><td>8.5</td></tr><tr><td>87.31645999999999</td><td>24.9</td></tr><tr><td>83.574326</td><td>9.0</td></tr><tr><td>101.83140399999999</td><td>17.4</td></tr><tr><td>85.61549</td><td>9.6</td></tr><tr><td>73.7087</td><td>11.3</td></tr><tr><td>70.987148</td><td>17.8</td></tr><tr><td>89.357624</td><td>22.2</td></tr><tr><td>90.038012</td><td>21.2</td></tr><tr><td>78.81161</td><td>20.4</td></tr><tr><td>78.358018</td><td>20.1</td></tr><tr><td>89.244226</td><td>22.3</td></tr><tr><td>80.28578399999999</td><td>25.4</td></tr><tr><td>75.069476</td><td>18.0</td></tr><tr><td>90.83179799999999</td><td>19.3</td></tr><tr><td>92.192574</td><td>18.3</td></tr><tr><td>87.996848</td><td>17.3</td></tr><tr><td>76.430252</td><td>21.4</td></tr><tr><td>77.450834</td><td>19.7</td></tr><tr><td>83.120734</td><td>28.0</td></tr><tr><td>80.852774</td><td>22.1</td></tr><tr><td>73.935496</td><td>21.3</td></tr><tr><td>79.491998</td><td>26.7</td></tr><tr><td>71.667536</td><td>16.7</td></tr><tr><td>80.399182</td><td>20.1</td></tr><tr><td>81.192968</td><td>13.9</td></tr><tr><td>86.636072</td><td>25.8</td></tr><tr><td>85.0485</td><td>18.1</td></tr><tr><td>93.666748</td><td>27.9</td></tr><tr><td>84.027918</td><td>25.3</td></tr><tr><td>72.688118</td><td>14.7</td></tr><tr><td>68.719188</td><td>16.0</td></tr><tr><td>73.028312</td><td>13.8</td></tr><tr><td>75.749864</td><td>17.5</td></tr><tr><td>80.51258</td><td>27.2</td></tr><tr><td>69.059382</td><td>17.4</td></tr><tr><td>87.203062</td><td>20.8</td></tr><tr><td>74.956078</td><td>14.9</td></tr><tr><td>77.904426</td><td>18.1</td></tr><tr><td>77.67763</td><td>22.7</td></tr><tr><td>89.357624</td><td>23.6</td></tr><tr><td>71.213944</td><td>26.1</td></tr><tr><td>76.31685399999999</td><td>24.4</td></tr><tr><td>84.368112</td><td>27.1</td></tr><tr><td>75.636466</td><td>21.8</td></tr><tr><td>85.161898</td><td>29.4</td></tr><tr><td>76.31685399999999</td><td>22.4</td></tr><tr><td>96.501698</td><td>20.4</td></tr><tr><td>80.172386</td><td>24.9</td></tr><tr><td>78.584814</td><td>18.3</td></tr><tr><td>75.749864</td><td>23.3</td></tr><tr><td>72.461322</td><td>9.4</td></tr><tr><td>85.34333480000001</td><td>10.3</td></tr><tr><td>70.760352</td><td>14.2</td></tr><tr><td>94.573932</td><td>19.2</td></tr><tr><td>93.666748</td><td>29.6</td></tr><tr><td>65.20385</td><td>5.3</td></tr><tr><td>101.151016</td><td>25.2</td></tr><tr><td>69.059382</td><td>9.4</td></tr><tr><td>109.655866</td><td>19.6</td></tr><tr><td>66.224432</td><td>10.1</td></tr><tr><td>71.100546</td><td>16.5</td></tr><tr><td>90.83179799999999</td><td>21.0</td></tr><tr><td>77.791028</td><td>17.3</td></tr><tr><td>93.326554</td><td>31.2</td></tr><tr><td>82.78054</td><td>10.0</td></tr><tr><td>61.915307999999996</td><td>12.5</td></tr><tr><td>80.399182</td><td>22.5</td></tr><tr><td>68.60579</td><td>9.4</td></tr><tr><td>88.904032</td><td>14.6</td></tr><tr><td>83.574326</td><td>13.0</td></tr><tr><td>63.50288</td><td>15.1</td></tr><tr><td>99.22325</td><td>27.3</td></tr><tr><td>98.429464</td><td>19.2</td></tr><tr><td>75.40967</td><td>21.8</td></tr><tr><td>101.944802</td><td>20.3</td></tr><tr><td>103.532374</td><td>34.3</td></tr><tr><td>78.358018</td><td>16.5</td></tr><tr><td>69.059382</td><td>3.0</td></tr><tr><td>57.039194</td><td>0.7</td></tr><tr><td>80.399182</td><td>20.5</td></tr><tr><td>79.94559</td><td>16.9</td></tr><tr><td>102.851986</td><td>25.3</td></tr><tr><td>65.884238</td><td>9.9</td></tr><tr><td>68.492392</td><td>13.1</td></tr><tr><td>109.42907</td><td>29.9</td></tr><tr><td>84.935102</td><td>22.5</td></tr><tr><td>106.480722</td><td>16.9</td></tr><tr><td>99.450046</td><td>26.6</td></tr><tr><td>53.750652</td><td>0.0</td></tr><tr><td>66.111034</td><td>11.5</td></tr><tr><td>72.234526</td><td>12.1</td></tr><tr><td>77.337436</td><td>17.5</td></tr><tr><td>75.97666</td><td>8.6</td></tr><tr><td>105.573538</td><td>23.6</td></tr><tr><td>95.481116</td><td>20.4</td></tr><tr><td>91.738982</td><td>20.5</td></tr><tr><td>83.91452</td><td>24.4</td></tr><tr><td>69.399576</td><td>11.4</td></tr><tr><td>110.789846</td><td>38.1</td></tr><tr><td>87.77005199999999</td><td>15.9</td></tr><tr><td>101.944802</td><td>24.7</td></tr><tr><td>73.822098</td><td>22.8</td></tr><tr><td>81.64656</td><td>25.5</td></tr><tr><td>70.87375</td><td>22.0</td></tr><tr><td>76.203456</td><td>17.7</td></tr><tr><td>75.863262</td><td>6.6</td></tr><tr><td>77.450834</td><td>23.6</td></tr><tr><td>80.852774</td><td>12.2</td></tr><tr><td>68.0388</td><td>22.1</td></tr><tr><td>90.945196</td><td>28.7</td></tr><tr><td>83.460928</td><td>6.0</td></tr><tr><td>101.151016</td><td>34.8</td></tr><tr><td>94.68733</td><td>16.6</td></tr><tr><td>75.296272</td><td>32.9</td></tr><tr><td>88.45044</td><td>32.8</td></tr><tr><td>72.80151599999999</td><td>9.6</td></tr><tr><td>72.461322</td><td>10.8</td></tr><tr><td>63.729676</td><td>7.1</td></tr><tr><td>98.08927</td><td>27.2</td></tr><tr><td>76.31685399999999</td><td>19.5</td></tr><tr><td>88.337042</td><td>18.7</td></tr><tr><td>78.358018</td><td>19.5</td></tr><tr><td>99.336648</td><td>47.5</td></tr><tr><td>67.698606</td><td>13.6</td></tr><tr><td>70.079964</td><td>7.5</td></tr><tr><td>90.378206</td><td>24.5</td></tr><tr><td>70.079964</td><td>15.0</td></tr><tr><td>69.512974</td><td>12.4</td></tr><tr><td>104.32616</td><td>26.0</td></tr><tr><td>73.368506</td><td>11.5</td></tr><tr><td>64.523462</td><td>5.2</td></tr><tr><td>81.533162</td><td>10.9</td></tr><tr><td>57.379388</td><td>12.5</td></tr><tr><td>76.883844</td><td>14.8</td></tr><tr><td>90.038012</td><td>25.2</td></tr><tr><td>79.151804</td><td>14.9</td></tr><tr><td>76.090058</td><td>17.0</td></tr><tr><td>67.018218</td><td>10.6</td></tr><tr><td>82.667142</td><td>16.1</td></tr><tr><td>79.605396</td><td>15.4</td></tr><tr><td>73.368506</td><td>26.7</td></tr><tr><td>71.554138</td><td>25.8</td></tr><tr><td>76.54365</td><td>18.6</td></tr><tr><td>86.862868</td><td>24.8</td></tr><tr><td>99.40468680000001</td><td>27.3</td></tr><tr><td>70.420158</td><td>12.4</td></tr><tr><td>86.069082</td><td>29.9</td></tr><tr><td>57.83298</td><td>17.0</td></tr><tr><td>101.83140399999999</td><td>35.0</td></tr><tr><td>106.25392599999999</td><td>30.4</td></tr><tr><td>103.305578</td><td>32.6</td></tr><tr><td>90.491604</td><td>29.0</td></tr><tr><td>70.533556</td><td>15.2</td></tr><tr><td>97.749076</td><td>30.2</td></tr><tr><td>60.894726</td><td>11.0</td></tr><tr><td>91.171992</td><td>33.6</td></tr><tr><td>84.708306</td><td>29.3</td></tr><tr><td>86.522674</td><td>26.0</td></tr><tr><td>94.12034</td><td>31.9</td></tr></tbody></table></div>"
      ]
     },
     "metadata": {
      "application/vnd.databricks.v1+output": {
       "addedWidgets": {},
       "aggData": [],
       "aggError": "",
       "aggOverflow": false,
       "aggSchema": [],
       "aggSeriesLimitReached": false,
       "aggType": "",
       "arguments": {},
       "columnCustomDisplayInfos": {},
       "data": [
        [
         69.966566,
         12.3
        ],
        [
         78.584814,
         6.1
        ],
        [
         69.853168,
         25.3
        ],
        [
         83.80112199999999,
         10.4
        ],
        [
         83.574326,
         28.7
        ],
        [
         95.367718,
         20.9
        ],
        [
         82.100152,
         19.2
        ],
        [
         79.83219199999999,
         12.4
        ],
        [
         86.636072,
         4.1
        ],
        [
         89.924614,
         11.7
        ],
        [
         84.48151,
         7.1
        ],
        [
         97.975872,
         7.8
        ],
        [
         81.873356,
         20.8
        ],
        [
         93.099758,
         21.2
        ],
        [
         85.161898,
         22.1
        ],
        [
         73.822098,
         20.9
        ],
        [
         88.790634,
         29.0
        ],
        [
         94.914126,
         22.9
        ],
        [
         83.34753,
         16.0
        ],
        [
         96.048106,
         16.5
        ],
        [
         81.192968,
         19.1
        ],
        [
         90.945196,
         15.2
        ],
        [
         63.616278,
         15.6
        ],
        [
         67.47181,
         17.7
        ],
        [
         68.60579,
         14.0
        ],
        [
         72.234526,
         3.7
        ],
        [
         59.647348,
         7.9
        ],
        [
         67.131616,
         22.9
        ],
        [
         60.441134,
         3.7
        ],
        [
         72.914914,
         8.8
        ],
        [
         82.553744,
         11.9
        ],
        [
         72.688118,
         5.7
        ],
        [
         76.203456,
         11.8
        ],
        [
         99.109852,
         21.3
        ],
        [
         112.150622,
         32.3
        ],
        [
         86.976266,
         40.1
        ],
        [
         91.738982,
         24.2
        ],
        [
         89.244226,
         28.4
        ],
        [
         164.72193479999999,
         35.2
        ],
        [
         92.079176,
         32.6
        ],
        [
         119.181298,
         34.5
        ],
        [
         92.98636,
         32.9
        ],
        [
         98.429464,
         31.6
        ],
        [
         96.161504,
         32.0
        ],
        [
         56.812398,
         7.7
        ],
        [
         74.502486,
         13.9
        ],
        [
         60.554532,
         10.8
        ],
        [
         67.358412,
         5.6
        ],
        [
         61.575114,
         13.6
        ],
        [
         57.83298,
         4.0
        ],
        [
         71.780934,
         10.2
        ],
        [
         63.162686,
         6.6
        ],
        [
         62.255502,
         8.0
        ],
        [
         69.28617799999999,
         6.3
        ],
        [
         61.80191,
         3.9
        ],
        [
         89.811216,
         22.6
        ],
        [
         82.326948,
         20.4
        ],
        [
         91.28538999999999,
         28.0
        ],
        [
         91.85238,
         31.5
        ],
        [
         81.533162,
         24.6
        ],
        [
         97.975872,
         26.1
        ],
        [
         81.07957,
         29.8
        ],
        [
         87.656654,
         30.7
        ],
        [
         80.739376,
         25.8
        ],
        [
         93.213156,
         32.3
        ],
        [
         83.234132,
         30.0
        ],
        [
         68.719188,
         21.5
        ],
        [
         70.193362,
         13.8
        ],
        [
         70.420158,
         6.3
        ],
        [
         71.100546,
         12.9
        ],
        [
         75.97666,
         24.3
        ],
        [
         66.564626,
         8.8
        ],
        [
         72.914914,
         8.5
        ],
        [
         56.699,
         13.5
        ],
        [
         64.863656,
         11.8
        ],
        [
         67.245014,
         18.5
        ],
        [
         73.7087,
         8.8
        ],
        [
         80.625978,
         22.2
        ],
        [
         73.14171,
         21.5
        ],
        [
         77.67763,
         18.8
        ],
        [
         74.27569,
         31.4
        ],
        [
         68.152198,
         26.8
        ],
        [
         86.295878,
         18.4
        ],
        [
         77.450834,
         27.0
        ],
        [
         76.203456,
         27.0
        ],
        [
         75.749864,
         26.6
        ],
        [
         71.554138,
         14.9
        ],
        [
         72.57472,
         23.1
        ],
        [
         80.172386,
         8.3
        ],
        [
         79.83219199999999,
         14.1
        ],
        [
         80.28578399999999,
         20.5
        ],
        [
         81.533162,
         18.2
        ],
        [
         74.956078,
         8.5
        ],
        [
         87.31645999999999,
         24.9
        ],
        [
         83.574326,
         9.0
        ],
        [
         101.83140399999999,
         17.4
        ],
        [
         85.61549,
         9.6
        ],
        [
         73.7087,
         11.3
        ],
        [
         70.987148,
         17.8
        ],
        [
         89.357624,
         22.2
        ],
        [
         90.038012,
         21.2
        ],
        [
         78.81161,
         20.4
        ],
        [
         78.358018,
         20.1
        ],
        [
         89.244226,
         22.3
        ],
        [
         80.28578399999999,
         25.4
        ],
        [
         75.069476,
         18.0
        ],
        [
         90.83179799999999,
         19.3
        ],
        [
         92.192574,
         18.3
        ],
        [
         87.996848,
         17.3
        ],
        [
         76.430252,
         21.4
        ],
        [
         77.450834,
         19.7
        ],
        [
         83.120734,
         28.0
        ],
        [
         80.852774,
         22.1
        ],
        [
         73.935496,
         21.3
        ],
        [
         79.491998,
         26.7
        ],
        [
         71.667536,
         16.7
        ],
        [
         80.399182,
         20.1
        ],
        [
         81.192968,
         13.9
        ],
        [
         86.636072,
         25.8
        ],
        [
         85.0485,
         18.1
        ],
        [
         93.666748,
         27.9
        ],
        [
         84.027918,
         25.3
        ],
        [
         72.688118,
         14.7
        ],
        [
         68.719188,
         16.0
        ],
        [
         73.028312,
         13.8
        ],
        [
         75.749864,
         17.5
        ],
        [
         80.51258,
         27.2
        ],
        [
         69.059382,
         17.4
        ],
        [
         87.203062,
         20.8
        ],
        [
         74.956078,
         14.9
        ],
        [
         77.904426,
         18.1
        ],
        [
         77.67763,
         22.7
        ],
        [
         89.357624,
         23.6
        ],
        [
         71.213944,
         26.1
        ],
        [
         76.31685399999999,
         24.4
        ],
        [
         84.368112,
         27.1
        ],
        [
         75.636466,
         21.8
        ],
        [
         85.161898,
         29.4
        ],
        [
         76.31685399999999,
         22.4
        ],
        [
         96.501698,
         20.4
        ],
        [
         80.172386,
         24.9
        ],
        [
         78.584814,
         18.3
        ],
        [
         75.749864,
         23.3
        ],
        [
         72.461322,
         9.4
        ],
        [
         85.34333480000001,
         10.3
        ],
        [
         70.760352,
         14.2
        ],
        [
         94.573932,
         19.2
        ],
        [
         93.666748,
         29.6
        ],
        [
         65.20385,
         5.3
        ],
        [
         101.151016,
         25.2
        ],
        [
         69.059382,
         9.4
        ],
        [
         109.655866,
         19.6
        ],
        [
         66.224432,
         10.1
        ],
        [
         71.100546,
         16.5
        ],
        [
         90.83179799999999,
         21.0
        ],
        [
         77.791028,
         17.3
        ],
        [
         93.326554,
         31.2
        ],
        [
         82.78054,
         10.0
        ],
        [
         61.915307999999996,
         12.5
        ],
        [
         80.399182,
         22.5
        ],
        [
         68.60579,
         9.4
        ],
        [
         88.904032,
         14.6
        ],
        [
         83.574326,
         13.0
        ],
        [
         63.50288,
         15.1
        ],
        [
         99.22325,
         27.3
        ],
        [
         98.429464,
         19.2
        ],
        [
         75.40967,
         21.8
        ],
        [
         101.944802,
         20.3
        ],
        [
         103.532374,
         34.3
        ],
        [
         78.358018,
         16.5
        ],
        [
         69.059382,
         3.0
        ],
        [
         57.039194,
         0.7
        ],
        [
         80.399182,
         20.5
        ],
        [
         79.94559,
         16.9
        ],
        [
         102.851986,
         25.3
        ],
        [
         65.884238,
         9.9
        ],
        [
         68.492392,
         13.1
        ],
        [
         109.42907,
         29.9
        ],
        [
         84.935102,
         22.5
        ],
        [
         106.480722,
         16.9
        ],
        [
         99.450046,
         26.6
        ],
        [
         53.750652,
         0.0
        ],
        [
         66.111034,
         11.5
        ],
        [
         72.234526,
         12.1
        ],
        [
         77.337436,
         17.5
        ],
        [
         75.97666,
         8.6
        ],
        [
         105.573538,
         23.6
        ],
        [
         95.481116,
         20.4
        ],
        [
         91.738982,
         20.5
        ],
        [
         83.91452,
         24.4
        ],
        [
         69.399576,
         11.4
        ],
        [
         110.789846,
         38.1
        ],
        [
         87.77005199999999,
         15.9
        ],
        [
         101.944802,
         24.7
        ],
        [
         73.822098,
         22.8
        ],
        [
         81.64656,
         25.5
        ],
        [
         70.87375,
         22.0
        ],
        [
         76.203456,
         17.7
        ],
        [
         75.863262,
         6.6
        ],
        [
         77.450834,
         23.6
        ],
        [
         80.852774,
         12.2
        ],
        [
         68.0388,
         22.1
        ],
        [
         90.945196,
         28.7
        ],
        [
         83.460928,
         6.0
        ],
        [
         101.151016,
         34.8
        ],
        [
         94.68733,
         16.6
        ],
        [
         75.296272,
         32.9
        ],
        [
         88.45044,
         32.8
        ],
        [
         72.80151599999999,
         9.6
        ],
        [
         72.461322,
         10.8
        ],
        [
         63.729676,
         7.1
        ],
        [
         98.08927,
         27.2
        ],
        [
         76.31685399999999,
         19.5
        ],
        [
         88.337042,
         18.7
        ],
        [
         78.358018,
         19.5
        ],
        [
         99.336648,
         47.5
        ],
        [
         67.698606,
         13.6
        ],
        [
         70.079964,
         7.5
        ],
        [
         90.378206,
         24.5
        ],
        [
         70.079964,
         15.0
        ],
        [
         69.512974,
         12.4
        ],
        [
         104.32616,
         26.0
        ],
        [
         73.368506,
         11.5
        ],
        [
         64.523462,
         5.2
        ],
        [
         81.533162,
         10.9
        ],
        [
         57.379388,
         12.5
        ],
        [
         76.883844,
         14.8
        ],
        [
         90.038012,
         25.2
        ],
        [
         79.151804,
         14.9
        ],
        [
         76.090058,
         17.0
        ],
        [
         67.018218,
         10.6
        ],
        [
         82.667142,
         16.1
        ],
        [
         79.605396,
         15.4
        ],
        [
         73.368506,
         26.7
        ],
        [
         71.554138,
         25.8
        ],
        [
         76.54365,
         18.6
        ],
        [
         86.862868,
         24.8
        ],
        [
         99.40468680000001,
         27.3
        ],
        [
         70.420158,
         12.4
        ],
        [
         86.069082,
         29.9
        ],
        [
         57.83298,
         17.0
        ],
        [
         101.83140399999999,
         35.0
        ],
        [
         106.25392599999999,
         30.4
        ],
        [
         103.305578,
         32.6
        ],
        [
         90.491604,
         29.0
        ],
        [
         70.533556,
         15.2
        ],
        [
         97.749076,
         30.2
        ],
        [
         60.894726,
         11.0
        ],
        [
         91.171992,
         33.6
        ],
        [
         84.708306,
         29.3
        ],
        [
         86.522674,
         26.0
        ],
        [
         94.12034,
         31.9
        ]
       ],
       "datasetInfos": [],
       "dbfsResultPath": null,
       "isJsonSchema": true,
       "metadata": {},
       "overflow": false,
       "plotOptions": {
        "customPlotOptions": {},
        "displayType": "table",
        "pivotAggregation": null,
        "pivotColumns": null,
        "xColumns": null,
        "yColumns": null
       },
       "removedWidgets": [],
       "schema": [
        {
         "metadata": "{}",
         "name": "Weight",
         "type": "\"double\""
        },
        {
         "metadata": "{}",
         "name": "BodyFat",
         "type": "\"double\""
        }
       ],
       "type": "table"
      }
     },
     "output_type": "display_data"
    },
    {
     "output_type": "display_data",
     "data": {
      "text/plain": [
       "Databricks visualization. Run in Databricks to view."
      ]
     },
     "metadata": {
      "application/vnd.databricks.v1.subcommand+json": {
       "baseErrorDetails": null,
       "bindings": {},
       "collapsed": false,
       "command": "%sql WITH q AS (SELECT BodyFat, Weight FROM BodyFat) SELECT `BodyFat`,`Weight` FROM q",
       "commandTitle": "Visualization 1",
       "commandType": "auto",
       "commandVersion": 0,
       "commentThread": [],
       "commentsVisible": false,
       "contentSha256Hex": null,
       "customPlotOptions": {
        "redashChart": [
         {
          "key": "type",
          "value": "CHART"
         },
         {
          "key": "options",
          "value": {
           "alignYAxesAtZero": true,
           "coefficient": 1,
           "columnConfigurationMap": {
            "x": {
             "column": "Weight",
             "id": "column_dcde195e9"
            },
            "y": [
             {
              "column": "BodyFat",
              "id": "column_dcde195e12"
             }
            ]
           },
           "dateTimeFormat": "DD/MM/YYYY HH:mm",
           "direction": {
            "type": "counterclockwise"
           },
           "error_y": {
            "type": "data",
            "visible": true
           },
           "globalSeriesType": "scatter",
           "legend": {
            "traceorder": "normal"
           },
           "missingValuesAsZero": true,
           "numberFormat": "0,0.[00000]",
           "percentFormat": "0[.]00%",
           "series": {
            "error_y": {
             "type": "data",
             "visible": true
            },
            "stacking": null
           },
           "seriesOptions": {
            "BodyFat": {
             "type": "scatter",
             "yAxis": 0
            },
            "Weight": {
             "type": "scatter",
             "yAxis": 0
            },
            "column_dcde195e4": {
             "name": "Weight",
             "yAxis": 0
            }
           },
           "showDataLabels": false,
           "sizemode": "diameter",
           "sortX": true,
           "sortY": true,
           "swappedAxes": false,
           "textFormat": "",
           "useAggregationsUi": true,
           "valuesOptions": {},
           "version": 2,
           "xAxis": {
            "labels": {
             "enabled": true
            },
            "type": "-"
           },
           "yAxis": [
            {
             "type": "-"
            },
            {
             "opposite": true,
             "type": "-"
            }
           ]
          }
         }
        ]
       },
       "datasetPreviewNameToCmdIdMap": {},
       "diffDeletes": [],
       "diffInserts": [],
       "displayType": "redashChart",
       "error": null,
       "errorDetails": null,
       "errorSummary": null,
       "errorTraceType": null,
       "finishTime": 0,
       "globalVars": {},
       "guid": "",
       "height": "auto",
       "hideCommandCode": false,
       "hideCommandResult": false,
       "iPythonMetadata": null,
       "inputWidgets": {},
       "isLockedInExamMode": false,
       "latestUser": "a user",
       "latestUserId": null,
       "listResultMetadata": null,
       "metadata": {},
       "nuid": "89128de5-681d-405a-9e9b-8e480a98da6f",
       "origId": 0,
       "parentHierarchy": [],
       "pivotAggregation": null,
       "pivotColumns": null,
       "position": 26.609375,
       "resultDbfsErrorMessage": null,
       "resultDbfsStatus": "INLINED_IN_TREE",
       "results": null,
       "showCommandTitle": false,
       "startTime": 0,
       "state": "input",
       "streamStates": {},
       "subcommandOptions": {
        "queryPlan": {
         "selects": [
          {
           "column": "Weight",
           "type": "column"
          },
          {
           "column": "BodyFat",
           "type": "column"
          }
         ]
        }
       },
       "submitTime": 0,
       "subtype": "tableResultSubCmd.visualization",
       "tableResultIndex": 0,
       "useConsistentColors": false,
       "version": "CommandV1",
       "width": "auto",
       "workflows": [],
       "xColumns": null,
       "yColumns": null
      }
     },
     "output_type": "display_data"
    }
   ],
   "source": [
    "%sql\n",
    "\n",
    "SELECT Weight, BodyFat FROM BodyFat;"
   ]
  },
  {
   "cell_type": "markdown",
   "metadata": {
    "application/vnd.databricks.v1+cell": {
     "cellMetadata": {
      "byteLimit": 2048000,
      "rowLimit": 10000
     },
     "inputWidgets": {},
     "nuid": "704d7278-a930-4473-b4fe-a7184b3ae00e",
     "showTitle": false,
     "title": ""
    }
   },
   "source": []
  },
  {
   "cell_type": "code",
   "execution_count": 0,
   "metadata": {
    "application/vnd.databricks.v1+cell": {
     "cellMetadata": {
      "byteLimit": 2048000,
      "implicitDf": true,
      "rowLimit": 10000
     },
     "inputWidgets": {},
     "nuid": "e3a1c678-98d1-429a-a8f2-2eb2b50a317c",
     "showTitle": false,
     "title": ""
    }
   },
   "outputs": [
    {
     "output_type": "display_data",
     "data": {
      "text/html": [
       "<style scoped>\n",
       "  .table-result-container {\n",
       "    max-height: 300px;\n",
       "    overflow: auto;\n",
       "  }\n",
       "  table, th, td {\n",
       "    border: 1px solid black;\n",
       "    border-collapse: collapse;\n",
       "  }\n",
       "  th, td {\n",
       "    padding: 5px;\n",
       "  }\n",
       "  th {\n",
       "    text-align: left;\n",
       "  }\n",
       "</style><div class='table-result-container'><table class='table-result'><thead style='background-color: white'><tr><th>BodyFat</th><th>Height</th></tr></thead><tbody><tr><td>12.3</td><td>1.72085</td></tr><tr><td>6.1</td><td>1.8351499999999998</td></tr><tr><td>25.3</td><td>1.68275</td></tr><tr><td>10.4</td><td>1.8351499999999998</td></tr><tr><td>28.7</td><td>1.80975</td></tr><tr><td>20.9</td><td>1.89865</td></tr><tr><td>19.2</td><td>1.77165</td></tr><tr><td>12.4</td><td>1.8415</td></tr><tr><td>4.1</td><td>1.8796</td></tr><tr><td>11.7</td><td>1.8669</td></tr><tr><td>7.1</td><td>1.8922999999999999</td></tr><tr><td>7.8</td><td>1.9304</td></tr><tr><td>20.8</td><td>1.7652999999999999</td></tr><tr><td>21.2</td><td>1.80975</td></tr><tr><td>22.1</td><td>1.7652999999999999</td></tr><tr><td>20.9</td><td>1.6764</td></tr><tr><td>29.0</td><td>1.8034</td></tr><tr><td>22.9</td><td>1.8034</td></tr><tr><td>16.0</td><td>1.72085</td></tr><tr><td>16.5</td><td>1.8669</td></tr><tr><td>19.1</td><td>1.7271999999999998</td></tr><tr><td>15.2</td><td>1.77165</td></tr><tr><td>15.6</td><td>1.73355</td></tr><tr><td>17.7</td><td>1.778</td></tr><tr><td>14.0</td><td>1.72085</td></tr><tr><td>3.7</td><td>1.8160999999999998</td></tr><tr><td>7.9</td><td>1.7145</td></tr><tr><td>22.9</td><td>1.7145</td></tr><tr><td>3.7</td><td>1.64465</td></tr><tr><td>8.8</td><td>1.7526</td></tr><tr><td>11.9</td><td>1.8732499999999999</td></tr><tr><td>5.7</td><td>1.80975</td></tr><tr><td>11.8</td><td>1.80975</td></tr><tr><td>21.3</td><td>1.8034</td></tr><tr><td>32.3</td><td>1.8669</td></tr><tr><td>40.1</td><td>1.651</td></tr><tr><td>24.2</td><td>1.778</td></tr><tr><td>28.4</td><td>1.73355</td></tr><tr><td>35.2</td><td>1.8351499999999998</td></tr><tr><td>32.6</td><td>1.7018</td></tr><tr><td>34.5</td><td>1.7462499999999999</td></tr><tr><td>32.9</td><td>0.7493</td></tr><tr><td>31.6</td><td>1.778</td></tr><tr><td>32.0</td><td>1.8160999999999998</td></tr><tr><td>7.7</td><td>1.7271999999999998</td></tr><tr><td>13.9</td><td>1.86055</td></tr><tr><td>10.8</td><td>1.7145</td></tr><tr><td>5.6</td><td>1.80975</td></tr><tr><td>13.6</td><td>1.7399</td></tr><tr><td>4.0</td><td>1.69545</td></tr><tr><td>10.2</td><td>1.8351499999999998</td></tr><tr><td>6.6</td><td>1.7526</td></tr><tr><td>8.0</td><td>1.72085</td></tr><tr><td>6.3</td><td>1.8669</td></tr><tr><td>3.9</td><td>1.7145</td></tr><tr><td>22.6</td><td>1.8288</td></tr><tr><td>20.4</td><td>1.7271999999999998</td></tr><tr><td>28.0</td><td>1.7652999999999999</td></tr><tr><td>31.5</td><td>1.79705</td></tr><tr><td>24.6</td><td>1.67005</td></tr><tr><td>26.1</td><td>1.86055</td></tr><tr><td>29.8</td><td>1.7399</td></tr><tr><td>30.7</td><td>1.7843499999999999</td></tr><tr><td>25.8</td><td>1.7018</td></tr><tr><td>32.3</td><td>1.778</td></tr><tr><td>30.0</td><td>1.7145</td></tr><tr><td>21.5</td><td>1.79705</td></tr><tr><td>13.8</td><td>1.8160999999999998</td></tr><tr><td>6.3</td><td>1.75895</td></tr><tr><td>12.9</td><td>1.8160999999999998</td></tr><tr><td>24.3</td><td>1.8160999999999998</td></tr><tr><td>8.8</td><td>1.7462499999999999</td></tr><tr><td>8.5</td><td>1.8732499999999999</td></tr><tr><td>13.5</td><td>1.6256</td></tr><tr><td>11.8</td><td>1.67005</td></tr><tr><td>18.5</td><td>1.7145</td></tr><tr><td>8.8</td><td>1.7652999999999999</td></tr><tr><td>22.2</td><td>1.7399</td></tr><tr><td>21.5</td><td>1.7843499999999999</td></tr><tr><td>18.8</td><td>1.75895</td></tr><tr><td>31.4</td><td>1.72085</td></tr><tr><td>26.8</td><td>1.7081499999999998</td></tr><tr><td>18.4</td><td>1.84785</td></tr><tr><td>27.0</td><td>1.778</td></tr><tr><td>27.0</td><td>1.75895</td></tr><tr><td>26.6</td><td>1.7145</td></tr><tr><td>14.9</td><td>1.7081499999999998</td></tr><tr><td>23.1</td><td>1.67005</td></tr><tr><td>8.3</td><td>1.8415</td></tr><tr><td>14.1</td><td>1.8541999999999998</td></tr><tr><td>20.5</td><td>1.778</td></tr><tr><td>18.2</td><td>1.7652999999999999</td></tr><tr><td>8.5</td><td>1.7907</td></tr><tr><td>24.9</td><td>1.82245</td></tr><tr><td>9.0</td><td>1.8922999999999999</td></tr><tr><td>17.4</td><td>1.97485</td></tr><tr><td>9.6</td><td>1.86055</td></tr><tr><td>11.3</td><td>1.6890999999999998</td></tr><tr><td>17.8</td><td>1.73355</td></tr><tr><td>22.2</td><td>1.8288</td></tr><tr><td>21.2</td><td>1.8669</td></tr><tr><td>20.4</td><td>1.8288</td></tr><tr><td>20.1</td><td>1.80975</td></tr><tr><td>22.3</td><td>1.8732499999999999</td></tr><tr><td>25.4</td><td>1.75895</td></tr><tr><td>18.0</td><td>1.7399</td></tr><tr><td>19.3</td><td>1.8669</td></tr><tr><td>18.3</td><td>1.88595</td></tr><tr><td>17.3</td><td>1.9177</td></tr><tr><td>21.4</td><td>1.75895</td></tr><tr><td>19.7</td><td>1.7399</td></tr><tr><td>28.0</td><td>1.778</td></tr><tr><td>22.1</td><td>1.778</td></tr><tr><td>21.3</td><td>1.7843499999999999</td></tr><tr><td>26.7</td><td>1.82245</td></tr><tr><td>16.7</td><td>1.75895</td></tr><tr><td>20.1</td><td>1.84785</td></tr><tr><td>13.9</td><td>1.8288</td></tr><tr><td>25.8</td><td>1.8796</td></tr><tr><td>18.1</td><td>1.8351499999999998</td></tr><tr><td>27.9</td><td>1.8922999999999999</td></tr><tr><td>25.3</td><td>1.8160999999999998</td></tr><tr><td>14.7</td><td>1.7462499999999999</td></tr><tr><td>16.0</td><td>1.69545</td></tr><tr><td>13.8</td><td>1.6890999999999998</td></tr><tr><td>17.5</td><td>1.7018</td></tr><tr><td>27.2</td><td>1.7462499999999999</td></tr><tr><td>17.4</td><td>1.72085</td></tr><tr><td>20.8</td><td>1.86055</td></tr><tr><td>14.9</td><td>1.77165</td></tr><tr><td>18.1</td><td>1.8160999999999998</td></tr><tr><td>22.7</td><td>1.7907</td></tr><tr><td>23.6</td><td>1.86055</td></tr><tr><td>26.1</td><td>1.69545</td></tr><tr><td>24.4</td><td>1.7652999999999999</td></tr><tr><td>27.1</td><td>1.77165</td></tr><tr><td>21.8</td><td>1.79705</td></tr><tr><td>29.4</td><td>1.8796</td></tr><tr><td>22.4</td><td>1.80975</td></tr><tr><td>20.4</td><td>1.905</td></tr><tr><td>24.9</td><td>1.8034</td></tr><tr><td>18.3</td><td>1.7652999999999999</td></tr><tr><td>23.3</td><td>1.72085</td></tr><tr><td>9.4</td><td>1.8351499999999998</td></tr><tr><td>10.3</td><td>1.9685</td></tr><tr><td>14.2</td><td>1.79705</td></tr><tr><td>19.2</td><td>1.84785</td></tr><tr><td>29.6</td><td>1.77165</td></tr><tr><td>5.3</td><td>1.8415</td></tr><tr><td>25.2</td><td>1.7843499999999999</td></tr><tr><td>9.4</td><td>1.7526</td></tr><tr><td>19.6</td><td>1.8922999999999999</td></tr><tr><td>10.1</td><td>1.8351499999999998</td></tr><tr><td>16.5</td><td>1.7081499999999998</td></tr><tr><td>21.0</td><td>1.8669</td></tr><tr><td>17.3</td><td>1.9113499999999999</td></tr><tr><td>31.2</td><td>1.7526</td></tr><tr><td>10.0</td><td>1.8351499999999998</td></tr><tr><td>12.5</td><td>1.7462499999999999</td></tr><tr><td>22.5</td><td>1.8160999999999998</td></tr><tr><td>9.4</td><td>1.8351499999999998</td></tr><tr><td>14.6</td><td>1.8541999999999998</td></tr><tr><td>13.0</td><td>1.7462499999999999</td></tr><tr><td>15.1</td><td>1.7907</td></tr><tr><td>27.3</td><td>1.8288</td></tr><tr><td>19.2</td><td>1.8732499999999999</td></tr><tr><td>21.8</td><td>1.7271999999999998</td></tr><tr><td>20.3</td><td>1.8351499999999998</td></tr><tr><td>34.3</td><td>1.7652999999999999</td></tr><tr><td>16.5</td><td>1.7652999999999999</td></tr><tr><td>3.0</td><td>1.72085</td></tr><tr><td>0.7</td><td>1.6637</td></tr><tr><td>20.5</td><td>1.8034</td></tr><tr><td>16.9</td><td>1.8160999999999998</td></tr><tr><td>25.3</td><td>1.82245</td></tr><tr><td>9.9</td><td>1.75895</td></tr><tr><td>13.1</td><td>1.7018</td></tr><tr><td>29.9</td><td>1.8160999999999998</td></tr><tr><td>22.5</td><td>1.75895</td></tr><tr><td>16.9</td><td>1.8922999999999999</td></tr><tr><td>26.6</td><td>1.88595</td></tr><tr><td>0.0</td><td>1.7271999999999998</td></tr><tr><td>11.5</td><td>1.7081499999999998</td></tr><tr><td>12.1</td><td>1.77165</td></tr><tr><td>17.5</td><td>1.88595</td></tr><tr><td>8.6</td><td>1.8160999999999998</td></tr><tr><td>23.6</td><td>1.88595</td></tr><tr><td>20.4</td><td>1.8288</td></tr><tr><td>20.5</td><td>1.8415</td></tr><tr><td>24.4</td><td>1.73355</td></tr><tr><td>11.4</td><td>1.75895</td></tr><tr><td>38.1</td><td>1.9304</td></tr><tr><td>15.9</td><td>1.7907</td></tr><tr><td>24.7</td><td>1.89865</td></tr><tr><td>22.8</td><td>1.84785</td></tr><tr><td>25.5</td><td>1.73355</td></tr><tr><td>22.0</td><td>1.7526</td></tr><tr><td>17.7</td><td>1.8160999999999998</td></tr><tr><td>6.6</td><td>1.84785</td></tr><tr><td>23.6</td><td>1.7145</td></tr><tr><td>12.2</td><td>1.7843499999999999</td></tr><tr><td>22.1</td><td>1.75895</td></tr><tr><td>28.7</td><td>1.8160999999999998</td></tr><tr><td>6.0</td><td>1.8796</td></tr><tr><td>34.8</td><td>1.77165</td></tr><tr><td>16.6</td><td>1.8541999999999998</td></tr><tr><td>32.9</td><td>1.6637</td></tr><tr><td>32.8</td><td>1.8415</td></tr><tr><td>9.6</td><td>1.7843499999999999</td></tr><tr><td>10.8</td><td>1.79705</td></tr><tr><td>7.1</td><td>1.7271999999999998</td></tr><tr><td>27.2</td><td>1.8922999999999999</td></tr><tr><td>19.5</td><td>1.82245</td></tr><tr><td>18.7</td><td>1.79705</td></tr><tr><td>19.5</td><td>1.8541999999999998</td></tr><tr><td>47.5</td><td>1.6256</td></tr><tr><td>13.6</td><td>1.77165</td></tr><tr><td>7.5</td><td>1.778</td></tr><tr><td>24.5</td><td>1.82245</td></tr><tr><td>15.0</td><td>1.75895</td></tr><tr><td>12.4</td><td>1.7907</td></tr><tr><td>26.0</td><td>1.8351499999999998</td></tr><tr><td>11.5</td><td>1.7145</td></tr><tr><td>5.2</td><td>1.7081499999999998</td></tr><tr><td>10.9</td><td>1.7462499999999999</td></tr><tr><td>12.5</td><td>1.69545</td></tr><tr><td>14.8</td><td>1.73355</td></tr><tr><td>25.2</td><td>1.88595</td></tr><tr><td>14.9</td><td>1.7652999999999999</td></tr><tr><td>17.0</td><td>1.7399</td></tr><tr><td>10.6</td><td>1.67005</td></tr><tr><td>16.1</td><td>1.82245</td></tr><tr><td>15.4</td><td>1.8160999999999998</td></tr><tr><td>26.7</td><td>1.7081499999999998</td></tr><tr><td>25.8</td><td>1.7145</td></tr><tr><td>18.6</td><td>1.7145</td></tr><tr><td>24.8</td><td>1.8351499999999998</td></tr><tr><td>27.3</td><td>1.7652999999999999</td></tr><tr><td>12.4</td><td>1.7652999999999999</td></tr><tr><td>29.9</td><td>1.67005</td></tr><tr><td>17.0</td><td>1.67005</td></tr><tr><td>35.0</td><td>1.73355</td></tr><tr><td>30.4</td><td>1.8288</td></tr><tr><td>32.6</td><td>1.84785</td></tr><tr><td>29.0</td><td>1.7399</td></tr><tr><td>15.2</td><td>1.75895</td></tr><tr><td>30.2</td><td>1.7907</td></tr><tr><td>11.0</td><td>1.7018</td></tr><tr><td>33.6</td><td>1.77165</td></tr><tr><td>29.3</td><td>1.6764</td></tr><tr><td>26.0</td><td>1.7907</td></tr><tr><td>31.9</td><td>1.778</td></tr></tbody></table></div>"
      ]
     },
     "metadata": {
      "application/vnd.databricks.v1+output": {
       "addedWidgets": {},
       "aggData": [],
       "aggError": "",
       "aggOverflow": false,
       "aggSchema": [],
       "aggSeriesLimitReached": false,
       "aggType": "",
       "arguments": {},
       "columnCustomDisplayInfos": {},
       "data": [
        [
         12.3,
         1.72085
        ],
        [
         6.1,
         1.8351499999999998
        ],
        [
         25.3,
         1.68275
        ],
        [
         10.4,
         1.8351499999999998
        ],
        [
         28.7,
         1.80975
        ],
        [
         20.9,
         1.89865
        ],
        [
         19.2,
         1.77165
        ],
        [
         12.4,
         1.8415
        ],
        [
         4.1,
         1.8796
        ],
        [
         11.7,
         1.8669
        ],
        [
         7.1,
         1.8922999999999999
        ],
        [
         7.8,
         1.9304
        ],
        [
         20.8,
         1.7652999999999999
        ],
        [
         21.2,
         1.80975
        ],
        [
         22.1,
         1.7652999999999999
        ],
        [
         20.9,
         1.6764
        ],
        [
         29.0,
         1.8034
        ],
        [
         22.9,
         1.8034
        ],
        [
         16.0,
         1.72085
        ],
        [
         16.5,
         1.8669
        ],
        [
         19.1,
         1.7271999999999998
        ],
        [
         15.2,
         1.77165
        ],
        [
         15.6,
         1.73355
        ],
        [
         17.7,
         1.778
        ],
        [
         14.0,
         1.72085
        ],
        [
         3.7,
         1.8160999999999998
        ],
        [
         7.9,
         1.7145
        ],
        [
         22.9,
         1.7145
        ],
        [
         3.7,
         1.64465
        ],
        [
         8.8,
         1.7526
        ],
        [
         11.9,
         1.8732499999999999
        ],
        [
         5.7,
         1.80975
        ],
        [
         11.8,
         1.80975
        ],
        [
         21.3,
         1.8034
        ],
        [
         32.3,
         1.8669
        ],
        [
         40.1,
         1.651
        ],
        [
         24.2,
         1.778
        ],
        [
         28.4,
         1.73355
        ],
        [
         35.2,
         1.8351499999999998
        ],
        [
         32.6,
         1.7018
        ],
        [
         34.5,
         1.7462499999999999
        ],
        [
         32.9,
         0.7493
        ],
        [
         31.6,
         1.778
        ],
        [
         32.0,
         1.8160999999999998
        ],
        [
         7.7,
         1.7271999999999998
        ],
        [
         13.9,
         1.86055
        ],
        [
         10.8,
         1.7145
        ],
        [
         5.6,
         1.80975
        ],
        [
         13.6,
         1.7399
        ],
        [
         4.0,
         1.69545
        ],
        [
         10.2,
         1.8351499999999998
        ],
        [
         6.6,
         1.7526
        ],
        [
         8.0,
         1.72085
        ],
        [
         6.3,
         1.8669
        ],
        [
         3.9,
         1.7145
        ],
        [
         22.6,
         1.8288
        ],
        [
         20.4,
         1.7271999999999998
        ],
        [
         28.0,
         1.7652999999999999
        ],
        [
         31.5,
         1.79705
        ],
        [
         24.6,
         1.67005
        ],
        [
         26.1,
         1.86055
        ],
        [
         29.8,
         1.7399
        ],
        [
         30.7,
         1.7843499999999999
        ],
        [
         25.8,
         1.7018
        ],
        [
         32.3,
         1.778
        ],
        [
         30.0,
         1.7145
        ],
        [
         21.5,
         1.79705
        ],
        [
         13.8,
         1.8160999999999998
        ],
        [
         6.3,
         1.75895
        ],
        [
         12.9,
         1.8160999999999998
        ],
        [
         24.3,
         1.8160999999999998
        ],
        [
         8.8,
         1.7462499999999999
        ],
        [
         8.5,
         1.8732499999999999
        ],
        [
         13.5,
         1.6256
        ],
        [
         11.8,
         1.67005
        ],
        [
         18.5,
         1.7145
        ],
        [
         8.8,
         1.7652999999999999
        ],
        [
         22.2,
         1.7399
        ],
        [
         21.5,
         1.7843499999999999
        ],
        [
         18.8,
         1.75895
        ],
        [
         31.4,
         1.72085
        ],
        [
         26.8,
         1.7081499999999998
        ],
        [
         18.4,
         1.84785
        ],
        [
         27.0,
         1.778
        ],
        [
         27.0,
         1.75895
        ],
        [
         26.6,
         1.7145
        ],
        [
         14.9,
         1.7081499999999998
        ],
        [
         23.1,
         1.67005
        ],
        [
         8.3,
         1.8415
        ],
        [
         14.1,
         1.8541999999999998
        ],
        [
         20.5,
         1.778
        ],
        [
         18.2,
         1.7652999999999999
        ],
        [
         8.5,
         1.7907
        ],
        [
         24.9,
         1.82245
        ],
        [
         9.0,
         1.8922999999999999
        ],
        [
         17.4,
         1.97485
        ],
        [
         9.6,
         1.86055
        ],
        [
         11.3,
         1.6890999999999998
        ],
        [
         17.8,
         1.73355
        ],
        [
         22.2,
         1.8288
        ],
        [
         21.2,
         1.8669
        ],
        [
         20.4,
         1.8288
        ],
        [
         20.1,
         1.80975
        ],
        [
         22.3,
         1.8732499999999999
        ],
        [
         25.4,
         1.75895
        ],
        [
         18.0,
         1.7399
        ],
        [
         19.3,
         1.8669
        ],
        [
         18.3,
         1.88595
        ],
        [
         17.3,
         1.9177
        ],
        [
         21.4,
         1.75895
        ],
        [
         19.7,
         1.7399
        ],
        [
         28.0,
         1.778
        ],
        [
         22.1,
         1.778
        ],
        [
         21.3,
         1.7843499999999999
        ],
        [
         26.7,
         1.82245
        ],
        [
         16.7,
         1.75895
        ],
        [
         20.1,
         1.84785
        ],
        [
         13.9,
         1.8288
        ],
        [
         25.8,
         1.8796
        ],
        [
         18.1,
         1.8351499999999998
        ],
        [
         27.9,
         1.8922999999999999
        ],
        [
         25.3,
         1.8160999999999998
        ],
        [
         14.7,
         1.7462499999999999
        ],
        [
         16.0,
         1.69545
        ],
        [
         13.8,
         1.6890999999999998
        ],
        [
         17.5,
         1.7018
        ],
        [
         27.2,
         1.7462499999999999
        ],
        [
         17.4,
         1.72085
        ],
        [
         20.8,
         1.86055
        ],
        [
         14.9,
         1.77165
        ],
        [
         18.1,
         1.8160999999999998
        ],
        [
         22.7,
         1.7907
        ],
        [
         23.6,
         1.86055
        ],
        [
         26.1,
         1.69545
        ],
        [
         24.4,
         1.7652999999999999
        ],
        [
         27.1,
         1.77165
        ],
        [
         21.8,
         1.79705
        ],
        [
         29.4,
         1.8796
        ],
        [
         22.4,
         1.80975
        ],
        [
         20.4,
         1.905
        ],
        [
         24.9,
         1.8034
        ],
        [
         18.3,
         1.7652999999999999
        ],
        [
         23.3,
         1.72085
        ],
        [
         9.4,
         1.8351499999999998
        ],
        [
         10.3,
         1.9685
        ],
        [
         14.2,
         1.79705
        ],
        [
         19.2,
         1.84785
        ],
        [
         29.6,
         1.77165
        ],
        [
         5.3,
         1.8415
        ],
        [
         25.2,
         1.7843499999999999
        ],
        [
         9.4,
         1.7526
        ],
        [
         19.6,
         1.8922999999999999
        ],
        [
         10.1,
         1.8351499999999998
        ],
        [
         16.5,
         1.7081499999999998
        ],
        [
         21.0,
         1.8669
        ],
        [
         17.3,
         1.9113499999999999
        ],
        [
         31.2,
         1.7526
        ],
        [
         10.0,
         1.8351499999999998
        ],
        [
         12.5,
         1.7462499999999999
        ],
        [
         22.5,
         1.8160999999999998
        ],
        [
         9.4,
         1.8351499999999998
        ],
        [
         14.6,
         1.8541999999999998
        ],
        [
         13.0,
         1.7462499999999999
        ],
        [
         15.1,
         1.7907
        ],
        [
         27.3,
         1.8288
        ],
        [
         19.2,
         1.8732499999999999
        ],
        [
         21.8,
         1.7271999999999998
        ],
        [
         20.3,
         1.8351499999999998
        ],
        [
         34.3,
         1.7652999999999999
        ],
        [
         16.5,
         1.7652999999999999
        ],
        [
         3.0,
         1.72085
        ],
        [
         0.7,
         1.6637
        ],
        [
         20.5,
         1.8034
        ],
        [
         16.9,
         1.8160999999999998
        ],
        [
         25.3,
         1.82245
        ],
        [
         9.9,
         1.75895
        ],
        [
         13.1,
         1.7018
        ],
        [
         29.9,
         1.8160999999999998
        ],
        [
         22.5,
         1.75895
        ],
        [
         16.9,
         1.8922999999999999
        ],
        [
         26.6,
         1.88595
        ],
        [
         0.0,
         1.7271999999999998
        ],
        [
         11.5,
         1.7081499999999998
        ],
        [
         12.1,
         1.77165
        ],
        [
         17.5,
         1.88595
        ],
        [
         8.6,
         1.8160999999999998
        ],
        [
         23.6,
         1.88595
        ],
        [
         20.4,
         1.8288
        ],
        [
         20.5,
         1.8415
        ],
        [
         24.4,
         1.73355
        ],
        [
         11.4,
         1.75895
        ],
        [
         38.1,
         1.9304
        ],
        [
         15.9,
         1.7907
        ],
        [
         24.7,
         1.89865
        ],
        [
         22.8,
         1.84785
        ],
        [
         25.5,
         1.73355
        ],
        [
         22.0,
         1.7526
        ],
        [
         17.7,
         1.8160999999999998
        ],
        [
         6.6,
         1.84785
        ],
        [
         23.6,
         1.7145
        ],
        [
         12.2,
         1.7843499999999999
        ],
        [
         22.1,
         1.75895
        ],
        [
         28.7,
         1.8160999999999998
        ],
        [
         6.0,
         1.8796
        ],
        [
         34.8,
         1.77165
        ],
        [
         16.6,
         1.8541999999999998
        ],
        [
         32.9,
         1.6637
        ],
        [
         32.8,
         1.8415
        ],
        [
         9.6,
         1.7843499999999999
        ],
        [
         10.8,
         1.79705
        ],
        [
         7.1,
         1.7271999999999998
        ],
        [
         27.2,
         1.8922999999999999
        ],
        [
         19.5,
         1.82245
        ],
        [
         18.7,
         1.79705
        ],
        [
         19.5,
         1.8541999999999998
        ],
        [
         47.5,
         1.6256
        ],
        [
         13.6,
         1.77165
        ],
        [
         7.5,
         1.778
        ],
        [
         24.5,
         1.82245
        ],
        [
         15.0,
         1.75895
        ],
        [
         12.4,
         1.7907
        ],
        [
         26.0,
         1.8351499999999998
        ],
        [
         11.5,
         1.7145
        ],
        [
         5.2,
         1.7081499999999998
        ],
        [
         10.9,
         1.7462499999999999
        ],
        [
         12.5,
         1.69545
        ],
        [
         14.8,
         1.73355
        ],
        [
         25.2,
         1.88595
        ],
        [
         14.9,
         1.7652999999999999
        ],
        [
         17.0,
         1.7399
        ],
        [
         10.6,
         1.67005
        ],
        [
         16.1,
         1.82245
        ],
        [
         15.4,
         1.8160999999999998
        ],
        [
         26.7,
         1.7081499999999998
        ],
        [
         25.8,
         1.7145
        ],
        [
         18.6,
         1.7145
        ],
        [
         24.8,
         1.8351499999999998
        ],
        [
         27.3,
         1.7652999999999999
        ],
        [
         12.4,
         1.7652999999999999
        ],
        [
         29.9,
         1.67005
        ],
        [
         17.0,
         1.67005
        ],
        [
         35.0,
         1.73355
        ],
        [
         30.4,
         1.8288
        ],
        [
         32.6,
         1.84785
        ],
        [
         29.0,
         1.7399
        ],
        [
         15.2,
         1.75895
        ],
        [
         30.2,
         1.7907
        ],
        [
         11.0,
         1.7018
        ],
        [
         33.6,
         1.77165
        ],
        [
         29.3,
         1.6764
        ],
        [
         26.0,
         1.7907
        ],
        [
         31.9,
         1.778
        ]
       ],
       "datasetInfos": [],
       "dbfsResultPath": null,
       "isJsonSchema": true,
       "metadata": {},
       "overflow": false,
       "plotOptions": {
        "customPlotOptions": {},
        "displayType": "table",
        "pivotAggregation": null,
        "pivotColumns": null,
        "xColumns": null,
        "yColumns": null
       },
       "removedWidgets": [],
       "schema": [
        {
         "metadata": "{}",
         "name": "BodyFat",
         "type": "\"double\""
        },
        {
         "metadata": "{}",
         "name": "Height",
         "type": "\"double\""
        }
       ],
       "type": "table"
      }
     },
     "output_type": "display_data"
    },
    {
     "output_type": "display_data",
     "data": {
      "text/plain": [
       "Databricks visualization. Run in Databricks to view."
      ]
     },
     "metadata": {
      "application/vnd.databricks.v1.subcommand+json": {
       "baseErrorDetails": null,
       "bindings": {},
       "collapsed": false,
       "command": "%sql WITH q AS (SELECT BodyFat, Height FROM BodyFat) SELECT `Height`,`BodyFat` FROM q",
       "commandTitle": "Visualization 1",
       "commandType": "auto",
       "commandVersion": 0,
       "commentThread": [],
       "commentsVisible": false,
       "contentSha256Hex": null,
       "customPlotOptions": {
        "redashChart": [
         {
          "key": "type",
          "value": "CHART"
         },
         {
          "key": "options",
          "value": {
           "alignYAxesAtZero": true,
           "coefficient": 1,
           "columnConfigurationMap": {
            "x": {
             "column": "Height",
             "id": "column_dcde195e24"
            },
            "y": [
             {
              "column": "BodyFat",
              "id": "column_dcde195e27"
             }
            ]
           },
           "dateTimeFormat": "DD/MM/YYYY HH:mm",
           "direction": {
            "type": "counterclockwise"
           },
           "error_y": {
            "type": "data",
            "visible": true
           },
           "globalSeriesType": "scatter",
           "legend": {
            "traceorder": "normal"
           },
           "missingValuesAsZero": true,
           "numberFormat": "0,0.[00000]",
           "percentFormat": "0[.]00%",
           "series": {
            "error_y": {
             "type": "data",
             "visible": true
            },
            "stacking": null
           },
           "seriesOptions": {
            "BodyFat": {
             "type": "scatter",
             "yAxis": 0
            },
            "Height": {
             "type": "scatter",
             "yAxis": 0
            },
            "column_dcde195e23": {
             "name": "Height",
             "yAxis": 0
            }
           },
           "showDataLabels": false,
           "sizemode": "diameter",
           "sortX": true,
           "sortY": true,
           "swappedAxes": false,
           "textFormat": "",
           "useAggregationsUi": true,
           "valuesOptions": {},
           "version": 2,
           "xAxis": {
            "labels": {
             "enabled": true
            },
            "type": "-"
           },
           "yAxis": [
            {
             "type": "-"
            },
            {
             "opposite": true,
             "type": "-"
            }
           ]
          }
         }
        ]
       },
       "datasetPreviewNameToCmdIdMap": {},
       "diffDeletes": [],
       "diffInserts": [],
       "displayType": "redashChart",
       "error": null,
       "errorDetails": null,
       "errorSummary": null,
       "errorTraceType": null,
       "finishTime": 0,
       "globalVars": {},
       "guid": "",
       "height": "auto",
       "hideCommandCode": false,
       "hideCommandResult": false,
       "iPythonMetadata": null,
       "inputWidgets": {},
       "isLockedInExamMode": false,
       "latestUser": "a user",
       "latestUserId": null,
       "listResultMetadata": null,
       "metadata": {},
       "nuid": "eb9086e8-039f-4c04-9f68-2ec3d3bada53",
       "origId": 0,
       "parentHierarchy": [],
       "pivotAggregation": null,
       "pivotColumns": null,
       "position": 27.75,
       "resultDbfsErrorMessage": null,
       "resultDbfsStatus": "INLINED_IN_TREE",
       "results": null,
       "showCommandTitle": false,
       "startTime": 0,
       "state": "input",
       "streamStates": {},
       "subcommandOptions": {
        "queryPlan": {
         "selects": [
          {
           "column": "Height",
           "type": "column"
          },
          {
           "column": "BodyFat",
           "type": "column"
          }
         ]
        }
       },
       "submitTime": 0,
       "subtype": "tableResultSubCmd.visualization",
       "tableResultIndex": 0,
       "useConsistentColors": false,
       "version": "CommandV1",
       "width": "auto",
       "workflows": [],
       "xColumns": null,
       "yColumns": null
      }
     },
     "output_type": "display_data"
    }
   ],
   "source": [
    "%sql\n",
    "\n",
    "SELECT BodyFat, Height FROM BodyFat;"
   ]
  },
  {
   "cell_type": "code",
   "execution_count": 0,
   "metadata": {
    "application/vnd.databricks.v1+cell": {
     "cellMetadata": {
      "byteLimit": 2048000,
      "implicitDf": true,
      "rowLimit": 10000
     },
     "inputWidgets": {},
     "nuid": "17630334-7bf4-452e-9844-42060e1e40f1",
     "showTitle": false,
     "title": ""
    }
   },
   "outputs": [
    {
     "output_type": "display_data",
     "data": {
      "text/html": [
       "<style scoped>\n",
       "  .table-result-container {\n",
       "    max-height: 300px;\n",
       "    overflow: auto;\n",
       "  }\n",
       "  table, th, td {\n",
       "    border: 1px solid black;\n",
       "    border-collapse: collapse;\n",
       "  }\n",
       "  th, td {\n",
       "    padding: 5px;\n",
       "  }\n",
       "  th {\n",
       "    text-align: left;\n",
       "  }\n",
       "</style><div class='table-result-container'><table class='table-result'><thead style='background-color: white'><tr><th>Chest</th><th>BodyFat</th></tr></thead><tbody><tr><td>93.1</td><td>12.3</td></tr><tr><td>93.6</td><td>6.1</td></tr><tr><td>95.8</td><td>25.3</td></tr><tr><td>101.8</td><td>10.4</td></tr><tr><td>97.3</td><td>28.7</td></tr><tr><td>104.5</td><td>20.9</td></tr><tr><td>105.1</td><td>19.2</td></tr><tr><td>99.6</td><td>12.4</td></tr><tr><td>100.9</td><td>4.1</td></tr><tr><td>99.6</td><td>11.7</td></tr><tr><td>101.5</td><td>7.1</td></tr><tr><td>103.6</td><td>7.8</td></tr><tr><td>102.0</td><td>20.8</td></tr><tr><td>104.1</td><td>21.2</td></tr><tr><td>101.3</td><td>22.1</td></tr><tr><td>99.1</td><td>20.9</td></tr><tr><td>101.9</td><td>29.0</td></tr><tr><td>107.6</td><td>22.9</td></tr><tr><td>106.8</td><td>16.0</td></tr><tr><td>106.2</td><td>16.5</td></tr><tr><td>103.3</td><td>19.1</td></tr><tr><td>111.4</td><td>15.2</td></tr><tr><td>86.0</td><td>15.6</td></tr><tr><td>86.7</td><td>17.7</td></tr><tr><td>90.2</td><td>14.0</td></tr><tr><td>89.6</td><td>3.7</td></tr><tr><td>88.6</td><td>7.9</td></tr><tr><td>97.4</td><td>22.9</td></tr><tr><td>93.5</td><td>3.7</td></tr><tr><td>97.4</td><td>8.8</td></tr><tr><td>100.5</td><td>11.9</td></tr><tr><td>93.5</td><td>5.7</td></tr><tr><td>93.0</td><td>11.8</td></tr><tr><td>111.7</td><td>21.3</td></tr><tr><td>117.0</td><td>32.3</td></tr><tr><td>118.5</td><td>40.1</td></tr><tr><td>106.5</td><td>24.2</td></tr><tr><td>105.6</td><td>28.4</td></tr><tr><td>136.2</td><td>35.2</td></tr><tr><td>114.8</td><td>32.6</td></tr><tr><td>128.3</td><td>34.5</td></tr><tr><td>106.0</td><td>32.9</td></tr><tr><td>113.3</td><td>31.6</td></tr><tr><td>106.6</td><td>32.0</td></tr><tr><td>85.1</td><td>7.7</td></tr><tr><td>96.6</td><td>13.9</td></tr><tr><td>88.2</td><td>10.8</td></tr><tr><td>89.8</td><td>5.6</td></tr><tr><td>92.3</td><td>13.6</td></tr><tr><td>83.4</td><td>4.0</td></tr><tr><td>90.2</td><td>10.2</td></tr><tr><td>89.2</td><td>6.6</td></tr><tr><td>89.7</td><td>8.0</td></tr><tr><td>93.3</td><td>6.3</td></tr><tr><td>87.6</td><td>3.9</td></tr><tr><td>107.6</td><td>22.6</td></tr><tr><td>100.0</td><td>20.4</td></tr><tr><td>111.5</td><td>28.0</td></tr><tr><td>115.4</td><td>31.5</td></tr><tr><td>104.8</td><td>24.6</td></tr><tr><td>112.3</td><td>26.1</td></tr><tr><td>102.9</td><td>29.8</td></tr><tr><td>107.6</td><td>30.7</td></tr><tr><td>105.3</td><td>25.8</td></tr><tr><td>105.3</td><td>32.3</td></tr><tr><td>103.0</td><td>30.0</td></tr><tr><td>90.0</td><td>21.5</td></tr><tr><td>95.4</td><td>13.8</td></tr><tr><td>89.3</td><td>6.3</td></tr><tr><td>94.4</td><td>12.9</td></tr><tr><td>97.6</td><td>24.3</td></tr><tr><td>88.5</td><td>8.8</td></tr><tr><td>93.6</td><td>8.5</td></tr><tr><td>87.7</td><td>13.5</td></tr><tr><td>93.4</td><td>11.8</td></tr><tr><td>91.6</td><td>18.5</td></tr><tr><td>91.6</td><td>8.8</td></tr><tr><td>102.0</td><td>22.2</td></tr><tr><td>96.4</td><td>21.5</td></tr><tr><td>102.7</td><td>18.8</td></tr><tr><td>97.7</td><td>31.4</td></tr><tr><td>97.1</td><td>26.8</td></tr><tr><td>103.1</td><td>18.4</td></tr><tr><td>101.8</td><td>27.0</td></tr><tr><td>101.4</td><td>27.0</td></tr><tr><td>98.9</td><td>26.6</td></tr><tr><td>97.5</td><td>14.9</td></tr><tr><td>104.3</td><td>23.1</td></tr><tr><td>97.3</td><td>8.3</td></tr><tr><td>96.7</td><td>14.1</td></tr><tr><td>99.7</td><td>20.5</td></tr><tr><td>101.9</td><td>18.2</td></tr><tr><td>97.2</td><td>8.5</td></tr><tr><td>106.6</td><td>24.9</td></tr><tr><td>99.6</td><td>9.0</td></tr><tr><td>113.2</td><td>17.4</td></tr><tr><td>99.1</td><td>9.6</td></tr><tr><td>99.4</td><td>11.3</td></tr><tr><td>95.1</td><td>17.8</td></tr><tr><td>107.5</td><td>22.2</td></tr><tr><td>106.5</td><td>21.2</td></tr><tr><td>99.1</td><td>20.4</td></tr><tr><td>96.7</td><td>20.1</td></tr><tr><td>103.5</td><td>22.3</td></tr><tr><td>104.0</td><td>25.4</td></tr><tr><td>93.1</td><td>18.0</td></tr><tr><td>105.2</td><td>19.3</td></tr><tr><td>110.0</td><td>18.3</td></tr><tr><td>110.1</td><td>17.3</td></tr><tr><td>97.8</td><td>21.4</td></tr><tr><td>96.3</td><td>19.7</td></tr><tr><td>108.0</td><td>28.0</td></tr><tr><td>99.7</td><td>22.1</td></tr><tr><td>93.5</td><td>21.3</td></tr><tr><td>100.7</td><td>26.7</td></tr><tr><td>97.0</td><td>16.7</td></tr><tr><td>96.0</td><td>20.1</td></tr><tr><td>99.2</td><td>13.9</td></tr><tr><td>95.4</td><td>25.8</td></tr><tr><td>101.8</td><td>18.1</td></tr><tr><td>104.3</td><td>27.9</td></tr><tr><td>99.2</td><td>25.3</td></tr><tr><td>99.3</td><td>14.7</td></tr><tr><td>94.0</td><td>16.0</td></tr><tr><td>98.9</td><td>13.8</td></tr><tr><td>101.0</td><td>17.5</td></tr><tr><td>98.7</td><td>27.2</td></tr><tr><td>95.9</td><td>17.4</td></tr><tr><td>103.9</td><td>20.8</td></tr><tr><td>96.2</td><td>14.9</td></tr><tr><td>97.8</td><td>18.1</td></tr><tr><td>94.6</td><td>22.7</td></tr><tr><td>103.6</td><td>23.6</td></tr><tr><td>100.4</td><td>26.1</td></tr><tr><td>98.4</td><td>24.4</td></tr><tr><td>104.6</td><td>27.1</td></tr><tr><td>92.9</td><td>21.8</td></tr><tr><td>97.8</td><td>29.4</td></tr><tr><td>98.3</td><td>22.4</td></tr><tr><td>104.7</td><td>20.4</td></tr><tr><td>98.6</td><td>24.9</td></tr><tr><td>99.5</td><td>18.3</td></tr><tr><td>102.7</td><td>23.3</td></tr><tr><td>92.1</td><td>9.4</td></tr><tr><td>96.6</td><td>10.3</td></tr><tr><td>92.7</td><td>14.2</td></tr><tr><td>102.0</td><td>19.2</td></tr><tr><td>110.9</td><td>29.6</td></tr><tr><td>92.3</td><td>5.3</td></tr><tr><td>114.1</td><td>25.2</td></tr><tr><td>92.9</td><td>9.4</td></tr><tr><td>108.3</td><td>19.6</td></tr><tr><td>88.5</td><td>10.1</td></tr><tr><td>94.0</td><td>16.5</td></tr><tr><td>101.1</td><td>21.0</td></tr><tr><td>92.1</td><td>17.3</td></tr><tr><td>105.6</td><td>31.2</td></tr><tr><td>98.5</td><td>10.0</td></tr><tr><td>88.7</td><td>12.5</td></tr><tr><td>101.1</td><td>22.5</td></tr><tr><td>94.0</td><td>9.4</td></tr><tr><td>103.8</td><td>14.6</td></tr><tr><td>98.9</td><td>13.0</td></tr><tr><td>89.2</td><td>15.1</td></tr><tr><td>111.4</td><td>27.3</td></tr><tr><td>107.5</td><td>19.2</td></tr><tr><td>99.1</td><td>21.8</td></tr><tr><td>108.2</td><td>20.3</td></tr><tr><td>114.9</td><td>34.3</td></tr><tr><td>99.1</td><td>16.5</td></tr><tr><td>92.2</td><td>3.0</td></tr><tr><td>90.8</td><td>0.7</td></tr><tr><td>100.5</td><td>20.5</td></tr><tr><td>98.2</td><td>16.9</td></tr><tr><td>115.3</td><td>25.3</td></tr><tr><td>96.8</td><td>9.9</td></tr><tr><td>92.6</td><td>13.1</td></tr><tr><td>119.2</td><td>29.9</td></tr><tr><td>102.7</td><td>22.5</td></tr><tr><td>109.5</td><td>16.9</td></tr><tr><td>108.5</td><td>26.6</td></tr><tr><td>79.3</td><td>0.0</td></tr><tr><td>95.5</td><td>11.5</td></tr><tr><td>92.3</td><td>12.1</td></tr><tr><td>98.9</td><td>17.5</td></tr><tr><td>89.5</td><td>8.6</td></tr><tr><td>117.5</td><td>23.6</td></tr><tr><td>107.4</td><td>20.4</td></tr><tr><td>109.2</td><td>20.5</td></tr><tr><td>103.4</td><td>24.4</td></tr><tr><td>91.4</td><td>11.4</td></tr><tr><td>115.2</td><td>38.1</td></tr><tr><td>104.9</td><td>15.9</td></tr><tr><td>106.7</td><td>24.7</td></tr><tr><td>92.2</td><td>22.8</td></tr><tr><td>101.6</td><td>25.5</td></tr><tr><td>97.8</td><td>22.0</td></tr><tr><td>92.0</td><td>17.7</td></tr><tr><td>94.0</td><td>6.6</td></tr><tr><td>103.7</td><td>23.6</td></tr><tr><td>102.7</td><td>12.2</td></tr><tr><td>91.1</td><td>22.1</td></tr><tr><td>107.2</td><td>28.7</td></tr><tr><td>100.8</td><td>6.0</td></tr><tr><td>121.6</td><td>34.8</td></tr><tr><td>105.6</td><td>16.6</td></tr><tr><td>100.6</td><td>32.9</td></tr><tr><td>102.7</td><td>32.8</td></tr><tr><td>99.8</td><td>9.6</td></tr><tr><td>92.9</td><td>10.8</td></tr><tr><td>91.2</td><td>7.1</td></tr><tr><td>115.6</td><td>27.2</td></tr><tr><td>98.3</td><td>19.5</td></tr><tr><td>103.7</td><td>18.7</td></tr><tr><td>98.7</td><td>19.5</td></tr><tr><td>119.8</td><td>47.5</td></tr><tr><td>92.8</td><td>13.6</td></tr><tr><td>93.3</td><td>7.5</td></tr><tr><td>106.8</td><td>24.5</td></tr><tr><td>93.9</td><td>15.0</td></tr><tr><td>99.0</td><td>12.4</td></tr><tr><td>119.9</td><td>26.0</td></tr><tr><td>94.2</td><td>11.5</td></tr><tr><td>92.7</td><td>5.2</td></tr><tr><td>106.9</td><td>10.9</td></tr><tr><td>88.8</td><td>12.5</td></tr><tr><td>101.7</td><td>14.8</td></tr><tr><td>105.3</td><td>25.2</td></tr><tr><td>104.0</td><td>14.9</td></tr><tr><td>98.6</td><td>17.0</td></tr><tr><td>99.6</td><td>10.6</td></tr><tr><td>103.4</td><td>16.1</td></tr><tr><td>100.2</td><td>15.4</td></tr><tr><td>94.9</td><td>26.7</td></tr><tr><td>97.2</td><td>25.8</td></tr><tr><td>104.7</td><td>18.6</td></tr><tr><td>104.0</td><td>24.8</td></tr><tr><td>117.6</td><td>27.3</td></tr><tr><td>95.8</td><td>12.4</td></tr><tr><td>106.4</td><td>29.9</td></tr><tr><td>93.0</td><td>17.0</td></tr><tr><td>119.6</td><td>35.0</td></tr><tr><td>119.7</td><td>30.4</td></tr><tr><td>115.8</td><td>32.6</td></tr><tr><td>118.3</td><td>29.0</td></tr><tr><td>97.4</td><td>15.2</td></tr><tr><td>113.7</td><td>30.2</td></tr><tr><td>89.2</td><td>11.0</td></tr><tr><td>108.5</td><td>33.6</td></tr><tr><td>111.1</td><td>29.3</td></tr><tr><td>108.3</td><td>26.0</td></tr><tr><td>112.4</td><td>31.9</td></tr></tbody></table></div>"
      ]
     },
     "metadata": {
      "application/vnd.databricks.v1+output": {
       "addedWidgets": {},
       "aggData": [],
       "aggError": "",
       "aggOverflow": false,
       "aggSchema": [],
       "aggSeriesLimitReached": false,
       "aggType": "",
       "arguments": {},
       "columnCustomDisplayInfos": {},
       "data": [
        [
         93.1,
         12.3
        ],
        [
         93.6,
         6.1
        ],
        [
         95.8,
         25.3
        ],
        [
         101.8,
         10.4
        ],
        [
         97.3,
         28.7
        ],
        [
         104.5,
         20.9
        ],
        [
         105.1,
         19.2
        ],
        [
         99.6,
         12.4
        ],
        [
         100.9,
         4.1
        ],
        [
         99.6,
         11.7
        ],
        [
         101.5,
         7.1
        ],
        [
         103.6,
         7.8
        ],
        [
         102.0,
         20.8
        ],
        [
         104.1,
         21.2
        ],
        [
         101.3,
         22.1
        ],
        [
         99.1,
         20.9
        ],
        [
         101.9,
         29.0
        ],
        [
         107.6,
         22.9
        ],
        [
         106.8,
         16.0
        ],
        [
         106.2,
         16.5
        ],
        [
         103.3,
         19.1
        ],
        [
         111.4,
         15.2
        ],
        [
         86.0,
         15.6
        ],
        [
         86.7,
         17.7
        ],
        [
         90.2,
         14.0
        ],
        [
         89.6,
         3.7
        ],
        [
         88.6,
         7.9
        ],
        [
         97.4,
         22.9
        ],
        [
         93.5,
         3.7
        ],
        [
         97.4,
         8.8
        ],
        [
         100.5,
         11.9
        ],
        [
         93.5,
         5.7
        ],
        [
         93.0,
         11.8
        ],
        [
         111.7,
         21.3
        ],
        [
         117.0,
         32.3
        ],
        [
         118.5,
         40.1
        ],
        [
         106.5,
         24.2
        ],
        [
         105.6,
         28.4
        ],
        [
         136.2,
         35.2
        ],
        [
         114.8,
         32.6
        ],
        [
         128.3,
         34.5
        ],
        [
         106.0,
         32.9
        ],
        [
         113.3,
         31.6
        ],
        [
         106.6,
         32.0
        ],
        [
         85.1,
         7.7
        ],
        [
         96.6,
         13.9
        ],
        [
         88.2,
         10.8
        ],
        [
         89.8,
         5.6
        ],
        [
         92.3,
         13.6
        ],
        [
         83.4,
         4.0
        ],
        [
         90.2,
         10.2
        ],
        [
         89.2,
         6.6
        ],
        [
         89.7,
         8.0
        ],
        [
         93.3,
         6.3
        ],
        [
         87.6,
         3.9
        ],
        [
         107.6,
         22.6
        ],
        [
         100.0,
         20.4
        ],
        [
         111.5,
         28.0
        ],
        [
         115.4,
         31.5
        ],
        [
         104.8,
         24.6
        ],
        [
         112.3,
         26.1
        ],
        [
         102.9,
         29.8
        ],
        [
         107.6,
         30.7
        ],
        [
         105.3,
         25.8
        ],
        [
         105.3,
         32.3
        ],
        [
         103.0,
         30.0
        ],
        [
         90.0,
         21.5
        ],
        [
         95.4,
         13.8
        ],
        [
         89.3,
         6.3
        ],
        [
         94.4,
         12.9
        ],
        [
         97.6,
         24.3
        ],
        [
         88.5,
         8.8
        ],
        [
         93.6,
         8.5
        ],
        [
         87.7,
         13.5
        ],
        [
         93.4,
         11.8
        ],
        [
         91.6,
         18.5
        ],
        [
         91.6,
         8.8
        ],
        [
         102.0,
         22.2
        ],
        [
         96.4,
         21.5
        ],
        [
         102.7,
         18.8
        ],
        [
         97.7,
         31.4
        ],
        [
         97.1,
         26.8
        ],
        [
         103.1,
         18.4
        ],
        [
         101.8,
         27.0
        ],
        [
         101.4,
         27.0
        ],
        [
         98.9,
         26.6
        ],
        [
         97.5,
         14.9
        ],
        [
         104.3,
         23.1
        ],
        [
         97.3,
         8.3
        ],
        [
         96.7,
         14.1
        ],
        [
         99.7,
         20.5
        ],
        [
         101.9,
         18.2
        ],
        [
         97.2,
         8.5
        ],
        [
         106.6,
         24.9
        ],
        [
         99.6,
         9.0
        ],
        [
         113.2,
         17.4
        ],
        [
         99.1,
         9.6
        ],
        [
         99.4,
         11.3
        ],
        [
         95.1,
         17.8
        ],
        [
         107.5,
         22.2
        ],
        [
         106.5,
         21.2
        ],
        [
         99.1,
         20.4
        ],
        [
         96.7,
         20.1
        ],
        [
         103.5,
         22.3
        ],
        [
         104.0,
         25.4
        ],
        [
         93.1,
         18.0
        ],
        [
         105.2,
         19.3
        ],
        [
         110.0,
         18.3
        ],
        [
         110.1,
         17.3
        ],
        [
         97.8,
         21.4
        ],
        [
         96.3,
         19.7
        ],
        [
         108.0,
         28.0
        ],
        [
         99.7,
         22.1
        ],
        [
         93.5,
         21.3
        ],
        [
         100.7,
         26.7
        ],
        [
         97.0,
         16.7
        ],
        [
         96.0,
         20.1
        ],
        [
         99.2,
         13.9
        ],
        [
         95.4,
         25.8
        ],
        [
         101.8,
         18.1
        ],
        [
         104.3,
         27.9
        ],
        [
         99.2,
         25.3
        ],
        [
         99.3,
         14.7
        ],
        [
         94.0,
         16.0
        ],
        [
         98.9,
         13.8
        ],
        [
         101.0,
         17.5
        ],
        [
         98.7,
         27.2
        ],
        [
         95.9,
         17.4
        ],
        [
         103.9,
         20.8
        ],
        [
         96.2,
         14.9
        ],
        [
         97.8,
         18.1
        ],
        [
         94.6,
         22.7
        ],
        [
         103.6,
         23.6
        ],
        [
         100.4,
         26.1
        ],
        [
         98.4,
         24.4
        ],
        [
         104.6,
         27.1
        ],
        [
         92.9,
         21.8
        ],
        [
         97.8,
         29.4
        ],
        [
         98.3,
         22.4
        ],
        [
         104.7,
         20.4
        ],
        [
         98.6,
         24.9
        ],
        [
         99.5,
         18.3
        ],
        [
         102.7,
         23.3
        ],
        [
         92.1,
         9.4
        ],
        [
         96.6,
         10.3
        ],
        [
         92.7,
         14.2
        ],
        [
         102.0,
         19.2
        ],
        [
         110.9,
         29.6
        ],
        [
         92.3,
         5.3
        ],
        [
         114.1,
         25.2
        ],
        [
         92.9,
         9.4
        ],
        [
         108.3,
         19.6
        ],
        [
         88.5,
         10.1
        ],
        [
         94.0,
         16.5
        ],
        [
         101.1,
         21.0
        ],
        [
         92.1,
         17.3
        ],
        [
         105.6,
         31.2
        ],
        [
         98.5,
         10.0
        ],
        [
         88.7,
         12.5
        ],
        [
         101.1,
         22.5
        ],
        [
         94.0,
         9.4
        ],
        [
         103.8,
         14.6
        ],
        [
         98.9,
         13.0
        ],
        [
         89.2,
         15.1
        ],
        [
         111.4,
         27.3
        ],
        [
         107.5,
         19.2
        ],
        [
         99.1,
         21.8
        ],
        [
         108.2,
         20.3
        ],
        [
         114.9,
         34.3
        ],
        [
         99.1,
         16.5
        ],
        [
         92.2,
         3.0
        ],
        [
         90.8,
         0.7
        ],
        [
         100.5,
         20.5
        ],
        [
         98.2,
         16.9
        ],
        [
         115.3,
         25.3
        ],
        [
         96.8,
         9.9
        ],
        [
         92.6,
         13.1
        ],
        [
         119.2,
         29.9
        ],
        [
         102.7,
         22.5
        ],
        [
         109.5,
         16.9
        ],
        [
         108.5,
         26.6
        ],
        [
         79.3,
         0.0
        ],
        [
         95.5,
         11.5
        ],
        [
         92.3,
         12.1
        ],
        [
         98.9,
         17.5
        ],
        [
         89.5,
         8.6
        ],
        [
         117.5,
         23.6
        ],
        [
         107.4,
         20.4
        ],
        [
         109.2,
         20.5
        ],
        [
         103.4,
         24.4
        ],
        [
         91.4,
         11.4
        ],
        [
         115.2,
         38.1
        ],
        [
         104.9,
         15.9
        ],
        [
         106.7,
         24.7
        ],
        [
         92.2,
         22.8
        ],
        [
         101.6,
         25.5
        ],
        [
         97.8,
         22.0
        ],
        [
         92.0,
         17.7
        ],
        [
         94.0,
         6.6
        ],
        [
         103.7,
         23.6
        ],
        [
         102.7,
         12.2
        ],
        [
         91.1,
         22.1
        ],
        [
         107.2,
         28.7
        ],
        [
         100.8,
         6.0
        ],
        [
         121.6,
         34.8
        ],
        [
         105.6,
         16.6
        ],
        [
         100.6,
         32.9
        ],
        [
         102.7,
         32.8
        ],
        [
         99.8,
         9.6
        ],
        [
         92.9,
         10.8
        ],
        [
         91.2,
         7.1
        ],
        [
         115.6,
         27.2
        ],
        [
         98.3,
         19.5
        ],
        [
         103.7,
         18.7
        ],
        [
         98.7,
         19.5
        ],
        [
         119.8,
         47.5
        ],
        [
         92.8,
         13.6
        ],
        [
         93.3,
         7.5
        ],
        [
         106.8,
         24.5
        ],
        [
         93.9,
         15.0
        ],
        [
         99.0,
         12.4
        ],
        [
         119.9,
         26.0
        ],
        [
         94.2,
         11.5
        ],
        [
         92.7,
         5.2
        ],
        [
         106.9,
         10.9
        ],
        [
         88.8,
         12.5
        ],
        [
         101.7,
         14.8
        ],
        [
         105.3,
         25.2
        ],
        [
         104.0,
         14.9
        ],
        [
         98.6,
         17.0
        ],
        [
         99.6,
         10.6
        ],
        [
         103.4,
         16.1
        ],
        [
         100.2,
         15.4
        ],
        [
         94.9,
         26.7
        ],
        [
         97.2,
         25.8
        ],
        [
         104.7,
         18.6
        ],
        [
         104.0,
         24.8
        ],
        [
         117.6,
         27.3
        ],
        [
         95.8,
         12.4
        ],
        [
         106.4,
         29.9
        ],
        [
         93.0,
         17.0
        ],
        [
         119.6,
         35.0
        ],
        [
         119.7,
         30.4
        ],
        [
         115.8,
         32.6
        ],
        [
         118.3,
         29.0
        ],
        [
         97.4,
         15.2
        ],
        [
         113.7,
         30.2
        ],
        [
         89.2,
         11.0
        ],
        [
         108.5,
         33.6
        ],
        [
         111.1,
         29.3
        ],
        [
         108.3,
         26.0
        ],
        [
         112.4,
         31.9
        ]
       ],
       "datasetInfos": [],
       "dbfsResultPath": null,
       "isJsonSchema": true,
       "metadata": {},
       "overflow": false,
       "plotOptions": {
        "customPlotOptions": {},
        "displayType": "table",
        "pivotAggregation": null,
        "pivotColumns": null,
        "xColumns": null,
        "yColumns": null
       },
       "removedWidgets": [],
       "schema": [
        {
         "metadata": "{}",
         "name": "Chest",
         "type": "\"double\""
        },
        {
         "metadata": "{}",
         "name": "BodyFat",
         "type": "\"double\""
        }
       ],
       "type": "table"
      }
     },
     "output_type": "display_data"
    },
    {
     "output_type": "display_data",
     "data": {
      "text/plain": [
       "Databricks visualization. Run in Databricks to view."
      ]
     },
     "metadata": {
      "application/vnd.databricks.v1.subcommand+json": {
       "baseErrorDetails": null,
       "bindings": {},
       "collapsed": false,
       "command": "%sql WITH q AS (SELECT Neck, BodyFat FROM BodyFat) SELECT `Neck`,`BodyFat` FROM q",
       "commandTitle": "Visualization 1",
       "commandType": "auto",
       "commandVersion": 0,
       "commentThread": [],
       "commentsVisible": false,
       "contentSha256Hex": null,
       "customPlotOptions": {
        "redashChart": [
         {
          "key": "type",
          "value": "CHART"
         },
         {
          "key": "options",
          "value": {
           "alignYAxesAtZero": true,
           "coefficient": 1,
           "columnConfigurationMap": {
            "x": {
             "column": "Neck",
             "id": "column_dcde195e30"
            },
            "y": [
             {
              "column": "BodyFat",
              "id": "column_dcde195e31"
             }
            ]
           },
           "dateTimeFormat": "DD/MM/YYYY HH:mm",
           "direction": {
            "type": "counterclockwise"
           },
           "error_y": {
            "type": "data",
            "visible": true
           },
           "globalSeriesType": "scatter",
           "legend": {
            "traceorder": "normal"
           },
           "missingValuesAsZero": true,
           "numberFormat": "0,0.[00000]",
           "percentFormat": "0[.]00%",
           "series": {
            "error_y": {
             "type": "data",
             "visible": true
            },
            "stacking": null
           },
           "seriesOptions": {
            "column_dcde195e31": {
             "name": "BodyFat",
             "yAxis": 0
            }
           },
           "showDataLabels": false,
           "sizemode": "diameter",
           "sortX": true,
           "sortY": true,
           "swappedAxes": false,
           "textFormat": "",
           "useAggregationsUi": true,
           "valuesOptions": {},
           "version": 2,
           "xAxis": {
            "labels": {
             "enabled": true
            },
            "type": "-"
           },
           "yAxis": [
            {
             "type": "-"
            },
            {
             "opposite": true,
             "type": "-"
            }
           ]
          }
         }
        ]
       },
       "datasetPreviewNameToCmdIdMap": {},
       "diffDeletes": [],
       "diffInserts": [],
       "displayType": "redashChart",
       "error": null,
       "errorDetails": null,
       "errorSummary": null,
       "errorTraceType": null,
       "finishTime": 0,
       "globalVars": {},
       "guid": "",
       "height": "auto",
       "hideCommandCode": false,
       "hideCommandResult": false,
       "iPythonMetadata": null,
       "inputWidgets": {},
       "isLockedInExamMode": false,
       "latestUser": "a user",
       "latestUserId": null,
       "listResultMetadata": null,
       "metadata": {},
       "nuid": "ab335bb7-98c6-4cb7-9c3a-2ed1948e0403",
       "origId": 0,
       "parentHierarchy": [],
       "pivotAggregation": null,
       "pivotColumns": null,
       "position": 28.75,
       "resultDbfsErrorMessage": null,
       "resultDbfsStatus": "INLINED_IN_TREE",
       "results": null,
       "showCommandTitle": false,
       "startTime": 0,
       "state": "input",
       "streamStates": {},
       "subcommandOptions": {
        "queryPlan": {
         "selects": [
          {
           "column": "Neck",
           "type": "column"
          },
          {
           "column": "BodyFat",
           "type": "column"
          }
         ]
        }
       },
       "submitTime": 0,
       "subtype": "tableResultSubCmd.visualization",
       "tableResultIndex": 0,
       "useConsistentColors": false,
       "version": "CommandV1",
       "width": "auto",
       "workflows": [],
       "xColumns": null,
       "yColumns": null
      }
     },
     "output_type": "display_data"
    }
   ],
   "source": [
    "%sql\n",
    "\n",
    "SELECT Neck, BodyFat FROM BodyFat;"
   ]
  },
  {
   "cell_type": "code",
   "execution_count": 0,
   "metadata": {
    "application/vnd.databricks.v1+cell": {
     "cellMetadata": {
      "byteLimit": 2048000,
      "implicitDf": true,
      "rowLimit": 10000
     },
     "inputWidgets": {},
     "nuid": "7045d8be-84a5-47ac-9696-b51aab744803",
     "showTitle": false,
     "title": ""
    }
   },
   "outputs": [
    {
     "output_type": "display_data",
     "data": {
      "text/html": [
       "<style scoped>\n",
       "  .table-result-container {\n",
       "    max-height: 300px;\n",
       "    overflow: auto;\n",
       "  }\n",
       "  table, th, td {\n",
       "    border: 1px solid black;\n",
       "    border-collapse: collapse;\n",
       "  }\n",
       "  th, td {\n",
       "    padding: 5px;\n",
       "  }\n",
       "  th {\n",
       "    text-align: left;\n",
       "  }\n",
       "</style><div class='table-result-container'><table class='table-result'><thead style='background-color: white'><tr><th>Abdomen</th><th>BodyFat</th></tr></thead><tbody><tr><td>85.2</td><td>12.3</td></tr><tr><td>83.0</td><td>6.1</td></tr><tr><td>87.9</td><td>25.3</td></tr><tr><td>86.4</td><td>10.4</td></tr><tr><td>100.0</td><td>28.7</td></tr><tr><td>94.4</td><td>20.9</td></tr><tr><td>90.7</td><td>19.2</td></tr><tr><td>88.5</td><td>12.4</td></tr><tr><td>82.5</td><td>4.1</td></tr><tr><td>88.6</td><td>11.7</td></tr><tr><td>83.6</td><td>7.1</td></tr><tr><td>90.9</td><td>7.8</td></tr><tr><td>91.6</td><td>20.8</td></tr><tr><td>101.8</td><td>21.2</td></tr><tr><td>96.4</td><td>22.1</td></tr><tr><td>92.8</td><td>20.9</td></tr><tr><td>96.4</td><td>29.0</td></tr><tr><td>97.5</td><td>22.9</td></tr><tr><td>89.6</td><td>16.0</td></tr><tr><td>100.5</td><td>16.5</td></tr><tr><td>95.9</td><td>19.1</td></tr><tr><td>98.8</td><td>15.2</td></tr><tr><td>76.4</td><td>15.6</td></tr><tr><td>80.0</td><td>17.7</td></tr><tr><td>76.3</td><td>14.0</td></tr><tr><td>79.7</td><td>3.7</td></tr><tr><td>74.6</td><td>7.9</td></tr><tr><td>88.7</td><td>22.9</td></tr><tr><td>73.9</td><td>3.7</td></tr><tr><td>83.5</td><td>8.8</td></tr><tr><td>88.7</td><td>11.9</td></tr><tr><td>84.5</td><td>5.7</td></tr><tr><td>79.1</td><td>11.8</td></tr><tr><td>100.5</td><td>21.3</td></tr><tr><td>115.6</td><td>32.3</td></tr><tr><td>113.1</td><td>40.1</td></tr><tr><td>100.9</td><td>24.2</td></tr><tr><td>98.8</td><td>28.4</td></tr><tr><td>148.1</td><td>35.2</td></tr><tr><td>108.1</td><td>32.6</td></tr><tr><td>126.2</td><td>34.5</td></tr><tr><td>104.3</td><td>32.9</td></tr><tr><td>111.2</td><td>31.6</td></tr><tr><td>104.3</td><td>32.0</td></tr><tr><td>76.0</td><td>7.7</td></tr><tr><td>81.5</td><td>13.9</td></tr><tr><td>73.7</td><td>10.8</td></tr><tr><td>79.5</td><td>5.6</td></tr><tr><td>83.4</td><td>13.6</td></tr><tr><td>70.4</td><td>4.0</td></tr><tr><td>86.7</td><td>10.2</td></tr><tr><td>77.9</td><td>6.6</td></tr><tr><td>82.0</td><td>8.0</td></tr><tr><td>79.6</td><td>6.3</td></tr><tr><td>77.6</td><td>3.9</td></tr><tr><td>100.0</td><td>22.6</td></tr><tr><td>99.8</td><td>20.4</td></tr><tr><td>104.2</td><td>28.0</td></tr><tr><td>105.3</td><td>31.5</td></tr><tr><td>98.3</td><td>24.6</td></tr><tr><td>104.8</td><td>26.1</td></tr><tr><td>94.7</td><td>29.8</td></tr><tr><td>102.4</td><td>30.7</td></tr><tr><td>99.7</td><td>25.8</td></tr><tr><td>105.5</td><td>32.3</td></tr><tr><td>100.3</td><td>30.0</td></tr><tr><td>83.9</td><td>21.5</td></tr><tr><td>86.6</td><td>13.8</td></tr><tr><td>78.4</td><td>6.3</td></tr><tr><td>84.6</td><td>12.9</td></tr><tr><td>91.5</td><td>24.3</td></tr><tr><td>82.8</td><td>8.8</td></tr><tr><td>82.9</td><td>8.5</td></tr><tr><td>76.0</td><td>13.5</td></tr><tr><td>83.3</td><td>11.8</td></tr><tr><td>81.8</td><td>18.5</td></tr><tr><td>78.8</td><td>8.8</td></tr><tr><td>95.0</td><td>22.2</td></tr><tr><td>95.4</td><td>21.5</td></tr><tr><td>98.6</td><td>18.8</td></tr><tr><td>95.8</td><td>31.4</td></tr><tr><td>89.0</td><td>26.8</td></tr><tr><td>97.8</td><td>18.4</td></tr><tr><td>94.9</td><td>27.0</td></tr><tr><td>99.8</td><td>27.0</td></tr><tr><td>89.7</td><td>26.6</td></tr><tr><td>88.1</td><td>14.9</td></tr><tr><td>90.9</td><td>23.1</td></tr><tr><td>86.0</td><td>8.3</td></tr><tr><td>86.5</td><td>14.1</td></tr><tr><td>95.6</td><td>20.5</td></tr><tr><td>93.2</td><td>18.2</td></tr><tr><td>83.1</td><td>8.5</td></tr><tr><td>97.5</td><td>24.9</td></tr><tr><td>88.8</td><td>9.0</td></tr><tr><td>99.2</td><td>17.4</td></tr><tr><td>91.6</td><td>9.6</td></tr><tr><td>86.7</td><td>11.3</td></tr><tr><td>88.2</td><td>17.8</td></tr><tr><td>94.0</td><td>22.2</td></tr><tr><td>95.0</td><td>21.2</td></tr><tr><td>92.0</td><td>20.4</td></tr><tr><td>89.2</td><td>20.1</td></tr><tr><td>95.5</td><td>22.3</td></tr><tr><td>98.6</td><td>25.4</td></tr><tr><td>87.3</td><td>18.0</td></tr><tr><td>102.8</td><td>19.3</td></tr><tr><td>101.6</td><td>18.3</td></tr><tr><td>88.7</td><td>17.3</td></tr><tr><td>92.3</td><td>21.4</td></tr><tr><td>90.6</td><td>19.7</td></tr><tr><td>105.0</td><td>28.0</td></tr><tr><td>95.0</td><td>22.1</td></tr><tr><td>89.6</td><td>21.3</td></tr><tr><td>92.4</td><td>26.7</td></tr><tr><td>86.6</td><td>16.7</td></tr><tr><td>90.0</td><td>20.1</td></tr><tr><td>90.0</td><td>13.9</td></tr><tr><td>92.4</td><td>25.8</td></tr><tr><td>87.5</td><td>18.1</td></tr><tr><td>99.2</td><td>27.9</td></tr><tr><td>98.1</td><td>25.3</td></tr><tr><td>83.3</td><td>14.7</td></tr><tr><td>86.1</td><td>16.0</td></tr><tr><td>84.1</td><td>13.8</td></tr><tr><td>89.9</td><td>17.5</td></tr><tr><td>92.1</td><td>27.2</td></tr><tr><td>78.0</td><td>17.4</td></tr><tr><td>93.5</td><td>20.8</td></tr><tr><td>87.0</td><td>14.9</td></tr><tr><td>90.1</td><td>18.1</td></tr><tr><td>90.3</td><td>22.7</td></tr><tr><td>99.8</td><td>23.6</td></tr><tr><td>89.4</td><td>26.1</td></tr><tr><td>87.2</td><td>24.4</td></tr><tr><td>101.1</td><td>27.1</td></tr><tr><td>86.1</td><td>21.8</td></tr><tr><td>98.6</td><td>29.4</td></tr><tr><td>88.5</td><td>22.4</td></tr><tr><td>106.6</td><td>20.4</td></tr><tr><td>93.1</td><td>24.9</td></tr><tr><td>93.0</td><td>18.3</td></tr><tr><td>91.0</td><td>23.3</td></tr><tr><td>77.1</td><td>9.4</td></tr><tr><td>85.3</td><td>10.3</td></tr><tr><td>81.9</td><td>14.2</td></tr><tr><td>99.1</td><td>19.2</td></tr><tr><td>100.5</td><td>29.6</td></tr><tr><td>76.5</td><td>5.3</td></tr><tr><td>106.8</td><td>25.2</td></tr><tr><td>77.6</td><td>9.4</td></tr><tr><td>102.9</td><td>19.6</td></tr><tr><td>72.8</td><td>10.1</td></tr><tr><td>88.2</td><td>16.5</td></tr><tr><td>100.1</td><td>21.0</td></tr><tr><td>83.5</td><td>17.3</td></tr><tr><td>105.0</td><td>31.2</td></tr><tr><td>90.8</td><td>10.0</td></tr><tr><td>76.6</td><td>12.5</td></tr><tr><td>92.4</td><td>22.5</td></tr><tr><td>81.2</td><td>9.4</td></tr><tr><td>95.6</td><td>14.6</td></tr><tr><td>92.1</td><td>13.0</td></tr><tr><td>83.4</td><td>15.1</td></tr><tr><td>106.0</td><td>27.3</td></tr><tr><td>95.1</td><td>19.2</td></tr><tr><td>90.4</td><td>21.8</td></tr><tr><td>100.4</td><td>20.3</td></tr><tr><td>115.9</td><td>34.3</td></tr><tr><td>90.8</td><td>16.5</td></tr><tr><td>81.9</td><td>3.0</td></tr><tr><td>75.0</td><td>0.7</td></tr><tr><td>90.3</td><td>20.5</td></tr><tr><td>90.3</td><td>16.9</td></tr><tr><td>108.8</td><td>25.3</td></tr><tr><td>79.4</td><td>9.9</td></tr><tr><td>83.2</td><td>13.1</td></tr><tr><td>110.3</td><td>29.9</td></tr><tr><td>92.7</td><td>22.5</td></tr><tr><td>104.5</td><td>16.9</td></tr><tr><td>104.6</td><td>26.6</td></tr><tr><td>69.4</td><td>0.0</td></tr><tr><td>83.6</td><td>11.5</td></tr><tr><td>86.8</td><td>12.1</td></tr><tr><td>90.4</td><td>17.5</td></tr><tr><td>83.7</td><td>8.6</td></tr><tr><td>109.3</td><td>23.6</td></tr><tr><td>98.9</td><td>20.4</td></tr><tr><td>98.0</td><td>20.5</td></tr><tr><td>101.2</td><td>24.4</td></tr><tr><td>80.6</td><td>11.4</td></tr><tr><td>113.7</td><td>38.1</td></tr><tr><td>94.1</td><td>15.9</td></tr><tr><td>105.7</td><td>24.7</td></tr><tr><td>85.6</td><td>22.8</td></tr><tr><td>96.6</td><td>25.5</td></tr><tr><td>86.0</td><td>22.0</td></tr><tr><td>89.7</td><td>17.7</td></tr><tr><td>78.0</td><td>6.6</td></tr><tr><td>89.7</td><td>23.6</td></tr><tr><td>89.2</td><td>12.2</td></tr><tr><td>85.7</td><td>22.1</td></tr><tr><td>103.1</td><td>28.7</td></tr><tr><td>89.1</td><td>6.0</td></tr><tr><td>113.9</td><td>34.8</td></tr><tr><td>96.3</td><td>16.6</td></tr><tr><td>93.9</td><td>32.9</td></tr><tr><td>101.3</td><td>32.8</td></tr><tr><td>83.9</td><td>9.6</td></tr><tr><td>84.4</td><td>10.8</td></tr><tr><td>79.4</td><td>7.1</td></tr><tr><td>104.0</td><td>27.2</td></tr><tr><td>89.7</td><td>19.5</td></tr><tr><td>97.6</td><td>18.7</td></tr><tr><td>87.6</td><td>19.5</td></tr><tr><td>122.1</td><td>47.5</td></tr><tr><td>81.1</td><td>13.6</td></tr><tr><td>81.5</td><td>7.5</td></tr><tr><td>100.0</td><td>24.5</td></tr><tr><td>88.7</td><td>15.0</td></tr><tr><td>91.8</td><td>12.4</td></tr><tr><td>110.4</td><td>26.0</td></tr><tr><td>87.6</td><td>11.5</td></tr><tr><td>82.8</td><td>5.2</td></tr><tr><td>95.3</td><td>10.9</td></tr><tr><td>78.2</td><td>12.5</td></tr><tr><td>91.1</td><td>14.8</td></tr><tr><td>96.7</td><td>25.2</td></tr><tr><td>89.4</td><td>14.9</td></tr><tr><td>93.0</td><td>17.0</td></tr><tr><td>86.4</td><td>10.6</td></tr><tr><td>96.7</td><td>16.1</td></tr><tr><td>88.1</td><td>15.4</td></tr><tr><td>94.9</td><td>26.7</td></tr><tr><td>93.3</td><td>25.8</td></tr><tr><td>95.6</td><td>18.6</td></tr><tr><td>98.2</td><td>24.8</td></tr><tr><td>113.8</td><td>27.3</td></tr><tr><td>82.8</td><td>12.4</td></tr><tr><td>100.5</td><td>29.9</td></tr><tr><td>79.7</td><td>17.0</td></tr><tr><td>118.0</td><td>35.0</td></tr><tr><td>109.0</td><td>30.4</td></tr><tr><td>113.4</td><td>32.6</td></tr><tr><td>106.1</td><td>29.0</td></tr><tr><td>84.3</td><td>15.2</td></tr><tr><td>107.6</td><td>30.2</td></tr><tr><td>83.6</td><td>11.0</td></tr><tr><td>105.0</td><td>33.6</td></tr><tr><td>111.5</td><td>29.3</td></tr><tr><td>101.3</td><td>26.0</td></tr><tr><td>108.5</td><td>31.9</td></tr></tbody></table></div>"
      ]
     },
     "metadata": {
      "application/vnd.databricks.v1+output": {
       "addedWidgets": {},
       "aggData": [],
       "aggError": "",
       "aggOverflow": false,
       "aggSchema": [],
       "aggSeriesLimitReached": false,
       "aggType": "",
       "arguments": {},
       "columnCustomDisplayInfos": {},
       "data": [
        [
         85.2,
         12.3
        ],
        [
         83.0,
         6.1
        ],
        [
         87.9,
         25.3
        ],
        [
         86.4,
         10.4
        ],
        [
         100.0,
         28.7
        ],
        [
         94.4,
         20.9
        ],
        [
         90.7,
         19.2
        ],
        [
         88.5,
         12.4
        ],
        [
         82.5,
         4.1
        ],
        [
         88.6,
         11.7
        ],
        [
         83.6,
         7.1
        ],
        [
         90.9,
         7.8
        ],
        [
         91.6,
         20.8
        ],
        [
         101.8,
         21.2
        ],
        [
         96.4,
         22.1
        ],
        [
         92.8,
         20.9
        ],
        [
         96.4,
         29.0
        ],
        [
         97.5,
         22.9
        ],
        [
         89.6,
         16.0
        ],
        [
         100.5,
         16.5
        ],
        [
         95.9,
         19.1
        ],
        [
         98.8,
         15.2
        ],
        [
         76.4,
         15.6
        ],
        [
         80.0,
         17.7
        ],
        [
         76.3,
         14.0
        ],
        [
         79.7,
         3.7
        ],
        [
         74.6,
         7.9
        ],
        [
         88.7,
         22.9
        ],
        [
         73.9,
         3.7
        ],
        [
         83.5,
         8.8
        ],
        [
         88.7,
         11.9
        ],
        [
         84.5,
         5.7
        ],
        [
         79.1,
         11.8
        ],
        [
         100.5,
         21.3
        ],
        [
         115.6,
         32.3
        ],
        [
         113.1,
         40.1
        ],
        [
         100.9,
         24.2
        ],
        [
         98.8,
         28.4
        ],
        [
         148.1,
         35.2
        ],
        [
         108.1,
         32.6
        ],
        [
         126.2,
         34.5
        ],
        [
         104.3,
         32.9
        ],
        [
         111.2,
         31.6
        ],
        [
         104.3,
         32.0
        ],
        [
         76.0,
         7.7
        ],
        [
         81.5,
         13.9
        ],
        [
         73.7,
         10.8
        ],
        [
         79.5,
         5.6
        ],
        [
         83.4,
         13.6
        ],
        [
         70.4,
         4.0
        ],
        [
         86.7,
         10.2
        ],
        [
         77.9,
         6.6
        ],
        [
         82.0,
         8.0
        ],
        [
         79.6,
         6.3
        ],
        [
         77.6,
         3.9
        ],
        [
         100.0,
         22.6
        ],
        [
         99.8,
         20.4
        ],
        [
         104.2,
         28.0
        ],
        [
         105.3,
         31.5
        ],
        [
         98.3,
         24.6
        ],
        [
         104.8,
         26.1
        ],
        [
         94.7,
         29.8
        ],
        [
         102.4,
         30.7
        ],
        [
         99.7,
         25.8
        ],
        [
         105.5,
         32.3
        ],
        [
         100.3,
         30.0
        ],
        [
         83.9,
         21.5
        ],
        [
         86.6,
         13.8
        ],
        [
         78.4,
         6.3
        ],
        [
         84.6,
         12.9
        ],
        [
         91.5,
         24.3
        ],
        [
         82.8,
         8.8
        ],
        [
         82.9,
         8.5
        ],
        [
         76.0,
         13.5
        ],
        [
         83.3,
         11.8
        ],
        [
         81.8,
         18.5
        ],
        [
         78.8,
         8.8
        ],
        [
         95.0,
         22.2
        ],
        [
         95.4,
         21.5
        ],
        [
         98.6,
         18.8
        ],
        [
         95.8,
         31.4
        ],
        [
         89.0,
         26.8
        ],
        [
         97.8,
         18.4
        ],
        [
         94.9,
         27.0
        ],
        [
         99.8,
         27.0
        ],
        [
         89.7,
         26.6
        ],
        [
         88.1,
         14.9
        ],
        [
         90.9,
         23.1
        ],
        [
         86.0,
         8.3
        ],
        [
         86.5,
         14.1
        ],
        [
         95.6,
         20.5
        ],
        [
         93.2,
         18.2
        ],
        [
         83.1,
         8.5
        ],
        [
         97.5,
         24.9
        ],
        [
         88.8,
         9.0
        ],
        [
         99.2,
         17.4
        ],
        [
         91.6,
         9.6
        ],
        [
         86.7,
         11.3
        ],
        [
         88.2,
         17.8
        ],
        [
         94.0,
         22.2
        ],
        [
         95.0,
         21.2
        ],
        [
         92.0,
         20.4
        ],
        [
         89.2,
         20.1
        ],
        [
         95.5,
         22.3
        ],
        [
         98.6,
         25.4
        ],
        [
         87.3,
         18.0
        ],
        [
         102.8,
         19.3
        ],
        [
         101.6,
         18.3
        ],
        [
         88.7,
         17.3
        ],
        [
         92.3,
         21.4
        ],
        [
         90.6,
         19.7
        ],
        [
         105.0,
         28.0
        ],
        [
         95.0,
         22.1
        ],
        [
         89.6,
         21.3
        ],
        [
         92.4,
         26.7
        ],
        [
         86.6,
         16.7
        ],
        [
         90.0,
         20.1
        ],
        [
         90.0,
         13.9
        ],
        [
         92.4,
         25.8
        ],
        [
         87.5,
         18.1
        ],
        [
         99.2,
         27.9
        ],
        [
         98.1,
         25.3
        ],
        [
         83.3,
         14.7
        ],
        [
         86.1,
         16.0
        ],
        [
         84.1,
         13.8
        ],
        [
         89.9,
         17.5
        ],
        [
         92.1,
         27.2
        ],
        [
         78.0,
         17.4
        ],
        [
         93.5,
         20.8
        ],
        [
         87.0,
         14.9
        ],
        [
         90.1,
         18.1
        ],
        [
         90.3,
         22.7
        ],
        [
         99.8,
         23.6
        ],
        [
         89.4,
         26.1
        ],
        [
         87.2,
         24.4
        ],
        [
         101.1,
         27.1
        ],
        [
         86.1,
         21.8
        ],
        [
         98.6,
         29.4
        ],
        [
         88.5,
         22.4
        ],
        [
         106.6,
         20.4
        ],
        [
         93.1,
         24.9
        ],
        [
         93.0,
         18.3
        ],
        [
         91.0,
         23.3
        ],
        [
         77.1,
         9.4
        ],
        [
         85.3,
         10.3
        ],
        [
         81.9,
         14.2
        ],
        [
         99.1,
         19.2
        ],
        [
         100.5,
         29.6
        ],
        [
         76.5,
         5.3
        ],
        [
         106.8,
         25.2
        ],
        [
         77.6,
         9.4
        ],
        [
         102.9,
         19.6
        ],
        [
         72.8,
         10.1
        ],
        [
         88.2,
         16.5
        ],
        [
         100.1,
         21.0
        ],
        [
         83.5,
         17.3
        ],
        [
         105.0,
         31.2
        ],
        [
         90.8,
         10.0
        ],
        [
         76.6,
         12.5
        ],
        [
         92.4,
         22.5
        ],
        [
         81.2,
         9.4
        ],
        [
         95.6,
         14.6
        ],
        [
         92.1,
         13.0
        ],
        [
         83.4,
         15.1
        ],
        [
         106.0,
         27.3
        ],
        [
         95.1,
         19.2
        ],
        [
         90.4,
         21.8
        ],
        [
         100.4,
         20.3
        ],
        [
         115.9,
         34.3
        ],
        [
         90.8,
         16.5
        ],
        [
         81.9,
         3.0
        ],
        [
         75.0,
         0.7
        ],
        [
         90.3,
         20.5
        ],
        [
         90.3,
         16.9
        ],
        [
         108.8,
         25.3
        ],
        [
         79.4,
         9.9
        ],
        [
         83.2,
         13.1
        ],
        [
         110.3,
         29.9
        ],
        [
         92.7,
         22.5
        ],
        [
         104.5,
         16.9
        ],
        [
         104.6,
         26.6
        ],
        [
         69.4,
         0.0
        ],
        [
         83.6,
         11.5
        ],
        [
         86.8,
         12.1
        ],
        [
         90.4,
         17.5
        ],
        [
         83.7,
         8.6
        ],
        [
         109.3,
         23.6
        ],
        [
         98.9,
         20.4
        ],
        [
         98.0,
         20.5
        ],
        [
         101.2,
         24.4
        ],
        [
         80.6,
         11.4
        ],
        [
         113.7,
         38.1
        ],
        [
         94.1,
         15.9
        ],
        [
         105.7,
         24.7
        ],
        [
         85.6,
         22.8
        ],
        [
         96.6,
         25.5
        ],
        [
         86.0,
         22.0
        ],
        [
         89.7,
         17.7
        ],
        [
         78.0,
         6.6
        ],
        [
         89.7,
         23.6
        ],
        [
         89.2,
         12.2
        ],
        [
         85.7,
         22.1
        ],
        [
         103.1,
         28.7
        ],
        [
         89.1,
         6.0
        ],
        [
         113.9,
         34.8
        ],
        [
         96.3,
         16.6
        ],
        [
         93.9,
         32.9
        ],
        [
         101.3,
         32.8
        ],
        [
         83.9,
         9.6
        ],
        [
         84.4,
         10.8
        ],
        [
         79.4,
         7.1
        ],
        [
         104.0,
         27.2
        ],
        [
         89.7,
         19.5
        ],
        [
         97.6,
         18.7
        ],
        [
         87.6,
         19.5
        ],
        [
         122.1,
         47.5
        ],
        [
         81.1,
         13.6
        ],
        [
         81.5,
         7.5
        ],
        [
         100.0,
         24.5
        ],
        [
         88.7,
         15.0
        ],
        [
         91.8,
         12.4
        ],
        [
         110.4,
         26.0
        ],
        [
         87.6,
         11.5
        ],
        [
         82.8,
         5.2
        ],
        [
         95.3,
         10.9
        ],
        [
         78.2,
         12.5
        ],
        [
         91.1,
         14.8
        ],
        [
         96.7,
         25.2
        ],
        [
         89.4,
         14.9
        ],
        [
         93.0,
         17.0
        ],
        [
         86.4,
         10.6
        ],
        [
         96.7,
         16.1
        ],
        [
         88.1,
         15.4
        ],
        [
         94.9,
         26.7
        ],
        [
         93.3,
         25.8
        ],
        [
         95.6,
         18.6
        ],
        [
         98.2,
         24.8
        ],
        [
         113.8,
         27.3
        ],
        [
         82.8,
         12.4
        ],
        [
         100.5,
         29.9
        ],
        [
         79.7,
         17.0
        ],
        [
         118.0,
         35.0
        ],
        [
         109.0,
         30.4
        ],
        [
         113.4,
         32.6
        ],
        [
         106.1,
         29.0
        ],
        [
         84.3,
         15.2
        ],
        [
         107.6,
         30.2
        ],
        [
         83.6,
         11.0
        ],
        [
         105.0,
         33.6
        ],
        [
         111.5,
         29.3
        ],
        [
         101.3,
         26.0
        ],
        [
         108.5,
         31.9
        ]
       ],
       "datasetInfos": [],
       "dbfsResultPath": null,
       "isJsonSchema": true,
       "metadata": {},
       "overflow": false,
       "plotOptions": {
        "customPlotOptions": {},
        "displayType": "table",
        "pivotAggregation": null,
        "pivotColumns": null,
        "xColumns": null,
        "yColumns": null
       },
       "removedWidgets": [],
       "schema": [
        {
         "metadata": "{}",
         "name": "Abdomen",
         "type": "\"double\""
        },
        {
         "metadata": "{}",
         "name": "BodyFat",
         "type": "\"double\""
        }
       ],
       "type": "table"
      }
     },
     "output_type": "display_data"
    },
    {
     "output_type": "display_data",
     "data": {
      "text/plain": [
       "Databricks visualization. Run in Databricks to view."
      ]
     },
     "metadata": {
      "application/vnd.databricks.v1.subcommand+json": {
       "baseErrorDetails": null,
       "bindings": {},
       "collapsed": false,
       "command": "%sql WITH q AS (SELECT Abdomen, BodyFat FROM BodyFat) SELECT `Abdomen`,`BodyFat` FROM q",
       "commandTitle": "Visualization 1",
       "commandType": "auto",
       "commandVersion": 0,
       "commentThread": [],
       "commentsVisible": false,
       "contentSha256Hex": null,
       "customPlotOptions": {
        "redashChart": [
         {
          "key": "type",
          "value": "CHART"
         },
         {
          "key": "options",
          "value": {
           "alignYAxesAtZero": true,
           "coefficient": 1,
           "columnConfigurationMap": {
            "x": {
             "column": "Abdomen",
             "id": "column_dcde195e32"
            },
            "y": [
             {
              "column": "BodyFat",
              "id": "column_dcde195e33"
             }
            ]
           },
           "dateTimeFormat": "DD/MM/YYYY HH:mm",
           "direction": {
            "type": "counterclockwise"
           },
           "error_y": {
            "type": "data",
            "visible": true
           },
           "globalSeriesType": "scatter",
           "legend": {
            "traceorder": "normal"
           },
           "missingValuesAsZero": true,
           "numberFormat": "0,0.[00000]",
           "percentFormat": "0[.]00%",
           "series": {
            "error_y": {
             "type": "data",
             "visible": true
            },
            "stacking": null
           },
           "seriesOptions": {
            "column_dcde195e33": {
             "name": "BodyFat",
             "yAxis": 0
            }
           },
           "showDataLabels": false,
           "sizemode": "diameter",
           "sortX": true,
           "sortY": true,
           "swappedAxes": false,
           "textFormat": "",
           "useAggregationsUi": true,
           "valuesOptions": {},
           "version": 2,
           "xAxis": {
            "labels": {
             "enabled": true
            },
            "type": "-"
           },
           "yAxis": [
            {
             "type": "-"
            },
            {
             "opposite": true,
             "type": "-"
            }
           ]
          }
         }
        ]
       },
       "datasetPreviewNameToCmdIdMap": {},
       "diffDeletes": [],
       "diffInserts": [],
       "displayType": "redashChart",
       "error": null,
       "errorDetails": null,
       "errorSummary": null,
       "errorTraceType": null,
       "finishTime": 0,
       "globalVars": {},
       "guid": "",
       "height": "auto",
       "hideCommandCode": false,
       "hideCommandResult": false,
       "iPythonMetadata": null,
       "inputWidgets": {},
       "isLockedInExamMode": false,
       "latestUser": "a user",
       "latestUserId": null,
       "listResultMetadata": null,
       "metadata": {},
       "nuid": "34d773f8-0ed1-4666-a2be-8bb47ef197f9",
       "origId": 0,
       "parentHierarchy": [],
       "pivotAggregation": null,
       "pivotColumns": null,
       "position": 30.75,
       "resultDbfsErrorMessage": null,
       "resultDbfsStatus": "INLINED_IN_TREE",
       "results": null,
       "showCommandTitle": false,
       "startTime": 0,
       "state": "input",
       "streamStates": {},
       "subcommandOptions": {
        "queryPlan": {
         "selects": [
          {
           "column": "Abdomen",
           "type": "column"
          },
          {
           "column": "BodyFat",
           "type": "column"
          }
         ]
        }
       },
       "submitTime": 0,
       "subtype": "tableResultSubCmd.visualization",
       "tableResultIndex": 0,
       "useConsistentColors": false,
       "version": "CommandV1",
       "width": "auto",
       "workflows": [],
       "xColumns": null,
       "yColumns": null
      }
     },
     "output_type": "display_data"
    }
   ],
   "source": [
    "%sql\n",
    "\n",
    "SELECT Abdomen, BodyFat FROM BodyFat;"
   ]
  },
  {
   "cell_type": "code",
   "execution_count": 0,
   "metadata": {
    "application/vnd.databricks.v1+cell": {
     "cellMetadata": {
      "byteLimit": 2048000,
      "implicitDf": true,
      "rowLimit": 10000
     },
     "inputWidgets": {},
     "nuid": "744899ed-b93b-43be-82e9-184f488bad21",
     "showTitle": false,
     "title": ""
    }
   },
   "outputs": [
    {
     "output_type": "display_data",
     "data": {
      "text/html": [
       "<style scoped>\n",
       "  .table-result-container {\n",
       "    max-height: 300px;\n",
       "    overflow: auto;\n",
       "  }\n",
       "  table, th, td {\n",
       "    border: 1px solid black;\n",
       "    border-collapse: collapse;\n",
       "  }\n",
       "  th, td {\n",
       "    padding: 5px;\n",
       "  }\n",
       "  th {\n",
       "    text-align: left;\n",
       "  }\n",
       "</style><div class='table-result-container'><table class='table-result'><thead style='background-color: white'><tr><th>Hip</th><th>BodyFat</th></tr></thead><tbody><tr><td>94.5</td><td>12.3</td></tr><tr><td>98.7</td><td>6.1</td></tr><tr><td>99.2</td><td>25.3</td></tr><tr><td>101.2</td><td>10.4</td></tr><tr><td>101.9</td><td>28.7</td></tr><tr><td>107.8</td><td>20.9</td></tr><tr><td>100.3</td><td>19.2</td></tr><tr><td>97.1</td><td>12.4</td></tr><tr><td>99.9</td><td>4.1</td></tr><tr><td>104.1</td><td>11.7</td></tr><tr><td>98.2</td><td>7.1</td></tr><tr><td>107.7</td><td>7.8</td></tr><tr><td>103.9</td><td>20.8</td></tr><tr><td>108.6</td><td>21.2</td></tr><tr><td>100.1</td><td>22.1</td></tr><tr><td>99.2</td><td>20.9</td></tr><tr><td>105.2</td><td>29.0</td></tr><tr><td>107.0</td><td>22.9</td></tr><tr><td>102.4</td><td>16.0</td></tr><tr><td>109.0</td><td>16.5</td></tr><tr><td>104.9</td><td>19.1</td></tr><tr><td>104.8</td><td>15.2</td></tr><tr><td>94.6</td><td>15.6</td></tr><tr><td>93.4</td><td>17.7</td></tr><tr><td>95.8</td><td>14.0</td></tr><tr><td>96.5</td><td>3.7</td></tr><tr><td>85.3</td><td>7.9</td></tr><tr><td>94.7</td><td>22.9</td></tr><tr><td>88.5</td><td>3.7</td></tr><tr><td>98.7</td><td>8.8</td></tr><tr><td>99.8</td><td>11.9</td></tr><tr><td>100.6</td><td>5.7</td></tr><tr><td>94.5</td><td>11.8</td></tr><tr><td>108.3</td><td>21.3</td></tr><tr><td>116.1</td><td>32.3</td></tr><tr><td>113.8</td><td>40.1</td></tr><tr><td>106.2</td><td>24.2</td></tr><tr><td>104.8</td><td>28.4</td></tr><tr><td>147.7</td><td>35.2</td></tr><tr><td>102.5</td><td>32.6</td></tr><tr><td>125.6</td><td>34.5</td></tr><tr><td>115.5</td><td>32.9</td></tr><tr><td>114.1</td><td>31.6</td></tr><tr><td>106.0</td><td>32.0</td></tr><tr><td>88.2</td><td>7.7</td></tr><tr><td>97.2</td><td>13.9</td></tr><tr><td>88.5</td><td>10.8</td></tr><tr><td>92.7</td><td>5.6</td></tr><tr><td>90.4</td><td>13.6</td></tr><tr><td>87.2</td><td>4.0</td></tr><tr><td>98.3</td><td>10.2</td></tr><tr><td>91.0</td><td>6.6</td></tr><tr><td>89.1</td><td>8.0</td></tr><tr><td>91.6</td><td>6.3</td></tr><tr><td>88.6</td><td>3.9</td></tr><tr><td>99.6</td><td>22.6</td></tr><tr><td>102.5</td><td>20.4</td></tr><tr><td>105.8</td><td>28.0</td></tr><tr><td>97.0</td><td>31.5</td></tr><tr><td>99.6</td><td>24.6</td></tr><tr><td>103.1</td><td>26.1</td></tr><tr><td>100.8</td><td>29.8</td></tr><tr><td>99.4</td><td>30.7</td></tr><tr><td>99.7</td><td>25.8</td></tr><tr><td>108.3</td><td>32.3</td></tr><tr><td>104.2</td><td>30.0</td></tr><tr><td>93.9</td><td>21.5</td></tr><tr><td>91.8</td><td>13.8</td></tr><tr><td>96.1</td><td>6.3</td></tr><tr><td>94.3</td><td>12.9</td></tr><tr><td>98.5</td><td>24.3</td></tr><tr><td>95.5</td><td>8.8</td></tr><tr><td>96.3</td><td>8.5</td></tr><tr><td>88.6</td><td>13.5</td></tr><tr><td>93.0</td><td>11.8</td></tr><tr><td>94.8</td><td>18.5</td></tr><tr><td>94.3</td><td>8.8</td></tr><tr><td>98.3</td><td>22.2</td></tr><tr><td>99.3</td><td>21.5</td></tr><tr><td>100.2</td><td>18.8</td></tr><tr><td>97.1</td><td>31.4</td></tr><tr><td>96.9</td><td>26.8</td></tr><tr><td>99.6</td><td>18.4</td></tr><tr><td>95.0</td><td>27.0</td></tr><tr><td>96.2</td><td>27.0</td></tr><tr><td>96.2</td><td>26.6</td></tr><tr><td>96.9</td><td>14.9</td></tr><tr><td>93.8</td><td>23.1</td></tr><tr><td>99.3</td><td>8.3</td></tr><tr><td>98.3</td><td>14.1</td></tr><tr><td>102.2</td><td>20.5</td></tr><tr><td>100.6</td><td>18.2</td></tr><tr><td>95.4</td><td>8.5</td></tr><tr><td>100.6</td><td>24.9</td></tr><tr><td>101.4</td><td>9.0</td></tr><tr><td>107.5</td><td>17.4</td></tr><tr><td>102.4</td><td>9.6</td></tr><tr><td>96.2</td><td>11.3</td></tr><tr><td>92.8</td><td>17.8</td></tr><tr><td>103.7</td><td>22.2</td></tr><tr><td>101.7</td><td>21.2</td></tr><tr><td>98.3</td><td>20.4</td></tr><tr><td>98.3</td><td>20.1</td></tr><tr><td>101.6</td><td>22.3</td></tr><tr><td>99.5</td><td>25.4</td></tr><tr><td>96.6</td><td>18.0</td></tr><tr><td>103.6</td><td>19.3</td></tr><tr><td>100.7</td><td>18.3</td></tr><tr><td>102.1</td><td>17.3</td></tr><tr><td>100.6</td><td>21.4</td></tr><tr><td>99.3</td><td>19.7</td></tr><tr><td>103.0</td><td>28.0</td></tr><tr><td>98.6</td><td>22.1</td></tr><tr><td>99.8</td><td>21.3</td></tr><tr><td>97.5</td><td>26.7</td></tr><tr><td>92.6</td><td>16.7</td></tr><tr><td>99.7</td><td>20.1</td></tr><tr><td>96.4</td><td>13.9</td></tr><tr><td>104.3</td><td>25.8</td></tr><tr><td>101.0</td><td>18.1</td></tr><tr><td>104.1</td><td>27.9</td></tr><tr><td>101.4</td><td>25.3</td></tr><tr><td>97.5</td><td>14.7</td></tr><tr><td>95.2</td><td>16.0</td></tr><tr><td>94.0</td><td>13.8</td></tr><tr><td>100.0</td><td>17.5</td></tr><tr><td>98.5</td><td>27.2</td></tr><tr><td>93.2</td><td>17.4</td></tr><tr><td>99.5</td><td>20.8</td></tr><tr><td>97.8</td><td>14.9</td></tr><tr><td>95.8</td><td>18.1</td></tr><tr><td>99.1</td><td>22.7</td></tr><tr><td>103.2</td><td>23.6</td></tr><tr><td>92.3</td><td>26.1</td></tr><tr><td>98.4</td><td>24.4</td></tr><tr><td>102.1</td><td>27.1</td></tr><tr><td>95.6</td><td>21.8</td></tr><tr><td>100.6</td><td>29.4</td></tr><tr><td>98.3</td><td>22.4</td></tr><tr><td>107.7</td><td>20.4</td></tr><tr><td>101.6</td><td>24.9</td></tr><tr><td>99.3</td><td>18.3</td></tr><tr><td>98.9</td><td>23.3</td></tr><tr><td>93.9</td><td>9.4</td></tr><tr><td>102.5</td><td>10.3</td></tr><tr><td>95.3</td><td>14.2</td></tr><tr><td>110.1</td><td>19.2</td></tr><tr><td>106.2</td><td>29.6</td></tr><tr><td>92.1</td><td>5.3</td></tr><tr><td>113.9</td><td>25.2</td></tr><tr><td>93.5</td><td>9.4</td></tr><tr><td>114.4</td><td>19.6</td></tr><tr><td>91.1</td><td>10.1</td></tr><tr><td>95.2</td><td>16.5</td></tr><tr><td>105.0</td><td>21.0</td></tr><tr><td>98.3</td><td>17.3</td></tr><tr><td>106.4</td><td>31.2</td></tr><tr><td>102.5</td><td>10.0</td></tr><tr><td>89.8</td><td>12.5</td></tr><tr><td>99.3</td><td>22.5</td></tr><tr><td>91.5</td><td>9.4</td></tr><tr><td>105.1</td><td>14.6</td></tr><tr><td>103.5</td><td>13.0</td></tr><tr><td>89.6</td><td>15.1</td></tr><tr><td>108.8</td><td>27.3</td></tr><tr><td>104.5</td><td>19.2</td></tr><tr><td>95.6</td><td>21.8</td></tr><tr><td>106.8</td><td>20.3</td></tr><tr><td>111.9</td><td>34.3</td></tr><tr><td>98.1</td><td>16.5</td></tr><tr><td>92.8</td><td>3.0</td></tr><tr><td>89.2</td><td>0.7</td></tr><tr><td>98.7</td><td>20.5</td></tr><tr><td>99.9</td><td>16.9</td></tr><tr><td>114.4</td><td>25.3</td></tr><tr><td>89.2</td><td>9.9</td></tr><tr><td>96.4</td><td>13.1</td></tr><tr><td>113.9</td><td>29.9</td></tr><tr><td>101.9</td><td>22.5</td></tr><tr><td>109.9</td><td>16.9</td></tr><tr><td>109.8</td><td>26.6</td></tr><tr><td>85.0</td><td>0.0</td></tr><tr><td>91.6</td><td>11.5</td></tr><tr><td>96.1</td><td>12.1</td></tr><tr><td>95.5</td><td>17.5</td></tr><tr><td>98.1</td><td>8.6</td></tr><tr><td>108.8</td><td>23.6</td></tr><tr><td>104.1</td><td>20.4</td></tr><tr><td>101.8</td><td>20.5</td></tr><tr><td>103.1</td><td>24.4</td></tr><tr><td>92.3</td><td>11.4</td></tr><tr><td>112.4</td><td>38.1</td></tr><tr><td>102.7</td><td>15.9</td></tr><tr><td>111.8</td><td>24.7</td></tr><tr><td>96.5</td><td>22.8</td></tr><tr><td>100.6</td><td>25.5</td></tr><tr><td>96.2</td><td>22.0</td></tr><tr><td>101.0</td><td>17.7</td></tr><tr><td>99.0</td><td>6.6</td></tr><tr><td>94.2</td><td>23.6</td></tr><tr><td>99.2</td><td>12.2</td></tr><tr><td>96.9</td><td>22.1</td></tr><tr><td>105.5</td><td>28.7</td></tr><tr><td>102.6</td><td>6.0</td></tr><tr><td>107.1</td><td>34.8</td></tr><tr><td>102.0</td><td>16.6</td></tr><tr><td>100.1</td><td>32.9</td></tr><tr><td>101.7</td><td>32.8</td></tr><tr><td>91.8</td><td>9.6</td></tr><tr><td>94.0</td><td>10.8</td></tr><tr><td>89.0</td><td>7.1</td></tr><tr><td>109.0</td><td>27.2</td></tr><tr><td>99.1</td><td>19.5</td></tr><tr><td>104.2</td><td>18.7</td></tr><tr><td>96.1</td><td>19.5</td></tr><tr><td>112.8</td><td>47.5</td></tr><tr><td>96.3</td><td>13.6</td></tr><tr><td>94.4</td><td>7.5</td></tr><tr><td>105.0</td><td>24.5</td></tr><tr><td>94.5</td><td>15.0</td></tr><tr><td>96.2</td><td>12.4</td></tr><tr><td>105.5</td><td>26.0</td></tr><tr><td>95.6</td><td>11.5</td></tr><tr><td>91.9</td><td>5.2</td></tr><tr><td>98.2</td><td>10.9</td></tr><tr><td>87.5</td><td>12.5</td></tr><tr><td>97.1</td><td>14.8</td></tr><tr><td>106.6</td><td>25.2</td></tr><tr><td>98.4</td><td>14.9</td></tr><tr><td>97.0</td><td>17.0</td></tr><tr><td>90.1</td><td>10.6</td></tr><tr><td>100.7</td><td>16.1</td></tr><tr><td>97.8</td><td>15.4</td></tr><tr><td>100.2</td><td>26.7</td></tr><tr><td>94.0</td><td>25.8</td></tr><tr><td>93.7</td><td>18.6</td></tr><tr><td>101.1</td><td>24.8</td></tr><tr><td>111.8</td><td>27.3</td></tr><tr><td>94.5</td><td>12.4</td></tr><tr><td>100.5</td><td>29.9</td></tr><tr><td>87.6</td><td>17.0</td></tr><tr><td>114.3</td><td>35.0</td></tr><tr><td>109.1</td><td>30.4</td></tr><tr><td>109.8</td><td>32.6</td></tr><tr><td>101.6</td><td>29.0</td></tr><tr><td>94.4</td><td>15.2</td></tr><tr><td>110.0</td><td>30.2</td></tr><tr><td>88.8</td><td>11.0</td></tr><tr><td>104.5</td><td>33.6</td></tr><tr><td>101.7</td><td>29.3</td></tr><tr><td>97.8</td><td>26.0</td></tr><tr><td>107.1</td><td>31.9</td></tr></tbody></table></div>"
      ]
     },
     "metadata": {
      "application/vnd.databricks.v1+output": {
       "addedWidgets": {},
       "aggData": [],
       "aggError": "",
       "aggOverflow": false,
       "aggSchema": [],
       "aggSeriesLimitReached": false,
       "aggType": "",
       "arguments": {},
       "columnCustomDisplayInfos": {},
       "data": [
        [
         94.5,
         12.3
        ],
        [
         98.7,
         6.1
        ],
        [
         99.2,
         25.3
        ],
        [
         101.2,
         10.4
        ],
        [
         101.9,
         28.7
        ],
        [
         107.8,
         20.9
        ],
        [
         100.3,
         19.2
        ],
        [
         97.1,
         12.4
        ],
        [
         99.9,
         4.1
        ],
        [
         104.1,
         11.7
        ],
        [
         98.2,
         7.1
        ],
        [
         107.7,
         7.8
        ],
        [
         103.9,
         20.8
        ],
        [
         108.6,
         21.2
        ],
        [
         100.1,
         22.1
        ],
        [
         99.2,
         20.9
        ],
        [
         105.2,
         29.0
        ],
        [
         107.0,
         22.9
        ],
        [
         102.4,
         16.0
        ],
        [
         109.0,
         16.5
        ],
        [
         104.9,
         19.1
        ],
        [
         104.8,
         15.2
        ],
        [
         94.6,
         15.6
        ],
        [
         93.4,
         17.7
        ],
        [
         95.8,
         14.0
        ],
        [
         96.5,
         3.7
        ],
        [
         85.3,
         7.9
        ],
        [
         94.7,
         22.9
        ],
        [
         88.5,
         3.7
        ],
        [
         98.7,
         8.8
        ],
        [
         99.8,
         11.9
        ],
        [
         100.6,
         5.7
        ],
        [
         94.5,
         11.8
        ],
        [
         108.3,
         21.3
        ],
        [
         116.1,
         32.3
        ],
        [
         113.8,
         40.1
        ],
        [
         106.2,
         24.2
        ],
        [
         104.8,
         28.4
        ],
        [
         147.7,
         35.2
        ],
        [
         102.5,
         32.6
        ],
        [
         125.6,
         34.5
        ],
        [
         115.5,
         32.9
        ],
        [
         114.1,
         31.6
        ],
        [
         106.0,
         32.0
        ],
        [
         88.2,
         7.7
        ],
        [
         97.2,
         13.9
        ],
        [
         88.5,
         10.8
        ],
        [
         92.7,
         5.6
        ],
        [
         90.4,
         13.6
        ],
        [
         87.2,
         4.0
        ],
        [
         98.3,
         10.2
        ],
        [
         91.0,
         6.6
        ],
        [
         89.1,
         8.0
        ],
        [
         91.6,
         6.3
        ],
        [
         88.6,
         3.9
        ],
        [
         99.6,
         22.6
        ],
        [
         102.5,
         20.4
        ],
        [
         105.8,
         28.0
        ],
        [
         97.0,
         31.5
        ],
        [
         99.6,
         24.6
        ],
        [
         103.1,
         26.1
        ],
        [
         100.8,
         29.8
        ],
        [
         99.4,
         30.7
        ],
        [
         99.7,
         25.8
        ],
        [
         108.3,
         32.3
        ],
        [
         104.2,
         30.0
        ],
        [
         93.9,
         21.5
        ],
        [
         91.8,
         13.8
        ],
        [
         96.1,
         6.3
        ],
        [
         94.3,
         12.9
        ],
        [
         98.5,
         24.3
        ],
        [
         95.5,
         8.8
        ],
        [
         96.3,
         8.5
        ],
        [
         88.6,
         13.5
        ],
        [
         93.0,
         11.8
        ],
        [
         94.8,
         18.5
        ],
        [
         94.3,
         8.8
        ],
        [
         98.3,
         22.2
        ],
        [
         99.3,
         21.5
        ],
        [
         100.2,
         18.8
        ],
        [
         97.1,
         31.4
        ],
        [
         96.9,
         26.8
        ],
        [
         99.6,
         18.4
        ],
        [
         95.0,
         27.0
        ],
        [
         96.2,
         27.0
        ],
        [
         96.2,
         26.6
        ],
        [
         96.9,
         14.9
        ],
        [
         93.8,
         23.1
        ],
        [
         99.3,
         8.3
        ],
        [
         98.3,
         14.1
        ],
        [
         102.2,
         20.5
        ],
        [
         100.6,
         18.2
        ],
        [
         95.4,
         8.5
        ],
        [
         100.6,
         24.9
        ],
        [
         101.4,
         9.0
        ],
        [
         107.5,
         17.4
        ],
        [
         102.4,
         9.6
        ],
        [
         96.2,
         11.3
        ],
        [
         92.8,
         17.8
        ],
        [
         103.7,
         22.2
        ],
        [
         101.7,
         21.2
        ],
        [
         98.3,
         20.4
        ],
        [
         98.3,
         20.1
        ],
        [
         101.6,
         22.3
        ],
        [
         99.5,
         25.4
        ],
        [
         96.6,
         18.0
        ],
        [
         103.6,
         19.3
        ],
        [
         100.7,
         18.3
        ],
        [
         102.1,
         17.3
        ],
        [
         100.6,
         21.4
        ],
        [
         99.3,
         19.7
        ],
        [
         103.0,
         28.0
        ],
        [
         98.6,
         22.1
        ],
        [
         99.8,
         21.3
        ],
        [
         97.5,
         26.7
        ],
        [
         92.6,
         16.7
        ],
        [
         99.7,
         20.1
        ],
        [
         96.4,
         13.9
        ],
        [
         104.3,
         25.8
        ],
        [
         101.0,
         18.1
        ],
        [
         104.1,
         27.9
        ],
        [
         101.4,
         25.3
        ],
        [
         97.5,
         14.7
        ],
        [
         95.2,
         16.0
        ],
        [
         94.0,
         13.8
        ],
        [
         100.0,
         17.5
        ],
        [
         98.5,
         27.2
        ],
        [
         93.2,
         17.4
        ],
        [
         99.5,
         20.8
        ],
        [
         97.8,
         14.9
        ],
        [
         95.8,
         18.1
        ],
        [
         99.1,
         22.7
        ],
        [
         103.2,
         23.6
        ],
        [
         92.3,
         26.1
        ],
        [
         98.4,
         24.4
        ],
        [
         102.1,
         27.1
        ],
        [
         95.6,
         21.8
        ],
        [
         100.6,
         29.4
        ],
        [
         98.3,
         22.4
        ],
        [
         107.7,
         20.4
        ],
        [
         101.6,
         24.9
        ],
        [
         99.3,
         18.3
        ],
        [
         98.9,
         23.3
        ],
        [
         93.9,
         9.4
        ],
        [
         102.5,
         10.3
        ],
        [
         95.3,
         14.2
        ],
        [
         110.1,
         19.2
        ],
        [
         106.2,
         29.6
        ],
        [
         92.1,
         5.3
        ],
        [
         113.9,
         25.2
        ],
        [
         93.5,
         9.4
        ],
        [
         114.4,
         19.6
        ],
        [
         91.1,
         10.1
        ],
        [
         95.2,
         16.5
        ],
        [
         105.0,
         21.0
        ],
        [
         98.3,
         17.3
        ],
        [
         106.4,
         31.2
        ],
        [
         102.5,
         10.0
        ],
        [
         89.8,
         12.5
        ],
        [
         99.3,
         22.5
        ],
        [
         91.5,
         9.4
        ],
        [
         105.1,
         14.6
        ],
        [
         103.5,
         13.0
        ],
        [
         89.6,
         15.1
        ],
        [
         108.8,
         27.3
        ],
        [
         104.5,
         19.2
        ],
        [
         95.6,
         21.8
        ],
        [
         106.8,
         20.3
        ],
        [
         111.9,
         34.3
        ],
        [
         98.1,
         16.5
        ],
        [
         92.8,
         3.0
        ],
        [
         89.2,
         0.7
        ],
        [
         98.7,
         20.5
        ],
        [
         99.9,
         16.9
        ],
        [
         114.4,
         25.3
        ],
        [
         89.2,
         9.9
        ],
        [
         96.4,
         13.1
        ],
        [
         113.9,
         29.9
        ],
        [
         101.9,
         22.5
        ],
        [
         109.9,
         16.9
        ],
        [
         109.8,
         26.6
        ],
        [
         85.0,
         0.0
        ],
        [
         91.6,
         11.5
        ],
        [
         96.1,
         12.1
        ],
        [
         95.5,
         17.5
        ],
        [
         98.1,
         8.6
        ],
        [
         108.8,
         23.6
        ],
        [
         104.1,
         20.4
        ],
        [
         101.8,
         20.5
        ],
        [
         103.1,
         24.4
        ],
        [
         92.3,
         11.4
        ],
        [
         112.4,
         38.1
        ],
        [
         102.7,
         15.9
        ],
        [
         111.8,
         24.7
        ],
        [
         96.5,
         22.8
        ],
        [
         100.6,
         25.5
        ],
        [
         96.2,
         22.0
        ],
        [
         101.0,
         17.7
        ],
        [
         99.0,
         6.6
        ],
        [
         94.2,
         23.6
        ],
        [
         99.2,
         12.2
        ],
        [
         96.9,
         22.1
        ],
        [
         105.5,
         28.7
        ],
        [
         102.6,
         6.0
        ],
        [
         107.1,
         34.8
        ],
        [
         102.0,
         16.6
        ],
        [
         100.1,
         32.9
        ],
        [
         101.7,
         32.8
        ],
        [
         91.8,
         9.6
        ],
        [
         94.0,
         10.8
        ],
        [
         89.0,
         7.1
        ],
        [
         109.0,
         27.2
        ],
        [
         99.1,
         19.5
        ],
        [
         104.2,
         18.7
        ],
        [
         96.1,
         19.5
        ],
        [
         112.8,
         47.5
        ],
        [
         96.3,
         13.6
        ],
        [
         94.4,
         7.5
        ],
        [
         105.0,
         24.5
        ],
        [
         94.5,
         15.0
        ],
        [
         96.2,
         12.4
        ],
        [
         105.5,
         26.0
        ],
        [
         95.6,
         11.5
        ],
        [
         91.9,
         5.2
        ],
        [
         98.2,
         10.9
        ],
        [
         87.5,
         12.5
        ],
        [
         97.1,
         14.8
        ],
        [
         106.6,
         25.2
        ],
        [
         98.4,
         14.9
        ],
        [
         97.0,
         17.0
        ],
        [
         90.1,
         10.6
        ],
        [
         100.7,
         16.1
        ],
        [
         97.8,
         15.4
        ],
        [
         100.2,
         26.7
        ],
        [
         94.0,
         25.8
        ],
        [
         93.7,
         18.6
        ],
        [
         101.1,
         24.8
        ],
        [
         111.8,
         27.3
        ],
        [
         94.5,
         12.4
        ],
        [
         100.5,
         29.9
        ],
        [
         87.6,
         17.0
        ],
        [
         114.3,
         35.0
        ],
        [
         109.1,
         30.4
        ],
        [
         109.8,
         32.6
        ],
        [
         101.6,
         29.0
        ],
        [
         94.4,
         15.2
        ],
        [
         110.0,
         30.2
        ],
        [
         88.8,
         11.0
        ],
        [
         104.5,
         33.6
        ],
        [
         101.7,
         29.3
        ],
        [
         97.8,
         26.0
        ],
        [
         107.1,
         31.9
        ]
       ],
       "datasetInfos": [],
       "dbfsResultPath": null,
       "isJsonSchema": true,
       "metadata": {},
       "overflow": false,
       "plotOptions": {
        "customPlotOptions": {},
        "displayType": "table",
        "pivotAggregation": null,
        "pivotColumns": null,
        "xColumns": null,
        "yColumns": null
       },
       "removedWidgets": [],
       "schema": [
        {
         "metadata": "{}",
         "name": "Hip",
         "type": "\"double\""
        },
        {
         "metadata": "{}",
         "name": "BodyFat",
         "type": "\"double\""
        }
       ],
       "type": "table"
      }
     },
     "output_type": "display_data"
    },
    {
     "output_type": "display_data",
     "data": {
      "text/plain": [
       "Databricks visualization. Run in Databricks to view."
      ]
     },
     "metadata": {
      "application/vnd.databricks.v1.subcommand+json": {
       "baseErrorDetails": null,
       "bindings": {},
       "collapsed": false,
       "command": "%sql WITH q AS (SELECT Hip, BodyFat FROM BodyFat) SELECT `Hip`,`BodyFat` FROM q",
       "commandTitle": "Visualization 1",
       "commandType": "auto",
       "commandVersion": 0,
       "commentThread": [],
       "commentsVisible": false,
       "contentSha256Hex": null,
       "customPlotOptions": {
        "redashChart": [
         {
          "key": "type",
          "value": "CHART"
         },
         {
          "key": "options",
          "value": {
           "alignYAxesAtZero": true,
           "coefficient": 1,
           "columnConfigurationMap": {
            "x": {
             "column": "Hip",
             "id": "column_dcde195e34"
            },
            "y": [
             {
              "column": "BodyFat",
              "id": "column_dcde195e35"
             }
            ]
           },
           "dateTimeFormat": "DD/MM/YYYY HH:mm",
           "direction": {
            "type": "counterclockwise"
           },
           "error_y": {
            "type": "data",
            "visible": true
           },
           "globalSeriesType": "scatter",
           "legend": {
            "traceorder": "normal"
           },
           "missingValuesAsZero": true,
           "numberFormat": "0,0.[00000]",
           "percentFormat": "0[.]00%",
           "series": {
            "error_y": {
             "type": "data",
             "visible": true
            },
            "stacking": null
           },
           "seriesOptions": {
            "column_dcde195e35": {
             "name": "BodyFat",
             "yAxis": 0
            }
           },
           "showDataLabels": false,
           "sizemode": "diameter",
           "sortX": true,
           "sortY": true,
           "swappedAxes": false,
           "textFormat": "",
           "useAggregationsUi": true,
           "valuesOptions": {},
           "version": 2,
           "xAxis": {
            "labels": {
             "enabled": true
            },
            "type": "-"
           },
           "yAxis": [
            {
             "type": "-"
            },
            {
             "opposite": true,
             "type": "-"
            }
           ]
          }
         }
        ]
       },
       "datasetPreviewNameToCmdIdMap": {},
       "diffDeletes": [],
       "diffInserts": [],
       "displayType": "redashChart",
       "error": null,
       "errorDetails": null,
       "errorSummary": null,
       "errorTraceType": null,
       "finishTime": 0,
       "globalVars": {},
       "guid": "",
       "height": "auto",
       "hideCommandCode": false,
       "hideCommandResult": false,
       "iPythonMetadata": null,
       "inputWidgets": {},
       "isLockedInExamMode": false,
       "latestUser": "a user",
       "latestUserId": null,
       "listResultMetadata": null,
       "metadata": {},
       "nuid": "aa138572-17c0-4b41-8170-46a822e3930a",
       "origId": 0,
       "parentHierarchy": [],
       "pivotAggregation": null,
       "pivotColumns": null,
       "position": 30.75,
       "resultDbfsErrorMessage": null,
       "resultDbfsStatus": "INLINED_IN_TREE",
       "results": null,
       "showCommandTitle": false,
       "startTime": 0,
       "state": "input",
       "streamStates": {},
       "subcommandOptions": {
        "queryPlan": {
         "selects": [
          {
           "column": "Hip",
           "type": "column"
          },
          {
           "column": "BodyFat",
           "type": "column"
          }
         ]
        }
       },
       "submitTime": 0,
       "subtype": "tableResultSubCmd.visualization",
       "tableResultIndex": 0,
       "useConsistentColors": false,
       "version": "CommandV1",
       "width": "auto",
       "workflows": [],
       "xColumns": null,
       "yColumns": null
      }
     },
     "output_type": "display_data"
    }
   ],
   "source": [
    "%sql\n",
    "\n",
    "SELECT Hip, BodyFat FROM BodyFat;"
   ]
  },
  {
   "cell_type": "code",
   "execution_count": 0,
   "metadata": {
    "application/vnd.databricks.v1+cell": {
     "cellMetadata": {
      "byteLimit": 2048000,
      "implicitDf": true,
      "rowLimit": 10000
     },
     "inputWidgets": {},
     "nuid": "37e20f6c-91c9-409e-bd81-28b3c5de89cd",
     "showTitle": false,
     "title": ""
    }
   },
   "outputs": [
    {
     "output_type": "display_data",
     "data": {
      "text/html": [
       "<style scoped>\n",
       "  .table-result-container {\n",
       "    max-height: 300px;\n",
       "    overflow: auto;\n",
       "  }\n",
       "  table, th, td {\n",
       "    border: 1px solid black;\n",
       "    border-collapse: collapse;\n",
       "  }\n",
       "  th, td {\n",
       "    padding: 5px;\n",
       "  }\n",
       "  th {\n",
       "    text-align: left;\n",
       "  }\n",
       "</style><div class='table-result-container'><table class='table-result'><thead style='background-color: white'><tr><th>Thigh</th><th>BodyFat</th></tr></thead><tbody><tr><td>59.0</td><td>12.3</td></tr><tr><td>58.7</td><td>6.1</td></tr><tr><td>59.6</td><td>25.3</td></tr><tr><td>60.1</td><td>10.4</td></tr><tr><td>63.2</td><td>28.7</td></tr><tr><td>66.0</td><td>20.9</td></tr><tr><td>58.4</td><td>19.2</td></tr><tr><td>60.0</td><td>12.4</td></tr><tr><td>62.9</td><td>4.1</td></tr><tr><td>63.1</td><td>11.7</td></tr><tr><td>59.7</td><td>7.1</td></tr><tr><td>66.2</td><td>7.8</td></tr><tr><td>63.4</td><td>20.8</td></tr><tr><td>66.0</td><td>21.2</td></tr><tr><td>69.0</td><td>22.1</td></tr><tr><td>63.1</td><td>20.9</td></tr><tr><td>64.8</td><td>29.0</td></tr><tr><td>66.9</td><td>22.9</td></tr><tr><td>64.2</td><td>16.0</td></tr><tr><td>65.8</td><td>16.5</td></tr><tr><td>63.5</td><td>19.1</td></tr><tr><td>63.4</td><td>15.2</td></tr><tr><td>57.4</td><td>15.6</td></tr><tr><td>54.9</td><td>17.7</td></tr><tr><td>58.4</td><td>14.0</td></tr><tr><td>55.0</td><td>3.7</td></tr><tr><td>51.7</td><td>7.9</td></tr><tr><td>57.5</td><td>22.9</td></tr><tr><td>50.1</td><td>3.7</td></tr><tr><td>58.9</td><td>8.8</td></tr><tr><td>57.5</td><td>11.9</td></tr><tr><td>58.5</td><td>5.7</td></tr><tr><td>57.3</td><td>11.8</td></tr><tr><td>67.1</td><td>21.3</td></tr><tr><td>71.2</td><td>32.3</td></tr><tr><td>61.9</td><td>40.1</td></tr><tr><td>63.5</td><td>24.2</td></tr><tr><td>66.0</td><td>28.4</td></tr><tr><td>87.3</td><td>35.2</td></tr><tr><td>61.3</td><td>32.6</td></tr><tr><td>72.5</td><td>34.5</td></tr><tr><td>70.6</td><td>32.9</td></tr><tr><td>67.7</td><td>31.6</td></tr><tr><td>65.0</td><td>32.0</td></tr><tr><td>50.0</td><td>7.7</td></tr><tr><td>58.4</td><td>13.9</td></tr><tr><td>53.3</td><td>10.8</td></tr><tr><td>52.7</td><td>5.6</td></tr><tr><td>52.0</td><td>13.6</td></tr><tr><td>50.6</td><td>4.0</td></tr><tr><td>52.6</td><td>10.2</td></tr><tr><td>51.4</td><td>6.6</td></tr><tr><td>49.3</td><td>8.0</td></tr><tr><td>52.6</td><td>6.3</td></tr><tr><td>51.9</td><td>3.9</td></tr><tr><td>57.2</td><td>22.6</td></tr><tr><td>62.1</td><td>20.4</td></tr><tr><td>61.8</td><td>28.0</td></tr><tr><td>59.1</td><td>31.5</td></tr><tr><td>60.6</td><td>24.6</td></tr><tr><td>61.6</td><td>26.1</td></tr><tr><td>60.9</td><td>29.8</td></tr><tr><td>61.0</td><td>30.7</td></tr><tr><td>60.8</td><td>25.8</td></tr><tr><td>65.0</td><td>32.3</td></tr><tr><td>64.8</td><td>30.0</td></tr><tr><td>55.0</td><td>21.5</td></tr><tr><td>54.3</td><td>13.8</td></tr><tr><td>56.0</td><td>6.3</td></tr><tr><td>51.2</td><td>12.9</td></tr><tr><td>56.6</td><td>24.3</td></tr><tr><td>58.9</td><td>8.8</td></tr><tr><td>52.9</td><td>8.5</td></tr><tr><td>50.9</td><td>13.5</td></tr><tr><td>55.5</td><td>11.8</td></tr><tr><td>54.5</td><td>18.5</td></tr><tr><td>56.7</td><td>8.8</td></tr><tr><td>55.0</td><td>22.2</td></tr><tr><td>53.5</td><td>21.5</td></tr><tr><td>56.5</td><td>18.8</td></tr><tr><td>54.8</td><td>31.4</td></tr><tr><td>54.8</td><td>26.8</td></tr><tr><td>58.9</td><td>18.4</td></tr><tr><td>56.0</td><td>27.0</td></tr><tr><td>56.3</td><td>27.0</td></tr><tr><td>54.7</td><td>26.6</td></tr><tr><td>57.2</td><td>14.9</td></tr><tr><td>57.8</td><td>23.1</td></tr><tr><td>61.0</td><td>8.3</td></tr><tr><td>60.4</td><td>14.1</td></tr><tr><td>58.3</td><td>20.5</td></tr><tr><td>58.9</td><td>18.2</td></tr><tr><td>56.9</td><td>8.5</td></tr><tr><td>58.9</td><td>24.9</td></tr><tr><td>57.4</td><td>9.0</td></tr><tr><td>61.7</td><td>17.4</td></tr><tr><td>60.6</td><td>9.6</td></tr><tr><td>62.1</td><td>11.3</td></tr><tr><td>54.7</td><td>17.8</td></tr><tr><td>62.7</td><td>22.2</td></tr><tr><td>59.0</td><td>21.2</td></tr><tr><td>59.3</td><td>20.4</td></tr><tr><td>60.0</td><td>20.1</td></tr><tr><td>59.1</td><td>22.3</td></tr><tr><td>59.5</td><td>25.4</td></tr><tr><td>54.7</td><td>18.0</td></tr><tr><td>61.2</td><td>19.3</td></tr><tr><td>55.8</td><td>18.3</td></tr><tr><td>57.5</td><td>17.3</td></tr><tr><td>57.5</td><td>21.4</td></tr><tr><td>61.9</td><td>19.7</td></tr><tr><td>63.7</td><td>28.0</td></tr><tr><td>62.3</td><td>22.1</td></tr><tr><td>61.5</td><td>21.3</td></tr><tr><td>59.3</td><td>26.7</td></tr><tr><td>55.9</td><td>16.7</td></tr><tr><td>58.8</td><td>20.1</td></tr><tr><td>56.8</td><td>13.9</td></tr><tr><td>64.6</td><td>25.8</td></tr><tr><td>58.5</td><td>18.1</td></tr><tr><td>58.5</td><td>27.9</td></tr><tr><td>57.1</td><td>25.3</td></tr><tr><td>60.5</td><td>14.7</td></tr><tr><td>58.1</td><td>16.0</td></tr><tr><td>58.5</td><td>13.8</td></tr><tr><td>60.7</td><td>17.5</td></tr><tr><td>60.7</td><td>27.2</td></tr><tr><td>53.5</td><td>17.4</td></tr><tr><td>61.7</td><td>20.8</td></tr><tr><td>57.4</td><td>14.9</td></tr><tr><td>57.0</td><td>18.1</td></tr><tr><td>60.3</td><td>22.7</td></tr><tr><td>61.2</td><td>23.6</td></tr><tr><td>56.1</td><td>26.1</td></tr><tr><td>56.0</td><td>24.4</td></tr><tr><td>58.9</td><td>27.1</td></tr><tr><td>58.8</td><td>21.8</td></tr><tr><td>63.6</td><td>29.4</td></tr><tr><td>58.1</td><td>22.4</td></tr><tr><td>66.5</td><td>20.4</td></tr><tr><td>59.1</td><td>24.9</td></tr><tr><td>60.4</td><td>18.3</td></tr><tr><td>57.1</td><td>23.3</td></tr><tr><td>56.1</td><td>9.4</td></tr><tr><td>59.1</td><td>10.3</td></tr><tr><td>56.4</td><td>14.2</td></tr><tr><td>71.2</td><td>19.2</td></tr><tr><td>68.4</td><td>29.6</td></tr><tr><td>51.9</td><td>5.3</td></tr><tr><td>67.6</td><td>25.2</td></tr><tr><td>56.9</td><td>9.4</td></tr><tr><td>72.9</td><td>19.6</td></tr><tr><td>53.6</td><td>10.1</td></tr><tr><td>56.8</td><td>16.5</td></tr><tr><td>62.1</td><td>21.0</td></tr><tr><td>57.3</td><td>17.3</td></tr><tr><td>68.6</td><td>31.2</td></tr><tr><td>60.8</td><td>10.0</td></tr><tr><td>50.1</td><td>12.5</td></tr><tr><td>59.4</td><td>22.5</td></tr><tr><td>52.5</td><td>9.4</td></tr><tr><td>61.4</td><td>14.6</td></tr><tr><td>64.0</td><td>13.0</td></tr><tr><td>52.4</td><td>15.1</td></tr><tr><td>63.8</td><td>27.3</td></tr><tr><td>64.8</td><td>19.2</td></tr><tr><td>55.5</td><td>21.8</td></tr><tr><td>63.3</td><td>20.3</td></tr><tr><td>74.4</td><td>34.3</td></tr><tr><td>60.1</td><td>16.5</td></tr><tr><td>54.7</td><td>3.0</td></tr><tr><td>50.0</td><td>0.7</td></tr><tr><td>57.8</td><td>20.5</td></tr><tr><td>59.2</td><td>16.9</td></tr><tr><td>69.2</td><td>25.3</td></tr><tr><td>50.3</td><td>9.9</td></tr><tr><td>60.0</td><td>13.1</td></tr><tr><td>69.8</td><td>29.9</td></tr><tr><td>64.7</td><td>22.5</td></tr><tr><td>69.5</td><td>16.9</td></tr><tr><td>68.1</td><td>26.6</td></tr><tr><td>47.2</td><td>0.0</td></tr><tr><td>54.1</td><td>11.5</td></tr><tr><td>58.0</td><td>12.1</td></tr><tr><td>55.4</td><td>17.5</td></tr><tr><td>57.3</td><td>8.6</td></tr><tr><td>67.7</td><td>23.6</td></tr><tr><td>63.5</td><td>20.4</td></tr><tr><td>62.8</td><td>20.5</td></tr><tr><td>61.5</td><td>24.4</td></tr><tr><td>54.3</td><td>11.4</td></tr><tr><td>68.5</td><td>38.1</td></tr><tr><td>60.6</td><td>15.9</td></tr><tr><td>65.3</td><td>24.7</td></tr><tr><td>60.2</td><td>22.8</td></tr><tr><td>61.1</td><td>25.5</td></tr><tr><td>57.7</td><td>22.0</td></tr><tr><td>62.3</td><td>17.7</td></tr><tr><td>57.5</td><td>6.6</td></tr><tr><td>58.5</td><td>23.6</td></tr><tr><td>60.2</td><td>12.2</td></tr><tr><td>55.5</td><td>22.1</td></tr><tr><td>68.8</td><td>28.7</td></tr><tr><td>60.6</td><td>6.0</td></tr><tr><td>63.5</td><td>34.8</td></tr><tr><td>63.3</td><td>16.6</td></tr><tr><td>58.9</td><td>32.9</td></tr><tr><td>60.7</td><td>32.8</td></tr><tr><td>53.0</td><td>9.6</td></tr><tr><td>56.0</td><td>10.8</td></tr><tr><td>51.1</td><td>7.1</td></tr><tr><td>63.7</td><td>27.2</td></tr><tr><td>56.3</td><td>19.5</td></tr><tr><td>60.0</td><td>18.7</td></tr><tr><td>57.1</td><td>19.5</td></tr><tr><td>62.5</td><td>47.5</td></tr><tr><td>53.8</td><td>13.6</td></tr><tr><td>54.7</td><td>7.5</td></tr><tr><td>63.9</td><td>24.5</td></tr><tr><td>53.7</td><td>15.0</td></tr><tr><td>57.7</td><td>12.4</td></tr><tr><td>64.2</td><td>26.0</td></tr><tr><td>59.7</td><td>11.5</td></tr><tr><td>54.4</td><td>5.2</td></tr><tr><td>57.4</td><td>10.9</td></tr><tr><td>50.8</td><td>12.5</td></tr><tr><td>56.6</td><td>14.8</td></tr><tr><td>64.0</td><td>25.2</td></tr><tr><td>58.4</td><td>14.9</td></tr><tr><td>55.4</td><td>17.0</td></tr><tr><td>53.0</td><td>10.6</td></tr><tr><td>59.3</td><td>16.1</td></tr><tr><td>57.1</td><td>15.4</td></tr><tr><td>56.8</td><td>26.7</td></tr><tr><td>54.3</td><td>25.8</td></tr><tr><td>54.4</td><td>18.6</td></tr><tr><td>59.3</td><td>24.8</td></tr><tr><td>63.4</td><td>27.3</td></tr><tr><td>61.2</td><td>12.4</td></tr><tr><td>59.2</td><td>29.9</td></tr><tr><td>50.7</td><td>17.0</td></tr><tr><td>61.3</td><td>35.0</td></tr><tr><td>63.7</td><td>30.4</td></tr><tr><td>65.6</td><td>32.6</td></tr><tr><td>58.2</td><td>29.0</td></tr><tr><td>54.3</td><td>15.2</td></tr><tr><td>63.3</td><td>30.2</td></tr><tr><td>49.6</td><td>11.0</td></tr><tr><td>59.6</td><td>33.6</td></tr><tr><td>60.3</td><td>29.3</td></tr><tr><td>56.0</td><td>26.0</td></tr><tr><td>59.3</td><td>31.9</td></tr></tbody></table></div>"
      ]
     },
     "metadata": {
      "application/vnd.databricks.v1+output": {
       "addedWidgets": {},
       "aggData": [],
       "aggError": "",
       "aggOverflow": false,
       "aggSchema": [],
       "aggSeriesLimitReached": false,
       "aggType": "",
       "arguments": {},
       "columnCustomDisplayInfos": {},
       "data": [
        [
         59.0,
         12.3
        ],
        [
         58.7,
         6.1
        ],
        [
         59.6,
         25.3
        ],
        [
         60.1,
         10.4
        ],
        [
         63.2,
         28.7
        ],
        [
         66.0,
         20.9
        ],
        [
         58.4,
         19.2
        ],
        [
         60.0,
         12.4
        ],
        [
         62.9,
         4.1
        ],
        [
         63.1,
         11.7
        ],
        [
         59.7,
         7.1
        ],
        [
         66.2,
         7.8
        ],
        [
         63.4,
         20.8
        ],
        [
         66.0,
         21.2
        ],
        [
         69.0,
         22.1
        ],
        [
         63.1,
         20.9
        ],
        [
         64.8,
         29.0
        ],
        [
         66.9,
         22.9
        ],
        [
         64.2,
         16.0
        ],
        [
         65.8,
         16.5
        ],
        [
         63.5,
         19.1
        ],
        [
         63.4,
         15.2
        ],
        [
         57.4,
         15.6
        ],
        [
         54.9,
         17.7
        ],
        [
         58.4,
         14.0
        ],
        [
         55.0,
         3.7
        ],
        [
         51.7,
         7.9
        ],
        [
         57.5,
         22.9
        ],
        [
         50.1,
         3.7
        ],
        [
         58.9,
         8.8
        ],
        [
         57.5,
         11.9
        ],
        [
         58.5,
         5.7
        ],
        [
         57.3,
         11.8
        ],
        [
         67.1,
         21.3
        ],
        [
         71.2,
         32.3
        ],
        [
         61.9,
         40.1
        ],
        [
         63.5,
         24.2
        ],
        [
         66.0,
         28.4
        ],
        [
         87.3,
         35.2
        ],
        [
         61.3,
         32.6
        ],
        [
         72.5,
         34.5
        ],
        [
         70.6,
         32.9
        ],
        [
         67.7,
         31.6
        ],
        [
         65.0,
         32.0
        ],
        [
         50.0,
         7.7
        ],
        [
         58.4,
         13.9
        ],
        [
         53.3,
         10.8
        ],
        [
         52.7,
         5.6
        ],
        [
         52.0,
         13.6
        ],
        [
         50.6,
         4.0
        ],
        [
         52.6,
         10.2
        ],
        [
         51.4,
         6.6
        ],
        [
         49.3,
         8.0
        ],
        [
         52.6,
         6.3
        ],
        [
         51.9,
         3.9
        ],
        [
         57.2,
         22.6
        ],
        [
         62.1,
         20.4
        ],
        [
         61.8,
         28.0
        ],
        [
         59.1,
         31.5
        ],
        [
         60.6,
         24.6
        ],
        [
         61.6,
         26.1
        ],
        [
         60.9,
         29.8
        ],
        [
         61.0,
         30.7
        ],
        [
         60.8,
         25.8
        ],
        [
         65.0,
         32.3
        ],
        [
         64.8,
         30.0
        ],
        [
         55.0,
         21.5
        ],
        [
         54.3,
         13.8
        ],
        [
         56.0,
         6.3
        ],
        [
         51.2,
         12.9
        ],
        [
         56.6,
         24.3
        ],
        [
         58.9,
         8.8
        ],
        [
         52.9,
         8.5
        ],
        [
         50.9,
         13.5
        ],
        [
         55.5,
         11.8
        ],
        [
         54.5,
         18.5
        ],
        [
         56.7,
         8.8
        ],
        [
         55.0,
         22.2
        ],
        [
         53.5,
         21.5
        ],
        [
         56.5,
         18.8
        ],
        [
         54.8,
         31.4
        ],
        [
         54.8,
         26.8
        ],
        [
         58.9,
         18.4
        ],
        [
         56.0,
         27.0
        ],
        [
         56.3,
         27.0
        ],
        [
         54.7,
         26.6
        ],
        [
         57.2,
         14.9
        ],
        [
         57.8,
         23.1
        ],
        [
         61.0,
         8.3
        ],
        [
         60.4,
         14.1
        ],
        [
         58.3,
         20.5
        ],
        [
         58.9,
         18.2
        ],
        [
         56.9,
         8.5
        ],
        [
         58.9,
         24.9
        ],
        [
         57.4,
         9.0
        ],
        [
         61.7,
         17.4
        ],
        [
         60.6,
         9.6
        ],
        [
         62.1,
         11.3
        ],
        [
         54.7,
         17.8
        ],
        [
         62.7,
         22.2
        ],
        [
         59.0,
         21.2
        ],
        [
         59.3,
         20.4
        ],
        [
         60.0,
         20.1
        ],
        [
         59.1,
         22.3
        ],
        [
         59.5,
         25.4
        ],
        [
         54.7,
         18.0
        ],
        [
         61.2,
         19.3
        ],
        [
         55.8,
         18.3
        ],
        [
         57.5,
         17.3
        ],
        [
         57.5,
         21.4
        ],
        [
         61.9,
         19.7
        ],
        [
         63.7,
         28.0
        ],
        [
         62.3,
         22.1
        ],
        [
         61.5,
         21.3
        ],
        [
         59.3,
         26.7
        ],
        [
         55.9,
         16.7
        ],
        [
         58.8,
         20.1
        ],
        [
         56.8,
         13.9
        ],
        [
         64.6,
         25.8
        ],
        [
         58.5,
         18.1
        ],
        [
         58.5,
         27.9
        ],
        [
         57.1,
         25.3
        ],
        [
         60.5,
         14.7
        ],
        [
         58.1,
         16.0
        ],
        [
         58.5,
         13.8
        ],
        [
         60.7,
         17.5
        ],
        [
         60.7,
         27.2
        ],
        [
         53.5,
         17.4
        ],
        [
         61.7,
         20.8
        ],
        [
         57.4,
         14.9
        ],
        [
         57.0,
         18.1
        ],
        [
         60.3,
         22.7
        ],
        [
         61.2,
         23.6
        ],
        [
         56.1,
         26.1
        ],
        [
         56.0,
         24.4
        ],
        [
         58.9,
         27.1
        ],
        [
         58.8,
         21.8
        ],
        [
         63.6,
         29.4
        ],
        [
         58.1,
         22.4
        ],
        [
         66.5,
         20.4
        ],
        [
         59.1,
         24.9
        ],
        [
         60.4,
         18.3
        ],
        [
         57.1,
         23.3
        ],
        [
         56.1,
         9.4
        ],
        [
         59.1,
         10.3
        ],
        [
         56.4,
         14.2
        ],
        [
         71.2,
         19.2
        ],
        [
         68.4,
         29.6
        ],
        [
         51.9,
         5.3
        ],
        [
         67.6,
         25.2
        ],
        [
         56.9,
         9.4
        ],
        [
         72.9,
         19.6
        ],
        [
         53.6,
         10.1
        ],
        [
         56.8,
         16.5
        ],
        [
         62.1,
         21.0
        ],
        [
         57.3,
         17.3
        ],
        [
         68.6,
         31.2
        ],
        [
         60.8,
         10.0
        ],
        [
         50.1,
         12.5
        ],
        [
         59.4,
         22.5
        ],
        [
         52.5,
         9.4
        ],
        [
         61.4,
         14.6
        ],
        [
         64.0,
         13.0
        ],
        [
         52.4,
         15.1
        ],
        [
         63.8,
         27.3
        ],
        [
         64.8,
         19.2
        ],
        [
         55.5,
         21.8
        ],
        [
         63.3,
         20.3
        ],
        [
         74.4,
         34.3
        ],
        [
         60.1,
         16.5
        ],
        [
         54.7,
         3.0
        ],
        [
         50.0,
         0.7
        ],
        [
         57.8,
         20.5
        ],
        [
         59.2,
         16.9
        ],
        [
         69.2,
         25.3
        ],
        [
         50.3,
         9.9
        ],
        [
         60.0,
         13.1
        ],
        [
         69.8,
         29.9
        ],
        [
         64.7,
         22.5
        ],
        [
         69.5,
         16.9
        ],
        [
         68.1,
         26.6
        ],
        [
         47.2,
         0.0
        ],
        [
         54.1,
         11.5
        ],
        [
         58.0,
         12.1
        ],
        [
         55.4,
         17.5
        ],
        [
         57.3,
         8.6
        ],
        [
         67.7,
         23.6
        ],
        [
         63.5,
         20.4
        ],
        [
         62.8,
         20.5
        ],
        [
         61.5,
         24.4
        ],
        [
         54.3,
         11.4
        ],
        [
         68.5,
         38.1
        ],
        [
         60.6,
         15.9
        ],
        [
         65.3,
         24.7
        ],
        [
         60.2,
         22.8
        ],
        [
         61.1,
         25.5
        ],
        [
         57.7,
         22.0
        ],
        [
         62.3,
         17.7
        ],
        [
         57.5,
         6.6
        ],
        [
         58.5,
         23.6
        ],
        [
         60.2,
         12.2
        ],
        [
         55.5,
         22.1
        ],
        [
         68.8,
         28.7
        ],
        [
         60.6,
         6.0
        ],
        [
         63.5,
         34.8
        ],
        [
         63.3,
         16.6
        ],
        [
         58.9,
         32.9
        ],
        [
         60.7,
         32.8
        ],
        [
         53.0,
         9.6
        ],
        [
         56.0,
         10.8
        ],
        [
         51.1,
         7.1
        ],
        [
         63.7,
         27.2
        ],
        [
         56.3,
         19.5
        ],
        [
         60.0,
         18.7
        ],
        [
         57.1,
         19.5
        ],
        [
         62.5,
         47.5
        ],
        [
         53.8,
         13.6
        ],
        [
         54.7,
         7.5
        ],
        [
         63.9,
         24.5
        ],
        [
         53.7,
         15.0
        ],
        [
         57.7,
         12.4
        ],
        [
         64.2,
         26.0
        ],
        [
         59.7,
         11.5
        ],
        [
         54.4,
         5.2
        ],
        [
         57.4,
         10.9
        ],
        [
         50.8,
         12.5
        ],
        [
         56.6,
         14.8
        ],
        [
         64.0,
         25.2
        ],
        [
         58.4,
         14.9
        ],
        [
         55.4,
         17.0
        ],
        [
         53.0,
         10.6
        ],
        [
         59.3,
         16.1
        ],
        [
         57.1,
         15.4
        ],
        [
         56.8,
         26.7
        ],
        [
         54.3,
         25.8
        ],
        [
         54.4,
         18.6
        ],
        [
         59.3,
         24.8
        ],
        [
         63.4,
         27.3
        ],
        [
         61.2,
         12.4
        ],
        [
         59.2,
         29.9
        ],
        [
         50.7,
         17.0
        ],
        [
         61.3,
         35.0
        ],
        [
         63.7,
         30.4
        ],
        [
         65.6,
         32.6
        ],
        [
         58.2,
         29.0
        ],
        [
         54.3,
         15.2
        ],
        [
         63.3,
         30.2
        ],
        [
         49.6,
         11.0
        ],
        [
         59.6,
         33.6
        ],
        [
         60.3,
         29.3
        ],
        [
         56.0,
         26.0
        ],
        [
         59.3,
         31.9
        ]
       ],
       "datasetInfos": [],
       "dbfsResultPath": null,
       "isJsonSchema": true,
       "metadata": {},
       "overflow": false,
       "plotOptions": {
        "customPlotOptions": {},
        "displayType": "table",
        "pivotAggregation": null,
        "pivotColumns": null,
        "xColumns": null,
        "yColumns": null
       },
       "removedWidgets": [],
       "schema": [
        {
         "metadata": "{}",
         "name": "Thigh",
         "type": "\"double\""
        },
        {
         "metadata": "{}",
         "name": "BodyFat",
         "type": "\"double\""
        }
       ],
       "type": "table"
      }
     },
     "output_type": "display_data"
    },
    {
     "output_type": "display_data",
     "data": {
      "text/plain": [
       "Databricks visualization. Run in Databricks to view."
      ]
     },
     "metadata": {
      "application/vnd.databricks.v1.subcommand+json": {
       "baseErrorDetails": null,
       "bindings": {},
       "collapsed": false,
       "command": "%sql WITH q AS (SELECT Thigh, BodyFat FROM BodyFat) SELECT `Thigh`,`BodyFat` FROM q",
       "commandTitle": "Visualization 1",
       "commandType": "auto",
       "commandVersion": 0,
       "commentThread": [],
       "commentsVisible": false,
       "contentSha256Hex": null,
       "customPlotOptions": {
        "redashChart": [
         {
          "key": "type",
          "value": "CHART"
         },
         {
          "key": "options",
          "value": {
           "alignYAxesAtZero": true,
           "coefficient": 1,
           "columnConfigurationMap": {
            "x": {
             "column": "Thigh",
             "id": "column_dcde195e36"
            },
            "y": [
             {
              "column": "BodyFat",
              "id": "column_dcde195e37"
             }
            ]
           },
           "dateTimeFormat": "DD/MM/YYYY HH:mm",
           "direction": {
            "type": "counterclockwise"
           },
           "error_y": {
            "type": "data",
            "visible": true
           },
           "globalSeriesType": "scatter",
           "legend": {
            "traceorder": "normal"
           },
           "missingValuesAsZero": true,
           "numberFormat": "0,0.[00000]",
           "percentFormat": "0[.]00%",
           "series": {
            "error_y": {
             "type": "data",
             "visible": true
            },
            "stacking": null
           },
           "seriesOptions": {
            "column_dcde195e37": {
             "name": "BodyFat",
             "yAxis": 0
            }
           },
           "showDataLabels": false,
           "sizemode": "diameter",
           "sortX": true,
           "sortY": true,
           "swappedAxes": false,
           "textFormat": "",
           "useAggregationsUi": true,
           "valuesOptions": {},
           "version": 2,
           "xAxis": {
            "labels": {
             "enabled": true
            },
            "type": "-"
           },
           "yAxis": [
            {
             "type": "-"
            },
            {
             "opposite": true,
             "type": "-"
            }
           ]
          }
         }
        ]
       },
       "datasetPreviewNameToCmdIdMap": {},
       "diffDeletes": [],
       "diffInserts": [],
       "displayType": "redashChart",
       "error": null,
       "errorDetails": null,
       "errorSummary": null,
       "errorTraceType": null,
       "finishTime": 0,
       "globalVars": {},
       "guid": "",
       "height": "auto",
       "hideCommandCode": false,
       "hideCommandResult": false,
       "iPythonMetadata": null,
       "inputWidgets": {},
       "isLockedInExamMode": false,
       "latestUser": "a user",
       "latestUserId": null,
       "listResultMetadata": null,
       "metadata": {},
       "nuid": "ae5dfa1b-c0af-4b6a-a78a-5afb0681385a",
       "origId": 0,
       "parentHierarchy": [],
       "pivotAggregation": null,
       "pivotColumns": null,
       "position": 31.75,
       "resultDbfsErrorMessage": null,
       "resultDbfsStatus": "INLINED_IN_TREE",
       "results": null,
       "showCommandTitle": false,
       "startTime": 0,
       "state": "input",
       "streamStates": {},
       "subcommandOptions": {
        "queryPlan": {
         "selects": [
          {
           "column": "Thigh",
           "type": "column"
          },
          {
           "column": "BodyFat",
           "type": "column"
          }
         ]
        }
       },
       "submitTime": 0,
       "subtype": "tableResultSubCmd.visualization",
       "tableResultIndex": 0,
       "useConsistentColors": false,
       "version": "CommandV1",
       "width": "auto",
       "workflows": [],
       "xColumns": null,
       "yColumns": null
      }
     },
     "output_type": "display_data"
    }
   ],
   "source": [
    "%sql\n",
    "\n",
    "SELECT Thigh, BodyFat FROM BodyFat;"
   ]
  },
  {
   "cell_type": "code",
   "execution_count": 0,
   "metadata": {
    "application/vnd.databricks.v1+cell": {
     "cellMetadata": {
      "byteLimit": 2048000,
      "implicitDf": true,
      "rowLimit": 10000
     },
     "inputWidgets": {},
     "nuid": "8c7e8283-758f-40be-83f1-2ca63b2dcf01",
     "showTitle": false,
     "title": ""
    }
   },
   "outputs": [
    {
     "output_type": "display_data",
     "data": {
      "text/html": [
       "<style scoped>\n",
       "  .table-result-container {\n",
       "    max-height: 300px;\n",
       "    overflow: auto;\n",
       "  }\n",
       "  table, th, td {\n",
       "    border: 1px solid black;\n",
       "    border-collapse: collapse;\n",
       "  }\n",
       "  th, td {\n",
       "    padding: 5px;\n",
       "  }\n",
       "  th {\n",
       "    text-align: left;\n",
       "  }\n",
       "</style><div class='table-result-container'><table class='table-result'><thead style='background-color: white'><tr><th>Knee</th><th>BodyFat</th></tr></thead><tbody><tr><td>37.3</td><td>12.3</td></tr><tr><td>37.3</td><td>6.1</td></tr><tr><td>38.9</td><td>25.3</td></tr><tr><td>37.3</td><td>10.4</td></tr><tr><td>42.2</td><td>28.7</td></tr><tr><td>42.0</td><td>20.9</td></tr><tr><td>38.3</td><td>19.2</td></tr><tr><td>39.4</td><td>12.4</td></tr><tr><td>38.3</td><td>4.1</td></tr><tr><td>41.7</td><td>11.7</td></tr><tr><td>39.7</td><td>7.1</td></tr><tr><td>39.2</td><td>7.8</td></tr><tr><td>38.3</td><td>20.8</td></tr><tr><td>41.5</td><td>21.2</td></tr><tr><td>39.0</td><td>22.1</td></tr><tr><td>38.7</td><td>20.9</td></tr><tr><td>40.8</td><td>29.0</td></tr><tr><td>40.0</td><td>22.9</td></tr><tr><td>38.7</td><td>16.0</td></tr><tr><td>40.6</td><td>16.5</td></tr><tr><td>38.0</td><td>19.1</td></tr><tr><td>40.6</td><td>15.2</td></tr><tr><td>35.3</td><td>15.6</td></tr><tr><td>36.2</td><td>17.7</td></tr><tr><td>35.5</td><td>14.0</td></tr><tr><td>36.7</td><td>3.7</td></tr><tr><td>34.7</td><td>7.9</td></tr><tr><td>36.0</td><td>22.9</td></tr><tr><td>34.5</td><td>3.7</td></tr><tr><td>35.3</td><td>8.8</td></tr><tr><td>38.7</td><td>11.9</td></tr><tr><td>38.8</td><td>5.7</td></tr><tr><td>36.2</td><td>11.8</td></tr><tr><td>44.2</td><td>21.3</td></tr><tr><td>43.3</td><td>32.3</td></tr><tr><td>38.3</td><td>40.1</td></tr><tr><td>39.9</td><td>24.2</td></tr><tr><td>41.5</td><td>28.4</td></tr><tr><td>49.1</td><td>35.2</td></tr><tr><td>41.1</td><td>32.6</td></tr><tr><td>39.6</td><td>34.5</td></tr><tr><td>42.5</td><td>32.9</td></tr><tr><td>40.9</td><td>31.6</td></tr><tr><td>40.2</td><td>32.0</td></tr><tr><td>34.7</td><td>7.7</td></tr><tr><td>38.2</td><td>13.9</td></tr><tr><td>34.5</td><td>10.8</td></tr><tr><td>37.5</td><td>5.6</td></tr><tr><td>35.8</td><td>13.6</td></tr><tr><td>34.4</td><td>4.0</td></tr><tr><td>37.2</td><td>10.2</td></tr><tr><td>34.9</td><td>6.6</td></tr><tr><td>33.7</td><td>8.0</td></tr><tr><td>37.6</td><td>6.3</td></tr><tr><td>34.9</td><td>3.9</td></tr><tr><td>38.0</td><td>22.6</td></tr><tr><td>39.6</td><td>20.4</td></tr><tr><td>39.8</td><td>28.0</td></tr><tr><td>38.0</td><td>31.5</td></tr><tr><td>37.7</td><td>24.6</td></tr><tr><td>40.9</td><td>26.1</td></tr><tr><td>38.0</td><td>29.8</td></tr><tr><td>39.4</td><td>30.7</td></tr><tr><td>40.1</td><td>25.8</td></tr><tr><td>41.2</td><td>32.3</td></tr><tr><td>40.2</td><td>30.0</td></tr><tr><td>36.1</td><td>21.5</td></tr><tr><td>35.4</td><td>13.8</td></tr><tr><td>37.4</td><td>6.3</td></tr><tr><td>37.4</td><td>12.9</td></tr><tr><td>38.6</td><td>24.3</td></tr><tr><td>37.6</td><td>8.8</td></tr><tr><td>37.5</td><td>8.5</td></tr><tr><td>35.4</td><td>13.5</td></tr><tr><td>35.2</td><td>11.8</td></tr><tr><td>37.0</td><td>18.5</td></tr><tr><td>39.7</td><td>8.8</td></tr><tr><td>38.3</td><td>22.2</td></tr><tr><td>37.5</td><td>21.5</td></tr><tr><td>39.3</td><td>18.8</td></tr><tr><td>38.2</td><td>31.4</td></tr><tr><td>38.0</td><td>26.8</td></tr><tr><td>39.0</td><td>18.4</td></tr><tr><td>36.5</td><td>27.0</td></tr><tr><td>36.6</td><td>27.0</td></tr><tr><td>37.8</td><td>26.6</td></tr><tr><td>37.7</td><td>14.9</td></tr><tr><td>39.5</td><td>23.1</td></tr><tr><td>38.4</td><td>8.3</td></tr><tr><td>39.9</td><td>14.1</td></tr><tr><td>38.2</td><td>20.5</td></tr><tr><td>39.7</td><td>18.2</td></tr><tr><td>38.3</td><td>8.5</td></tr><tr><td>40.5</td><td>24.9</td></tr><tr><td>39.6</td><td>9.0</td></tr><tr><td>42.3</td><td>17.4</td></tr><tr><td>39.4</td><td>9.6</td></tr><tr><td>39.3</td><td>11.3</td></tr><tr><td>37.3</td><td>17.8</td></tr><tr><td>39.0</td><td>22.2</td></tr><tr><td>39.4</td><td>21.2</td></tr><tr><td>38.4</td><td>20.4</td></tr><tr><td>38.4</td><td>20.1</td></tr><tr><td>39.8</td><td>22.3</td></tr><tr><td>36.1</td><td>25.4</td></tr><tr><td>39.0</td><td>18.0</td></tr><tr><td>39.3</td><td>19.3</td></tr><tr><td>38.7</td><td>18.3</td></tr><tr><td>40.0</td><td>17.3</td></tr><tr><td>36.8</td><td>21.4</td></tr><tr><td>38.0</td><td>19.7</td></tr><tr><td>40.0</td><td>28.0</td></tr><tr><td>38.1</td><td>22.1</td></tr><tr><td>37.8</td><td>21.3</td></tr><tr><td>38.1</td><td>26.7</td></tr><tr><td>36.3</td><td>16.7</td></tr><tr><td>38.4</td><td>20.1</td></tr><tr><td>38.8</td><td>13.9</td></tr><tr><td>41.1</td><td>25.8</td></tr><tr><td>39.2</td><td>18.1</td></tr><tr><td>39.3</td><td>27.9</td></tr><tr><td>40.5</td><td>25.3</td></tr><tr><td>38.7</td><td>14.7</td></tr><tr><td>36.5</td><td>16.0</td></tr><tr><td>36.6</td><td>13.8</td></tr><tr><td>36.0</td><td>17.5</td></tr><tr><td>36.8</td><td>27.2</td></tr><tr><td>35.8</td><td>17.4</td></tr><tr><td>39.0</td><td>20.8</td></tr><tr><td>36.9</td><td>14.9</td></tr><tr><td>38.7</td><td>18.1</td></tr><tr><td>38.5</td><td>22.7</td></tr><tr><td>38.1</td><td>23.6</td></tr><tr><td>35.6</td><td>26.1</td></tr><tr><td>36.9</td><td>24.4</td></tr><tr><td>37.9</td><td>27.1</td></tr><tr><td>36.1</td><td>21.8</td></tr><tr><td>39.2</td><td>29.4</td></tr><tr><td>38.4</td><td>22.4</td></tr><tr><td>42.5</td><td>20.4</td></tr><tr><td>39.6</td><td>24.9</td></tr><tr><td>38.2</td><td>18.3</td></tr><tr><td>36.7</td><td>23.3</td></tr><tr><td>36.1</td><td>9.4</td></tr><tr><td>37.6</td><td>10.3</td></tr><tr><td>36.5</td><td>14.2</td></tr><tr><td>43.5</td><td>19.2</td></tr><tr><td>40.8</td><td>29.6</td></tr><tr><td>35.7</td><td>5.3</td></tr><tr><td>42.7</td><td>25.2</td></tr><tr><td>35.9</td><td>9.4</td></tr><tr><td>43.5</td><td>19.6</td></tr><tr><td>36.8</td><td>10.1</td></tr><tr><td>37.4</td><td>16.5</td></tr><tr><td>40.0</td><td>21.0</td></tr><tr><td>37.8</td><td>17.3</td></tr><tr><td>40.0</td><td>31.2</td></tr><tr><td>38.5</td><td>10.0</td></tr><tr><td>34.8</td><td>12.5</td></tr><tr><td>39.0</td><td>22.5</td></tr><tr><td>36.6</td><td>9.4</td></tr><tr><td>40.6</td><td>14.6</td></tr><tr><td>37.3</td><td>13.0</td></tr><tr><td>35.6</td><td>15.1</td></tr><tr><td>42.0</td><td>27.3</td></tr><tr><td>41.3</td><td>19.2</td></tr><tr><td>34.2</td><td>21.8</td></tr><tr><td>41.7</td><td>20.3</td></tr><tr><td>40.6</td><td>34.3</td></tr><tr><td>39.1</td><td>16.5</td></tr><tr><td>36.2</td><td>3.0</td></tr><tr><td>34.8</td><td>0.7</td></tr><tr><td>37.3</td><td>20.5</td></tr><tr><td>37.7</td><td>16.9</td></tr><tr><td>42.4</td><td>25.3</td></tr><tr><td>34.8</td><td>9.9</td></tr><tr><td>38.1</td><td>13.1</td></tr><tr><td>42.6</td><td>29.9</td></tr><tr><td>39.5</td><td>22.5</td></tr><tr><td>43.1</td><td>16.9</td></tr><tr><td>42.8</td><td>26.6</td></tr><tr><td>33.5</td><td>0.0</td></tr><tr><td>36.2</td><td>11.5</td></tr><tr><td>39.4</td><td>12.1</td></tr><tr><td>38.9</td><td>17.5</td></tr><tr><td>39.7</td><td>8.6</td></tr><tr><td>41.3</td><td>23.6</td></tr><tr><td>39.8</td><td>20.4</td></tr><tr><td>41.3</td><td>20.5</td></tr><tr><td>40.4</td><td>24.4</td></tr><tr><td>36.3</td><td>11.4</td></tr><tr><td>45.0</td><td>38.1</td></tr><tr><td>38.6</td><td>15.9</td></tr><tr><td>43.3</td><td>24.7</td></tr><tr><td>38.9</td><td>22.8</td></tr><tr><td>38.4</td><td>25.5</td></tr><tr><td>38.6</td><td>22.0</td></tr><tr><td>38.0</td><td>17.7</td></tr><tr><td>40.0</td><td>6.6</td></tr><tr><td>39.0</td><td>23.6</td></tr><tr><td>39.2</td><td>12.2</td></tr><tr><td>35.7</td><td>22.1</td></tr><tr><td>38.3</td><td>28.7</td></tr><tr><td>39.0</td><td>6.0</td></tr><tr><td>40.3</td><td>34.8</td></tr><tr><td>39.8</td><td>16.6</td></tr><tr><td>37.6</td><td>32.9</td></tr><tr><td>39.4</td><td>32.8</td></tr><tr><td>36.2</td><td>9.6</td></tr><tr><td>38.2</td><td>10.8</td></tr><tr><td>35.0</td><td>7.1</td></tr><tr><td>40.3</td><td>27.2</td></tr><tr><td>38.8</td><td>19.5</td></tr><tr><td>40.9</td><td>18.7</td></tr><tr><td>38.1</td><td>19.5</td></tr><tr><td>36.9</td><td>47.5</td></tr><tr><td>36.5</td><td>13.6</td></tr><tr><td>39.0</td><td>7.5</td></tr><tr><td>39.2</td><td>24.5</td></tr><tr><td>36.2</td><td>15.0</td></tr><tr><td>38.1</td><td>12.4</td></tr><tr><td>42.7</td><td>26.0</td></tr><tr><td>40.2</td><td>11.5</td></tr><tr><td>35.2</td><td>5.2</td></tr><tr><td>37.1</td><td>10.9</td></tr><tr><td>33.0</td><td>12.5</td></tr><tr><td>38.5</td><td>14.8</td></tr><tr><td>42.6</td><td>25.2</td></tr><tr><td>37.4</td><td>14.9</td></tr><tr><td>38.8</td><td>17.0</td></tr><tr><td>35.0</td><td>10.6</td></tr><tr><td>38.6</td><td>16.1</td></tr><tr><td>38.9</td><td>15.4</td></tr><tr><td>35.9</td><td>26.7</td></tr><tr><td>35.7</td><td>25.8</td></tr><tr><td>37.1</td><td>18.6</td></tr><tr><td>40.3</td><td>24.8</td></tr><tr><td>41.1</td><td>27.3</td></tr><tr><td>39.1</td><td>12.4</td></tr><tr><td>38.1</td><td>29.9</td></tr><tr><td>33.4</td><td>17.0</td></tr><tr><td>42.1</td><td>35.0</td></tr><tr><td>42.4</td><td>30.4</td></tr><tr><td>46.0</td><td>32.6</td></tr><tr><td>38.8</td><td>29.0</td></tr><tr><td>37.5</td><td>15.2</td></tr><tr><td>44.0</td><td>30.2</td></tr><tr><td>34.8</td><td>11.0</td></tr><tr><td>40.8</td><td>33.6</td></tr><tr><td>37.3</td><td>29.3</td></tr><tr><td>41.6</td><td>26.0</td></tr><tr><td>42.2</td><td>31.9</td></tr></tbody></table></div>"
      ]
     },
     "metadata": {
      "application/vnd.databricks.v1+output": {
       "addedWidgets": {},
       "aggData": [],
       "aggError": "",
       "aggOverflow": false,
       "aggSchema": [],
       "aggSeriesLimitReached": false,
       "aggType": "",
       "arguments": {},
       "columnCustomDisplayInfos": {},
       "data": [
        [
         37.3,
         12.3
        ],
        [
         37.3,
         6.1
        ],
        [
         38.9,
         25.3
        ],
        [
         37.3,
         10.4
        ],
        [
         42.2,
         28.7
        ],
        [
         42.0,
         20.9
        ],
        [
         38.3,
         19.2
        ],
        [
         39.4,
         12.4
        ],
        [
         38.3,
         4.1
        ],
        [
         41.7,
         11.7
        ],
        [
         39.7,
         7.1
        ],
        [
         39.2,
         7.8
        ],
        [
         38.3,
         20.8
        ],
        [
         41.5,
         21.2
        ],
        [
         39.0,
         22.1
        ],
        [
         38.7,
         20.9
        ],
        [
         40.8,
         29.0
        ],
        [
         40.0,
         22.9
        ],
        [
         38.7,
         16.0
        ],
        [
         40.6,
         16.5
        ],
        [
         38.0,
         19.1
        ],
        [
         40.6,
         15.2
        ],
        [
         35.3,
         15.6
        ],
        [
         36.2,
         17.7
        ],
        [
         35.5,
         14.0
        ],
        [
         36.7,
         3.7
        ],
        [
         34.7,
         7.9
        ],
        [
         36.0,
         22.9
        ],
        [
         34.5,
         3.7
        ],
        [
         35.3,
         8.8
        ],
        [
         38.7,
         11.9
        ],
        [
         38.8,
         5.7
        ],
        [
         36.2,
         11.8
        ],
        [
         44.2,
         21.3
        ],
        [
         43.3,
         32.3
        ],
        [
         38.3,
         40.1
        ],
        [
         39.9,
         24.2
        ],
        [
         41.5,
         28.4
        ],
        [
         49.1,
         35.2
        ],
        [
         41.1,
         32.6
        ],
        [
         39.6,
         34.5
        ],
        [
         42.5,
         32.9
        ],
        [
         40.9,
         31.6
        ],
        [
         40.2,
         32.0
        ],
        [
         34.7,
         7.7
        ],
        [
         38.2,
         13.9
        ],
        [
         34.5,
         10.8
        ],
        [
         37.5,
         5.6
        ],
        [
         35.8,
         13.6
        ],
        [
         34.4,
         4.0
        ],
        [
         37.2,
         10.2
        ],
        [
         34.9,
         6.6
        ],
        [
         33.7,
         8.0
        ],
        [
         37.6,
         6.3
        ],
        [
         34.9,
         3.9
        ],
        [
         38.0,
         22.6
        ],
        [
         39.6,
         20.4
        ],
        [
         39.8,
         28.0
        ],
        [
         38.0,
         31.5
        ],
        [
         37.7,
         24.6
        ],
        [
         40.9,
         26.1
        ],
        [
         38.0,
         29.8
        ],
        [
         39.4,
         30.7
        ],
        [
         40.1,
         25.8
        ],
        [
         41.2,
         32.3
        ],
        [
         40.2,
         30.0
        ],
        [
         36.1,
         21.5
        ],
        [
         35.4,
         13.8
        ],
        [
         37.4,
         6.3
        ],
        [
         37.4,
         12.9
        ],
        [
         38.6,
         24.3
        ],
        [
         37.6,
         8.8
        ],
        [
         37.5,
         8.5
        ],
        [
         35.4,
         13.5
        ],
        [
         35.2,
         11.8
        ],
        [
         37.0,
         18.5
        ],
        [
         39.7,
         8.8
        ],
        [
         38.3,
         22.2
        ],
        [
         37.5,
         21.5
        ],
        [
         39.3,
         18.8
        ],
        [
         38.2,
         31.4
        ],
        [
         38.0,
         26.8
        ],
        [
         39.0,
         18.4
        ],
        [
         36.5,
         27.0
        ],
        [
         36.6,
         27.0
        ],
        [
         37.8,
         26.6
        ],
        [
         37.7,
         14.9
        ],
        [
         39.5,
         23.1
        ],
        [
         38.4,
         8.3
        ],
        [
         39.9,
         14.1
        ],
        [
         38.2,
         20.5
        ],
        [
         39.7,
         18.2
        ],
        [
         38.3,
         8.5
        ],
        [
         40.5,
         24.9
        ],
        [
         39.6,
         9.0
        ],
        [
         42.3,
         17.4
        ],
        [
         39.4,
         9.6
        ],
        [
         39.3,
         11.3
        ],
        [
         37.3,
         17.8
        ],
        [
         39.0,
         22.2
        ],
        [
         39.4,
         21.2
        ],
        [
         38.4,
         20.4
        ],
        [
         38.4,
         20.1
        ],
        [
         39.8,
         22.3
        ],
        [
         36.1,
         25.4
        ],
        [
         39.0,
         18.0
        ],
        [
         39.3,
         19.3
        ],
        [
         38.7,
         18.3
        ],
        [
         40.0,
         17.3
        ],
        [
         36.8,
         21.4
        ],
        [
         38.0,
         19.7
        ],
        [
         40.0,
         28.0
        ],
        [
         38.1,
         22.1
        ],
        [
         37.8,
         21.3
        ],
        [
         38.1,
         26.7
        ],
        [
         36.3,
         16.7
        ],
        [
         38.4,
         20.1
        ],
        [
         38.8,
         13.9
        ],
        [
         41.1,
         25.8
        ],
        [
         39.2,
         18.1
        ],
        [
         39.3,
         27.9
        ],
        [
         40.5,
         25.3
        ],
        [
         38.7,
         14.7
        ],
        [
         36.5,
         16.0
        ],
        [
         36.6,
         13.8
        ],
        [
         36.0,
         17.5
        ],
        [
         36.8,
         27.2
        ],
        [
         35.8,
         17.4
        ],
        [
         39.0,
         20.8
        ],
        [
         36.9,
         14.9
        ],
        [
         38.7,
         18.1
        ],
        [
         38.5,
         22.7
        ],
        [
         38.1,
         23.6
        ],
        [
         35.6,
         26.1
        ],
        [
         36.9,
         24.4
        ],
        [
         37.9,
         27.1
        ],
        [
         36.1,
         21.8
        ],
        [
         39.2,
         29.4
        ],
        [
         38.4,
         22.4
        ],
        [
         42.5,
         20.4
        ],
        [
         39.6,
         24.9
        ],
        [
         38.2,
         18.3
        ],
        [
         36.7,
         23.3
        ],
        [
         36.1,
         9.4
        ],
        [
         37.6,
         10.3
        ],
        [
         36.5,
         14.2
        ],
        [
         43.5,
         19.2
        ],
        [
         40.8,
         29.6
        ],
        [
         35.7,
         5.3
        ],
        [
         42.7,
         25.2
        ],
        [
         35.9,
         9.4
        ],
        [
         43.5,
         19.6
        ],
        [
         36.8,
         10.1
        ],
        [
         37.4,
         16.5
        ],
        [
         40.0,
         21.0
        ],
        [
         37.8,
         17.3
        ],
        [
         40.0,
         31.2
        ],
        [
         38.5,
         10.0
        ],
        [
         34.8,
         12.5
        ],
        [
         39.0,
         22.5
        ],
        [
         36.6,
         9.4
        ],
        [
         40.6,
         14.6
        ],
        [
         37.3,
         13.0
        ],
        [
         35.6,
         15.1
        ],
        [
         42.0,
         27.3
        ],
        [
         41.3,
         19.2
        ],
        [
         34.2,
         21.8
        ],
        [
         41.7,
         20.3
        ],
        [
         40.6,
         34.3
        ],
        [
         39.1,
         16.5
        ],
        [
         36.2,
         3.0
        ],
        [
         34.8,
         0.7
        ],
        [
         37.3,
         20.5
        ],
        [
         37.7,
         16.9
        ],
        [
         42.4,
         25.3
        ],
        [
         34.8,
         9.9
        ],
        [
         38.1,
         13.1
        ],
        [
         42.6,
         29.9
        ],
        [
         39.5,
         22.5
        ],
        [
         43.1,
         16.9
        ],
        [
         42.8,
         26.6
        ],
        [
         33.5,
         0.0
        ],
        [
         36.2,
         11.5
        ],
        [
         39.4,
         12.1
        ],
        [
         38.9,
         17.5
        ],
        [
         39.7,
         8.6
        ],
        [
         41.3,
         23.6
        ],
        [
         39.8,
         20.4
        ],
        [
         41.3,
         20.5
        ],
        [
         40.4,
         24.4
        ],
        [
         36.3,
         11.4
        ],
        [
         45.0,
         38.1
        ],
        [
         38.6,
         15.9
        ],
        [
         43.3,
         24.7
        ],
        [
         38.9,
         22.8
        ],
        [
         38.4,
         25.5
        ],
        [
         38.6,
         22.0
        ],
        [
         38.0,
         17.7
        ],
        [
         40.0,
         6.6
        ],
        [
         39.0,
         23.6
        ],
        [
         39.2,
         12.2
        ],
        [
         35.7,
         22.1
        ],
        [
         38.3,
         28.7
        ],
        [
         39.0,
         6.0
        ],
        [
         40.3,
         34.8
        ],
        [
         39.8,
         16.6
        ],
        [
         37.6,
         32.9
        ],
        [
         39.4,
         32.8
        ],
        [
         36.2,
         9.6
        ],
        [
         38.2,
         10.8
        ],
        [
         35.0,
         7.1
        ],
        [
         40.3,
         27.2
        ],
        [
         38.8,
         19.5
        ],
        [
         40.9,
         18.7
        ],
        [
         38.1,
         19.5
        ],
        [
         36.9,
         47.5
        ],
        [
         36.5,
         13.6
        ],
        [
         39.0,
         7.5
        ],
        [
         39.2,
         24.5
        ],
        [
         36.2,
         15.0
        ],
        [
         38.1,
         12.4
        ],
        [
         42.7,
         26.0
        ],
        [
         40.2,
         11.5
        ],
        [
         35.2,
         5.2
        ],
        [
         37.1,
         10.9
        ],
        [
         33.0,
         12.5
        ],
        [
         38.5,
         14.8
        ],
        [
         42.6,
         25.2
        ],
        [
         37.4,
         14.9
        ],
        [
         38.8,
         17.0
        ],
        [
         35.0,
         10.6
        ],
        [
         38.6,
         16.1
        ],
        [
         38.9,
         15.4
        ],
        [
         35.9,
         26.7
        ],
        [
         35.7,
         25.8
        ],
        [
         37.1,
         18.6
        ],
        [
         40.3,
         24.8
        ],
        [
         41.1,
         27.3
        ],
        [
         39.1,
         12.4
        ],
        [
         38.1,
         29.9
        ],
        [
         33.4,
         17.0
        ],
        [
         42.1,
         35.0
        ],
        [
         42.4,
         30.4
        ],
        [
         46.0,
         32.6
        ],
        [
         38.8,
         29.0
        ],
        [
         37.5,
         15.2
        ],
        [
         44.0,
         30.2
        ],
        [
         34.8,
         11.0
        ],
        [
         40.8,
         33.6
        ],
        [
         37.3,
         29.3
        ],
        [
         41.6,
         26.0
        ],
        [
         42.2,
         31.9
        ]
       ],
       "datasetInfos": [],
       "dbfsResultPath": null,
       "isJsonSchema": true,
       "metadata": {},
       "overflow": false,
       "plotOptions": {
        "customPlotOptions": {},
        "displayType": "table",
        "pivotAggregation": null,
        "pivotColumns": null,
        "xColumns": null,
        "yColumns": null
       },
       "removedWidgets": [],
       "schema": [
        {
         "metadata": "{}",
         "name": "Knee",
         "type": "\"double\""
        },
        {
         "metadata": "{}",
         "name": "BodyFat",
         "type": "\"double\""
        }
       ],
       "type": "table"
      }
     },
     "output_type": "display_data"
    },
    {
     "output_type": "display_data",
     "data": {
      "text/plain": [
       "Databricks visualization. Run in Databricks to view."
      ]
     },
     "metadata": {
      "application/vnd.databricks.v1.subcommand+json": {
       "baseErrorDetails": null,
       "bindings": {},
       "collapsed": false,
       "command": "%sql WITH q AS (SELECT Knee, BodyFat FROM BodyFat) SELECT `Knee`,`BodyFat` FROM q",
       "commandTitle": "Visualization 1",
       "commandType": "auto",
       "commandVersion": 0,
       "commentThread": [],
       "commentsVisible": false,
       "contentSha256Hex": null,
       "customPlotOptions": {
        "redashChart": [
         {
          "key": "type",
          "value": "CHART"
         },
         {
          "key": "options",
          "value": {
           "alignYAxesAtZero": true,
           "coefficient": 1,
           "columnConfigurationMap": {
            "x": {
             "column": "Knee",
             "id": "column_dcde195e38"
            },
            "y": [
             {
              "column": "BodyFat",
              "id": "column_dcde195e39"
             }
            ]
           },
           "dateTimeFormat": "DD/MM/YYYY HH:mm",
           "direction": {
            "type": "counterclockwise"
           },
           "error_y": {
            "type": "data",
            "visible": true
           },
           "globalSeriesType": "scatter",
           "legend": {
            "traceorder": "normal"
           },
           "missingValuesAsZero": true,
           "numberFormat": "0,0.[00000]",
           "percentFormat": "0[.]00%",
           "series": {
            "error_y": {
             "type": "data",
             "visible": true
            },
            "stacking": null
           },
           "seriesOptions": {
            "column_dcde195e39": {
             "name": "BodyFat",
             "yAxis": 0
            }
           },
           "showDataLabels": false,
           "sizemode": "diameter",
           "sortX": true,
           "sortY": true,
           "swappedAxes": false,
           "textFormat": "",
           "useAggregationsUi": true,
           "valuesOptions": {},
           "version": 2,
           "xAxis": {
            "labels": {
             "enabled": true
            },
            "type": "-"
           },
           "yAxis": [
            {
             "type": "-"
            },
            {
             "opposite": true,
             "type": "-"
            }
           ]
          }
         }
        ]
       },
       "datasetPreviewNameToCmdIdMap": {},
       "diffDeletes": [],
       "diffInserts": [],
       "displayType": "redashChart",
       "error": null,
       "errorDetails": null,
       "errorSummary": null,
       "errorTraceType": null,
       "finishTime": 0,
       "globalVars": {},
       "guid": "",
       "height": "auto",
       "hideCommandCode": false,
       "hideCommandResult": false,
       "iPythonMetadata": null,
       "inputWidgets": {},
       "isLockedInExamMode": false,
       "latestUser": "a user",
       "latestUserId": null,
       "listResultMetadata": null,
       "metadata": {},
       "nuid": "a84f98fc-b461-4702-b97d-a8f77e8d4d01",
       "origId": 0,
       "parentHierarchy": [],
       "pivotAggregation": null,
       "pivotColumns": null,
       "position": 32.75,
       "resultDbfsErrorMessage": null,
       "resultDbfsStatus": "INLINED_IN_TREE",
       "results": null,
       "showCommandTitle": false,
       "startTime": 0,
       "state": "input",
       "streamStates": {},
       "subcommandOptions": {
        "queryPlan": {
         "selects": [
          {
           "column": "Knee",
           "type": "column"
          },
          {
           "column": "BodyFat",
           "type": "column"
          }
         ]
        }
       },
       "submitTime": 0,
       "subtype": "tableResultSubCmd.visualization",
       "tableResultIndex": 0,
       "useConsistentColors": false,
       "version": "CommandV1",
       "width": "auto",
       "workflows": [],
       "xColumns": null,
       "yColumns": null
      }
     },
     "output_type": "display_data"
    }
   ],
   "source": [
    "%sql\n",
    "\n",
    "SELECT Knee, BodyFat FROM BodyFat;"
   ]
  },
  {
   "cell_type": "code",
   "execution_count": 0,
   "metadata": {
    "application/vnd.databricks.v1+cell": {
     "cellMetadata": {
      "byteLimit": 2048000,
      "implicitDf": true,
      "rowLimit": 10000
     },
     "inputWidgets": {},
     "nuid": "17e873b7-7c8b-4f1c-832d-2b8cd1f29f7b",
     "showTitle": false,
     "title": ""
    }
   },
   "outputs": [
    {
     "output_type": "display_data",
     "data": {
      "text/html": [
       "<style scoped>\n",
       "  .table-result-container {\n",
       "    max-height: 300px;\n",
       "    overflow: auto;\n",
       "  }\n",
       "  table, th, td {\n",
       "    border: 1px solid black;\n",
       "    border-collapse: collapse;\n",
       "  }\n",
       "  th, td {\n",
       "    padding: 5px;\n",
       "  }\n",
       "  th {\n",
       "    text-align: left;\n",
       "  }\n",
       "</style><div class='table-result-container'><table class='table-result'><thead style='background-color: white'><tr><th>Ankle</th><th>BodyFat</th></tr></thead><tbody><tr><td>21.9</td><td>12.3</td></tr><tr><td>23.4</td><td>6.1</td></tr><tr><td>24.0</td><td>25.3</td></tr><tr><td>22.8</td><td>10.4</td></tr><tr><td>24.0</td><td>28.7</td></tr><tr><td>25.6</td><td>20.9</td></tr><tr><td>22.9</td><td>19.2</td></tr><tr><td>23.2</td><td>12.4</td></tr><tr><td>23.8</td><td>4.1</td></tr><tr><td>25.0</td><td>11.7</td></tr><tr><td>25.2</td><td>7.1</td></tr><tr><td>25.9</td><td>7.8</td></tr><tr><td>21.5</td><td>20.8</td></tr><tr><td>23.7</td><td>21.2</td></tr><tr><td>23.1</td><td>22.1</td></tr><tr><td>21.7</td><td>20.9</td></tr><tr><td>23.1</td><td>29.0</td></tr><tr><td>24.4</td><td>22.9</td></tr><tr><td>22.9</td><td>16.0</td></tr><tr><td>24.0</td><td>16.5</td></tr><tr><td>22.1</td><td>19.1</td></tr><tr><td>24.6</td><td>15.2</td></tr><tr><td>22.2</td><td>15.6</td></tr><tr><td>22.1</td><td>17.7</td></tr><tr><td>22.9</td><td>14.0</td></tr><tr><td>22.5</td><td>3.7</td></tr><tr><td>21.4</td><td>7.9</td></tr><tr><td>21.0</td><td>22.9</td></tr><tr><td>21.3</td><td>3.7</td></tr><tr><td>22.6</td><td>8.8</td></tr><tr><td>33.9</td><td>11.9</td></tr><tr><td>21.5</td><td>5.7</td></tr><tr><td>24.5</td><td>11.8</td></tr><tr><td>25.2</td><td>21.3</td></tr><tr><td>26.3</td><td>32.3</td></tr><tr><td>21.9</td><td>40.1</td></tr><tr><td>22.6</td><td>24.2</td></tr><tr><td>24.7</td><td>28.4</td></tr><tr><td>29.6</td><td>35.2</td></tr><tr><td>24.7</td><td>32.6</td></tr><tr><td>26.6</td><td>34.5</td></tr><tr><td>23.7</td><td>32.9</td></tr><tr><td>25.0</td><td>31.6</td></tr><tr><td>23.0</td><td>32.0</td></tr><tr><td>21.0</td><td>7.7</td></tr><tr><td>23.4</td><td>13.9</td></tr><tr><td>22.5</td><td>10.8</td></tr><tr><td>21.9</td><td>5.6</td></tr><tr><td>20.6</td><td>13.6</td></tr><tr><td>21.9</td><td>4.0</td></tr><tr><td>22.4</td><td>10.2</td></tr><tr><td>21.0</td><td>6.6</td></tr><tr><td>21.4</td><td>8.0</td></tr><tr><td>22.6</td><td>6.3</td></tr><tr><td>22.5</td><td>3.9</td></tr><tr><td>22.0</td><td>22.6</td></tr><tr><td>22.5</td><td>20.4</td></tr><tr><td>22.7</td><td>28.0</td></tr><tr><td>22.5</td><td>31.5</td></tr><tr><td>22.9</td><td>24.6</td></tr><tr><td>23.1</td><td>26.1</td></tr><tr><td>22.1</td><td>29.8</td></tr><tr><td>23.6</td><td>30.7</td></tr><tr><td>22.7</td><td>25.8</td></tr><tr><td>24.7</td><td>32.3</td></tr><tr><td>22.7</td><td>30.0</td></tr><tr><td>21.7</td><td>21.5</td></tr><tr><td>21.5</td><td>13.8</td></tr><tr><td>22.4</td><td>6.3</td></tr><tr><td>21.6</td><td>12.9</td></tr><tr><td>22.4</td><td>24.3</td></tr><tr><td>21.6</td><td>8.8</td></tr><tr><td>23.1</td><td>8.5</td></tr><tr><td>19.1</td><td>13.5</td></tr><tr><td>20.9</td><td>11.8</td></tr><tr><td>21.4</td><td>18.5</td></tr><tr><td>24.2</td><td>8.8</td></tr><tr><td>21.8</td><td>22.2</td></tr><tr><td>21.5</td><td>21.5</td></tr><tr><td>22.7</td><td>18.8</td></tr><tr><td>23.7</td><td>31.4</td></tr><tr><td>22.0</td><td>26.8</td></tr><tr><td>23.0</td><td>18.4</td></tr><tr><td>24.1</td><td>27.0</td></tr><tr><td>22.0</td><td>27.0</td></tr><tr><td>33.7</td><td>26.6</td></tr><tr><td>21.8</td><td>14.9</td></tr><tr><td>23.3</td><td>23.1</td></tr><tr><td>23.8</td><td>8.3</td></tr><tr><td>24.4</td><td>14.1</td></tr><tr><td>22.5</td><td>20.5</td></tr><tr><td>23.1</td><td>18.2</td></tr><tr><td>22.1</td><td>8.5</td></tr><tr><td>24.5</td><td>24.9</td></tr><tr><td>24.6</td><td>9.0</td></tr><tr><td>23.2</td><td>17.4</td></tr><tr><td>22.9</td><td>9.6</td></tr><tr><td>23.3</td><td>11.3</td></tr><tr><td>21.9</td><td>17.8</td></tr><tr><td>22.3</td><td>22.2</td></tr><tr><td>22.3</td><td>21.2</td></tr><tr><td>22.4</td><td>20.4</td></tr><tr><td>23.2</td><td>20.1</td></tr><tr><td>25.4</td><td>22.3</td></tr><tr><td>22.0</td><td>25.4</td></tr><tr><td>24.8</td><td>18.0</td></tr><tr><td>23.5</td><td>19.3</td></tr><tr><td>23.4</td><td>18.3</td></tr><tr><td>24.8</td><td>17.3</td></tr><tr><td>22.8</td><td>21.4</td></tr><tr><td>22.3</td><td>19.7</td></tr><tr><td>23.6</td><td>28.0</td></tr><tr><td>23.9</td><td>22.1</td></tr><tr><td>21.9</td><td>21.3</td></tr><tr><td>21.8</td><td>26.7</td></tr><tr><td>22.1</td><td>16.7</td></tr><tr><td>22.8</td><td>20.1</td></tr><tr><td>23.3</td><td>13.9</td></tr><tr><td>24.8</td><td>25.8</td></tr><tr><td>24.5</td><td>18.1</td></tr><tr><td>24.6</td><td>27.9</td></tr><tr><td>23.2</td><td>25.3</td></tr><tr><td>22.6</td><td>14.7</td></tr><tr><td>22.1</td><td>16.0</td></tr><tr><td>23.5</td><td>13.8</td></tr><tr><td>21.9</td><td>17.5</td></tr><tr><td>22.2</td><td>27.2</td></tr><tr><td>20.8</td><td>17.4</td></tr><tr><td>21.8</td><td>20.8</td></tr><tr><td>22.2</td><td>14.9</td></tr><tr><td>23.2</td><td>18.1</td></tr><tr><td>23.0</td><td>22.7</td></tr><tr><td>22.6</td><td>23.6</td></tr><tr><td>20.5</td><td>26.1</td></tr><tr><td>23.0</td><td>24.4</td></tr><tr><td>22.7</td><td>27.1</td></tr><tr><td>22.4</td><td>21.8</td></tr><tr><td>23.8</td><td>29.4</td></tr><tr><td>22.5</td><td>22.4</td></tr><tr><td>24.5</td><td>20.4</td></tr><tr><td>21.6</td><td>24.9</td></tr><tr><td>22.0</td><td>18.3</td></tr><tr><td>22.3</td><td>23.3</td></tr><tr><td>22.7</td><td>9.4</td></tr><tr><td>23.2</td><td>10.3</td></tr><tr><td>22.0</td><td>14.2</td></tr><tr><td>25.2</td><td>19.2</td></tr><tr><td>24.6</td><td>29.6</td></tr><tr><td>22.0</td><td>5.3</td></tr><tr><td>24.7</td><td>25.2</td></tr><tr><td>20.4</td><td>9.4</td></tr><tr><td>25.1</td><td>19.6</td></tr><tr><td>23.8</td><td>10.1</td></tr><tr><td>22.8</td><td>16.5</td></tr><tr><td>24.9</td><td>21.0</td></tr><tr><td>21.7</td><td>17.3</td></tr><tr><td>25.2</td><td>31.2</td></tr><tr><td>25.0</td><td>10.0</td></tr><tr><td>21.8</td><td>12.5</td></tr><tr><td>24.6</td><td>22.5</td></tr><tr><td>21.0</td><td>9.4</td></tr><tr><td>25.0</td><td>14.6</td></tr><tr><td>23.5</td><td>13.0</td></tr><tr><td>20.4</td><td>15.1</td></tr><tr><td>23.4</td><td>27.3</td></tr><tr><td>25.6</td><td>19.2</td></tr><tr><td>21.9</td><td>21.8</td></tr><tr><td>24.6</td><td>20.3</td></tr><tr><td>24.0</td><td>34.3</td></tr><tr><td>23.4</td><td>16.5</td></tr><tr><td>22.1</td><td>3.0</td></tr><tr><td>22.0</td><td>0.7</td></tr><tr><td>22.4</td><td>20.5</td></tr><tr><td>21.5</td><td>16.9</td></tr><tr><td>24.0</td><td>25.3</td></tr><tr><td>22.2</td><td>9.9</td></tr><tr><td>22.0</td><td>13.1</td></tr><tr><td>24.8</td><td>29.9</td></tr><tr><td>24.7</td><td>22.5</td></tr><tr><td>25.8</td><td>16.9</td></tr><tr><td>24.1</td><td>26.6</td></tr><tr><td>20.2</td><td>0.0</td></tr><tr><td>21.8</td><td>11.5</td></tr><tr><td>22.7</td><td>12.1</td></tr><tr><td>22.4</td><td>17.5</td></tr><tr><td>22.6</td><td>8.6</td></tr><tr><td>24.7</td><td>23.6</td></tr><tr><td>23.5</td><td>20.4</td></tr><tr><td>24.8</td><td>20.5</td></tr><tr><td>22.9</td><td>24.4</td></tr><tr><td>21.8</td><td>11.4</td></tr><tr><td>25.5</td><td>38.1</td></tr><tr><td>24.7</td><td>15.9</td></tr><tr><td>26.0</td><td>24.7</td></tr><tr><td>22.4</td><td>22.8</td></tr><tr><td>24.1</td><td>25.5</td></tr><tr><td>24.0</td><td>22.0</td></tr><tr><td>22.3</td><td>17.7</td></tr><tr><td>22.5</td><td>6.6</td></tr><tr><td>24.1</td><td>23.6</td></tr><tr><td>23.8</td><td>12.2</td></tr><tr><td>22.0</td><td>22.1</td></tr><tr><td>23.7</td><td>28.7</td></tr><tr><td>24.0</td><td>6.0</td></tr><tr><td>21.8</td><td>34.8</td></tr><tr><td>24.1</td><td>16.6</td></tr><tr><td>21.4</td><td>32.9</td></tr><tr><td>23.3</td><td>32.8</td></tr><tr><td>22.5</td><td>9.6</td></tr><tr><td>22.6</td><td>10.8</td></tr><tr><td>21.7</td><td>7.1</td></tr><tr><td>23.2</td><td>27.2</td></tr><tr><td>23.0</td><td>19.5</td></tr><tr><td>25.5</td><td>18.7</td></tr><tr><td>21.8</td><td>19.5</td></tr><tr><td>23.6</td><td>47.5</td></tr><tr><td>21.5</td><td>13.6</td></tr><tr><td>22.6</td><td>7.5</td></tr><tr><td>22.9</td><td>24.5</td></tr><tr><td>22.0</td><td>15.0</td></tr><tr><td>23.9</td><td>12.4</td></tr><tr><td>27.0</td><td>26.0</td></tr><tr><td>23.4</td><td>11.5</td></tr><tr><td>22.5</td><td>5.2</td></tr><tr><td>21.8</td><td>10.9</td></tr><tr><td>19.7</td><td>12.5</td></tr><tr><td>22.6</td><td>14.8</td></tr><tr><td>23.4</td><td>25.2</td></tr><tr><td>22.5</td><td>14.9</td></tr><tr><td>23.2</td><td>17.0</td></tr><tr><td>21.3</td><td>10.6</td></tr><tr><td>22.8</td><td>16.1</td></tr><tr><td>23.6</td><td>15.4</td></tr><tr><td>21.0</td><td>26.7</td></tr><tr><td>21.0</td><td>25.8</td></tr><tr><td>22.7</td><td>18.6</td></tr><tr><td>23.0</td><td>24.8</td></tr><tr><td>22.3</td><td>27.3</td></tr><tr><td>22.3</td><td>12.4</td></tr><tr><td>24.0</td><td>29.9</td></tr><tr><td>20.1</td><td>17.0</td></tr><tr><td>23.4</td><td>35.0</td></tr><tr><td>24.6</td><td>30.4</td></tr><tr><td>25.4</td><td>32.6</td></tr><tr><td>24.1</td><td>29.0</td></tr><tr><td>22.6</td><td>15.2</td></tr><tr><td>22.6</td><td>30.2</td></tr><tr><td>21.5</td><td>11.0</td></tr><tr><td>23.2</td><td>33.6</td></tr><tr><td>21.5</td><td>29.3</td></tr><tr><td>22.7</td><td>26.0</td></tr><tr><td>24.6</td><td>31.9</td></tr></tbody></table></div>"
      ]
     },
     "metadata": {
      "application/vnd.databricks.v1+output": {
       "addedWidgets": {},
       "aggData": [],
       "aggError": "",
       "aggOverflow": false,
       "aggSchema": [],
       "aggSeriesLimitReached": false,
       "aggType": "",
       "arguments": {},
       "columnCustomDisplayInfos": {},
       "data": [
        [
         21.9,
         12.3
        ],
        [
         23.4,
         6.1
        ],
        [
         24.0,
         25.3
        ],
        [
         22.8,
         10.4
        ],
        [
         24.0,
         28.7
        ],
        [
         25.6,
         20.9
        ],
        [
         22.9,
         19.2
        ],
        [
         23.2,
         12.4
        ],
        [
         23.8,
         4.1
        ],
        [
         25.0,
         11.7
        ],
        [
         25.2,
         7.1
        ],
        [
         25.9,
         7.8
        ],
        [
         21.5,
         20.8
        ],
        [
         23.7,
         21.2
        ],
        [
         23.1,
         22.1
        ],
        [
         21.7,
         20.9
        ],
        [
         23.1,
         29.0
        ],
        [
         24.4,
         22.9
        ],
        [
         22.9,
         16.0
        ],
        [
         24.0,
         16.5
        ],
        [
         22.1,
         19.1
        ],
        [
         24.6,
         15.2
        ],
        [
         22.2,
         15.6
        ],
        [
         22.1,
         17.7
        ],
        [
         22.9,
         14.0
        ],
        [
         22.5,
         3.7
        ],
        [
         21.4,
         7.9
        ],
        [
         21.0,
         22.9
        ],
        [
         21.3,
         3.7
        ],
        [
         22.6,
         8.8
        ],
        [
         33.9,
         11.9
        ],
        [
         21.5,
         5.7
        ],
        [
         24.5,
         11.8
        ],
        [
         25.2,
         21.3
        ],
        [
         26.3,
         32.3
        ],
        [
         21.9,
         40.1
        ],
        [
         22.6,
         24.2
        ],
        [
         24.7,
         28.4
        ],
        [
         29.6,
         35.2
        ],
        [
         24.7,
         32.6
        ],
        [
         26.6,
         34.5
        ],
        [
         23.7,
         32.9
        ],
        [
         25.0,
         31.6
        ],
        [
         23.0,
         32.0
        ],
        [
         21.0,
         7.7
        ],
        [
         23.4,
         13.9
        ],
        [
         22.5,
         10.8
        ],
        [
         21.9,
         5.6
        ],
        [
         20.6,
         13.6
        ],
        [
         21.9,
         4.0
        ],
        [
         22.4,
         10.2
        ],
        [
         21.0,
         6.6
        ],
        [
         21.4,
         8.0
        ],
        [
         22.6,
         6.3
        ],
        [
         22.5,
         3.9
        ],
        [
         22.0,
         22.6
        ],
        [
         22.5,
         20.4
        ],
        [
         22.7,
         28.0
        ],
        [
         22.5,
         31.5
        ],
        [
         22.9,
         24.6
        ],
        [
         23.1,
         26.1
        ],
        [
         22.1,
         29.8
        ],
        [
         23.6,
         30.7
        ],
        [
         22.7,
         25.8
        ],
        [
         24.7,
         32.3
        ],
        [
         22.7,
         30.0
        ],
        [
         21.7,
         21.5
        ],
        [
         21.5,
         13.8
        ],
        [
         22.4,
         6.3
        ],
        [
         21.6,
         12.9
        ],
        [
         22.4,
         24.3
        ],
        [
         21.6,
         8.8
        ],
        [
         23.1,
         8.5
        ],
        [
         19.1,
         13.5
        ],
        [
         20.9,
         11.8
        ],
        [
         21.4,
         18.5
        ],
        [
         24.2,
         8.8
        ],
        [
         21.8,
         22.2
        ],
        [
         21.5,
         21.5
        ],
        [
         22.7,
         18.8
        ],
        [
         23.7,
         31.4
        ],
        [
         22.0,
         26.8
        ],
        [
         23.0,
         18.4
        ],
        [
         24.1,
         27.0
        ],
        [
         22.0,
         27.0
        ],
        [
         33.7,
         26.6
        ],
        [
         21.8,
         14.9
        ],
        [
         23.3,
         23.1
        ],
        [
         23.8,
         8.3
        ],
        [
         24.4,
         14.1
        ],
        [
         22.5,
         20.5
        ],
        [
         23.1,
         18.2
        ],
        [
         22.1,
         8.5
        ],
        [
         24.5,
         24.9
        ],
        [
         24.6,
         9.0
        ],
        [
         23.2,
         17.4
        ],
        [
         22.9,
         9.6
        ],
        [
         23.3,
         11.3
        ],
        [
         21.9,
         17.8
        ],
        [
         22.3,
         22.2
        ],
        [
         22.3,
         21.2
        ],
        [
         22.4,
         20.4
        ],
        [
         23.2,
         20.1
        ],
        [
         25.4,
         22.3
        ],
        [
         22.0,
         25.4
        ],
        [
         24.8,
         18.0
        ],
        [
         23.5,
         19.3
        ],
        [
         23.4,
         18.3
        ],
        [
         24.8,
         17.3
        ],
        [
         22.8,
         21.4
        ],
        [
         22.3,
         19.7
        ],
        [
         23.6,
         28.0
        ],
        [
         23.9,
         22.1
        ],
        [
         21.9,
         21.3
        ],
        [
         21.8,
         26.7
        ],
        [
         22.1,
         16.7
        ],
        [
         22.8,
         20.1
        ],
        [
         23.3,
         13.9
        ],
        [
         24.8,
         25.8
        ],
        [
         24.5,
         18.1
        ],
        [
         24.6,
         27.9
        ],
        [
         23.2,
         25.3
        ],
        [
         22.6,
         14.7
        ],
        [
         22.1,
         16.0
        ],
        [
         23.5,
         13.8
        ],
        [
         21.9,
         17.5
        ],
        [
         22.2,
         27.2
        ],
        [
         20.8,
         17.4
        ],
        [
         21.8,
         20.8
        ],
        [
         22.2,
         14.9
        ],
        [
         23.2,
         18.1
        ],
        [
         23.0,
         22.7
        ],
        [
         22.6,
         23.6
        ],
        [
         20.5,
         26.1
        ],
        [
         23.0,
         24.4
        ],
        [
         22.7,
         27.1
        ],
        [
         22.4,
         21.8
        ],
        [
         23.8,
         29.4
        ],
        [
         22.5,
         22.4
        ],
        [
         24.5,
         20.4
        ],
        [
         21.6,
         24.9
        ],
        [
         22.0,
         18.3
        ],
        [
         22.3,
         23.3
        ],
        [
         22.7,
         9.4
        ],
        [
         23.2,
         10.3
        ],
        [
         22.0,
         14.2
        ],
        [
         25.2,
         19.2
        ],
        [
         24.6,
         29.6
        ],
        [
         22.0,
         5.3
        ],
        [
         24.7,
         25.2
        ],
        [
         20.4,
         9.4
        ],
        [
         25.1,
         19.6
        ],
        [
         23.8,
         10.1
        ],
        [
         22.8,
         16.5
        ],
        [
         24.9,
         21.0
        ],
        [
         21.7,
         17.3
        ],
        [
         25.2,
         31.2
        ],
        [
         25.0,
         10.0
        ],
        [
         21.8,
         12.5
        ],
        [
         24.6,
         22.5
        ],
        [
         21.0,
         9.4
        ],
        [
         25.0,
         14.6
        ],
        [
         23.5,
         13.0
        ],
        [
         20.4,
         15.1
        ],
        [
         23.4,
         27.3
        ],
        [
         25.6,
         19.2
        ],
        [
         21.9,
         21.8
        ],
        [
         24.6,
         20.3
        ],
        [
         24.0,
         34.3
        ],
        [
         23.4,
         16.5
        ],
        [
         22.1,
         3.0
        ],
        [
         22.0,
         0.7
        ],
        [
         22.4,
         20.5
        ],
        [
         21.5,
         16.9
        ],
        [
         24.0,
         25.3
        ],
        [
         22.2,
         9.9
        ],
        [
         22.0,
         13.1
        ],
        [
         24.8,
         29.9
        ],
        [
         24.7,
         22.5
        ],
        [
         25.8,
         16.9
        ],
        [
         24.1,
         26.6
        ],
        [
         20.2,
         0.0
        ],
        [
         21.8,
         11.5
        ],
        [
         22.7,
         12.1
        ],
        [
         22.4,
         17.5
        ],
        [
         22.6,
         8.6
        ],
        [
         24.7,
         23.6
        ],
        [
         23.5,
         20.4
        ],
        [
         24.8,
         20.5
        ],
        [
         22.9,
         24.4
        ],
        [
         21.8,
         11.4
        ],
        [
         25.5,
         38.1
        ],
        [
         24.7,
         15.9
        ],
        [
         26.0,
         24.7
        ],
        [
         22.4,
         22.8
        ],
        [
         24.1,
         25.5
        ],
        [
         24.0,
         22.0
        ],
        [
         22.3,
         17.7
        ],
        [
         22.5,
         6.6
        ],
        [
         24.1,
         23.6
        ],
        [
         23.8,
         12.2
        ],
        [
         22.0,
         22.1
        ],
        [
         23.7,
         28.7
        ],
        [
         24.0,
         6.0
        ],
        [
         21.8,
         34.8
        ],
        [
         24.1,
         16.6
        ],
        [
         21.4,
         32.9
        ],
        [
         23.3,
         32.8
        ],
        [
         22.5,
         9.6
        ],
        [
         22.6,
         10.8
        ],
        [
         21.7,
         7.1
        ],
        [
         23.2,
         27.2
        ],
        [
         23.0,
         19.5
        ],
        [
         25.5,
         18.7
        ],
        [
         21.8,
         19.5
        ],
        [
         23.6,
         47.5
        ],
        [
         21.5,
         13.6
        ],
        [
         22.6,
         7.5
        ],
        [
         22.9,
         24.5
        ],
        [
         22.0,
         15.0
        ],
        [
         23.9,
         12.4
        ],
        [
         27.0,
         26.0
        ],
        [
         23.4,
         11.5
        ],
        [
         22.5,
         5.2
        ],
        [
         21.8,
         10.9
        ],
        [
         19.7,
         12.5
        ],
        [
         22.6,
         14.8
        ],
        [
         23.4,
         25.2
        ],
        [
         22.5,
         14.9
        ],
        [
         23.2,
         17.0
        ],
        [
         21.3,
         10.6
        ],
        [
         22.8,
         16.1
        ],
        [
         23.6,
         15.4
        ],
        [
         21.0,
         26.7
        ],
        [
         21.0,
         25.8
        ],
        [
         22.7,
         18.6
        ],
        [
         23.0,
         24.8
        ],
        [
         22.3,
         27.3
        ],
        [
         22.3,
         12.4
        ],
        [
         24.0,
         29.9
        ],
        [
         20.1,
         17.0
        ],
        [
         23.4,
         35.0
        ],
        [
         24.6,
         30.4
        ],
        [
         25.4,
         32.6
        ],
        [
         24.1,
         29.0
        ],
        [
         22.6,
         15.2
        ],
        [
         22.6,
         30.2
        ],
        [
         21.5,
         11.0
        ],
        [
         23.2,
         33.6
        ],
        [
         21.5,
         29.3
        ],
        [
         22.7,
         26.0
        ],
        [
         24.6,
         31.9
        ]
       ],
       "datasetInfos": [],
       "dbfsResultPath": null,
       "isJsonSchema": true,
       "metadata": {},
       "overflow": false,
       "plotOptions": {
        "customPlotOptions": {},
        "displayType": "table",
        "pivotAggregation": null,
        "pivotColumns": null,
        "xColumns": null,
        "yColumns": null
       },
       "removedWidgets": [],
       "schema": [
        {
         "metadata": "{}",
         "name": "Ankle",
         "type": "\"double\""
        },
        {
         "metadata": "{}",
         "name": "BodyFat",
         "type": "\"double\""
        }
       ],
       "type": "table"
      }
     },
     "output_type": "display_data"
    },
    {
     "output_type": "display_data",
     "data": {
      "text/plain": [
       "Databricks visualization. Run in Databricks to view."
      ]
     },
     "metadata": {
      "application/vnd.databricks.v1.subcommand+json": {
       "baseErrorDetails": null,
       "bindings": {},
       "collapsed": false,
       "command": "%sql WITH q AS (SELECT Ankle, BodyFat FROM BodyFat) SELECT `Ankle`,`BodyFat` FROM q",
       "commandTitle": "Visualization 1",
       "commandType": "auto",
       "commandVersion": 0,
       "commentThread": [],
       "commentsVisible": false,
       "contentSha256Hex": null,
       "customPlotOptions": {
        "redashChart": [
         {
          "key": "type",
          "value": "CHART"
         },
         {
          "key": "options",
          "value": {
           "alignYAxesAtZero": true,
           "coefficient": 1,
           "columnConfigurationMap": {
            "x": {
             "column": "Ankle",
             "id": "column_dcde195e40"
            },
            "y": [
             {
              "column": "BodyFat",
              "id": "column_dcde195e41"
             }
            ]
           },
           "dateTimeFormat": "DD/MM/YYYY HH:mm",
           "direction": {
            "type": "counterclockwise"
           },
           "error_y": {
            "type": "data",
            "visible": true
           },
           "globalSeriesType": "scatter",
           "legend": {
            "traceorder": "normal"
           },
           "missingValuesAsZero": true,
           "numberFormat": "0,0.[00000]",
           "percentFormat": "0[.]00%",
           "series": {
            "error_y": {
             "type": "data",
             "visible": true
            },
            "stacking": null
           },
           "seriesOptions": {
            "column_dcde195e41": {
             "name": "BodyFat",
             "yAxis": 0
            }
           },
           "showDataLabels": false,
           "sizemode": "diameter",
           "sortX": true,
           "sortY": true,
           "swappedAxes": false,
           "textFormat": "",
           "useAggregationsUi": true,
           "valuesOptions": {},
           "version": 2,
           "xAxis": {
            "labels": {
             "enabled": true
            },
            "type": "-"
           },
           "yAxis": [
            {
             "type": "-"
            },
            {
             "opposite": true,
             "type": "-"
            }
           ]
          }
         }
        ]
       },
       "datasetPreviewNameToCmdIdMap": {},
       "diffDeletes": [],
       "diffInserts": [],
       "displayType": "redashChart",
       "error": null,
       "errorDetails": null,
       "errorSummary": null,
       "errorTraceType": null,
       "finishTime": 0,
       "globalVars": {},
       "guid": "",
       "height": "auto",
       "hideCommandCode": false,
       "hideCommandResult": false,
       "iPythonMetadata": null,
       "inputWidgets": {},
       "isLockedInExamMode": false,
       "latestUser": "a user",
       "latestUserId": null,
       "listResultMetadata": null,
       "metadata": {},
       "nuid": "db6c27ee-cf4d-4de2-8104-6da7f6cb8f7a",
       "origId": 0,
       "parentHierarchy": [],
       "pivotAggregation": null,
       "pivotColumns": null,
       "position": 33.75,
       "resultDbfsErrorMessage": null,
       "resultDbfsStatus": "INLINED_IN_TREE",
       "results": null,
       "showCommandTitle": false,
       "startTime": 0,
       "state": "input",
       "streamStates": {},
       "subcommandOptions": {
        "queryPlan": {
         "selects": [
          {
           "column": "Ankle",
           "type": "column"
          },
          {
           "column": "BodyFat",
           "type": "column"
          }
         ]
        }
       },
       "submitTime": 0,
       "subtype": "tableResultSubCmd.visualization",
       "tableResultIndex": 0,
       "useConsistentColors": false,
       "version": "CommandV1",
       "width": "auto",
       "workflows": [],
       "xColumns": null,
       "yColumns": null
      }
     },
     "output_type": "display_data"
    }
   ],
   "source": [
    "%sql\n",
    "\n",
    "SELECT Ankle, BodyFat FROM BodyFat;"
   ]
  },
  {
   "cell_type": "code",
   "execution_count": 0,
   "metadata": {
    "application/vnd.databricks.v1+cell": {
     "cellMetadata": {
      "byteLimit": 2048000,
      "implicitDf": true,
      "rowLimit": 10000
     },
     "inputWidgets": {},
     "nuid": "e8aed46d-82a6-46db-84d3-db4c7311819a",
     "showTitle": false,
     "title": ""
    }
   },
   "outputs": [
    {
     "output_type": "display_data",
     "data": {
      "text/html": [
       "<style scoped>\n",
       "  .table-result-container {\n",
       "    max-height: 300px;\n",
       "    overflow: auto;\n",
       "  }\n",
       "  table, th, td {\n",
       "    border: 1px solid black;\n",
       "    border-collapse: collapse;\n",
       "  }\n",
       "  th, td {\n",
       "    padding: 5px;\n",
       "  }\n",
       "  th {\n",
       "    text-align: left;\n",
       "  }\n",
       "</style><div class='table-result-container'><table class='table-result'><thead style='background-color: white'><tr><th>Biceps</th><th>BodyFat</th></tr></thead><tbody><tr><td>32.0</td><td>12.3</td></tr><tr><td>30.5</td><td>6.1</td></tr><tr><td>28.8</td><td>25.3</td></tr><tr><td>32.4</td><td>10.4</td></tr><tr><td>32.2</td><td>28.7</td></tr><tr><td>35.7</td><td>20.9</td></tr><tr><td>31.9</td><td>19.2</td></tr><tr><td>30.5</td><td>12.4</td></tr><tr><td>35.9</td><td>4.1</td></tr><tr><td>35.6</td><td>11.7</td></tr><tr><td>32.8</td><td>7.1</td></tr><tr><td>37.2</td><td>7.8</td></tr><tr><td>32.5</td><td>20.8</td></tr><tr><td>36.9</td><td>21.2</td></tr><tr><td>36.1</td><td>22.1</td></tr><tr><td>31.1</td><td>20.9</td></tr><tr><td>36.2</td><td>29.0</td></tr><tr><td>38.2</td><td>22.9</td></tr><tr><td>37.2</td><td>16.0</td></tr><tr><td>37.1</td><td>16.5</td></tr><tr><td>32.5</td><td>19.1</td></tr><tr><td>33.0</td><td>15.2</td></tr><tr><td>27.9</td><td>15.6</td></tr><tr><td>29.8</td><td>17.7</td></tr><tr><td>31.1</td><td>14.0</td></tr><tr><td>29.9</td><td>3.7</td></tr><tr><td>28.7</td><td>7.9</td></tr><tr><td>29.2</td><td>22.9</td></tr><tr><td>30.5</td><td>3.7</td></tr><tr><td>30.1</td><td>8.8</td></tr><tr><td>32.5</td><td>11.9</td></tr><tr><td>30.1</td><td>5.7</td></tr><tr><td>29.0</td><td>11.8</td></tr><tr><td>37.5</td><td>21.3</td></tr><tr><td>37.3</td><td>32.3</td></tr><tr><td>32.0</td><td>40.1</td></tr><tr><td>35.1</td><td>24.2</td></tr><tr><td>33.2</td><td>28.4</td></tr><tr><td>45.0</td><td>35.2</td></tr><tr><td>34.1</td><td>32.6</td></tr><tr><td>36.4</td><td>34.5</td></tr><tr><td>33.6</td><td>32.9</td></tr><tr><td>36.7</td><td>31.6</td></tr><tr><td>35.8</td><td>32.0</td></tr><tr><td>26.1</td><td>7.7</td></tr><tr><td>29.7</td><td>13.9</td></tr><tr><td>27.9</td><td>10.8</td></tr><tr><td>28.8</td><td>5.6</td></tr><tr><td>28.8</td><td>13.6</td></tr><tr><td>26.8</td><td>4.0</td></tr><tr><td>26.0</td><td>10.2</td></tr><tr><td>26.7</td><td>6.6</td></tr><tr><td>29.6</td><td>8.0</td></tr><tr><td>38.5</td><td>6.3</td></tr><tr><td>27.7</td><td>3.9</td></tr><tr><td>35.9</td><td>22.6</td></tr><tr><td>33.1</td><td>20.4</td></tr><tr><td>37.7</td><td>28.0</td></tr><tr><td>31.6</td><td>31.5</td></tr><tr><td>34.5</td><td>24.6</td></tr><tr><td>36.2</td><td>26.1</td></tr><tr><td>32.5</td><td>29.8</td></tr><tr><td>32.7</td><td>30.7</td></tr><tr><td>33.6</td><td>25.8</td></tr><tr><td>35.3</td><td>32.3</td></tr><tr><td>34.8</td><td>30.0</td></tr><tr><td>29.6</td><td>21.5</td></tr><tr><td>32.8</td><td>13.8</td></tr><tr><td>32.6</td><td>6.3</td></tr><tr><td>27.3</td><td>12.9</td></tr><tr><td>31.5</td><td>24.3</td></tr><tr><td>30.3</td><td>8.8</td></tr><tr><td>29.7</td><td>8.5</td></tr><tr><td>29.3</td><td>13.5</td></tr><tr><td>29.4</td><td>11.8</td></tr><tr><td>29.3</td><td>18.5</td></tr><tr><td>30.2</td><td>8.8</td></tr><tr><td>30.8</td><td>22.2</td></tr><tr><td>31.4</td><td>21.5</td></tr><tr><td>30.3</td><td>18.8</td></tr><tr><td>29.4</td><td>31.4</td></tr><tr><td>29.9</td><td>26.8</td></tr><tr><td>34.3</td><td>18.4</td></tr><tr><td>31.2</td><td>27.0</td></tr><tr><td>29.7</td><td>27.0</td></tr><tr><td>32.4</td><td>26.6</td></tr><tr><td>32.6</td><td>14.9</td></tr><tr><td>29.2</td><td>23.1</td></tr><tr><td>30.2</td><td>8.3</td></tr><tr><td>28.8</td><td>14.1</td></tr><tr><td>29.1</td><td>20.5</td></tr><tr><td>31.4</td><td>18.2</td></tr><tr><td>30.1</td><td>8.5</td></tr><tr><td>33.3</td><td>24.9</td></tr><tr><td>30.3</td><td>9.0</td></tr><tr><td>32.9</td><td>17.4</td></tr><tr><td>31.6</td><td>9.6</td></tr><tr><td>30.6</td><td>11.3</td></tr><tr><td>31.6</td><td>17.8</td></tr><tr><td>35.3</td><td>22.2</td></tr><tr><td>32.2</td><td>21.2</td></tr><tr><td>27.9</td><td>20.4</td></tr><tr><td>31.0</td><td>20.1</td></tr><tr><td>31.0</td><td>22.3</td></tr><tr><td>30.1</td><td>25.4</td></tr><tr><td>31.0</td><td>18.0</td></tr><tr><td>30.5</td><td>19.3</td></tr><tr><td>35.1</td><td>18.3</td></tr><tr><td>35.1</td><td>17.3</td></tr><tr><td>32.1</td><td>21.4</td></tr><tr><td>33.3</td><td>19.7</td></tr><tr><td>33.5</td><td>28.0</td></tr><tr><td>35.3</td><td>22.1</td></tr><tr><td>30.7</td><td>21.3</td></tr><tr><td>31.8</td><td>26.7</td></tr><tr><td>29.8</td><td>16.7</td></tr><tr><td>29.9</td><td>20.1</td></tr><tr><td>33.4</td><td>13.9</td></tr><tr><td>33.6</td><td>25.8</td></tr><tr><td>32.1</td><td>18.1</td></tr><tr><td>33.9</td><td>27.9</td></tr><tr><td>33.0</td><td>25.3</td></tr><tr><td>34.4</td><td>14.7</td></tr><tr><td>30.6</td><td>16.0</td></tr><tr><td>34.4</td><td>13.8</td></tr><tr><td>35.6</td><td>17.5</td></tr><tr><td>33.8</td><td>27.2</td></tr><tr><td>33.9</td><td>17.4</td></tr><tr><td>33.3</td><td>20.8</td></tr><tr><td>31.6</td><td>14.9</td></tr><tr><td>27.5</td><td>18.1</td></tr><tr><td>31.2</td><td>22.7</td></tr><tr><td>33.5</td><td>23.6</td></tr><tr><td>33.6</td><td>26.1</td></tr><tr><td>34.0</td><td>24.4</td></tr><tr><td>30.9</td><td>27.1</td></tr><tr><td>32.7</td><td>21.8</td></tr><tr><td>34.3</td><td>29.4</td></tr><tr><td>31.7</td><td>22.4</td></tr><tr><td>35.5</td><td>20.4</td></tr><tr><td>30.8</td><td>24.9</td></tr><tr><td>32.0</td><td>18.3</td></tr><tr><td>31.6</td><td>23.3</td></tr><tr><td>30.5</td><td>9.4</td></tr><tr><td>31.8</td><td>10.3</td></tr><tr><td>33.5</td><td>14.2</td></tr><tr><td>36.1</td><td>19.2</td></tr><tr><td>33.3</td><td>29.6</td></tr><tr><td>25.8</td><td>5.3</td></tr><tr><td>36.0</td><td>25.2</td></tr><tr><td>31.6</td><td>9.4</td></tr><tr><td>38.5</td><td>19.6</td></tr><tr><td>27.8</td><td>10.1</td></tr><tr><td>30.6</td><td>16.5</td></tr><tr><td>33.7</td><td>21.0</td></tr><tr><td>32.2</td><td>17.3</td></tr><tr><td>35.2</td><td>31.2</td></tr><tr><td>31.6</td><td>10.0</td></tr><tr><td>27.0</td><td>12.5</td></tr><tr><td>30.1</td><td>22.5</td></tr><tr><td>27.0</td><td>9.4</td></tr><tr><td>31.3</td><td>14.6</td></tr><tr><td>33.5</td><td>13.0</td></tr><tr><td>28.3</td><td>15.1</td></tr><tr><td>34.0</td><td>27.3</td></tr><tr><td>36.4</td><td>19.2</td></tr><tr><td>30.2</td><td>21.8</td></tr><tr><td>37.2</td><td>20.3</td></tr><tr><td>36.1</td><td>34.3</td></tr><tr><td>32.5</td><td>16.5</td></tr><tr><td>30.4</td><td>3.0</td></tr><tr><td>24.8</td><td>0.7</td></tr><tr><td>31.0</td><td>20.5</td></tr><tr><td>32.4</td><td>16.9</td></tr><tr><td>35.4</td><td>25.3</td></tr><tr><td>31.0</td><td>9.9</td></tr><tr><td>31.5</td><td>13.1</td></tr><tr><td>34.4</td><td>29.9</td></tr><tr><td>34.8</td><td>22.5</td></tr><tr><td>39.1</td><td>16.9</td></tr><tr><td>35.6</td><td>26.6</td></tr><tr><td>27.7</td><td>0.0</td></tr><tr><td>31.4</td><td>11.5</td></tr><tr><td>30.0</td><td>12.1</td></tr><tr><td>30.5</td><td>17.5</td></tr><tr><td>32.9</td><td>8.6</td></tr><tr><td>37.2</td><td>23.6</td></tr><tr><td>36.4</td><td>20.4</td></tr><tr><td>36.6</td><td>20.5</td></tr><tr><td>33.4</td><td>24.4</td></tr><tr><td>29.6</td><td>11.4</td></tr><tr><td>37.1</td><td>38.1</td></tr><tr><td>34.0</td><td>15.9</td></tr><tr><td>33.7</td><td>24.7</td></tr><tr><td>31.7</td><td>22.8</td></tr><tr><td>32.9</td><td>25.5</td></tr><tr><td>31.2</td><td>22.0</td></tr><tr><td>30.8</td><td>17.7</td></tr><tr><td>30.6</td><td>6.6</td></tr><tr><td>33.8</td><td>23.6</td></tr><tr><td>31.7</td><td>12.2</td></tr><tr><td>29.4</td><td>22.1</td></tr><tr><td>32.1</td><td>28.7</td></tr><tr><td>32.9</td><td>6.0</td></tr><tr><td>34.8</td><td>34.8</td></tr><tr><td>37.3</td><td>16.6</td></tr><tr><td>33.1</td><td>32.9</td></tr><tr><td>36.7</td><td>32.8</td></tr><tr><td>31.4</td><td>9.6</td></tr><tr><td>29.0</td><td>10.8</td></tr><tr><td>30.9</td><td>7.1</td></tr><tr><td>36.8</td><td>27.2</td></tr><tr><td>29.5</td><td>19.5</td></tr><tr><td>32.7</td><td>18.7</td></tr><tr><td>28.6</td><td>19.5</td></tr><tr><td>34.7</td><td>47.5</td></tr><tr><td>31.3</td><td>13.6</td></tr><tr><td>27.5</td><td>7.5</td></tr><tr><td>35.7</td><td>24.5</td></tr><tr><td>28.5</td><td>15.0</td></tr><tr><td>31.4</td><td>12.4</td></tr><tr><td>38.4</td><td>26.0</td></tr><tr><td>27.9</td><td>11.5</td></tr><tr><td>29.4</td><td>5.2</td></tr><tr><td>34.1</td><td>10.9</td></tr><tr><td>25.3</td><td>12.5</td></tr><tr><td>33.4</td><td>14.8</td></tr><tr><td>33.2</td><td>25.2</td></tr><tr><td>34.6</td><td>14.9</td></tr><tr><td>32.4</td><td>17.0</td></tr><tr><td>31.7</td><td>10.6</td></tr><tr><td>31.8</td><td>16.1</td></tr><tr><td>30.9</td><td>15.4</td></tr><tr><td>27.8</td><td>26.7</td></tr><tr><td>31.3</td><td>25.8</td></tr><tr><td>30.3</td><td>18.6</td></tr><tr><td>32.6</td><td>24.8</td></tr><tr><td>35.1</td><td>27.3</td></tr><tr><td>29.8</td><td>12.4</td></tr><tr><td>35.9</td><td>29.9</td></tr><tr><td>28.5</td><td>17.0</td></tr><tr><td>34.9</td><td>35.0</td></tr><tr><td>35.6</td><td>30.4</td></tr><tr><td>35.3</td><td>32.6</td></tr><tr><td>32.1</td><td>29.0</td></tr><tr><td>29.2</td><td>15.2</td></tr><tr><td>37.5</td><td>30.2</td></tr><tr><td>25.6</td><td>11.0</td></tr><tr><td>35.2</td><td>33.6</td></tr><tr><td>31.3</td><td>29.3</td></tr><tr><td>30.5</td><td>26.0</td></tr><tr><td>33.7</td><td>31.9</td></tr></tbody></table></div>"
      ]
     },
     "metadata": {
      "application/vnd.databricks.v1+output": {
       "addedWidgets": {},
       "aggData": [],
       "aggError": "",
       "aggOverflow": false,
       "aggSchema": [],
       "aggSeriesLimitReached": false,
       "aggType": "",
       "arguments": {},
       "columnCustomDisplayInfos": {},
       "data": [
        [
         32.0,
         12.3
        ],
        [
         30.5,
         6.1
        ],
        [
         28.8,
         25.3
        ],
        [
         32.4,
         10.4
        ],
        [
         32.2,
         28.7
        ],
        [
         35.7,
         20.9
        ],
        [
         31.9,
         19.2
        ],
        [
         30.5,
         12.4
        ],
        [
         35.9,
         4.1
        ],
        [
         35.6,
         11.7
        ],
        [
         32.8,
         7.1
        ],
        [
         37.2,
         7.8
        ],
        [
         32.5,
         20.8
        ],
        [
         36.9,
         21.2
        ],
        [
         36.1,
         22.1
        ],
        [
         31.1,
         20.9
        ],
        [
         36.2,
         29.0
        ],
        [
         38.2,
         22.9
        ],
        [
         37.2,
         16.0
        ],
        [
         37.1,
         16.5
        ],
        [
         32.5,
         19.1
        ],
        [
         33.0,
         15.2
        ],
        [
         27.9,
         15.6
        ],
        [
         29.8,
         17.7
        ],
        [
         31.1,
         14.0
        ],
        [
         29.9,
         3.7
        ],
        [
         28.7,
         7.9
        ],
        [
         29.2,
         22.9
        ],
        [
         30.5,
         3.7
        ],
        [
         30.1,
         8.8
        ],
        [
         32.5,
         11.9
        ],
        [
         30.1,
         5.7
        ],
        [
         29.0,
         11.8
        ],
        [
         37.5,
         21.3
        ],
        [
         37.3,
         32.3
        ],
        [
         32.0,
         40.1
        ],
        [
         35.1,
         24.2
        ],
        [
         33.2,
         28.4
        ],
        [
         45.0,
         35.2
        ],
        [
         34.1,
         32.6
        ],
        [
         36.4,
         34.5
        ],
        [
         33.6,
         32.9
        ],
        [
         36.7,
         31.6
        ],
        [
         35.8,
         32.0
        ],
        [
         26.1,
         7.7
        ],
        [
         29.7,
         13.9
        ],
        [
         27.9,
         10.8
        ],
        [
         28.8,
         5.6
        ],
        [
         28.8,
         13.6
        ],
        [
         26.8,
         4.0
        ],
        [
         26.0,
         10.2
        ],
        [
         26.7,
         6.6
        ],
        [
         29.6,
         8.0
        ],
        [
         38.5,
         6.3
        ],
        [
         27.7,
         3.9
        ],
        [
         35.9,
         22.6
        ],
        [
         33.1,
         20.4
        ],
        [
         37.7,
         28.0
        ],
        [
         31.6,
         31.5
        ],
        [
         34.5,
         24.6
        ],
        [
         36.2,
         26.1
        ],
        [
         32.5,
         29.8
        ],
        [
         32.7,
         30.7
        ],
        [
         33.6,
         25.8
        ],
        [
         35.3,
         32.3
        ],
        [
         34.8,
         30.0
        ],
        [
         29.6,
         21.5
        ],
        [
         32.8,
         13.8
        ],
        [
         32.6,
         6.3
        ],
        [
         27.3,
         12.9
        ],
        [
         31.5,
         24.3
        ],
        [
         30.3,
         8.8
        ],
        [
         29.7,
         8.5
        ],
        [
         29.3,
         13.5
        ],
        [
         29.4,
         11.8
        ],
        [
         29.3,
         18.5
        ],
        [
         30.2,
         8.8
        ],
        [
         30.8,
         22.2
        ],
        [
         31.4,
         21.5
        ],
        [
         30.3,
         18.8
        ],
        [
         29.4,
         31.4
        ],
        [
         29.9,
         26.8
        ],
        [
         34.3,
         18.4
        ],
        [
         31.2,
         27.0
        ],
        [
         29.7,
         27.0
        ],
        [
         32.4,
         26.6
        ],
        [
         32.6,
         14.9
        ],
        [
         29.2,
         23.1
        ],
        [
         30.2,
         8.3
        ],
        [
         28.8,
         14.1
        ],
        [
         29.1,
         20.5
        ],
        [
         31.4,
         18.2
        ],
        [
         30.1,
         8.5
        ],
        [
         33.3,
         24.9
        ],
        [
         30.3,
         9.0
        ],
        [
         32.9,
         17.4
        ],
        [
         31.6,
         9.6
        ],
        [
         30.6,
         11.3
        ],
        [
         31.6,
         17.8
        ],
        [
         35.3,
         22.2
        ],
        [
         32.2,
         21.2
        ],
        [
         27.9,
         20.4
        ],
        [
         31.0,
         20.1
        ],
        [
         31.0,
         22.3
        ],
        [
         30.1,
         25.4
        ],
        [
         31.0,
         18.0
        ],
        [
         30.5,
         19.3
        ],
        [
         35.1,
         18.3
        ],
        [
         35.1,
         17.3
        ],
        [
         32.1,
         21.4
        ],
        [
         33.3,
         19.7
        ],
        [
         33.5,
         28.0
        ],
        [
         35.3,
         22.1
        ],
        [
         30.7,
         21.3
        ],
        [
         31.8,
         26.7
        ],
        [
         29.8,
         16.7
        ],
        [
         29.9,
         20.1
        ],
        [
         33.4,
         13.9
        ],
        [
         33.6,
         25.8
        ],
        [
         32.1,
         18.1
        ],
        [
         33.9,
         27.9
        ],
        [
         33.0,
         25.3
        ],
        [
         34.4,
         14.7
        ],
        [
         30.6,
         16.0
        ],
        [
         34.4,
         13.8
        ],
        [
         35.6,
         17.5
        ],
        [
         33.8,
         27.2
        ],
        [
         33.9,
         17.4
        ],
        [
         33.3,
         20.8
        ],
        [
         31.6,
         14.9
        ],
        [
         27.5,
         18.1
        ],
        [
         31.2,
         22.7
        ],
        [
         33.5,
         23.6
        ],
        [
         33.6,
         26.1
        ],
        [
         34.0,
         24.4
        ],
        [
         30.9,
         27.1
        ],
        [
         32.7,
         21.8
        ],
        [
         34.3,
         29.4
        ],
        [
         31.7,
         22.4
        ],
        [
         35.5,
         20.4
        ],
        [
         30.8,
         24.9
        ],
        [
         32.0,
         18.3
        ],
        [
         31.6,
         23.3
        ],
        [
         30.5,
         9.4
        ],
        [
         31.8,
         10.3
        ],
        [
         33.5,
         14.2
        ],
        [
         36.1,
         19.2
        ],
        [
         33.3,
         29.6
        ],
        [
         25.8,
         5.3
        ],
        [
         36.0,
         25.2
        ],
        [
         31.6,
         9.4
        ],
        [
         38.5,
         19.6
        ],
        [
         27.8,
         10.1
        ],
        [
         30.6,
         16.5
        ],
        [
         33.7,
         21.0
        ],
        [
         32.2,
         17.3
        ],
        [
         35.2,
         31.2
        ],
        [
         31.6,
         10.0
        ],
        [
         27.0,
         12.5
        ],
        [
         30.1,
         22.5
        ],
        [
         27.0,
         9.4
        ],
        [
         31.3,
         14.6
        ],
        [
         33.5,
         13.0
        ],
        [
         28.3,
         15.1
        ],
        [
         34.0,
         27.3
        ],
        [
         36.4,
         19.2
        ],
        [
         30.2,
         21.8
        ],
        [
         37.2,
         20.3
        ],
        [
         36.1,
         34.3
        ],
        [
         32.5,
         16.5
        ],
        [
         30.4,
         3.0
        ],
        [
         24.8,
         0.7
        ],
        [
         31.0,
         20.5
        ],
        [
         32.4,
         16.9
        ],
        [
         35.4,
         25.3
        ],
        [
         31.0,
         9.9
        ],
        [
         31.5,
         13.1
        ],
        [
         34.4,
         29.9
        ],
        [
         34.8,
         22.5
        ],
        [
         39.1,
         16.9
        ],
        [
         35.6,
         26.6
        ],
        [
         27.7,
         0.0
        ],
        [
         31.4,
         11.5
        ],
        [
         30.0,
         12.1
        ],
        [
         30.5,
         17.5
        ],
        [
         32.9,
         8.6
        ],
        [
         37.2,
         23.6
        ],
        [
         36.4,
         20.4
        ],
        [
         36.6,
         20.5
        ],
        [
         33.4,
         24.4
        ],
        [
         29.6,
         11.4
        ],
        [
         37.1,
         38.1
        ],
        [
         34.0,
         15.9
        ],
        [
         33.7,
         24.7
        ],
        [
         31.7,
         22.8
        ],
        [
         32.9,
         25.5
        ],
        [
         31.2,
         22.0
        ],
        [
         30.8,
         17.7
        ],
        [
         30.6,
         6.6
        ],
        [
         33.8,
         23.6
        ],
        [
         31.7,
         12.2
        ],
        [
         29.4,
         22.1
        ],
        [
         32.1,
         28.7
        ],
        [
         32.9,
         6.0
        ],
        [
         34.8,
         34.8
        ],
        [
         37.3,
         16.6
        ],
        [
         33.1,
         32.9
        ],
        [
         36.7,
         32.8
        ],
        [
         31.4,
         9.6
        ],
        [
         29.0,
         10.8
        ],
        [
         30.9,
         7.1
        ],
        [
         36.8,
         27.2
        ],
        [
         29.5,
         19.5
        ],
        [
         32.7,
         18.7
        ],
        [
         28.6,
         19.5
        ],
        [
         34.7,
         47.5
        ],
        [
         31.3,
         13.6
        ],
        [
         27.5,
         7.5
        ],
        [
         35.7,
         24.5
        ],
        [
         28.5,
         15.0
        ],
        [
         31.4,
         12.4
        ],
        [
         38.4,
         26.0
        ],
        [
         27.9,
         11.5
        ],
        [
         29.4,
         5.2
        ],
        [
         34.1,
         10.9
        ],
        [
         25.3,
         12.5
        ],
        [
         33.4,
         14.8
        ],
        [
         33.2,
         25.2
        ],
        [
         34.6,
         14.9
        ],
        [
         32.4,
         17.0
        ],
        [
         31.7,
         10.6
        ],
        [
         31.8,
         16.1
        ],
        [
         30.9,
         15.4
        ],
        [
         27.8,
         26.7
        ],
        [
         31.3,
         25.8
        ],
        [
         30.3,
         18.6
        ],
        [
         32.6,
         24.8
        ],
        [
         35.1,
         27.3
        ],
        [
         29.8,
         12.4
        ],
        [
         35.9,
         29.9
        ],
        [
         28.5,
         17.0
        ],
        [
         34.9,
         35.0
        ],
        [
         35.6,
         30.4
        ],
        [
         35.3,
         32.6
        ],
        [
         32.1,
         29.0
        ],
        [
         29.2,
         15.2
        ],
        [
         37.5,
         30.2
        ],
        [
         25.6,
         11.0
        ],
        [
         35.2,
         33.6
        ],
        [
         31.3,
         29.3
        ],
        [
         30.5,
         26.0
        ],
        [
         33.7,
         31.9
        ]
       ],
       "datasetInfos": [],
       "dbfsResultPath": null,
       "isJsonSchema": true,
       "metadata": {},
       "overflow": false,
       "plotOptions": {
        "customPlotOptions": {},
        "displayType": "table",
        "pivotAggregation": null,
        "pivotColumns": null,
        "xColumns": null,
        "yColumns": null
       },
       "removedWidgets": [],
       "schema": [
        {
         "metadata": "{}",
         "name": "Biceps",
         "type": "\"double\""
        },
        {
         "metadata": "{}",
         "name": "BodyFat",
         "type": "\"double\""
        }
       ],
       "type": "table"
      }
     },
     "output_type": "display_data"
    },
    {
     "output_type": "display_data",
     "data": {
      "text/plain": [
       "Databricks visualization. Run in Databricks to view."
      ]
     },
     "metadata": {
      "application/vnd.databricks.v1.subcommand+json": {
       "baseErrorDetails": null,
       "bindings": {},
       "collapsed": false,
       "command": "%sql WITH q AS (SELECT Biceps, BodyFat FROM BodyFat) SELECT `Biceps`,`BodyFat` FROM q",
       "commandTitle": "Visualization 1",
       "commandType": "auto",
       "commandVersion": 0,
       "commentThread": [],
       "commentsVisible": false,
       "contentSha256Hex": null,
       "customPlotOptions": {
        "redashChart": [
         {
          "key": "type",
          "value": "CHART"
         },
         {
          "key": "options",
          "value": {
           "alignYAxesAtZero": true,
           "coefficient": 1,
           "columnConfigurationMap": {
            "x": {
             "column": "Biceps",
             "id": "column_dcde195e42"
            },
            "y": [
             {
              "column": "BodyFat",
              "id": "column_dcde195e43"
             }
            ]
           },
           "dateTimeFormat": "DD/MM/YYYY HH:mm",
           "direction": {
            "type": "counterclockwise"
           },
           "error_y": {
            "type": "data",
            "visible": true
           },
           "globalSeriesType": "scatter",
           "legend": {
            "traceorder": "normal"
           },
           "missingValuesAsZero": true,
           "numberFormat": "0,0.[00000]",
           "percentFormat": "0[.]00%",
           "series": {
            "error_y": {
             "type": "data",
             "visible": true
            },
            "stacking": null
           },
           "seriesOptions": {
            "column_dcde195e43": {
             "name": "BodyFat",
             "yAxis": 0
            }
           },
           "showDataLabels": false,
           "sizemode": "diameter",
           "sortX": true,
           "sortY": true,
           "swappedAxes": false,
           "textFormat": "",
           "useAggregationsUi": true,
           "valuesOptions": {},
           "version": 2,
           "xAxis": {
            "labels": {
             "enabled": true
            },
            "type": "-"
           },
           "yAxis": [
            {
             "type": "-"
            },
            {
             "opposite": true,
             "type": "-"
            }
           ]
          }
         }
        ]
       },
       "datasetPreviewNameToCmdIdMap": {},
       "diffDeletes": [],
       "diffInserts": [],
       "displayType": "redashChart",
       "error": null,
       "errorDetails": null,
       "errorSummary": null,
       "errorTraceType": null,
       "finishTime": 0,
       "globalVars": {},
       "guid": "",
       "height": "auto",
       "hideCommandCode": false,
       "hideCommandResult": false,
       "iPythonMetadata": null,
       "inputWidgets": {},
       "isLockedInExamMode": false,
       "latestUser": "a user",
       "latestUserId": null,
       "listResultMetadata": null,
       "metadata": {},
       "nuid": "c4674cdc-ccf9-43ee-9038-82f85d7aa8c5",
       "origId": 0,
       "parentHierarchy": [],
       "pivotAggregation": null,
       "pivotColumns": null,
       "position": 34.75,
       "resultDbfsErrorMessage": null,
       "resultDbfsStatus": "INLINED_IN_TREE",
       "results": null,
       "showCommandTitle": false,
       "startTime": 0,
       "state": "input",
       "streamStates": {},
       "subcommandOptions": {
        "queryPlan": {
         "selects": [
          {
           "column": "Biceps",
           "type": "column"
          },
          {
           "column": "BodyFat",
           "type": "column"
          }
         ]
        }
       },
       "submitTime": 0,
       "subtype": "tableResultSubCmd.visualization",
       "tableResultIndex": 0,
       "useConsistentColors": false,
       "version": "CommandV1",
       "width": "auto",
       "workflows": [],
       "xColumns": null,
       "yColumns": null
      }
     },
     "output_type": "display_data"
    }
   ],
   "source": [
    "%sql\n",
    "\n",
    "SELECT Biceps, BodyFat FROM BodyFat;"
   ]
  },
  {
   "cell_type": "code",
   "execution_count": 0,
   "metadata": {
    "application/vnd.databricks.v1+cell": {
     "cellMetadata": {
      "byteLimit": 2048000,
      "implicitDf": true,
      "rowLimit": 10000
     },
     "inputWidgets": {},
     "nuid": "236bacbf-5b06-441e-a14f-f7b5fdad93c6",
     "showTitle": false,
     "title": ""
    }
   },
   "outputs": [
    {
     "output_type": "display_data",
     "data": {
      "text/html": [
       "<style scoped>\n",
       "  .table-result-container {\n",
       "    max-height: 300px;\n",
       "    overflow: auto;\n",
       "  }\n",
       "  table, th, td {\n",
       "    border: 1px solid black;\n",
       "    border-collapse: collapse;\n",
       "  }\n",
       "  th, td {\n",
       "    padding: 5px;\n",
       "  }\n",
       "  th {\n",
       "    text-align: left;\n",
       "  }\n",
       "</style><div class='table-result-container'><table class='table-result'><thead style='background-color: white'><tr><th>Forearm</th><th>BodyFat</th></tr></thead><tbody><tr><td>27.4</td><td>12.3</td></tr><tr><td>28.9</td><td>6.1</td></tr><tr><td>25.2</td><td>25.3</td></tr><tr><td>29.4</td><td>10.4</td></tr><tr><td>27.7</td><td>28.7</td></tr><tr><td>30.6</td><td>20.9</td></tr><tr><td>27.8</td><td>19.2</td></tr><tr><td>29.0</td><td>12.4</td></tr><tr><td>31.1</td><td>4.1</td></tr><tr><td>30.0</td><td>11.7</td></tr><tr><td>29.4</td><td>7.1</td></tr><tr><td>30.2</td><td>7.8</td></tr><tr><td>28.6</td><td>20.8</td></tr><tr><td>31.6</td><td>21.2</td></tr><tr><td>30.5</td><td>22.1</td></tr><tr><td>26.4</td><td>20.9</td></tr><tr><td>30.8</td><td>29.0</td></tr><tr><td>31.6</td><td>22.9</td></tr><tr><td>30.5</td><td>16.0</td></tr><tr><td>30.1</td><td>16.5</td></tr><tr><td>30.3</td><td>19.1</td></tr><tr><td>32.8</td><td>15.2</td></tr><tr><td>25.9</td><td>15.6</td></tr><tr><td>26.7</td><td>17.7</td></tr><tr><td>28.0</td><td>14.0</td></tr><tr><td>28.2</td><td>3.7</td></tr><tr><td>27.0</td><td>7.9</td></tr><tr><td>26.6</td><td>22.9</td></tr><tr><td>27.9</td><td>3.7</td></tr><tr><td>26.7</td><td>8.8</td></tr><tr><td>27.7</td><td>11.9</td></tr><tr><td>26.4</td><td>5.7</td></tr><tr><td>30.0</td><td>11.8</td></tr><tr><td>31.5</td><td>21.3</td></tr><tr><td>31.7</td><td>32.3</td></tr><tr><td>29.8</td><td>40.1</td></tr><tr><td>30.6</td><td>24.2</td></tr><tr><td>30.5</td><td>28.4</td></tr><tr><td>29.0</td><td>35.2</td></tr><tr><td>31.0</td><td>32.6</td></tr><tr><td>32.7</td><td>34.5</td></tr><tr><td>28.7</td><td>32.9</td></tr><tr><td>29.8</td><td>31.6</td></tr><tr><td>31.5</td><td>32.0</td></tr><tr><td>23.1</td><td>7.7</td></tr><tr><td>27.4</td><td>13.9</td></tr><tr><td>26.2</td><td>10.8</td></tr><tr><td>26.8</td><td>5.6</td></tr><tr><td>25.5</td><td>13.6</td></tr><tr><td>25.8</td><td>4.0</td></tr><tr><td>25.8</td><td>10.2</td></tr><tr><td>26.1</td><td>6.6</td></tr><tr><td>26.0</td><td>8.0</td></tr><tr><td>27.4</td><td>6.3</td></tr><tr><td>27.5</td><td>3.9</td></tr><tr><td>30.2</td><td>22.6</td></tr><tr><td>28.3</td><td>20.4</td></tr><tr><td>30.9</td><td>28.0</td></tr><tr><td>28.8</td><td>31.5</td></tr><tr><td>29.6</td><td>24.6</td></tr><tr><td>31.8</td><td>26.1</td></tr><tr><td>29.8</td><td>29.8</td></tr><tr><td>29.9</td><td>30.7</td></tr><tr><td>29.0</td><td>25.8</td></tr><tr><td>31.1</td><td>32.3</td></tr><tr><td>30.1</td><td>30.0</td></tr><tr><td>27.4</td><td>21.5</td></tr><tr><td>27.4</td><td>13.8</td></tr><tr><td>28.1</td><td>6.3</td></tr><tr><td>27.1</td><td>12.9</td></tr><tr><td>27.3</td><td>24.3</td></tr><tr><td>27.3</td><td>8.8</td></tr><tr><td>27.3</td><td>8.5</td></tr><tr><td>25.7</td><td>13.5</td></tr><tr><td>27.0</td><td>11.8</td></tr><tr><td>27.0</td><td>18.5</td></tr><tr><td>29.2</td><td>8.8</td></tr><tr><td>25.7</td><td>22.2</td></tr><tr><td>26.8</td><td>21.5</td></tr><tr><td>28.7</td><td>18.8</td></tr><tr><td>27.2</td><td>31.4</td></tr><tr><td>25.2</td><td>26.8</td></tr><tr><td>29.6</td><td>18.4</td></tr><tr><td>27.3</td><td>27.0</td></tr><tr><td>26.3</td><td>27.0</td></tr><tr><td>27.7</td><td>26.6</td></tr><tr><td>28.0</td><td>14.9</td></tr><tr><td>28.4</td><td>23.1</td></tr><tr><td>29.3</td><td>8.3</td></tr><tr><td>29.6</td><td>14.1</td></tr><tr><td>27.7</td><td>20.5</td></tr><tr><td>28.4</td><td>18.2</td></tr><tr><td>28.2</td><td>8.5</td></tr><tr><td>29.6</td><td>24.9</td></tr><tr><td>27.9</td><td>9.0</td></tr><tr><td>30.8</td><td>17.4</td></tr><tr><td>30.1</td><td>9.6</td></tr><tr><td>27.8</td><td>11.3</td></tr><tr><td>27.5</td><td>17.8</td></tr><tr><td>30.9</td><td>22.2</td></tr><tr><td>31.0</td><td>21.2</td></tr><tr><td>26.2</td><td>20.4</td></tr><tr><td>29.2</td><td>20.1</td></tr><tr><td>30.3</td><td>22.3</td></tr><tr><td>27.2</td><td>25.4</td></tr><tr><td>29.4</td><td>18.0</td></tr><tr><td>28.5</td><td>19.3</td></tr><tr><td>29.6</td><td>18.3</td></tr><tr><td>30.7</td><td>17.3</td></tr><tr><td>26.0</td><td>21.4</td></tr><tr><td>28.2</td><td>19.7</td></tr><tr><td>27.8</td><td>28.0</td></tr><tr><td>31.1</td><td>22.1</td></tr><tr><td>27.6</td><td>21.3</td></tr><tr><td>27.3</td><td>26.7</td></tr><tr><td>26.3</td><td>16.7</td></tr><tr><td>28.0</td><td>20.1</td></tr><tr><td>29.8</td><td>13.9</td></tr><tr><td>29.5</td><td>25.8</td></tr><tr><td>28.6</td><td>18.1</td></tr><tr><td>31.2</td><td>27.9</td></tr><tr><td>29.6</td><td>25.3</td></tr><tr><td>28.0</td><td>14.7</td></tr><tr><td>27.5</td><td>16.0</td></tr><tr><td>29.2</td><td>13.8</td></tr><tr><td>30.2</td><td>17.5</td></tr><tr><td>30.3</td><td>27.2</td></tr><tr><td>28.2</td><td>17.4</td></tr><tr><td>29.6</td><td>20.8</td></tr><tr><td>27.8</td><td>14.9</td></tr><tr><td>26.5</td><td>18.1</td></tr><tr><td>28.4</td><td>22.7</td></tr><tr><td>28.6</td><td>23.6</td></tr><tr><td>29.3</td><td>26.1</td></tr><tr><td>29.8</td><td>24.4</td></tr><tr><td>28.8</td><td>27.1</td></tr><tr><td>28.3</td><td>21.8</td></tr><tr><td>28.4</td><td>29.4</td></tr><tr><td>27.4</td><td>22.4</td></tr><tr><td>29.8</td><td>20.4</td></tr><tr><td>27.9</td><td>24.9</td></tr><tr><td>28.5</td><td>18.3</td></tr><tr><td>27.5</td><td>23.3</td></tr><tr><td>27.2</td><td>9.4</td></tr><tr><td>29.7</td><td>10.3</td></tr><tr><td>28.3</td><td>14.2</td></tr><tr><td>30.3</td><td>19.2</td></tr><tr><td>29.7</td><td>29.6</td></tr><tr><td>25.2</td><td>5.3</td></tr><tr><td>30.4</td><td>25.2</td></tr><tr><td>29.0</td><td>9.4</td></tr><tr><td>33.8</td><td>19.6</td></tr><tr><td>26.3</td><td>10.1</td></tr><tr><td>28.3</td><td>16.5</td></tr><tr><td>29.2</td><td>21.0</td></tr><tr><td>27.7</td><td>17.3</td></tr><tr><td>30.7</td><td>31.2</td></tr><tr><td>28.0</td><td>10.0</td></tr><tr><td>34.9</td><td>12.5</td></tr><tr><td>28.2</td><td>22.5</td></tr><tr><td>26.3</td><td>9.4</td></tr><tr><td>29.2</td><td>14.6</td></tr><tr><td>30.6</td><td>13.0</td></tr><tr><td>26.2</td><td>15.1</td></tr><tr><td>31.2</td><td>27.3</td></tr><tr><td>33.7</td><td>19.2</td></tr><tr><td>28.7</td><td>21.8</td></tr><tr><td>33.1</td><td>20.3</td></tr><tr><td>31.8</td><td>34.3</td></tr><tr><td>29.8</td><td>16.5</td></tr><tr><td>27.4</td><td>3.0</td></tr><tr><td>25.9</td><td>0.7</td></tr><tr><td>28.7</td><td>20.5</td></tr><tr><td>28.4</td><td>16.9</td></tr><tr><td>21.0</td><td>25.3</td></tr><tr><td>26.9</td><td>9.9</td></tr><tr><td>26.6</td><td>13.1</td></tr><tr><td>29.5</td><td>29.9</td></tr><tr><td>30.3</td><td>22.5</td></tr><tr><td>32.5</td><td>16.9</td></tr><tr><td>29.0</td><td>26.6</td></tr><tr><td>24.6</td><td>0.0</td></tr><tr><td>28.3</td><td>11.5</td></tr><tr><td>26.4</td><td>12.1</td></tr><tr><td>28.9</td><td>17.5</td></tr><tr><td>29.3</td><td>8.6</td></tr><tr><td>31.8</td><td>23.6</td></tr><tr><td>30.4</td><td>20.4</td></tr><tr><td>32.4</td><td>20.5</td></tr><tr><td>29.2</td><td>24.4</td></tr><tr><td>27.3</td><td>11.4</td></tr><tr><td>31.2</td><td>38.1</td></tr><tr><td>30.1</td><td>15.9</td></tr><tr><td>29.9</td><td>24.7</td></tr><tr><td>27.1</td><td>22.8</td></tr><tr><td>29.8</td><td>25.5</td></tr><tr><td>27.3</td><td>22.0</td></tr><tr><td>27.8</td><td>17.7</td></tr><tr><td>30.0</td><td>6.6</td></tr><tr><td>28.8</td><td>23.6</td></tr><tr><td>28.4</td><td>12.2</td></tr><tr><td>26.6</td><td>22.1</td></tr><tr><td>28.9</td><td>28.7</td></tr><tr><td>29.2</td><td>6.0</td></tr><tr><td>30.7</td><td>34.8</td></tr><tr><td>23.1</td><td>16.6</td></tr><tr><td>29.5</td><td>32.9</td></tr><tr><td>31.6</td><td>32.8</td></tr><tr><td>27.5</td><td>9.6</td></tr><tr><td>26.2</td><td>10.8</td></tr><tr><td>28.8</td><td>7.1</td></tr><tr><td>31.0</td><td>27.2</td></tr><tr><td>27.9</td><td>19.5</td></tr><tr><td>30.0</td><td>18.7</td></tr><tr><td>26.7</td><td>19.5</td></tr><tr><td>29.1</td><td>47.5</td></tr><tr><td>26.3</td><td>13.6</td></tr><tr><td>25.9</td><td>7.5</td></tr><tr><td>30.4</td><td>24.5</td></tr><tr><td>25.7</td><td>15.0</td></tr><tr><td>29.9</td><td>12.4</td></tr><tr><td>32.0</td><td>26.0</td></tr><tr><td>27.0</td><td>11.5</td></tr><tr><td>26.8</td><td>5.2</td></tr><tr><td>31.1</td><td>10.9</td></tr><tr><td>22.0</td><td>12.5</td></tr><tr><td>29.3</td><td>14.8</td></tr><tr><td>30.0</td><td>25.2</td></tr><tr><td>30.1</td><td>14.9</td></tr><tr><td>29.7</td><td>17.0</td></tr><tr><td>27.3</td><td>10.6</td></tr><tr><td>29.1</td><td>16.1</td></tr><tr><td>29.6</td><td>15.4</td></tr><tr><td>26.1</td><td>26.7</td></tr><tr><td>28.7</td><td>25.8</td></tr><tr><td>26.3</td><td>18.6</td></tr><tr><td>28.5</td><td>24.8</td></tr><tr><td>29.6</td><td>27.3</td></tr><tr><td>28.9</td><td>12.4</td></tr><tr><td>30.5</td><td>29.9</td></tr><tr><td>24.8</td><td>17.0</td></tr><tr><td>30.1</td><td>35.0</td></tr><tr><td>30.7</td><td>30.4</td></tr><tr><td>29.8</td><td>32.6</td></tr><tr><td>29.3</td><td>29.0</td></tr><tr><td>27.3</td><td>15.2</td></tr><tr><td>32.6</td><td>30.2</td></tr><tr><td>25.7</td><td>11.0</td></tr><tr><td>28.6</td><td>33.6</td></tr><tr><td>27.2</td><td>29.3</td></tr><tr><td>29.4</td><td>26.0</td></tr><tr><td>30.0</td><td>31.9</td></tr></tbody></table></div>"
      ]
     },
     "metadata": {
      "application/vnd.databricks.v1+output": {
       "addedWidgets": {},
       "aggData": [],
       "aggError": "",
       "aggOverflow": false,
       "aggSchema": [],
       "aggSeriesLimitReached": false,
       "aggType": "",
       "arguments": {},
       "columnCustomDisplayInfos": {},
       "data": [
        [
         27.4,
         12.3
        ],
        [
         28.9,
         6.1
        ],
        [
         25.2,
         25.3
        ],
        [
         29.4,
         10.4
        ],
        [
         27.7,
         28.7
        ],
        [
         30.6,
         20.9
        ],
        [
         27.8,
         19.2
        ],
        [
         29.0,
         12.4
        ],
        [
         31.1,
         4.1
        ],
        [
         30.0,
         11.7
        ],
        [
         29.4,
         7.1
        ],
        [
         30.2,
         7.8
        ],
        [
         28.6,
         20.8
        ],
        [
         31.6,
         21.2
        ],
        [
         30.5,
         22.1
        ],
        [
         26.4,
         20.9
        ],
        [
         30.8,
         29.0
        ],
        [
         31.6,
         22.9
        ],
        [
         30.5,
         16.0
        ],
        [
         30.1,
         16.5
        ],
        [
         30.3,
         19.1
        ],
        [
         32.8,
         15.2
        ],
        [
         25.9,
         15.6
        ],
        [
         26.7,
         17.7
        ],
        [
         28.0,
         14.0
        ],
        [
         28.2,
         3.7
        ],
        [
         27.0,
         7.9
        ],
        [
         26.6,
         22.9
        ],
        [
         27.9,
         3.7
        ],
        [
         26.7,
         8.8
        ],
        [
         27.7,
         11.9
        ],
        [
         26.4,
         5.7
        ],
        [
         30.0,
         11.8
        ],
        [
         31.5,
         21.3
        ],
        [
         31.7,
         32.3
        ],
        [
         29.8,
         40.1
        ],
        [
         30.6,
         24.2
        ],
        [
         30.5,
         28.4
        ],
        [
         29.0,
         35.2
        ],
        [
         31.0,
         32.6
        ],
        [
         32.7,
         34.5
        ],
        [
         28.7,
         32.9
        ],
        [
         29.8,
         31.6
        ],
        [
         31.5,
         32.0
        ],
        [
         23.1,
         7.7
        ],
        [
         27.4,
         13.9
        ],
        [
         26.2,
         10.8
        ],
        [
         26.8,
         5.6
        ],
        [
         25.5,
         13.6
        ],
        [
         25.8,
         4.0
        ],
        [
         25.8,
         10.2
        ],
        [
         26.1,
         6.6
        ],
        [
         26.0,
         8.0
        ],
        [
         27.4,
         6.3
        ],
        [
         27.5,
         3.9
        ],
        [
         30.2,
         22.6
        ],
        [
         28.3,
         20.4
        ],
        [
         30.9,
         28.0
        ],
        [
         28.8,
         31.5
        ],
        [
         29.6,
         24.6
        ],
        [
         31.8,
         26.1
        ],
        [
         29.8,
         29.8
        ],
        [
         29.9,
         30.7
        ],
        [
         29.0,
         25.8
        ],
        [
         31.1,
         32.3
        ],
        [
         30.1,
         30.0
        ],
        [
         27.4,
         21.5
        ],
        [
         27.4,
         13.8
        ],
        [
         28.1,
         6.3
        ],
        [
         27.1,
         12.9
        ],
        [
         27.3,
         24.3
        ],
        [
         27.3,
         8.8
        ],
        [
         27.3,
         8.5
        ],
        [
         25.7,
         13.5
        ],
        [
         27.0,
         11.8
        ],
        [
         27.0,
         18.5
        ],
        [
         29.2,
         8.8
        ],
        [
         25.7,
         22.2
        ],
        [
         26.8,
         21.5
        ],
        [
         28.7,
         18.8
        ],
        [
         27.2,
         31.4
        ],
        [
         25.2,
         26.8
        ],
        [
         29.6,
         18.4
        ],
        [
         27.3,
         27.0
        ],
        [
         26.3,
         27.0
        ],
        [
         27.7,
         26.6
        ],
        [
         28.0,
         14.9
        ],
        [
         28.4,
         23.1
        ],
        [
         29.3,
         8.3
        ],
        [
         29.6,
         14.1
        ],
        [
         27.7,
         20.5
        ],
        [
         28.4,
         18.2
        ],
        [
         28.2,
         8.5
        ],
        [
         29.6,
         24.9
        ],
        [
         27.9,
         9.0
        ],
        [
         30.8,
         17.4
        ],
        [
         30.1,
         9.6
        ],
        [
         27.8,
         11.3
        ],
        [
         27.5,
         17.8
        ],
        [
         30.9,
         22.2
        ],
        [
         31.0,
         21.2
        ],
        [
         26.2,
         20.4
        ],
        [
         29.2,
         20.1
        ],
        [
         30.3,
         22.3
        ],
        [
         27.2,
         25.4
        ],
        [
         29.4,
         18.0
        ],
        [
         28.5,
         19.3
        ],
        [
         29.6,
         18.3
        ],
        [
         30.7,
         17.3
        ],
        [
         26.0,
         21.4
        ],
        [
         28.2,
         19.7
        ],
        [
         27.8,
         28.0
        ],
        [
         31.1,
         22.1
        ],
        [
         27.6,
         21.3
        ],
        [
         27.3,
         26.7
        ],
        [
         26.3,
         16.7
        ],
        [
         28.0,
         20.1
        ],
        [
         29.8,
         13.9
        ],
        [
         29.5,
         25.8
        ],
        [
         28.6,
         18.1
        ],
        [
         31.2,
         27.9
        ],
        [
         29.6,
         25.3
        ],
        [
         28.0,
         14.7
        ],
        [
         27.5,
         16.0
        ],
        [
         29.2,
         13.8
        ],
        [
         30.2,
         17.5
        ],
        [
         30.3,
         27.2
        ],
        [
         28.2,
         17.4
        ],
        [
         29.6,
         20.8
        ],
        [
         27.8,
         14.9
        ],
        [
         26.5,
         18.1
        ],
        [
         28.4,
         22.7
        ],
        [
         28.6,
         23.6
        ],
        [
         29.3,
         26.1
        ],
        [
         29.8,
         24.4
        ],
        [
         28.8,
         27.1
        ],
        [
         28.3,
         21.8
        ],
        [
         28.4,
         29.4
        ],
        [
         27.4,
         22.4
        ],
        [
         29.8,
         20.4
        ],
        [
         27.9,
         24.9
        ],
        [
         28.5,
         18.3
        ],
        [
         27.5,
         23.3
        ],
        [
         27.2,
         9.4
        ],
        [
         29.7,
         10.3
        ],
        [
         28.3,
         14.2
        ],
        [
         30.3,
         19.2
        ],
        [
         29.7,
         29.6
        ],
        [
         25.2,
         5.3
        ],
        [
         30.4,
         25.2
        ],
        [
         29.0,
         9.4
        ],
        [
         33.8,
         19.6
        ],
        [
         26.3,
         10.1
        ],
        [
         28.3,
         16.5
        ],
        [
         29.2,
         21.0
        ],
        [
         27.7,
         17.3
        ],
        [
         30.7,
         31.2
        ],
        [
         28.0,
         10.0
        ],
        [
         34.9,
         12.5
        ],
        [
         28.2,
         22.5
        ],
        [
         26.3,
         9.4
        ],
        [
         29.2,
         14.6
        ],
        [
         30.6,
         13.0
        ],
        [
         26.2,
         15.1
        ],
        [
         31.2,
         27.3
        ],
        [
         33.7,
         19.2
        ],
        [
         28.7,
         21.8
        ],
        [
         33.1,
         20.3
        ],
        [
         31.8,
         34.3
        ],
        [
         29.8,
         16.5
        ],
        [
         27.4,
         3.0
        ],
        [
         25.9,
         0.7
        ],
        [
         28.7,
         20.5
        ],
        [
         28.4,
         16.9
        ],
        [
         21.0,
         25.3
        ],
        [
         26.9,
         9.9
        ],
        [
         26.6,
         13.1
        ],
        [
         29.5,
         29.9
        ],
        [
         30.3,
         22.5
        ],
        [
         32.5,
         16.9
        ],
        [
         29.0,
         26.6
        ],
        [
         24.6,
         0.0
        ],
        [
         28.3,
         11.5
        ],
        [
         26.4,
         12.1
        ],
        [
         28.9,
         17.5
        ],
        [
         29.3,
         8.6
        ],
        [
         31.8,
         23.6
        ],
        [
         30.4,
         20.4
        ],
        [
         32.4,
         20.5
        ],
        [
         29.2,
         24.4
        ],
        [
         27.3,
         11.4
        ],
        [
         31.2,
         38.1
        ],
        [
         30.1,
         15.9
        ],
        [
         29.9,
         24.7
        ],
        [
         27.1,
         22.8
        ],
        [
         29.8,
         25.5
        ],
        [
         27.3,
         22.0
        ],
        [
         27.8,
         17.7
        ],
        [
         30.0,
         6.6
        ],
        [
         28.8,
         23.6
        ],
        [
         28.4,
         12.2
        ],
        [
         26.6,
         22.1
        ],
        [
         28.9,
         28.7
        ],
        [
         29.2,
         6.0
        ],
        [
         30.7,
         34.8
        ],
        [
         23.1,
         16.6
        ],
        [
         29.5,
         32.9
        ],
        [
         31.6,
         32.8
        ],
        [
         27.5,
         9.6
        ],
        [
         26.2,
         10.8
        ],
        [
         28.8,
         7.1
        ],
        [
         31.0,
         27.2
        ],
        [
         27.9,
         19.5
        ],
        [
         30.0,
         18.7
        ],
        [
         26.7,
         19.5
        ],
        [
         29.1,
         47.5
        ],
        [
         26.3,
         13.6
        ],
        [
         25.9,
         7.5
        ],
        [
         30.4,
         24.5
        ],
        [
         25.7,
         15.0
        ],
        [
         29.9,
         12.4
        ],
        [
         32.0,
         26.0
        ],
        [
         27.0,
         11.5
        ],
        [
         26.8,
         5.2
        ],
        [
         31.1,
         10.9
        ],
        [
         22.0,
         12.5
        ],
        [
         29.3,
         14.8
        ],
        [
         30.0,
         25.2
        ],
        [
         30.1,
         14.9
        ],
        [
         29.7,
         17.0
        ],
        [
         27.3,
         10.6
        ],
        [
         29.1,
         16.1
        ],
        [
         29.6,
         15.4
        ],
        [
         26.1,
         26.7
        ],
        [
         28.7,
         25.8
        ],
        [
         26.3,
         18.6
        ],
        [
         28.5,
         24.8
        ],
        [
         29.6,
         27.3
        ],
        [
         28.9,
         12.4
        ],
        [
         30.5,
         29.9
        ],
        [
         24.8,
         17.0
        ],
        [
         30.1,
         35.0
        ],
        [
         30.7,
         30.4
        ],
        [
         29.8,
         32.6
        ],
        [
         29.3,
         29.0
        ],
        [
         27.3,
         15.2
        ],
        [
         32.6,
         30.2
        ],
        [
         25.7,
         11.0
        ],
        [
         28.6,
         33.6
        ],
        [
         27.2,
         29.3
        ],
        [
         29.4,
         26.0
        ],
        [
         30.0,
         31.9
        ]
       ],
       "datasetInfos": [],
       "dbfsResultPath": null,
       "isJsonSchema": true,
       "metadata": {},
       "overflow": false,
       "plotOptions": {
        "customPlotOptions": {},
        "displayType": "table",
        "pivotAggregation": null,
        "pivotColumns": null,
        "xColumns": null,
        "yColumns": null
       },
       "removedWidgets": [],
       "schema": [
        {
         "metadata": "{}",
         "name": "Forearm",
         "type": "\"double\""
        },
        {
         "metadata": "{}",
         "name": "BodyFat",
         "type": "\"double\""
        }
       ],
       "type": "table"
      }
     },
     "output_type": "display_data"
    },
    {
     "output_type": "display_data",
     "data": {
      "text/plain": [
       "Databricks visualization. Run in Databricks to view."
      ]
     },
     "metadata": {
      "application/vnd.databricks.v1.subcommand+json": {
       "baseErrorDetails": null,
       "bindings": {},
       "collapsed": false,
       "command": "%sql WITH q AS (SELECT Forearm, BodyFat FROM BodyFat) SELECT `Forearm`,`BodyFat` FROM q",
       "commandTitle": "Visualization 1",
       "commandType": "auto",
       "commandVersion": 0,
       "commentThread": [],
       "commentsVisible": false,
       "contentSha256Hex": null,
       "customPlotOptions": {
        "redashChart": [
         {
          "key": "type",
          "value": "CHART"
         },
         {
          "key": "options",
          "value": {
           "alignYAxesAtZero": true,
           "coefficient": 1,
           "columnConfigurationMap": {
            "x": {
             "column": "Forearm",
             "id": "column_dcde195e44"
            },
            "y": [
             {
              "column": "BodyFat",
              "id": "column_dcde195e45"
             }
            ]
           },
           "dateTimeFormat": "DD/MM/YYYY HH:mm",
           "direction": {
            "type": "counterclockwise"
           },
           "error_y": {
            "type": "data",
            "visible": true
           },
           "globalSeriesType": "scatter",
           "legend": {
            "traceorder": "normal"
           },
           "missingValuesAsZero": true,
           "numberFormat": "0,0.[00000]",
           "percentFormat": "0[.]00%",
           "series": {
            "error_y": {
             "type": "data",
             "visible": true
            },
            "stacking": null
           },
           "seriesOptions": {
            "column_dcde195e45": {
             "name": "BodyFat",
             "yAxis": 0
            }
           },
           "showDataLabels": false,
           "sizemode": "diameter",
           "sortX": true,
           "sortY": true,
           "swappedAxes": false,
           "textFormat": "",
           "useAggregationsUi": true,
           "valuesOptions": {},
           "version": 2,
           "xAxis": {
            "labels": {
             "enabled": true
            },
            "type": "-"
           },
           "yAxis": [
            {
             "type": "-"
            },
            {
             "opposite": true,
             "type": "-"
            }
           ]
          }
         }
        ]
       },
       "datasetPreviewNameToCmdIdMap": {},
       "diffDeletes": [],
       "diffInserts": [],
       "displayType": "redashChart",
       "error": null,
       "errorDetails": null,
       "errorSummary": null,
       "errorTraceType": null,
       "finishTime": 0,
       "globalVars": {},
       "guid": "",
       "height": "auto",
       "hideCommandCode": false,
       "hideCommandResult": false,
       "iPythonMetadata": null,
       "inputWidgets": {},
       "isLockedInExamMode": false,
       "latestUser": "a user",
       "latestUserId": null,
       "listResultMetadata": null,
       "metadata": {},
       "nuid": "c5c0accf-920f-43f1-a4dd-edaddedd7814",
       "origId": 0,
       "parentHierarchy": [],
       "pivotAggregation": null,
       "pivotColumns": null,
       "position": 35.75,
       "resultDbfsErrorMessage": null,
       "resultDbfsStatus": "INLINED_IN_TREE",
       "results": null,
       "showCommandTitle": false,
       "startTime": 0,
       "state": "input",
       "streamStates": {},
       "subcommandOptions": {
        "queryPlan": {
         "selects": [
          {
           "column": "Forearm",
           "type": "column"
          },
          {
           "column": "BodyFat",
           "type": "column"
          }
         ]
        }
       },
       "submitTime": 0,
       "subtype": "tableResultSubCmd.visualization",
       "tableResultIndex": 0,
       "useConsistentColors": false,
       "version": "CommandV1",
       "width": "auto",
       "workflows": [],
       "xColumns": null,
       "yColumns": null
      }
     },
     "output_type": "display_data"
    }
   ],
   "source": [
    "%sql\n",
    "\n",
    "SELECT Forearm, BodyFat FROM BodyFat;"
   ]
  },
  {
   "cell_type": "code",
   "execution_count": 0,
   "metadata": {
    "application/vnd.databricks.v1+cell": {
     "cellMetadata": {
      "byteLimit": 2048000,
      "implicitDf": true,
      "rowLimit": 10000
     },
     "inputWidgets": {},
     "nuid": "dee20da6-adcc-4838-8dab-5eb03db1adbf",
     "showTitle": false,
     "title": ""
    }
   },
   "outputs": [
    {
     "output_type": "display_data",
     "data": {
      "text/html": [
       "<style scoped>\n",
       "  .table-result-container {\n",
       "    max-height: 300px;\n",
       "    overflow: auto;\n",
       "  }\n",
       "  table, th, td {\n",
       "    border: 1px solid black;\n",
       "    border-collapse: collapse;\n",
       "  }\n",
       "  th, td {\n",
       "    padding: 5px;\n",
       "  }\n",
       "  th {\n",
       "    text-align: left;\n",
       "  }\n",
       "</style><div class='table-result-container'><table class='table-result'><thead style='background-color: white'><tr><th>Wrist</th><th>BodyFat</th></tr></thead><tbody><tr><td>17.1</td><td>12.3</td></tr><tr><td>18.2</td><td>6.1</td></tr><tr><td>16.6</td><td>25.3</td></tr><tr><td>18.2</td><td>10.4</td></tr><tr><td>17.7</td><td>28.7</td></tr><tr><td>18.8</td><td>20.9</td></tr><tr><td>17.7</td><td>19.2</td></tr><tr><td>18.8</td><td>12.4</td></tr><tr><td>18.2</td><td>4.1</td></tr><tr><td>19.2</td><td>11.7</td></tr><tr><td>18.5</td><td>7.1</td></tr><tr><td>19.0</td><td>7.8</td></tr><tr><td>17.7</td><td>20.8</td></tr><tr><td>18.8</td><td>21.2</td></tr><tr><td>18.2</td><td>22.1</td></tr><tr><td>16.9</td><td>20.9</td></tr><tr><td>17.3</td><td>29.0</td></tr><tr><td>19.3</td><td>22.9</td></tr><tr><td>18.5</td><td>16.0</td></tr><tr><td>18.2</td><td>16.5</td></tr><tr><td>18.4</td><td>19.1</td></tr><tr><td>19.9</td><td>15.2</td></tr><tr><td>16.7</td><td>15.6</td></tr><tr><td>17.1</td><td>17.7</td></tr><tr><td>17.6</td><td>14.0</td></tr><tr><td>17.7</td><td>3.7</td></tr><tr><td>16.5</td><td>7.9</td></tr><tr><td>17.0</td><td>22.9</td></tr><tr><td>17.2</td><td>3.7</td></tr><tr><td>17.6</td><td>8.8</td></tr><tr><td>18.4</td><td>11.9</td></tr><tr><td>17.9</td><td>5.7</td></tr><tr><td>18.8</td><td>11.8</td></tr><tr><td>18.7</td><td>21.3</td></tr><tr><td>19.7</td><td>32.3</td></tr><tr><td>17.0</td><td>40.1</td></tr><tr><td>19.0</td><td>24.2</td></tr><tr><td>19.4</td><td>28.4</td></tr><tr><td>21.4</td><td>35.2</td></tr><tr><td>18.3</td><td>32.6</td></tr><tr><td>21.4</td><td>34.5</td></tr><tr><td>17.4</td><td>32.9</td></tr><tr><td>18.4</td><td>31.6</td></tr><tr><td>18.8</td><td>32.0</td></tr><tr><td>16.1</td><td>7.7</td></tr><tr><td>18.3</td><td>13.9</td></tr><tr><td>17.3</td><td>10.8</td></tr><tr><td>17.9</td><td>5.6</td></tr><tr><td>16.3</td><td>13.6</td></tr><tr><td>16.8</td><td>4.0</td></tr><tr><td>17.3</td><td>10.2</td></tr><tr><td>17.2</td><td>6.6</td></tr><tr><td>16.9</td><td>8.0</td></tr><tr><td>18.5</td><td>6.3</td></tr><tr><td>18.5</td><td>3.9</td></tr><tr><td>18.9</td><td>22.6</td></tr><tr><td>18.5</td><td>20.4</td></tr><tr><td>19.2</td><td>28.0</td></tr><tr><td>18.2</td><td>31.5</td></tr><tr><td>18.5</td><td>24.6</td></tr><tr><td>20.2</td><td>26.1</td></tr><tr><td>18.3</td><td>29.8</td></tr><tr><td>19.1</td><td>30.7</td></tr><tr><td>18.8</td><td>25.8</td></tr><tr><td>18.4</td><td>32.3</td></tr><tr><td>18.7</td><td>30.0</td></tr><tr><td>17.4</td><td>21.5</td></tr><tr><td>18.7</td><td>13.8</td></tr><tr><td>18.1</td><td>6.3</td></tr><tr><td>17.3</td><td>12.9</td></tr><tr><td>18.6</td><td>24.3</td></tr><tr><td>18.3</td><td>8.8</td></tr><tr><td>18.2</td><td>8.5</td></tr><tr><td>16.9</td><td>13.5</td></tr><tr><td>16.8</td><td>11.8</td></tr><tr><td>18.3</td><td>18.5</td></tr><tr><td>18.1</td><td>8.8</td></tr><tr><td>18.8</td><td>22.2</td></tr><tr><td>18.3</td><td>21.5</td></tr><tr><td>19.0</td><td>18.8</td></tr><tr><td>19.0</td><td>31.4</td></tr><tr><td>17.7</td><td>26.8</td></tr><tr><td>19.0</td><td>18.4</td></tr><tr><td>19.2</td><td>27.0</td></tr><tr><td>18.0</td><td>27.0</td></tr><tr><td>18.2</td><td>26.6</td></tr><tr><td>18.8</td><td>14.9</td></tr><tr><td>18.1</td><td>23.1</td></tr><tr><td>18.8</td><td>8.3</td></tr><tr><td>18.7</td><td>14.1</td></tr><tr><td>17.7</td><td>20.5</td></tr><tr><td>18.8</td><td>18.2</td></tr><tr><td>18.4</td><td>8.5</td></tr><tr><td>19.1</td><td>24.9</td></tr><tr><td>17.8</td><td>9.0</td></tr><tr><td>20.4</td><td>17.4</td></tr><tr><td>18.5</td><td>9.6</td></tr><tr><td>18.2</td><td>11.3</td></tr><tr><td>18.2</td><td>17.8</td></tr><tr><td>18.3</td><td>22.2</td></tr><tr><td>18.6</td><td>21.2</td></tr><tr><td>17.0</td><td>20.4</td></tr><tr><td>18.4</td><td>20.1</td></tr><tr><td>19.7</td><td>22.3</td></tr><tr><td>17.7</td><td>25.4</td></tr><tr><td>18.8</td><td>18.0</td></tr><tr><td>18.1</td><td>19.3</td></tr><tr><td>19.1</td><td>18.3</td></tr><tr><td>19.2</td><td>17.3</td></tr><tr><td>17.3</td><td>21.4</td></tr><tr><td>18.1</td><td>19.7</td></tr><tr><td>17.4</td><td>28.0</td></tr><tr><td>19.8</td><td>22.1</td></tr><tr><td>17.4</td><td>21.3</td></tr><tr><td>17.5</td><td>26.7</td></tr><tr><td>17.3</td><td>16.7</td></tr><tr><td>18.1</td><td>20.1</td></tr><tr><td>19.5</td><td>13.9</td></tr><tr><td>18.5</td><td>25.8</td></tr><tr><td>18.0</td><td>18.1</td></tr><tr><td>19.5</td><td>27.9</td></tr><tr><td>18.4</td><td>25.3</td></tr><tr><td>17.6</td><td>14.7</td></tr><tr><td>17.6</td><td>16.0</td></tr><tr><td>18.0</td><td>13.8</td></tr><tr><td>17.6</td><td>17.5</td></tr><tr><td>17.2</td><td>27.2</td></tr><tr><td>17.4</td><td>17.4</td></tr><tr><td>18.1</td><td>20.8</td></tr><tr><td>17.7</td><td>14.9</td></tr><tr><td>17.6</td><td>18.1</td></tr><tr><td>17.1</td><td>22.7</td></tr><tr><td>17.9</td><td>23.6</td></tr><tr><td>17.3</td><td>26.1</td></tr><tr><td>18.1</td><td>24.4</td></tr><tr><td>17.6</td><td>27.1</td></tr><tr><td>17.1</td><td>21.8</td></tr><tr><td>17.7</td><td>29.4</td></tr><tr><td>17.6</td><td>22.4</td></tr><tr><td>18.7</td><td>20.4</td></tr><tr><td>16.6</td><td>24.9</td></tr><tr><td>17.8</td><td>18.3</td></tr><tr><td>17.9</td><td>23.3</td></tr><tr><td>18.2</td><td>9.4</td></tr><tr><td>18.3</td><td>10.3</td></tr><tr><td>17.3</td><td>14.2</td></tr><tr><td>18.7</td><td>19.2</td></tr><tr><td>18.4</td><td>29.6</td></tr><tr><td>16.9</td><td>5.3</td></tr><tr><td>18.4</td><td>25.2</td></tr><tr><td>17.8</td><td>9.4</td></tr><tr><td>19.6</td><td>19.6</td></tr><tr><td>17.4</td><td>10.1</td></tr><tr><td>17.9</td><td>16.5</td></tr><tr><td>19.4</td><td>21.0</td></tr><tr><td>17.7</td><td>17.3</td></tr><tr><td>19.1</td><td>31.2</td></tr><tr><td>18.6</td><td>10.0</td></tr><tr><td>16.9</td><td>12.5</td></tr><tr><td>18.2</td><td>22.5</td></tr><tr><td>16.5</td><td>9.4</td></tr><tr><td>19.1</td><td>14.6</td></tr><tr><td>19.7</td><td>13.0</td></tr><tr><td>16.5</td><td>15.1</td></tr><tr><td>18.5</td><td>27.3</td></tr><tr><td>19.4</td><td>19.2</td></tr><tr><td>17.7</td><td>21.8</td></tr><tr><td>19.8</td><td>20.3</td></tr><tr><td>18.8</td><td>34.3</td></tr><tr><td>17.4</td><td>16.5</td></tr><tr><td>17.7</td><td>3.0</td></tr><tr><td>16.9</td><td>0.7</td></tr><tr><td>17.7</td><td>20.5</td></tr><tr><td>17.8</td><td>16.9</td></tr><tr><td>20.1</td><td>25.3</td></tr><tr><td>16.9</td><td>9.9</td></tr><tr><td>16.7</td><td>13.1</td></tr><tr><td>18.4</td><td>29.9</td></tr><tr><td>18.1</td><td>22.5</td></tr><tr><td>19.9</td><td>16.9</td></tr><tr><td>19.0</td><td>26.6</td></tr><tr><td>16.5</td><td>0.0</td></tr><tr><td>17.2</td><td>11.5</td></tr><tr><td>17.4</td><td>12.1</td></tr><tr><td>17.7</td><td>17.5</td></tr><tr><td>18.2</td><td>8.6</td></tr><tr><td>20.0</td><td>23.6</td></tr><tr><td>19.1</td><td>20.4</td></tr><tr><td>18.8</td><td>20.5</td></tr><tr><td>18.5</td><td>24.4</td></tr><tr><td>17.9</td><td>11.4</td></tr><tr><td>19.9</td><td>38.1</td></tr><tr><td>18.7</td><td>15.9</td></tr><tr><td>18.5</td><td>24.7</td></tr><tr><td>17.1</td><td>22.8</td></tr><tr><td>18.8</td><td>25.5</td></tr><tr><td>17.4</td><td>22.0</td></tr><tr><td>16.9</td><td>17.7</td></tr><tr><td>18.5</td><td>6.6</td></tr><tr><td>18.8</td><td>23.6</td></tr><tr><td>18.6</td><td>12.2</td></tr><tr><td>17.4</td><td>22.1</td></tr><tr><td>18.7</td><td>28.7</td></tr><tr><td>18.4</td><td>6.0</td></tr><tr><td>17.4</td><td>34.8</td></tr><tr><td>19.4</td><td>16.6</td></tr><tr><td>17.3</td><td>32.9</td></tr><tr><td>18.4</td><td>32.8</td></tr><tr><td>17.7</td><td>9.6</td></tr><tr><td>17.6</td><td>10.8</td></tr><tr><td>17.4</td><td>7.1</td></tr><tr><td>18.9</td><td>27.2</td></tr><tr><td>18.6</td><td>19.5</td></tr><tr><td>19.0</td><td>18.7</td></tr><tr><td>18.0</td><td>19.5</td></tr><tr><td>18.4</td><td>47.5</td></tr><tr><td>17.8</td><td>13.6</td></tr><tr><td>18.6</td><td>7.5</td></tr><tr><td>19.2</td><td>24.5</td></tr><tr><td>17.1</td><td>15.0</td></tr><tr><td>18.9</td><td>12.4</td></tr><tr><td>19.6</td><td>26.0</td></tr><tr><td>17.8</td><td>11.5</td></tr><tr><td>17.0</td><td>5.2</td></tr><tr><td>19.2</td><td>10.9</td></tr><tr><td>15.8</td><td>12.5</td></tr><tr><td>18.8</td><td>14.8</td></tr><tr><td>18.4</td><td>25.2</td></tr><tr><td>18.8</td><td>14.9</td></tr><tr><td>19.0</td><td>17.0</td></tr><tr><td>16.9</td><td>10.6</td></tr><tr><td>19.0</td><td>16.1</td></tr><tr><td>18.0</td><td>15.4</td></tr><tr><td>17.6</td><td>26.7</td></tr><tr><td>18.3</td><td>25.8</td></tr><tr><td>18.3</td><td>18.6</td></tr><tr><td>19.0</td><td>24.8</td></tr><tr><td>18.5</td><td>27.3</td></tr><tr><td>18.3</td><td>12.4</td></tr><tr><td>19.1</td><td>29.9</td></tr><tr><td>16.5</td><td>17.0</td></tr><tr><td>19.4</td><td>35.0</td></tr><tr><td>19.5</td><td>30.4</td></tr><tr><td>19.5</td><td>32.6</td></tr><tr><td>18.5</td><td>29.0</td></tr><tr><td>18.5</td><td>15.2</td></tr><tr><td>18.8</td><td>30.2</td></tr><tr><td>18.5</td><td>11.0</td></tr><tr><td>20.1</td><td>33.6</td></tr><tr><td>18.0</td><td>29.3</td></tr><tr><td>19.8</td><td>26.0</td></tr><tr><td>20.9</td><td>31.9</td></tr></tbody></table></div>"
      ]
     },
     "metadata": {
      "application/vnd.databricks.v1+output": {
       "addedWidgets": {},
       "aggData": [],
       "aggError": "",
       "aggOverflow": false,
       "aggSchema": [],
       "aggSeriesLimitReached": false,
       "aggType": "",
       "arguments": {},
       "columnCustomDisplayInfos": {},
       "data": [
        [
         17.1,
         12.3
        ],
        [
         18.2,
         6.1
        ],
        [
         16.6,
         25.3
        ],
        [
         18.2,
         10.4
        ],
        [
         17.7,
         28.7
        ],
        [
         18.8,
         20.9
        ],
        [
         17.7,
         19.2
        ],
        [
         18.8,
         12.4
        ],
        [
         18.2,
         4.1
        ],
        [
         19.2,
         11.7
        ],
        [
         18.5,
         7.1
        ],
        [
         19.0,
         7.8
        ],
        [
         17.7,
         20.8
        ],
        [
         18.8,
         21.2
        ],
        [
         18.2,
         22.1
        ],
        [
         16.9,
         20.9
        ],
        [
         17.3,
         29.0
        ],
        [
         19.3,
         22.9
        ],
        [
         18.5,
         16.0
        ],
        [
         18.2,
         16.5
        ],
        [
         18.4,
         19.1
        ],
        [
         19.9,
         15.2
        ],
        [
         16.7,
         15.6
        ],
        [
         17.1,
         17.7
        ],
        [
         17.6,
         14.0
        ],
        [
         17.7,
         3.7
        ],
        [
         16.5,
         7.9
        ],
        [
         17.0,
         22.9
        ],
        [
         17.2,
         3.7
        ],
        [
         17.6,
         8.8
        ],
        [
         18.4,
         11.9
        ],
        [
         17.9,
         5.7
        ],
        [
         18.8,
         11.8
        ],
        [
         18.7,
         21.3
        ],
        [
         19.7,
         32.3
        ],
        [
         17.0,
         40.1
        ],
        [
         19.0,
         24.2
        ],
        [
         19.4,
         28.4
        ],
        [
         21.4,
         35.2
        ],
        [
         18.3,
         32.6
        ],
        [
         21.4,
         34.5
        ],
        [
         17.4,
         32.9
        ],
        [
         18.4,
         31.6
        ],
        [
         18.8,
         32.0
        ],
        [
         16.1,
         7.7
        ],
        [
         18.3,
         13.9
        ],
        [
         17.3,
         10.8
        ],
        [
         17.9,
         5.6
        ],
        [
         16.3,
         13.6
        ],
        [
         16.8,
         4.0
        ],
        [
         17.3,
         10.2
        ],
        [
         17.2,
         6.6
        ],
        [
         16.9,
         8.0
        ],
        [
         18.5,
         6.3
        ],
        [
         18.5,
         3.9
        ],
        [
         18.9,
         22.6
        ],
        [
         18.5,
         20.4
        ],
        [
         19.2,
         28.0
        ],
        [
         18.2,
         31.5
        ],
        [
         18.5,
         24.6
        ],
        [
         20.2,
         26.1
        ],
        [
         18.3,
         29.8
        ],
        [
         19.1,
         30.7
        ],
        [
         18.8,
         25.8
        ],
        [
         18.4,
         32.3
        ],
        [
         18.7,
         30.0
        ],
        [
         17.4,
         21.5
        ],
        [
         18.7,
         13.8
        ],
        [
         18.1,
         6.3
        ],
        [
         17.3,
         12.9
        ],
        [
         18.6,
         24.3
        ],
        [
         18.3,
         8.8
        ],
        [
         18.2,
         8.5
        ],
        [
         16.9,
         13.5
        ],
        [
         16.8,
         11.8
        ],
        [
         18.3,
         18.5
        ],
        [
         18.1,
         8.8
        ],
        [
         18.8,
         22.2
        ],
        [
         18.3,
         21.5
        ],
        [
         19.0,
         18.8
        ],
        [
         19.0,
         31.4
        ],
        [
         17.7,
         26.8
        ],
        [
         19.0,
         18.4
        ],
        [
         19.2,
         27.0
        ],
        [
         18.0,
         27.0
        ],
        [
         18.2,
         26.6
        ],
        [
         18.8,
         14.9
        ],
        [
         18.1,
         23.1
        ],
        [
         18.8,
         8.3
        ],
        [
         18.7,
         14.1
        ],
        [
         17.7,
         20.5
        ],
        [
         18.8,
         18.2
        ],
        [
         18.4,
         8.5
        ],
        [
         19.1,
         24.9
        ],
        [
         17.8,
         9.0
        ],
        [
         20.4,
         17.4
        ],
        [
         18.5,
         9.6
        ],
        [
         18.2,
         11.3
        ],
        [
         18.2,
         17.8
        ],
        [
         18.3,
         22.2
        ],
        [
         18.6,
         21.2
        ],
        [
         17.0,
         20.4
        ],
        [
         18.4,
         20.1
        ],
        [
         19.7,
         22.3
        ],
        [
         17.7,
         25.4
        ],
        [
         18.8,
         18.0
        ],
        [
         18.1,
         19.3
        ],
        [
         19.1,
         18.3
        ],
        [
         19.2,
         17.3
        ],
        [
         17.3,
         21.4
        ],
        [
         18.1,
         19.7
        ],
        [
         17.4,
         28.0
        ],
        [
         19.8,
         22.1
        ],
        [
         17.4,
         21.3
        ],
        [
         17.5,
         26.7
        ],
        [
         17.3,
         16.7
        ],
        [
         18.1,
         20.1
        ],
        [
         19.5,
         13.9
        ],
        [
         18.5,
         25.8
        ],
        [
         18.0,
         18.1
        ],
        [
         19.5,
         27.9
        ],
        [
         18.4,
         25.3
        ],
        [
         17.6,
         14.7
        ],
        [
         17.6,
         16.0
        ],
        [
         18.0,
         13.8
        ],
        [
         17.6,
         17.5
        ],
        [
         17.2,
         27.2
        ],
        [
         17.4,
         17.4
        ],
        [
         18.1,
         20.8
        ],
        [
         17.7,
         14.9
        ],
        [
         17.6,
         18.1
        ],
        [
         17.1,
         22.7
        ],
        [
         17.9,
         23.6
        ],
        [
         17.3,
         26.1
        ],
        [
         18.1,
         24.4
        ],
        [
         17.6,
         27.1
        ],
        [
         17.1,
         21.8
        ],
        [
         17.7,
         29.4
        ],
        [
         17.6,
         22.4
        ],
        [
         18.7,
         20.4
        ],
        [
         16.6,
         24.9
        ],
        [
         17.8,
         18.3
        ],
        [
         17.9,
         23.3
        ],
        [
         18.2,
         9.4
        ],
        [
         18.3,
         10.3
        ],
        [
         17.3,
         14.2
        ],
        [
         18.7,
         19.2
        ],
        [
         18.4,
         29.6
        ],
        [
         16.9,
         5.3
        ],
        [
         18.4,
         25.2
        ],
        [
         17.8,
         9.4
        ],
        [
         19.6,
         19.6
        ],
        [
         17.4,
         10.1
        ],
        [
         17.9,
         16.5
        ],
        [
         19.4,
         21.0
        ],
        [
         17.7,
         17.3
        ],
        [
         19.1,
         31.2
        ],
        [
         18.6,
         10.0
        ],
        [
         16.9,
         12.5
        ],
        [
         18.2,
         22.5
        ],
        [
         16.5,
         9.4
        ],
        [
         19.1,
         14.6
        ],
        [
         19.7,
         13.0
        ],
        [
         16.5,
         15.1
        ],
        [
         18.5,
         27.3
        ],
        [
         19.4,
         19.2
        ],
        [
         17.7,
         21.8
        ],
        [
         19.8,
         20.3
        ],
        [
         18.8,
         34.3
        ],
        [
         17.4,
         16.5
        ],
        [
         17.7,
         3.0
        ],
        [
         16.9,
         0.7
        ],
        [
         17.7,
         20.5
        ],
        [
         17.8,
         16.9
        ],
        [
         20.1,
         25.3
        ],
        [
         16.9,
         9.9
        ],
        [
         16.7,
         13.1
        ],
        [
         18.4,
         29.9
        ],
        [
         18.1,
         22.5
        ],
        [
         19.9,
         16.9
        ],
        [
         19.0,
         26.6
        ],
        [
         16.5,
         0.0
        ],
        [
         17.2,
         11.5
        ],
        [
         17.4,
         12.1
        ],
        [
         17.7,
         17.5
        ],
        [
         18.2,
         8.6
        ],
        [
         20.0,
         23.6
        ],
        [
         19.1,
         20.4
        ],
        [
         18.8,
         20.5
        ],
        [
         18.5,
         24.4
        ],
        [
         17.9,
         11.4
        ],
        [
         19.9,
         38.1
        ],
        [
         18.7,
         15.9
        ],
        [
         18.5,
         24.7
        ],
        [
         17.1,
         22.8
        ],
        [
         18.8,
         25.5
        ],
        [
         17.4,
         22.0
        ],
        [
         16.9,
         17.7
        ],
        [
         18.5,
         6.6
        ],
        [
         18.8,
         23.6
        ],
        [
         18.6,
         12.2
        ],
        [
         17.4,
         22.1
        ],
        [
         18.7,
         28.7
        ],
        [
         18.4,
         6.0
        ],
        [
         17.4,
         34.8
        ],
        [
         19.4,
         16.6
        ],
        [
         17.3,
         32.9
        ],
        [
         18.4,
         32.8
        ],
        [
         17.7,
         9.6
        ],
        [
         17.6,
         10.8
        ],
        [
         17.4,
         7.1
        ],
        [
         18.9,
         27.2
        ],
        [
         18.6,
         19.5
        ],
        [
         19.0,
         18.7
        ],
        [
         18.0,
         19.5
        ],
        [
         18.4,
         47.5
        ],
        [
         17.8,
         13.6
        ],
        [
         18.6,
         7.5
        ],
        [
         19.2,
         24.5
        ],
        [
         17.1,
         15.0
        ],
        [
         18.9,
         12.4
        ],
        [
         19.6,
         26.0
        ],
        [
         17.8,
         11.5
        ],
        [
         17.0,
         5.2
        ],
        [
         19.2,
         10.9
        ],
        [
         15.8,
         12.5
        ],
        [
         18.8,
         14.8
        ],
        [
         18.4,
         25.2
        ],
        [
         18.8,
         14.9
        ],
        [
         19.0,
         17.0
        ],
        [
         16.9,
         10.6
        ],
        [
         19.0,
         16.1
        ],
        [
         18.0,
         15.4
        ],
        [
         17.6,
         26.7
        ],
        [
         18.3,
         25.8
        ],
        [
         18.3,
         18.6
        ],
        [
         19.0,
         24.8
        ],
        [
         18.5,
         27.3
        ],
        [
         18.3,
         12.4
        ],
        [
         19.1,
         29.9
        ],
        [
         16.5,
         17.0
        ],
        [
         19.4,
         35.0
        ],
        [
         19.5,
         30.4
        ],
        [
         19.5,
         32.6
        ],
        [
         18.5,
         29.0
        ],
        [
         18.5,
         15.2
        ],
        [
         18.8,
         30.2
        ],
        [
         18.5,
         11.0
        ],
        [
         20.1,
         33.6
        ],
        [
         18.0,
         29.3
        ],
        [
         19.8,
         26.0
        ],
        [
         20.9,
         31.9
        ]
       ],
       "datasetInfos": [],
       "dbfsResultPath": null,
       "isJsonSchema": true,
       "metadata": {},
       "overflow": false,
       "plotOptions": {
        "customPlotOptions": {},
        "displayType": "table",
        "pivotAggregation": null,
        "pivotColumns": null,
        "xColumns": null,
        "yColumns": null
       },
       "removedWidgets": [],
       "schema": [
        {
         "metadata": "{}",
         "name": "Wrist",
         "type": "\"double\""
        },
        {
         "metadata": "{}",
         "name": "BodyFat",
         "type": "\"double\""
        }
       ],
       "type": "table"
      }
     },
     "output_type": "display_data"
    },
    {
     "output_type": "display_data",
     "data": {
      "text/plain": [
       "Databricks visualization. Run in Databricks to view."
      ]
     },
     "metadata": {
      "application/vnd.databricks.v1.subcommand+json": {
       "baseErrorDetails": null,
       "bindings": {},
       "collapsed": false,
       "command": "%sql WITH q AS (SELECT Wrist, BodyFat FROM BodyFat) SELECT `Wrist`,`BodyFat` FROM q",
       "commandTitle": "Visualization 1",
       "commandType": "auto",
       "commandVersion": 0,
       "commentThread": [],
       "commentsVisible": false,
       "contentSha256Hex": null,
       "customPlotOptions": {
        "redashChart": [
         {
          "key": "type",
          "value": "CHART"
         },
         {
          "key": "options",
          "value": {
           "alignYAxesAtZero": true,
           "coefficient": 1,
           "columnConfigurationMap": {
            "x": {
             "column": "Wrist",
             "id": "column_dcde195e46"
            },
            "y": [
             {
              "column": "BodyFat",
              "id": "column_dcde195e47"
             }
            ]
           },
           "dateTimeFormat": "DD/MM/YYYY HH:mm",
           "direction": {
            "type": "counterclockwise"
           },
           "error_y": {
            "type": "data",
            "visible": true
           },
           "globalSeriesType": "scatter",
           "legend": {
            "traceorder": "normal"
           },
           "missingValuesAsZero": true,
           "numberFormat": "0,0.[00000]",
           "percentFormat": "0[.]00%",
           "series": {
            "error_y": {
             "type": "data",
             "visible": true
            },
            "stacking": null
           },
           "seriesOptions": {
            "column_dcde195e47": {
             "name": "BodyFat",
             "yAxis": 0
            }
           },
           "showDataLabels": false,
           "sizemode": "diameter",
           "sortX": true,
           "sortY": true,
           "swappedAxes": false,
           "textFormat": "",
           "useAggregationsUi": true,
           "valuesOptions": {},
           "version": 2,
           "xAxis": {
            "labels": {
             "enabled": true
            },
            "type": "-"
           },
           "yAxis": [
            {
             "type": "-"
            },
            {
             "opposite": true,
             "type": "-"
            }
           ]
          }
         }
        ]
       },
       "datasetPreviewNameToCmdIdMap": {},
       "diffDeletes": [],
       "diffInserts": [],
       "displayType": "redashChart",
       "error": null,
       "errorDetails": null,
       "errorSummary": null,
       "errorTraceType": null,
       "finishTime": 0,
       "globalVars": {},
       "guid": "",
       "height": "auto",
       "hideCommandCode": false,
       "hideCommandResult": false,
       "iPythonMetadata": null,
       "inputWidgets": {},
       "isLockedInExamMode": false,
       "latestUser": "a user",
       "latestUserId": null,
       "listResultMetadata": null,
       "metadata": {},
       "nuid": "7dcb57c6-4c26-4669-9200-4f9a8b7348ad",
       "origId": 0,
       "parentHierarchy": [],
       "pivotAggregation": null,
       "pivotColumns": null,
       "position": 36.75,
       "resultDbfsErrorMessage": null,
       "resultDbfsStatus": "INLINED_IN_TREE",
       "results": null,
       "showCommandTitle": false,
       "startTime": 0,
       "state": "input",
       "streamStates": {},
       "subcommandOptions": {
        "queryPlan": {
         "selects": [
          {
           "column": "Wrist",
           "type": "column"
          },
          {
           "column": "BodyFat",
           "type": "column"
          }
         ]
        }
       },
       "submitTime": 0,
       "subtype": "tableResultSubCmd.visualization",
       "tableResultIndex": 0,
       "useConsistentColors": false,
       "version": "CommandV1",
       "width": "auto",
       "workflows": [],
       "xColumns": null,
       "yColumns": null
      }
     },
     "output_type": "display_data"
    }
   ],
   "source": [
    "%sql\n",
    "\n",
    "SELECT Wrist, BodyFat FROM BodyFat;"
   ]
  },
  {
   "cell_type": "markdown",
   "metadata": {
    "application/vnd.databricks.v1+cell": {
     "cellMetadata": {},
     "inputWidgets": {},
     "nuid": "129f3027-368f-4b6a-bc1f-bf7f74afadbc",
     "showTitle": false,
     "title": ""
    }
   },
   "source": [
    "## Prediction of Body Fat"
   ]
  },
  {
   "cell_type": "markdown",
   "metadata": {
    "application/vnd.databricks.v1+cell": {
     "cellMetadata": {},
     "inputWidgets": {},
     "nuid": "68f80524-3f88-4064-a3dd-364508b409fc",
     "showTitle": false,
     "title": ""
    }
   },
   "source": [
    "### Preparation of data for Machine Learning"
   ]
  },
  {
   "cell_type": "markdown",
   "metadata": {
    "application/vnd.databricks.v1+cell": {
     "cellMetadata": {},
     "inputWidgets": {},
     "nuid": "1a1c293c-d7b2-4c2a-9f1e-6558b066fd8a",
     "showTitle": false,
     "title": ""
    }
   },
   "source": [
    "I will use VectorAssembler, which is a transformer that combines a given list of columns into a single vector column. It is useful for combining raw features and features generated by different feature transformers into a single feature vector, in order to train ML models like logistic regression and decision trees.\n",
    "\n",
    "In each row, the values of the input columns will be concatenated into a vector in the specified order."
   ]
  },
  {
   "cell_type": "code",
   "execution_count": 0,
   "metadata": {
    "application/vnd.databricks.v1+cell": {
     "cellMetadata": {
      "byteLimit": 2048000,
      "rowLimit": 10000
     },
     "inputWidgets": {},
     "nuid": "79fae5f7-f01d-46a4-ba96-b9b4534c87cc",
     "showTitle": false,
     "title": ""
    }
   },
   "outputs": [
    {
     "output_type": "stream",
     "name": "stdout",
     "output_type": "stream",
     "text": [
      "+--------------------+-------+\n|            features|BodyFat|\n+--------------------+-------+\n|[1.0708,12.3,23.0...|   12.3|\n|[1.0853,6.1,22.0,...|    6.1|\n|[1.0414,25.3,22.0...|   25.3|\n+--------------------+-------+\nonly showing top 3 rows\n\n"
     ]
    }
   ],
   "source": [
    "from pyspark.ml.feature import VectorAssembler\n",
    "vectorAssembler = VectorAssembler(inputCols = df.columns, outputCol = 'features')\n",
    "vdf = vectorAssembler.transform(df)\n",
    "vdf = vdf.select(['features', 'BodyFat'])\n",
    "vdf.show(3)"
   ]
  },
  {
   "cell_type": "markdown",
   "metadata": {
    "application/vnd.databricks.v1+cell": {
     "cellMetadata": {
      "byteLimit": 2048000,
      "rowLimit": 10000
     },
     "inputWidgets": {},
     "nuid": "e564f43f-fe88-4355-a503-fbcf7b089794",
     "showTitle": false,
     "title": ""
    },
    "jupyter": {
     "outputs_hidden": true
    }
   },
   "source": [
    "Next, I will split the data into training and testing sets for machine learning model development. The training set is used to train the model on patterns in the data, while the testing set is used to assess how well the model generalizes to new, unseen data. This helps to evaluate the model's performance and check for overfitting."
   ]
  },
  {
   "cell_type": "code",
   "execution_count": 0,
   "metadata": {
    "application/vnd.databricks.v1+cell": {
     "cellMetadata": {
      "byteLimit": 2048000,
      "rowLimit": 10000
     },
     "inputWidgets": {},
     "nuid": "dc59c894-f719-4c1c-9fa8-873401b62f00",
     "showTitle": false,
     "title": ""
    }
   },
   "outputs": [],
   "source": [
    "splits = vdf.randomSplit([0.7, 0.3])\n",
    "train_df = splits[0]\n",
    "test_df = splits[1]"
   ]
  },
  {
   "cell_type": "markdown",
   "metadata": {
    "application/vnd.databricks.v1+cell": {
     "cellMetadata": {},
     "inputWidgets": {},
     "nuid": "a67d9fed-2a32-4440-9ffb-7df6932063ff",
     "showTitle": false,
     "title": ""
    }
   },
   "source": [
    "### Linear Regression\n"
   ]
  },
  {
   "cell_type": "code",
   "execution_count": 0,
   "metadata": {
    "application/vnd.databricks.v1+cell": {
     "cellMetadata": {
      "byteLimit": 2048000,
      "rowLimit": 10000
     },
     "inputWidgets": {},
     "nuid": "06fb2214-0325-4bd1-8ddc-d1bf07406e34",
     "showTitle": false,
     "title": ""
    }
   },
   "outputs": [
    {
     "output_type": "stream",
     "name": "stdout",
     "output_type": "stream",
     "text": [
      "Coefficients: [-194.29179300477628,0.458974143362629,0.0,0.0,0.0,0.0,0.0,0.0780924418429046,0.0,0.0,0.0,0.0,0.0,0.0,0.0]\nIntercept: 208.23935236512824\n"
     ]
    }
   ],
   "source": [
    "from pyspark.ml.regression import LinearRegression\n",
    "\n",
    "lr = LinearRegression(featuresCol = 'features', labelCol='BodyFat', maxIter=10, regParam=0.3, elasticNetParam=0.8)\n",
    "lr_model = lr.fit(train_df)\n",
    "print(\"Coefficients: \" + str(lr_model.coefficients))\n",
    "print(\"Intercept: \" + str(lr_model.intercept))"
   ]
  },
  {
   "cell_type": "markdown",
   "metadata": {
    "application/vnd.databricks.v1+cell": {
     "cellMetadata": {},
     "inputWidgets": {},
     "nuid": "edb4931a-2d62-45ad-a371-83cc58b05236",
     "showTitle": false,
     "title": ""
    }
   },
   "source": [
    "#### Summary of the model over the training set"
   ]
  },
  {
   "cell_type": "code",
   "execution_count": 0,
   "metadata": {
    "application/vnd.databricks.v1+cell": {
     "cellMetadata": {
      "byteLimit": 2048000,
      "rowLimit": 10000
     },
     "inputWidgets": {},
     "nuid": "9b2379fb-95a4-4b79-8e91-3af8cad5eb71",
     "showTitle": false,
     "title": ""
    }
   },
   "outputs": [
    {
     "output_type": "stream",
     "name": "stdout",
     "output_type": "stream",
     "text": [
      "RMSE: 0.810689\nr2: 0.990579\n"
     ]
    }
   ],
   "source": [
    "trainingSummary = lr_model.summary\n",
    "print(\"RMSE: %f\" % trainingSummary.rootMeanSquaredError)\n",
    "print(\"r2: %f\" % trainingSummary.r2)"
   ]
  },
  {
   "cell_type": "markdown",
   "metadata": {
    "application/vnd.databricks.v1+cell": {
     "cellMetadata": {},
     "inputWidgets": {},
     "nuid": "2bd53b87-f361-4559-b1be-06207f82277f",
     "showTitle": false,
     "title": ""
    }
   },
   "source": [
    "\n",
    "When we say that the R-squared value is 0.99, it means that around 99% of the differences or variations we see in the \"BodyFat\" values can be accounted for or explained by the model we've built. In other words, the model is doing a really good job of capturing and explaining the patterns and variability in the \"BodyFat\" data. The closer the R-squared value is to 1, the better the model fits the data.\n",
    "\n",
    "RMSE tells us how well our model's predictions match up with the real values. But to understand if the RMSE is good or bad, we need to compare it to some basic numbers like the average, smallest, and largest values in our data. This comparison helps us see if our model is doing a decent job at predicting, considering the range of values we have in our dataset."
   ]
  },
  {
   "cell_type": "code",
   "execution_count": 0,
   "metadata": {
    "application/vnd.databricks.v1+cell": {
     "cellMetadata": {
      "byteLimit": 2048000,
      "rowLimit": 10000
     },
     "inputWidgets": {},
     "nuid": "7b2235bf-efc7-4a59-9063-1f719ae2a3a0",
     "showTitle": false,
     "title": ""
    }
   },
   "outputs": [
    {
     "output_type": "stream",
     "name": "stdout",
     "output_type": "stream",
     "text": [
      "+-------+-----------------+\n|summary|          BodyFat|\n+-------+-----------------+\n|  count|              178|\n|   mean|18.79662921348315|\n| stddev|8.375798461820827|\n|    min|              3.0|\n|    max|             47.5|\n+-------+-----------------+\n\n"
     ]
    }
   ],
   "source": [
    "train_df.describe().show()"
   ]
  },
  {
   "cell_type": "markdown",
   "metadata": {
    "application/vnd.databricks.v1+cell": {
     "cellMetadata": {},
     "inputWidgets": {},
     "nuid": "19c648c0-1d69-4178-b543-35931c5c4eb3",
     "showTitle": false,
     "title": ""
    }
   },
   "source": [
    "We can compare the RMSE to the variability in the BodyFat data:\n",
    "\n",
    "The RMSE of 0.810689 is relatively small compared to the range of BodyFat values, which go from 3.0 to 47.5.\n",
    "\n",
    "The mean BodyFat value is 18.80, and the RMSE is smaller than this mean. This suggests that, on average, our model's predictions are quite close to the actual BodyFat values.\n",
    "\n",
    "The standard deviation of BodyFat is 8.38, and our RMSE is smaller than this as well. This indicates that the model's predictions are generally closer to the true values than the average distance between the actual BodyFat values."
   ]
  },
  {
   "cell_type": "markdown",
   "metadata": {
    "application/vnd.databricks.v1+cell": {
     "cellMetadata": {},
     "inputWidgets": {},
     "nuid": "d1564981-a103-46e6-8b0c-f0587ea61dc1",
     "showTitle": false,
     "title": ""
    }
   },
   "source": [
    "#### Summary of the model over the test set"
   ]
  },
  {
   "cell_type": "code",
   "execution_count": 0,
   "metadata": {
    "application/vnd.databricks.v1+cell": {
     "cellMetadata": {
      "byteLimit": 2048000,
      "rowLimit": 10000
     },
     "inputWidgets": {},
     "nuid": "0a00e969-487a-4b27-ab77-85effd6ac979",
     "showTitle": false,
     "title": ""
    }
   },
   "outputs": [
    {
     "output_type": "stream",
     "name": "stdout",
     "output_type": "stream",
     "text": [
      "+------------------+-------+--------------------+\n|        prediction|BodyFat|            features|\n+------------------+-------+--------------------+\n| 35.24403421319681|   34.3|[1.018,34.3,35.0,...|\n|  37.7442456249542|   35.2|[1.0202,35.2,46.0...|\n| 34.75389020147844|   34.8|[1.0209,34.8,44.0...|\n|35.421301558733546|   34.5|[1.0217,34.5,45.0...|\n| 31.52339414091179|   32.9|[1.025,32.9,44.0,...|\n|31.553324400342575|   32.0|[1.0269,32.0,41.0...|\n|31.714280798708785|   31.6|[1.0279,31.6,48.0...|\n|31.188208798198872|   31.5|[1.028,31.5,54.0,...|\n|28.861293236829937|   29.8|[1.0317,29.8,56.0...|\n| 28.82683066826843|   29.4|[1.0325,29.4,43.0...|\n+------------------+-------+--------------------+\nonly showing top 10 rows\n\nR Squared (R2) on test data = 0.994369\nRoot Mean Squared Error (RMSE) on test data = 0.622103\n"
     ]
    }
   ],
   "source": [
    "lr_predictions = lr_model.transform(test_df)\n",
    "lr_predictions.select(\"prediction\",\"BodyFat\",\"features\").show(10)\n",
    "\n",
    "from pyspark.ml.evaluation import RegressionEvaluator\n",
    "\n",
    "lr_evaluator = RegressionEvaluator(predictionCol=\"prediction\", \\\n",
    "                 labelCol=\"BodyFat\",metricName=\"r2\")\n",
    "print(\"R Squared (R2) on test data = %g\" % lr_evaluator.evaluate(lr_predictions))\n",
    "\n",
    "print(\"Root Mean Squared Error (RMSE) on test data = %g\" % test_result.rootMeanSquaredError)"
   ]
  },
  {
   "cell_type": "markdown",
   "metadata": {
    "application/vnd.databricks.v1+cell": {
     "cellMetadata": {},
     "inputWidgets": {},
     "nuid": "d4e251d1-3579-4c49-b7e6-3f2955754d6e",
     "showTitle": false,
     "title": ""
    }
   },
   "source": [
    "A lower RMSE on the test data compared to the train data suggests that the model is generalizing well to new, unseen data."
   ]
  },
  {
   "cell_type": "markdown",
   "metadata": {
    "application/vnd.databricks.v1+cell": {
     "cellMetadata": {},
     "inputWidgets": {},
     "nuid": "2ea2f869-bb06-4886-9af2-2877919e68db",
     "showTitle": false,
     "title": ""
    }
   },
   "source": [
    "### Decision tree regression"
   ]
  },
  {
   "cell_type": "code",
   "execution_count": 0,
   "metadata": {
    "application/vnd.databricks.v1+cell": {
     "cellMetadata": {
      "byteLimit": 2048000,
      "rowLimit": 10000
     },
     "inputWidgets": {},
     "nuid": "e6461a76-27b9-4596-b3f4-e2d31f06c862",
     "showTitle": false,
     "title": ""
    }
   },
   "outputs": [
    {
     "output_type": "stream",
     "name": "stdout",
     "output_type": "stream",
     "text": [
      "+------------------+-------+--------------------+\n|        prediction|BodyFat|            features|\n+------------------+-------+--------------------+\n| 37.73333333333333|   34.3|[1.018,34.3,35.0,...|\n| 37.73333333333333|   35.2|[1.0202,35.2,46.0...|\n| 37.73333333333333|   34.8|[1.0209,34.8,44.0...|\n| 37.73333333333333|   34.5|[1.0217,34.5,45.0...|\n|             33.25|   32.9|[1.025,32.9,44.0,...|\n|30.966666666666658|   32.0|[1.0269,32.0,41.0...|\n|30.966666666666658|   31.6|[1.0279,31.6,48.0...|\n|30.966666666666658|   31.5|[1.028,31.5,54.0,...|\n|             29.68|   29.8|[1.0317,29.8,56.0...|\n|             29.68|   29.4|[1.0325,29.4,43.0...|\n+------------------+-------+--------------------+\nonly showing top 10 rows\n\nRoot Mean Squared Error (RMSE) on test data = 0.96897\n"
     ]
    }
   ],
   "source": [
    "from pyspark.ml.regression import DecisionTreeRegressor\n",
    "\n",
    "dt = DecisionTreeRegressor(featuresCol ='features', labelCol = 'BodyFat')\n",
    "dt_model = dt.fit(train_df)\n",
    "dt_predictions = dt_model.transform(test_df)\n",
    "dt_predictions.select('prediction', 'BodyFat', 'features').show(10)\n",
    "\n",
    "dt_evaluator = RegressionEvaluator(\n",
    "    labelCol=\"BodyFat\", predictionCol=\"prediction\", metricName=\"rmse\")\n",
    "rmse = dt_evaluator.evaluate(dt_predictions)\n",
    "print(\"Root Mean Squared Error (RMSE) on test data = %g\" % rmse)"
   ]
  },
  {
   "cell_type": "markdown",
   "metadata": {
    "application/vnd.databricks.v1+cell": {
     "cellMetadata": {},
     "inputWidgets": {},
     "nuid": "9292748b-571f-407f-9e00-daad95e1f83e",
     "showTitle": false,
     "title": ""
    }
   },
   "source": [
    "### Gradient-boosted tree regression\n"
   ]
  },
  {
   "cell_type": "code",
   "execution_count": 0,
   "metadata": {
    "application/vnd.databricks.v1+cell": {
     "cellMetadata": {
      "byteLimit": 2048000,
      "rowLimit": 10000
     },
     "inputWidgets": {},
     "nuid": "1aebfc87-4b07-4dfb-9c89-7f8488a5ba7e",
     "showTitle": false,
     "title": ""
    }
   },
   "outputs": [
    {
     "output_type": "stream",
     "name": "stdout",
     "output_type": "stream",
     "text": [
      "+------------------+-------+--------------------+\n|        prediction|BodyFat|            features|\n+------------------+-------+--------------------+\n|37.671498584197494|   34.3|[1.018,34.3,35.0,...|\n| 36.41591704332286|   35.2|[1.0202,35.2,46.0...|\n|  37.6031676789961|   34.8|[1.0209,34.8,44.0...|\n| 36.41591704332286|   34.5|[1.0217,34.5,45.0...|\n| 33.04101163010007|   32.9|[1.025,32.9,44.0,...|\n| 31.06352318234042|   32.0|[1.0269,32.0,41.0...|\n|30.671988504874715|   31.6|[1.0279,31.6,48.0...|\n|30.839086395037228|   31.5|[1.028,31.5,54.0,...|\n| 29.61138601494879|   29.8|[1.0317,29.8,56.0...|\n|29.811665601100543|   29.4|[1.0325,29.4,43.0...|\n+------------------+-------+--------------------+\nonly showing top 10 rows\n\nRoot Mean Squared Error (RMSE) on test data = 0.891016\n"
     ]
    }
   ],
   "source": [
    "from pyspark.ml.regression import GBTRegressor\n",
    "\n",
    "gbt = GBTRegressor(featuresCol = 'features', labelCol = 'BodyFat', maxIter=10)\n",
    "gbt_model = gbt.fit(train_df)\n",
    "gbt_predictions = gbt_model.transform(test_df)\n",
    "gbt_predictions.select('prediction', 'BodyFat', 'features').show(10)\n",
    "\n",
    "gbt_evaluator = RegressionEvaluator(\n",
    "    labelCol=\"BodyFat\", predictionCol=\"prediction\", metricName=\"rmse\")\n",
    "rmse = gbt_evaluator.evaluate(gbt_predictions)\n",
    "print(\"Root Mean Squared Error (RMSE) on test data = %g\" % rmse)"
   ]
  },
  {
   "cell_type": "markdown",
   "metadata": {
    "application/vnd.databricks.v1+cell": {
     "cellMetadata": {},
     "inputWidgets": {},
     "nuid": "4d88f1b7-fa90-41a7-beba-2619b1499bdb",
     "showTitle": false,
     "title": ""
    }
   },
   "source": [
    "Linear regression performed the best on this data."
   ]
  },
  {
   "cell_type": "markdown",
   "metadata": {
    "application/vnd.databricks.v1+cell": {
     "cellMetadata": {},
     "inputWidgets": {},
     "nuid": "e3617758-02fd-41e8-8a45-924346faa553",
     "showTitle": false,
     "title": ""
    }
   },
   "source": [
    "## Summary\n",
    "\n",
    "The project involved:\n",
    "\n",
    "1. Loading and preprocessing of the dataset\n",
    "2. Statistical analysis of the data\n",
    "3. Exploratory Data Analysis to uncover patterns and insights\n",
    "4. Correlation Analysis to understand relationships between variables\n",
    "5. Utilizing tree models to predict Body Fat percentage\n",
    "6. The Root Mean Squared Error (RMSE) for each model on the test data was:\n",
    "- Linear Regression: 0.622103\n",
    "- Decision Tree Regression: 0.96897\n",
    "- Gradient-Boosted Tree Regression: 0.891016\n",
    "These results highlight the effectiveness of the Linear Regression model in predicting Body Fat percentage, outperforming both Linear Decision Tree Regression and Gradient-Boosted Tree Regression models.\n",
    "\n"
   ]
  }
 ],
 "metadata": {
  "application/vnd.databricks.v1+notebook": {
   "dashboards": [
    {
     "elements": [
      {
       "dashboardResultIndex": 0,
       "elementNUID": "72c0f523-68ff-4448-b917-f4ef11837f36",
       "elementType": "command",
       "guid": "2732103e-8917-44f0-8d89-400dfdbf8967",
       "options": null,
       "position": {
        "height": 6,
        "width": 12,
        "x": 0,
        "y": 0,
        "z": null
       },
       "resultIndex": null
      }
     ],
     "globalVars": {},
     "guid": "",
     "layoutOption": {
      "grid": true,
      "stack": true
     },
     "nuid": "67e14bfd-cd22-422c-9dca-6d2e06d060e9",
     "origId": 2929076465318164,
     "title": "Untitled",
     "version": "DashboardViewV1",
     "width": 1024
    }
   ],
   "language": "python",
   "notebookMetadata": {
    "mostRecentlyExecutedCommandWithImplicitDF": {
     "commandId": 551751544815814,
     "dataframes": [
      "_sqldf"
     ]
    },
    "pythonIndentUnit": 4
   },
   "notebookName": "USB_project",
   "widgets": {}
  }
 },
 "nbformat": 4,
 "nbformat_minor": 0
}
